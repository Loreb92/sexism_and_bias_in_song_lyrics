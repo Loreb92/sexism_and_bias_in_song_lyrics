{
 "cells": [
  {
   "cell_type": "code",
   "execution_count": 1,
   "id": "54db434b",
   "metadata": {},
   "outputs": [],
   "source": [
    "import glob, re, os\n",
    "from gensim.models import Word2Vec\n",
    "from gensim.models.callbacks import CallbackAny2Vec\n",
    "\n",
    "import sys"
   ]
  },
  {
   "cell_type": "code",
   "execution_count": 2,
   "id": "9dd28e26",
   "metadata": {},
   "outputs": [],
   "source": [
    "class MyCallback(CallbackAny2Vec):\n",
    "    '''\n",
    "    This callback performs the evaluation of the word embeddings through a series of tests.\n",
    "    The tests are described in the paper https://arxiv.org/abs/1507.05523\n",
    "    The tests implemented are \"ws\", \"tfl\", and \"sem&syn\"\n",
    "    '''\n",
    "    \n",
    "    def __init__(self, embedding_name):\n",
    "        self.epoch = 0\n",
    "        self.embedding_name = embedding_name\n",
    "        pass\n",
    "\n",
    "    \n",
    "    def on_epoch_end(self, model):\n",
    "        \n",
    "        if self.epoch%5==0:\n",
    "            print(\"Epoch #{} end\".format(self.epoch))\n",
    "        \n",
    "        # eval every 5 epochs and for the last one\n",
    "        if self.epoch%5==0 or self.epoch==model.epochs-1:\n",
    "            #training_loss = model.get_latest_training_loss()\n",
    "            #print('Training loss: ', training_loss)\n",
    "\n",
    "            # save the embeddings\n",
    "            model.wv.save_word2vec_format('word_vectors.txt', write_header=False)\n",
    "            \n",
    "            #interpreter = \"/Users/lorenzo/miniconda3/envs/env_lyrics/bin/python\"\n",
    "            interpreter = sys.executable\n",
    "            \n",
    "            # run the evaluations\n",
    "            cmd = f'{interpreter} ../src/run_evaluation_embeddings.py \\\n",
    "            --emb_dim {model.vector_size} \\\n",
    "            --eval_files_path ../data/evaluation_tests_word_embedding/ \\\n",
    "            --embedding_file word_vectors.txt \\\n",
    "            --embedding_name {self.embedding_name+f\"_epoch-{self.epoch}\"} \\\n",
    "            --results_dir ../results/experiment_W2V_several_runs_WEAT_2/Word_embedding_quality_W2V/ \\\n",
    "            --log_file ../logs/experiment_W2V_several_runs_WEAT_2/Word_embedding_quality_W2V/log_{self.embedding_name+f\"_epoch-{self.epoch}\"}.log \\\n",
    "            --upper_and_lower True'\n",
    "            os.system(cmd)\n",
    "            \n",
    "            # delete word embedding file\n",
    "            os.remove('word_vectors.txt')\n",
    "            \n",
    "        self.epoch += 1"
   ]
  },
  {
   "cell_type": "code",
   "execution_count": 3,
   "id": "d78fcd46",
   "metadata": {},
   "outputs": [
    {
     "name": "stdout",
     "output_type": "stream",
     "text": [
      "Corpus files:  ['../data/corpora_lemmatized/female_person_artist_lyrics.cor', '../data/corpora_lemmatized/male_person_artist_lyrics.cor', '../data/corpora_lemmatized/all_person_artist_lyrics.cor']\n",
      "\n",
      "Start training corpus:  female_person_artist_lyrics\n",
      "Embedding name:  W2V_lemmatized_iter-0_dim-300_w-5_alpha-default_epochs-40_corpus-female_person_artist_lyrics\n",
      "Vocab done...\n",
      "Corpus count:  70880\n",
      "Corpus total words:  15949187\n",
      "Epoch #0 end\n"
     ]
    },
    {
     "name": "stderr",
     "output_type": "stream",
     "text": [
      "[2021-12-24 17:14:51,259 INFO] Start computation quality word embedding tests. Results will be saved at ../results/experiment_W2V_several_runs_WEAT_2/Word_embedding_quality_W2V/\n",
      "[2021-12-24 17:14:51,261 INFO] Number of unique words for tests: 2066\n",
      "[2021-12-24 17:14:51,262 INFO] Reading word vectors...\n",
      "[2021-12-24 17:14:51,643 INFO] Number of word vectors read: 10000...\n",
      "[2021-12-24 17:14:52,020 INFO] Number of word vectors read: 20000...\n",
      "[2021-12-24 17:14:52,121 INFO] Number of word vectors found: 1099\n",
      "[2021-12-24 17:14:52,121 INFO] Running: sed -i '' '1s/^/1099 300\\'$'\\n/' ../data/evaluation_tests_word_embedding/temp_embs.txt\n",
      "[2021-12-24 17:14:52,144 INFO] Running WS test...\n",
      "[2021-12-24 17:14:52,144 INFO] Calling command: ./../data/evaluation_tests_word_embedding/ws/ws ../data/evaluation_tests_word_embedding/temp_embs.txt > ../results/experiment_W2V_several_runs_WEAT_2/Word_embedding_quality_W2V/W2V_lemmatized_iter-0_dim-300_w-5_alpha-default_epochs-40_corpus-female_person_artist_lyrics_epoch-0/ws_test.txt\n",
      "[2021-12-24 17:14:52,228 INFO] Running TOEFL test...\n",
      "[2021-12-24 17:14:52,228 INFO] Calling command: ./../data/evaluation_tests_word_embedding/tfl/toefl ../data/evaluation_tests_word_embedding/temp_embs.txt > ../results/experiment_W2V_several_runs_WEAT_2/Word_embedding_quality_W2V/W2V_lemmatized_iter-0_dim-300_w-5_alpha-default_epochs-40_corpus-female_person_artist_lyrics_epoch-0/toefl_test.txt\n",
      "[2021-12-24 17:14:52,301 INFO] Running SYN-SEM test...\n",
      "[2021-12-24 17:14:52,301 INFO] Calling command: ./../data/evaluation_tests_word_embedding/syn_sem/compute-accuracy-txt ../data/evaluation_tests_word_embedding/temp_embs.txt 0 < ../data/evaluation_tests_word_embedding/syn_sem/questions-words.txt > ../results/experiment_W2V_several_runs_WEAT_2/Word_embedding_quality_W2V/W2V_lemmatized_iter-0_dim-300_w-5_alpha-default_epochs-40_corpus-female_person_artist_lyrics_epoch-0/syn-sem_test.txt\n"
     ]
    },
    {
     "name": "stdout",
     "output_type": "stream",
     "text": [
      "Epoch #5 end\n"
     ]
    },
    {
     "name": "stderr",
     "output_type": "stream",
     "text": [
      "[2021-12-24 17:18:15,732 INFO] Start computation quality word embedding tests. Results will be saved at ../results/experiment_W2V_several_runs_WEAT_2/Word_embedding_quality_W2V/\n",
      "[2021-12-24 17:18:15,739 INFO] Number of unique words for tests: 2066\n",
      "[2021-12-24 17:18:15,739 INFO] Reading word vectors...\n",
      "[2021-12-24 17:18:16,146 INFO] Number of word vectors read: 10000...\n",
      "[2021-12-24 17:18:16,532 INFO] Number of word vectors read: 20000...\n",
      "[2021-12-24 17:18:16,634 INFO] Number of word vectors found: 1099\n",
      "[2021-12-24 17:18:16,634 INFO] Running: sed -i '' '1s/^/1099 300\\'$'\\n/' ../data/evaluation_tests_word_embedding/temp_embs.txt\n",
      "[2021-12-24 17:18:16,655 INFO] Running WS test...\n",
      "[2021-12-24 17:18:16,655 INFO] Calling command: ./../data/evaluation_tests_word_embedding/ws/ws ../data/evaluation_tests_word_embedding/temp_embs.txt > ../results/experiment_W2V_several_runs_WEAT_2/Word_embedding_quality_W2V/W2V_lemmatized_iter-0_dim-300_w-5_alpha-default_epochs-40_corpus-female_person_artist_lyrics_epoch-5/ws_test.txt\n",
      "[2021-12-24 17:18:16,732 INFO] Running TOEFL test...\n",
      "[2021-12-24 17:18:16,733 INFO] Calling command: ./../data/evaluation_tests_word_embedding/tfl/toefl ../data/evaluation_tests_word_embedding/temp_embs.txt > ../results/experiment_W2V_several_runs_WEAT_2/Word_embedding_quality_W2V/W2V_lemmatized_iter-0_dim-300_w-5_alpha-default_epochs-40_corpus-female_person_artist_lyrics_epoch-5/toefl_test.txt\n",
      "[2021-12-24 17:18:16,808 INFO] Running SYN-SEM test...\n",
      "[2021-12-24 17:18:16,808 INFO] Calling command: ./../data/evaluation_tests_word_embedding/syn_sem/compute-accuracy-txt ../data/evaluation_tests_word_embedding/temp_embs.txt 0 < ../data/evaluation_tests_word_embedding/syn_sem/questions-words.txt > ../results/experiment_W2V_several_runs_WEAT_2/Word_embedding_quality_W2V/W2V_lemmatized_iter-0_dim-300_w-5_alpha-default_epochs-40_corpus-female_person_artist_lyrics_epoch-5/syn-sem_test.txt\n"
     ]
    },
    {
     "name": "stdout",
     "output_type": "stream",
     "text": [
      "Epoch #10 end\n"
     ]
    },
    {
     "name": "stderr",
     "output_type": "stream",
     "text": [
      "[2021-12-24 17:21:47,553 INFO] Start computation quality word embedding tests. Results will be saved at ../results/experiment_W2V_several_runs_WEAT_2/Word_embedding_quality_W2V/\n",
      "[2021-12-24 17:21:47,555 INFO] Number of unique words for tests: 2066\n",
      "[2021-12-24 17:21:47,555 INFO] Reading word vectors...\n",
      "[2021-12-24 17:21:47,952 INFO] Number of word vectors read: 10000...\n",
      "[2021-12-24 17:21:48,341 INFO] Number of word vectors read: 20000...\n",
      "[2021-12-24 17:21:48,443 INFO] Number of word vectors found: 1099\n",
      "[2021-12-24 17:21:48,444 INFO] Running: sed -i '' '1s/^/1099 300\\'$'\\n/' ../data/evaluation_tests_word_embedding/temp_embs.txt\n",
      "[2021-12-24 17:21:48,463 INFO] Running WS test...\n",
      "[2021-12-24 17:21:48,464 INFO] Calling command: ./../data/evaluation_tests_word_embedding/ws/ws ../data/evaluation_tests_word_embedding/temp_embs.txt > ../results/experiment_W2V_several_runs_WEAT_2/Word_embedding_quality_W2V/W2V_lemmatized_iter-0_dim-300_w-5_alpha-default_epochs-40_corpus-female_person_artist_lyrics_epoch-10/ws_test.txt\n",
      "[2021-12-24 17:21:48,533 INFO] Running TOEFL test...\n",
      "[2021-12-24 17:21:48,533 INFO] Calling command: ./../data/evaluation_tests_word_embedding/tfl/toefl ../data/evaluation_tests_word_embedding/temp_embs.txt > ../results/experiment_W2V_several_runs_WEAT_2/Word_embedding_quality_W2V/W2V_lemmatized_iter-0_dim-300_w-5_alpha-default_epochs-40_corpus-female_person_artist_lyrics_epoch-10/toefl_test.txt\n",
      "[2021-12-24 17:21:48,602 INFO] Running SYN-SEM test...\n",
      "[2021-12-24 17:21:48,602 INFO] Calling command: ./../data/evaluation_tests_word_embedding/syn_sem/compute-accuracy-txt ../data/evaluation_tests_word_embedding/temp_embs.txt 0 < ../data/evaluation_tests_word_embedding/syn_sem/questions-words.txt > ../results/experiment_W2V_several_runs_WEAT_2/Word_embedding_quality_W2V/W2V_lemmatized_iter-0_dim-300_w-5_alpha-default_epochs-40_corpus-female_person_artist_lyrics_epoch-10/syn-sem_test.txt\n"
     ]
    },
    {
     "name": "stdout",
     "output_type": "stream",
     "text": [
      "Epoch #15 end\n"
     ]
    },
    {
     "name": "stderr",
     "output_type": "stream",
     "text": [
      "[2021-12-24 17:25:15,082 INFO] Start computation quality word embedding tests. Results will be saved at ../results/experiment_W2V_several_runs_WEAT_2/Word_embedding_quality_W2V/\n",
      "[2021-12-24 17:25:15,083 INFO] Number of unique words for tests: 2066\n",
      "[2021-12-24 17:25:15,083 INFO] Reading word vectors...\n",
      "[2021-12-24 17:25:15,457 INFO] Number of word vectors read: 10000...\n",
      "[2021-12-24 17:25:15,826 INFO] Number of word vectors read: 20000...\n",
      "[2021-12-24 17:25:15,926 INFO] Number of word vectors found: 1099\n",
      "[2021-12-24 17:25:15,926 INFO] Running: sed -i '' '1s/^/1099 300\\'$'\\n/' ../data/evaluation_tests_word_embedding/temp_embs.txt\n",
      "[2021-12-24 17:25:15,947 INFO] Running WS test...\n",
      "[2021-12-24 17:25:15,948 INFO] Calling command: ./../data/evaluation_tests_word_embedding/ws/ws ../data/evaluation_tests_word_embedding/temp_embs.txt > ../results/experiment_W2V_several_runs_WEAT_2/Word_embedding_quality_W2V/W2V_lemmatized_iter-0_dim-300_w-5_alpha-default_epochs-40_corpus-female_person_artist_lyrics_epoch-15/ws_test.txt\n",
      "[2021-12-24 17:25:16,017 INFO] Running TOEFL test...\n",
      "[2021-12-24 17:25:16,017 INFO] Calling command: ./../data/evaluation_tests_word_embedding/tfl/toefl ../data/evaluation_tests_word_embedding/temp_embs.txt > ../results/experiment_W2V_several_runs_WEAT_2/Word_embedding_quality_W2V/W2V_lemmatized_iter-0_dim-300_w-5_alpha-default_epochs-40_corpus-female_person_artist_lyrics_epoch-15/toefl_test.txt\n",
      "[2021-12-24 17:25:16,087 INFO] Running SYN-SEM test...\n",
      "[2021-12-24 17:25:16,087 INFO] Calling command: ./../data/evaluation_tests_word_embedding/syn_sem/compute-accuracy-txt ../data/evaluation_tests_word_embedding/temp_embs.txt 0 < ../data/evaluation_tests_word_embedding/syn_sem/questions-words.txt > ../results/experiment_W2V_several_runs_WEAT_2/Word_embedding_quality_W2V/W2V_lemmatized_iter-0_dim-300_w-5_alpha-default_epochs-40_corpus-female_person_artist_lyrics_epoch-15/syn-sem_test.txt\n"
     ]
    },
    {
     "name": "stdout",
     "output_type": "stream",
     "text": [
      "Epoch #20 end\n"
     ]
    },
    {
     "name": "stderr",
     "output_type": "stream",
     "text": [
      "[2021-12-24 17:28:44,679 INFO] Start computation quality word embedding tests. Results will be saved at ../results/experiment_W2V_several_runs_WEAT_2/Word_embedding_quality_W2V/\n",
      "[2021-12-24 17:28:44,681 INFO] Number of unique words for tests: 2066\n",
      "[2021-12-24 17:28:44,682 INFO] Reading word vectors...\n",
      "[2021-12-24 17:28:45,071 INFO] Number of word vectors read: 10000...\n",
      "[2021-12-24 17:28:45,467 INFO] Number of word vectors read: 20000...\n",
      "[2021-12-24 17:28:45,573 INFO] Number of word vectors found: 1099\n",
      "[2021-12-24 17:28:45,573 INFO] Running: sed -i '' '1s/^/1099 300\\'$'\\n/' ../data/evaluation_tests_word_embedding/temp_embs.txt\n",
      "[2021-12-24 17:28:45,592 INFO] Running WS test...\n",
      "[2021-12-24 17:28:45,593 INFO] Calling command: ./../data/evaluation_tests_word_embedding/ws/ws ../data/evaluation_tests_word_embedding/temp_embs.txt > ../results/experiment_W2V_several_runs_WEAT_2/Word_embedding_quality_W2V/W2V_lemmatized_iter-0_dim-300_w-5_alpha-default_epochs-40_corpus-female_person_artist_lyrics_epoch-20/ws_test.txt\n",
      "[2021-12-24 17:28:45,670 INFO] Running TOEFL test...\n",
      "[2021-12-24 17:28:45,670 INFO] Calling command: ./../data/evaluation_tests_word_embedding/tfl/toefl ../data/evaluation_tests_word_embedding/temp_embs.txt > ../results/experiment_W2V_several_runs_WEAT_2/Word_embedding_quality_W2V/W2V_lemmatized_iter-0_dim-300_w-5_alpha-default_epochs-40_corpus-female_person_artist_lyrics_epoch-20/toefl_test.txt\n",
      "[2021-12-24 17:28:45,741 INFO] Running SYN-SEM test...\n",
      "[2021-12-24 17:28:45,741 INFO] Calling command: ./../data/evaluation_tests_word_embedding/syn_sem/compute-accuracy-txt ../data/evaluation_tests_word_embedding/temp_embs.txt 0 < ../data/evaluation_tests_word_embedding/syn_sem/questions-words.txt > ../results/experiment_W2V_several_runs_WEAT_2/Word_embedding_quality_W2V/W2V_lemmatized_iter-0_dim-300_w-5_alpha-default_epochs-40_corpus-female_person_artist_lyrics_epoch-20/syn-sem_test.txt\n"
     ]
    },
    {
     "name": "stdout",
     "output_type": "stream",
     "text": [
      "Epoch #25 end\n"
     ]
    },
    {
     "name": "stderr",
     "output_type": "stream",
     "text": [
      "[2021-12-24 17:32:10,260 INFO] Start computation quality word embedding tests. Results will be saved at ../results/experiment_W2V_several_runs_WEAT_2/Word_embedding_quality_W2V/\n",
      "[2021-12-24 17:32:10,265 INFO] Number of unique words for tests: 2066\n",
      "[2021-12-24 17:32:10,265 INFO] Reading word vectors...\n",
      "[2021-12-24 17:32:10,676 INFO] Number of word vectors read: 10000...\n",
      "[2021-12-24 17:32:11,058 INFO] Number of word vectors read: 20000...\n",
      "[2021-12-24 17:32:11,161 INFO] Number of word vectors found: 1099\n",
      "[2021-12-24 17:32:11,161 INFO] Running: sed -i '' '1s/^/1099 300\\'$'\\n/' ../data/evaluation_tests_word_embedding/temp_embs.txt\n",
      "[2021-12-24 17:32:11,182 INFO] Running WS test...\n",
      "[2021-12-24 17:32:11,182 INFO] Calling command: ./../data/evaluation_tests_word_embedding/ws/ws ../data/evaluation_tests_word_embedding/temp_embs.txt > ../results/experiment_W2V_several_runs_WEAT_2/Word_embedding_quality_W2V/W2V_lemmatized_iter-0_dim-300_w-5_alpha-default_epochs-40_corpus-female_person_artist_lyrics_epoch-25/ws_test.txt\n",
      "[2021-12-24 17:32:11,259 INFO] Running TOEFL test...\n",
      "[2021-12-24 17:32:11,259 INFO] Calling command: ./../data/evaluation_tests_word_embedding/tfl/toefl ../data/evaluation_tests_word_embedding/temp_embs.txt > ../results/experiment_W2V_several_runs_WEAT_2/Word_embedding_quality_W2V/W2V_lemmatized_iter-0_dim-300_w-5_alpha-default_epochs-40_corpus-female_person_artist_lyrics_epoch-25/toefl_test.txt\n",
      "[2021-12-24 17:32:11,331 INFO] Running SYN-SEM test...\n",
      "[2021-12-24 17:32:11,331 INFO] Calling command: ./../data/evaluation_tests_word_embedding/syn_sem/compute-accuracy-txt ../data/evaluation_tests_word_embedding/temp_embs.txt 0 < ../data/evaluation_tests_word_embedding/syn_sem/questions-words.txt > ../results/experiment_W2V_several_runs_WEAT_2/Word_embedding_quality_W2V/W2V_lemmatized_iter-0_dim-300_w-5_alpha-default_epochs-40_corpus-female_person_artist_lyrics_epoch-25/syn-sem_test.txt\n"
     ]
    },
    {
     "name": "stdout",
     "output_type": "stream",
     "text": [
      "Epoch #30 end\n"
     ]
    },
    {
     "name": "stderr",
     "output_type": "stream",
     "text": [
      "[2021-12-24 17:35:43,518 INFO] Start computation quality word embedding tests. Results will be saved at ../results/experiment_W2V_several_runs_WEAT_2/Word_embedding_quality_W2V/\n",
      "[2021-12-24 17:35:43,520 INFO] Number of unique words for tests: 2066\n",
      "[2021-12-24 17:35:43,520 INFO] Reading word vectors...\n",
      "[2021-12-24 17:35:43,902 INFO] Number of word vectors read: 10000...\n",
      "[2021-12-24 17:35:44,283 INFO] Number of word vectors read: 20000...\n",
      "[2021-12-24 17:35:44,385 INFO] Number of word vectors found: 1099\n",
      "[2021-12-24 17:35:44,385 INFO] Running: sed -i '' '1s/^/1099 300\\'$'\\n/' ../data/evaluation_tests_word_embedding/temp_embs.txt\n",
      "[2021-12-24 17:35:44,403 INFO] Running WS test...\n",
      "[2021-12-24 17:35:44,404 INFO] Calling command: ./../data/evaluation_tests_word_embedding/ws/ws ../data/evaluation_tests_word_embedding/temp_embs.txt > ../results/experiment_W2V_several_runs_WEAT_2/Word_embedding_quality_W2V/W2V_lemmatized_iter-0_dim-300_w-5_alpha-default_epochs-40_corpus-female_person_artist_lyrics_epoch-30/ws_test.txt\n",
      "[2021-12-24 17:35:44,474 INFO] Running TOEFL test...\n",
      "[2021-12-24 17:35:44,474 INFO] Calling command: ./../data/evaluation_tests_word_embedding/tfl/toefl ../data/evaluation_tests_word_embedding/temp_embs.txt > ../results/experiment_W2V_several_runs_WEAT_2/Word_embedding_quality_W2V/W2V_lemmatized_iter-0_dim-300_w-5_alpha-default_epochs-40_corpus-female_person_artist_lyrics_epoch-30/toefl_test.txt\n",
      "[2021-12-24 17:35:44,540 INFO] Running SYN-SEM test...\n",
      "[2021-12-24 17:35:44,540 INFO] Calling command: ./../data/evaluation_tests_word_embedding/syn_sem/compute-accuracy-txt ../data/evaluation_tests_word_embedding/temp_embs.txt 0 < ../data/evaluation_tests_word_embedding/syn_sem/questions-words.txt > ../results/experiment_W2V_several_runs_WEAT_2/Word_embedding_quality_W2V/W2V_lemmatized_iter-0_dim-300_w-5_alpha-default_epochs-40_corpus-female_person_artist_lyrics_epoch-30/syn-sem_test.txt\n"
     ]
    },
    {
     "name": "stdout",
     "output_type": "stream",
     "text": [
      "Epoch #35 end\n"
     ]
    },
    {
     "name": "stderr",
     "output_type": "stream",
     "text": [
      "[2021-12-24 17:39:18,313 INFO] Start computation quality word embedding tests. Results will be saved at ../results/experiment_W2V_several_runs_WEAT_2/Word_embedding_quality_W2V/\n",
      "[2021-12-24 17:39:18,324 INFO] Number of unique words for tests: 2066\n",
      "[2021-12-24 17:39:18,325 INFO] Reading word vectors...\n",
      "[2021-12-24 17:39:18,728 INFO] Number of word vectors read: 10000...\n",
      "[2021-12-24 17:39:19,111 INFO] Number of word vectors read: 20000...\n",
      "[2021-12-24 17:39:19,216 INFO] Number of word vectors found: 1099\n",
      "[2021-12-24 17:39:19,216 INFO] Running: sed -i '' '1s/^/1099 300\\'$'\\n/' ../data/evaluation_tests_word_embedding/temp_embs.txt\n",
      "[2021-12-24 17:39:19,235 INFO] Running WS test...\n",
      "[2021-12-24 17:39:19,236 INFO] Calling command: ./../data/evaluation_tests_word_embedding/ws/ws ../data/evaluation_tests_word_embedding/temp_embs.txt > ../results/experiment_W2V_several_runs_WEAT_2/Word_embedding_quality_W2V/W2V_lemmatized_iter-0_dim-300_w-5_alpha-default_epochs-40_corpus-female_person_artist_lyrics_epoch-35/ws_test.txt\n",
      "[2021-12-24 17:39:19,312 INFO] Running TOEFL test...\n",
      "[2021-12-24 17:39:19,312 INFO] Calling command: ./../data/evaluation_tests_word_embedding/tfl/toefl ../data/evaluation_tests_word_embedding/temp_embs.txt > ../results/experiment_W2V_several_runs_WEAT_2/Word_embedding_quality_W2V/W2V_lemmatized_iter-0_dim-300_w-5_alpha-default_epochs-40_corpus-female_person_artist_lyrics_epoch-35/toefl_test.txt\n",
      "[2021-12-24 17:39:19,383 INFO] Running SYN-SEM test...\n",
      "[2021-12-24 17:39:19,383 INFO] Calling command: ./../data/evaluation_tests_word_embedding/syn_sem/compute-accuracy-txt ../data/evaluation_tests_word_embedding/temp_embs.txt 0 < ../data/evaluation_tests_word_embedding/syn_sem/questions-words.txt > ../results/experiment_W2V_several_runs_WEAT_2/Word_embedding_quality_W2V/W2V_lemmatized_iter-0_dim-300_w-5_alpha-default_epochs-40_corpus-female_person_artist_lyrics_epoch-35/syn-sem_test.txt\n",
      "[2021-12-24 17:42:12,308 INFO] Start computation quality word embedding tests. Results will be saved at ../results/experiment_W2V_several_runs_WEAT_2/Word_embedding_quality_W2V/\n",
      "[2021-12-24 17:42:12,309 INFO] Number of unique words for tests: 2066\n",
      "[2021-12-24 17:42:12,309 INFO] Reading word vectors...\n",
      "[2021-12-24 17:42:12,701 INFO] Number of word vectors read: 10000...\n",
      "[2021-12-24 17:42:13,081 INFO] Number of word vectors read: 20000...\n",
      "[2021-12-24 17:42:13,181 INFO] Number of word vectors found: 1099\n",
      "[2021-12-24 17:42:13,181 INFO] Running: sed -i '' '1s/^/1099 300\\'$'\\n/' ../data/evaluation_tests_word_embedding/temp_embs.txt\n",
      "[2021-12-24 17:42:13,201 INFO] Running WS test...\n",
      "[2021-12-24 17:42:13,201 INFO] Calling command: ./../data/evaluation_tests_word_embedding/ws/ws ../data/evaluation_tests_word_embedding/temp_embs.txt > ../results/experiment_W2V_several_runs_WEAT_2/Word_embedding_quality_W2V/W2V_lemmatized_iter-0_dim-300_w-5_alpha-default_epochs-40_corpus-female_person_artist_lyrics_epoch-39/ws_test.txt\n",
      "[2021-12-24 17:42:13,272 INFO] Running TOEFL test...\n",
      "[2021-12-24 17:42:13,272 INFO] Calling command: ./../data/evaluation_tests_word_embedding/tfl/toefl ../data/evaluation_tests_word_embedding/temp_embs.txt > ../results/experiment_W2V_several_runs_WEAT_2/Word_embedding_quality_W2V/W2V_lemmatized_iter-0_dim-300_w-5_alpha-default_epochs-40_corpus-female_person_artist_lyrics_epoch-39/toefl_test.txt\n",
      "[2021-12-24 17:42:13,339 INFO] Running SYN-SEM test...\n",
      "[2021-12-24 17:42:13,340 INFO] Calling command: ./../data/evaluation_tests_word_embedding/syn_sem/compute-accuracy-txt ../data/evaluation_tests_word_embedding/temp_embs.txt 0 < ../data/evaluation_tests_word_embedding/syn_sem/questions-words.txt > ../results/experiment_W2V_several_runs_WEAT_2/Word_embedding_quality_W2V/W2V_lemmatized_iter-0_dim-300_w-5_alpha-default_epochs-40_corpus-female_person_artist_lyrics_epoch-39/syn-sem_test.txt\n"
     ]
    },
    {
     "name": "stdout",
     "output_type": "stream",
     "text": [
      "End training of W2V_lemmatized_iter-0_dim-300_w-5_alpha-default_epochs-40_corpus-female_person_artist_lyrics\n",
      "\n",
      "Start training corpus:  male_person_artist_lyrics\n",
      "Embedding name:  W2V_lemmatized_iter-0_dim-300_w-5_alpha-default_epochs-40_corpus-male_person_artist_lyrics\n",
      "Vocab done...\n",
      "Corpus count:  166966\n",
      "Corpus total words:  44363120\n",
      "Epoch #0 end\n"
     ]
    },
    {
     "name": "stderr",
     "output_type": "stream",
     "text": [
      "[2021-12-24 17:44:49,395 INFO] Start computation quality word embedding tests. Results will be saved at ../results/experiment_W2V_several_runs_WEAT_2/Word_embedding_quality_W2V/\n",
      "[2021-12-24 17:44:49,398 INFO] Number of unique words for tests: 2066\n",
      "[2021-12-24 17:44:49,398 INFO] Reading word vectors...\n",
      "[2021-12-24 17:44:49,831 INFO] Number of word vectors read: 10000...\n",
      "[2021-12-24 17:44:50,230 INFO] Number of word vectors read: 20000...\n",
      "[2021-12-24 17:44:50,616 INFO] Number of word vectors read: 30000...\n",
      "[2021-12-24 17:44:51,009 INFO] Number of word vectors read: 40000...\n",
      "[2021-12-24 17:44:51,256 INFO] Number of word vectors found: 1319\n",
      "[2021-12-24 17:44:51,256 INFO] Running: sed -i '' '1s/^/1319 300\\'$'\\n/' ../data/evaluation_tests_word_embedding/temp_embs.txt\n",
      "[2021-12-24 17:44:51,279 INFO] Running WS test...\n",
      "[2021-12-24 17:44:51,280 INFO] Calling command: ./../data/evaluation_tests_word_embedding/ws/ws ../data/evaluation_tests_word_embedding/temp_embs.txt > ../results/experiment_W2V_several_runs_WEAT_2/Word_embedding_quality_W2V/W2V_lemmatized_iter-0_dim-300_w-5_alpha-default_epochs-40_corpus-male_person_artist_lyrics_epoch-0/ws_test.txt\n",
      "[2021-12-24 17:44:51,371 INFO] Running TOEFL test...\n",
      "[2021-12-24 17:44:51,371 INFO] Calling command: ./../data/evaluation_tests_word_embedding/tfl/toefl ../data/evaluation_tests_word_embedding/temp_embs.txt > ../results/experiment_W2V_several_runs_WEAT_2/Word_embedding_quality_W2V/W2V_lemmatized_iter-0_dim-300_w-5_alpha-default_epochs-40_corpus-male_person_artist_lyrics_epoch-0/toefl_test.txt\n",
      "[2021-12-24 17:44:51,458 INFO] Running SYN-SEM test...\n",
      "[2021-12-24 17:44:51,458 INFO] Calling command: ./../data/evaluation_tests_word_embedding/syn_sem/compute-accuracy-txt ../data/evaluation_tests_word_embedding/temp_embs.txt 0 < ../data/evaluation_tests_word_embedding/syn_sem/questions-words.txt > ../results/experiment_W2V_several_runs_WEAT_2/Word_embedding_quality_W2V/W2V_lemmatized_iter-0_dim-300_w-5_alpha-default_epochs-40_corpus-male_person_artist_lyrics_epoch-0/syn-sem_test.txt\n"
     ]
    },
    {
     "name": "stdout",
     "output_type": "stream",
     "text": [
      "Epoch #5 end\n"
     ]
    },
    {
     "name": "stderr",
     "output_type": "stream",
     "text": [
      "[2021-12-24 17:56:01,615 INFO] Start computation quality word embedding tests. Results will be saved at ../results/experiment_W2V_several_runs_WEAT_2/Word_embedding_quality_W2V/\n",
      "[2021-12-24 17:56:01,620 INFO] Number of unique words for tests: 2066\n",
      "[2021-12-24 17:56:01,620 INFO] Reading word vectors...\n",
      "[2021-12-24 17:56:02,096 INFO] Number of word vectors read: 10000...\n",
      "[2021-12-24 17:56:02,492 INFO] Number of word vectors read: 20000...\n",
      "[2021-12-24 17:56:02,874 INFO] Number of word vectors read: 30000...\n",
      "[2021-12-24 17:56:03,246 INFO] Number of word vectors read: 40000...\n",
      "[2021-12-24 17:56:03,485 INFO] Number of word vectors found: 1319\n",
      "[2021-12-24 17:56:03,485 INFO] Running: sed -i '' '1s/^/1319 300\\'$'\\n/' ../data/evaluation_tests_word_embedding/temp_embs.txt\n",
      "[2021-12-24 17:56:03,506 INFO] Running WS test...\n",
      "[2021-12-24 17:56:03,507 INFO] Calling command: ./../data/evaluation_tests_word_embedding/ws/ws ../data/evaluation_tests_word_embedding/temp_embs.txt > ../results/experiment_W2V_several_runs_WEAT_2/Word_embedding_quality_W2V/W2V_lemmatized_iter-0_dim-300_w-5_alpha-default_epochs-40_corpus-male_person_artist_lyrics_epoch-5/ws_test.txt\n",
      "[2021-12-24 17:56:03,607 INFO] Running TOEFL test...\n",
      "[2021-12-24 17:56:03,607 INFO] Calling command: ./../data/evaluation_tests_word_embedding/tfl/toefl ../data/evaluation_tests_word_embedding/temp_embs.txt > ../results/experiment_W2V_several_runs_WEAT_2/Word_embedding_quality_W2V/W2V_lemmatized_iter-0_dim-300_w-5_alpha-default_epochs-40_corpus-male_person_artist_lyrics_epoch-5/toefl_test.txt\n",
      "[2021-12-24 17:56:03,691 INFO] Running SYN-SEM test...\n",
      "[2021-12-24 17:56:03,691 INFO] Calling command: ./../data/evaluation_tests_word_embedding/syn_sem/compute-accuracy-txt ../data/evaluation_tests_word_embedding/temp_embs.txt 0 < ../data/evaluation_tests_word_embedding/syn_sem/questions-words.txt > ../results/experiment_W2V_several_runs_WEAT_2/Word_embedding_quality_W2V/W2V_lemmatized_iter-0_dim-300_w-5_alpha-default_epochs-40_corpus-male_person_artist_lyrics_epoch-5/syn-sem_test.txt\n"
     ]
    },
    {
     "name": "stdout",
     "output_type": "stream",
     "text": [
      "Epoch #10 end\n"
     ]
    },
    {
     "name": "stderr",
     "output_type": "stream",
     "text": [
      "[2021-12-24 18:06:44,259 INFO] Start computation quality word embedding tests. Results will be saved at ../results/experiment_W2V_several_runs_WEAT_2/Word_embedding_quality_W2V/\n",
      "[2021-12-24 18:06:44,264 INFO] Number of unique words for tests: 2066\n",
      "[2021-12-24 18:06:44,265 INFO] Reading word vectors...\n",
      "[2021-12-24 18:06:44,689 INFO] Number of word vectors read: 10000...\n",
      "[2021-12-24 18:06:45,077 INFO] Number of word vectors read: 20000...\n",
      "[2021-12-24 18:06:45,458 INFO] Number of word vectors read: 30000...\n",
      "[2021-12-24 18:06:45,843 INFO] Number of word vectors read: 40000...\n",
      "[2021-12-24 18:06:46,096 INFO] Number of word vectors found: 1319\n",
      "[2021-12-24 18:06:46,096 INFO] Running: sed -i '' '1s/^/1319 300\\'$'\\n/' ../data/evaluation_tests_word_embedding/temp_embs.txt\n",
      "[2021-12-24 18:06:46,123 INFO] Running WS test...\n",
      "[2021-12-24 18:06:46,124 INFO] Calling command: ./../data/evaluation_tests_word_embedding/ws/ws ../data/evaluation_tests_word_embedding/temp_embs.txt > ../results/experiment_W2V_several_runs_WEAT_2/Word_embedding_quality_W2V/W2V_lemmatized_iter-0_dim-300_w-5_alpha-default_epochs-40_corpus-male_person_artist_lyrics_epoch-10/ws_test.txt\n",
      "[2021-12-24 18:06:46,218 INFO] Running TOEFL test...\n",
      "[2021-12-24 18:06:46,218 INFO] Calling command: ./../data/evaluation_tests_word_embedding/tfl/toefl ../data/evaluation_tests_word_embedding/temp_embs.txt > ../results/experiment_W2V_several_runs_WEAT_2/Word_embedding_quality_W2V/W2V_lemmatized_iter-0_dim-300_w-5_alpha-default_epochs-40_corpus-male_person_artist_lyrics_epoch-10/toefl_test.txt\n",
      "[2021-12-24 18:06:46,311 INFO] Running SYN-SEM test...\n",
      "[2021-12-24 18:06:46,312 INFO] Calling command: ./../data/evaluation_tests_word_embedding/syn_sem/compute-accuracy-txt ../data/evaluation_tests_word_embedding/temp_embs.txt 0 < ../data/evaluation_tests_word_embedding/syn_sem/questions-words.txt > ../results/experiment_W2V_several_runs_WEAT_2/Word_embedding_quality_W2V/W2V_lemmatized_iter-0_dim-300_w-5_alpha-default_epochs-40_corpus-male_person_artist_lyrics_epoch-10/syn-sem_test.txt\n"
     ]
    },
    {
     "name": "stdout",
     "output_type": "stream",
     "text": [
      "Epoch #15 end\n"
     ]
    },
    {
     "name": "stderr",
     "output_type": "stream",
     "text": [
      "[2021-12-24 18:18:09,799 INFO] Start computation quality word embedding tests. Results will be saved at ../results/experiment_W2V_several_runs_WEAT_2/Word_embedding_quality_W2V/\n",
      "[2021-12-24 18:18:09,804 INFO] Number of unique words for tests: 2066\n",
      "[2021-12-24 18:18:09,804 INFO] Reading word vectors...\n",
      "[2021-12-24 18:18:10,252 INFO] Number of word vectors read: 10000...\n",
      "[2021-12-24 18:18:10,646 INFO] Number of word vectors read: 20000...\n",
      "[2021-12-24 18:18:11,028 INFO] Number of word vectors read: 30000...\n",
      "[2021-12-24 18:18:11,414 INFO] Number of word vectors read: 40000...\n",
      "[2021-12-24 18:18:11,672 INFO] Number of word vectors found: 1319\n",
      "[2021-12-24 18:18:11,672 INFO] Running: sed -i '' '1s/^/1319 300\\'$'\\n/' ../data/evaluation_tests_word_embedding/temp_embs.txt\n",
      "[2021-12-24 18:18:11,697 INFO] Running WS test...\n",
      "[2021-12-24 18:18:11,697 INFO] Calling command: ./../data/evaluation_tests_word_embedding/ws/ws ../data/evaluation_tests_word_embedding/temp_embs.txt > ../results/experiment_W2V_several_runs_WEAT_2/Word_embedding_quality_W2V/W2V_lemmatized_iter-0_dim-300_w-5_alpha-default_epochs-40_corpus-male_person_artist_lyrics_epoch-15/ws_test.txt\n",
      "[2021-12-24 18:18:11,839 INFO] Running TOEFL test...\n",
      "[2021-12-24 18:18:11,839 INFO] Calling command: ./../data/evaluation_tests_word_embedding/tfl/toefl ../data/evaluation_tests_word_embedding/temp_embs.txt > ../results/experiment_W2V_several_runs_WEAT_2/Word_embedding_quality_W2V/W2V_lemmatized_iter-0_dim-300_w-5_alpha-default_epochs-40_corpus-male_person_artist_lyrics_epoch-15/toefl_test.txt\n",
      "[2021-12-24 18:18:11,945 INFO] Running SYN-SEM test...\n",
      "[2021-12-24 18:18:11,945 INFO] Calling command: ./../data/evaluation_tests_word_embedding/syn_sem/compute-accuracy-txt ../data/evaluation_tests_word_embedding/temp_embs.txt 0 < ../data/evaluation_tests_word_embedding/syn_sem/questions-words.txt > ../results/experiment_W2V_several_runs_WEAT_2/Word_embedding_quality_W2V/W2V_lemmatized_iter-0_dim-300_w-5_alpha-default_epochs-40_corpus-male_person_artist_lyrics_epoch-15/syn-sem_test.txt\n"
     ]
    },
    {
     "name": "stdout",
     "output_type": "stream",
     "text": [
      "Epoch #20 end\n"
     ]
    },
    {
     "name": "stderr",
     "output_type": "stream",
     "text": [
      "[2021-12-24 18:31:02,576 INFO] Start computation quality word embedding tests. Results will be saved at ../results/experiment_W2V_several_runs_WEAT_2/Word_embedding_quality_W2V/\n",
      "[2021-12-24 18:31:02,579 INFO] Number of unique words for tests: 2066\n",
      "[2021-12-24 18:31:02,579 INFO] Reading word vectors...\n",
      "[2021-12-24 18:31:02,959 INFO] Number of word vectors read: 10000...\n",
      "[2021-12-24 18:31:03,354 INFO] Number of word vectors read: 20000...\n",
      "[2021-12-24 18:31:03,725 INFO] Number of word vectors read: 30000...\n",
      "[2021-12-24 18:31:04,106 INFO] Number of word vectors read: 40000...\n",
      "[2021-12-24 18:31:04,341 INFO] Number of word vectors found: 1319\n",
      "[2021-12-24 18:31:04,342 INFO] Running: sed -i '' '1s/^/1319 300\\'$'\\n/' ../data/evaluation_tests_word_embedding/temp_embs.txt\n",
      "[2021-12-24 18:31:04,366 INFO] Running WS test...\n",
      "[2021-12-24 18:31:04,367 INFO] Calling command: ./../data/evaluation_tests_word_embedding/ws/ws ../data/evaluation_tests_word_embedding/temp_embs.txt > ../results/experiment_W2V_several_runs_WEAT_2/Word_embedding_quality_W2V/W2V_lemmatized_iter-0_dim-300_w-5_alpha-default_epochs-40_corpus-male_person_artist_lyrics_epoch-20/ws_test.txt\n",
      "[2021-12-24 18:31:04,635 INFO] Running TOEFL test...\n",
      "[2021-12-24 18:31:04,635 INFO] Calling command: ./../data/evaluation_tests_word_embedding/tfl/toefl ../data/evaluation_tests_word_embedding/temp_embs.txt > ../results/experiment_W2V_several_runs_WEAT_2/Word_embedding_quality_W2V/W2V_lemmatized_iter-0_dim-300_w-5_alpha-default_epochs-40_corpus-male_person_artist_lyrics_epoch-20/toefl_test.txt\n",
      "[2021-12-24 18:31:04,725 INFO] Running SYN-SEM test...\n",
      "[2021-12-24 18:31:04,725 INFO] Calling command: ./../data/evaluation_tests_word_embedding/syn_sem/compute-accuracy-txt ../data/evaluation_tests_word_embedding/temp_embs.txt 0 < ../data/evaluation_tests_word_embedding/syn_sem/questions-words.txt > ../results/experiment_W2V_several_runs_WEAT_2/Word_embedding_quality_W2V/W2V_lemmatized_iter-0_dim-300_w-5_alpha-default_epochs-40_corpus-male_person_artist_lyrics_epoch-20/syn-sem_test.txt\n"
     ]
    },
    {
     "name": "stdout",
     "output_type": "stream",
     "text": [
      "Epoch #25 end\n"
     ]
    },
    {
     "name": "stderr",
     "output_type": "stream",
     "text": [
      "[2021-12-24 18:44:50,485 INFO] Start computation quality word embedding tests. Results will be saved at ../results/experiment_W2V_several_runs_WEAT_2/Word_embedding_quality_W2V/\n",
      "[2021-12-24 18:44:50,496 INFO] Number of unique words for tests: 2066\n",
      "[2021-12-24 18:44:50,497 INFO] Reading word vectors...\n",
      "[2021-12-24 18:44:51,405 INFO] Number of word vectors read: 10000...\n",
      "[2021-12-24 18:44:51,850 INFO] Number of word vectors read: 20000...\n",
      "[2021-12-24 18:44:52,252 INFO] Number of word vectors read: 30000...\n",
      "[2021-12-24 18:44:52,641 INFO] Number of word vectors read: 40000...\n",
      "[2021-12-24 18:44:52,925 INFO] Number of word vectors found: 1319\n",
      "[2021-12-24 18:44:52,925 INFO] Running: sed -i '' '1s/^/1319 300\\'$'\\n/' ../data/evaluation_tests_word_embedding/temp_embs.txt\n",
      "[2021-12-24 18:44:52,951 INFO] Running WS test...\n",
      "[2021-12-24 18:44:52,952 INFO] Calling command: ./../data/evaluation_tests_word_embedding/ws/ws ../data/evaluation_tests_word_embedding/temp_embs.txt > ../results/experiment_W2V_several_runs_WEAT_2/Word_embedding_quality_W2V/W2V_lemmatized_iter-0_dim-300_w-5_alpha-default_epochs-40_corpus-male_person_artist_lyrics_epoch-25/ws_test.txt\n",
      "[2021-12-24 18:44:53,043 INFO] Running TOEFL test...\n",
      "[2021-12-24 18:44:53,043 INFO] Calling command: ./../data/evaluation_tests_word_embedding/tfl/toefl ../data/evaluation_tests_word_embedding/temp_embs.txt > ../results/experiment_W2V_several_runs_WEAT_2/Word_embedding_quality_W2V/W2V_lemmatized_iter-0_dim-300_w-5_alpha-default_epochs-40_corpus-male_person_artist_lyrics_epoch-25/toefl_test.txt\n",
      "[2021-12-24 18:44:53,128 INFO] Running SYN-SEM test...\n",
      "[2021-12-24 18:44:53,128 INFO] Calling command: ./../data/evaluation_tests_word_embedding/syn_sem/compute-accuracy-txt ../data/evaluation_tests_word_embedding/temp_embs.txt 0 < ../data/evaluation_tests_word_embedding/syn_sem/questions-words.txt > ../results/experiment_W2V_several_runs_WEAT_2/Word_embedding_quality_W2V/W2V_lemmatized_iter-0_dim-300_w-5_alpha-default_epochs-40_corpus-male_person_artist_lyrics_epoch-25/syn-sem_test.txt\n"
     ]
    },
    {
     "name": "stdout",
     "output_type": "stream",
     "text": [
      "Epoch #30 end\n"
     ]
    },
    {
     "name": "stderr",
     "output_type": "stream",
     "text": [
      "[2021-12-24 18:56:21,790 INFO] Start computation quality word embedding tests. Results will be saved at ../results/experiment_W2V_several_runs_WEAT_2/Word_embedding_quality_W2V/\n",
      "[2021-12-24 18:56:21,800 INFO] Number of unique words for tests: 2066\n",
      "[2021-12-24 18:56:21,800 INFO] Reading word vectors...\n",
      "[2021-12-24 18:56:22,256 INFO] Number of word vectors read: 10000...\n",
      "[2021-12-24 18:56:22,667 INFO] Number of word vectors read: 20000...\n",
      "[2021-12-24 18:56:23,080 INFO] Number of word vectors read: 30000...\n",
      "[2021-12-24 18:56:23,487 INFO] Number of word vectors read: 40000...\n",
      "[2021-12-24 18:56:23,747 INFO] Number of word vectors found: 1319\n",
      "[2021-12-24 18:56:23,747 INFO] Running: sed -i '' '1s/^/1319 300\\'$'\\n/' ../data/evaluation_tests_word_embedding/temp_embs.txt\n",
      "[2021-12-24 18:56:23,771 INFO] Running WS test...\n",
      "[2021-12-24 18:56:23,772 INFO] Calling command: ./../data/evaluation_tests_word_embedding/ws/ws ../data/evaluation_tests_word_embedding/temp_embs.txt > ../results/experiment_W2V_several_runs_WEAT_2/Word_embedding_quality_W2V/W2V_lemmatized_iter-0_dim-300_w-5_alpha-default_epochs-40_corpus-male_person_artist_lyrics_epoch-30/ws_test.txt\n",
      "[2021-12-24 18:56:23,866 INFO] Running TOEFL test...\n",
      "[2021-12-24 18:56:23,866 INFO] Calling command: ./../data/evaluation_tests_word_embedding/tfl/toefl ../data/evaluation_tests_word_embedding/temp_embs.txt > ../results/experiment_W2V_several_runs_WEAT_2/Word_embedding_quality_W2V/W2V_lemmatized_iter-0_dim-300_w-5_alpha-default_epochs-40_corpus-male_person_artist_lyrics_epoch-30/toefl_test.txt\n",
      "[2021-12-24 18:56:23,969 INFO] Running SYN-SEM test...\n",
      "[2021-12-24 18:56:23,970 INFO] Calling command: ./../data/evaluation_tests_word_embedding/syn_sem/compute-accuracy-txt ../data/evaluation_tests_word_embedding/temp_embs.txt 0 < ../data/evaluation_tests_word_embedding/syn_sem/questions-words.txt > ../results/experiment_W2V_several_runs_WEAT_2/Word_embedding_quality_W2V/W2V_lemmatized_iter-0_dim-300_w-5_alpha-default_epochs-40_corpus-male_person_artist_lyrics_epoch-30/syn-sem_test.txt\n"
     ]
    },
    {
     "name": "stdout",
     "output_type": "stream",
     "text": [
      "Epoch #35 end\n"
     ]
    },
    {
     "name": "stderr",
     "output_type": "stream",
     "text": [
      "[2021-12-24 19:07:24,736 INFO] Start computation quality word embedding tests. Results will be saved at ../results/experiment_W2V_several_runs_WEAT_2/Word_embedding_quality_W2V/\n",
      "[2021-12-24 19:07:24,742 INFO] Number of unique words for tests: 2066\n",
      "[2021-12-24 19:07:24,742 INFO] Reading word vectors...\n",
      "[2021-12-24 19:07:25,138 INFO] Number of word vectors read: 10000...\n",
      "[2021-12-24 19:07:25,518 INFO] Number of word vectors read: 20000...\n",
      "[2021-12-24 19:07:25,896 INFO] Number of word vectors read: 30000...\n",
      "[2021-12-24 19:07:26,268 INFO] Number of word vectors read: 40000...\n",
      "[2021-12-24 19:07:26,520 INFO] Number of word vectors found: 1319\n",
      "[2021-12-24 19:07:26,520 INFO] Running: sed -i '' '1s/^/1319 300\\'$'\\n/' ../data/evaluation_tests_word_embedding/temp_embs.txt\n",
      "[2021-12-24 19:07:26,548 INFO] Running WS test...\n",
      "[2021-12-24 19:07:26,548 INFO] Calling command: ./../data/evaluation_tests_word_embedding/ws/ws ../data/evaluation_tests_word_embedding/temp_embs.txt > ../results/experiment_W2V_several_runs_WEAT_2/Word_embedding_quality_W2V/W2V_lemmatized_iter-0_dim-300_w-5_alpha-default_epochs-40_corpus-male_person_artist_lyrics_epoch-35/ws_test.txt\n",
      "[2021-12-24 19:07:26,644 INFO] Running TOEFL test...\n",
      "[2021-12-24 19:07:26,644 INFO] Calling command: ./../data/evaluation_tests_word_embedding/tfl/toefl ../data/evaluation_tests_word_embedding/temp_embs.txt > ../results/experiment_W2V_several_runs_WEAT_2/Word_embedding_quality_W2V/W2V_lemmatized_iter-0_dim-300_w-5_alpha-default_epochs-40_corpus-male_person_artist_lyrics_epoch-35/toefl_test.txt\n",
      "[2021-12-24 19:07:26,738 INFO] Running SYN-SEM test...\n",
      "[2021-12-24 19:07:26,738 INFO] Calling command: ./../data/evaluation_tests_word_embedding/syn_sem/compute-accuracy-txt ../data/evaluation_tests_word_embedding/temp_embs.txt 0 < ../data/evaluation_tests_word_embedding/syn_sem/questions-words.txt > ../results/experiment_W2V_several_runs_WEAT_2/Word_embedding_quality_W2V/W2V_lemmatized_iter-0_dim-300_w-5_alpha-default_epochs-40_corpus-male_person_artist_lyrics_epoch-35/syn-sem_test.txt\n",
      "[2021-12-24 19:16:20,060 INFO] Start computation quality word embedding tests. Results will be saved at ../results/experiment_W2V_several_runs_WEAT_2/Word_embedding_quality_W2V/\n",
      "[2021-12-24 19:16:20,063 INFO] Number of unique words for tests: 2066\n",
      "[2021-12-24 19:16:20,063 INFO] Reading word vectors...\n",
      "[2021-12-24 19:16:20,467 INFO] Number of word vectors read: 10000...\n",
      "[2021-12-24 19:16:20,838 INFO] Number of word vectors read: 20000...\n",
      "[2021-12-24 19:16:21,220 INFO] Number of word vectors read: 30000...\n",
      "[2021-12-24 19:16:21,599 INFO] Number of word vectors read: 40000...\n",
      "[2021-12-24 19:16:21,839 INFO] Number of word vectors found: 1319\n",
      "[2021-12-24 19:16:21,839 INFO] Running: sed -i '' '1s/^/1319 300\\'$'\\n/' ../data/evaluation_tests_word_embedding/temp_embs.txt\n",
      "[2021-12-24 19:16:21,863 INFO] Running WS test...\n",
      "[2021-12-24 19:16:21,864 INFO] Calling command: ./../data/evaluation_tests_word_embedding/ws/ws ../data/evaluation_tests_word_embedding/temp_embs.txt > ../results/experiment_W2V_several_runs_WEAT_2/Word_embedding_quality_W2V/W2V_lemmatized_iter-0_dim-300_w-5_alpha-default_epochs-40_corpus-male_person_artist_lyrics_epoch-39/ws_test.txt\n",
      "[2021-12-24 19:16:21,957 INFO] Running TOEFL test...\n",
      "[2021-12-24 19:16:21,957 INFO] Calling command: ./../data/evaluation_tests_word_embedding/tfl/toefl ../data/evaluation_tests_word_embedding/temp_embs.txt > ../results/experiment_W2V_several_runs_WEAT_2/Word_embedding_quality_W2V/W2V_lemmatized_iter-0_dim-300_w-5_alpha-default_epochs-40_corpus-male_person_artist_lyrics_epoch-39/toefl_test.txt\n",
      "[2021-12-24 19:16:22,044 INFO] Running SYN-SEM test...\n",
      "[2021-12-24 19:16:22,044 INFO] Calling command: ./../data/evaluation_tests_word_embedding/syn_sem/compute-accuracy-txt ../data/evaluation_tests_word_embedding/temp_embs.txt 0 < ../data/evaluation_tests_word_embedding/syn_sem/questions-words.txt > ../results/experiment_W2V_several_runs_WEAT_2/Word_embedding_quality_W2V/W2V_lemmatized_iter-0_dim-300_w-5_alpha-default_epochs-40_corpus-male_person_artist_lyrics_epoch-39/syn-sem_test.txt\n"
     ]
    },
    {
     "name": "stdout",
     "output_type": "stream",
     "text": [
      "End training of W2V_lemmatized_iter-0_dim-300_w-5_alpha-default_epochs-40_corpus-male_person_artist_lyrics\n",
      "\n",
      "Start training corpus:  all_person_artist_lyrics\n",
      "Embedding name:  W2V_lemmatized_iter-0_dim-300_w-5_alpha-default_epochs-40_corpus-all_person_artist_lyrics\n",
      "Vocab done...\n",
      "Corpus count:  237846\n",
      "Corpus total words:  60312307\n",
      "Epoch #0 end\n"
     ]
    },
    {
     "name": "stderr",
     "output_type": "stream",
     "text": [
      "[2021-12-24 19:19:54,885 INFO] Start computation quality word embedding tests. Results will be saved at ../results/experiment_W2V_several_runs_WEAT_2/Word_embedding_quality_W2V/\n",
      "[2021-12-24 19:19:54,895 INFO] Number of unique words for tests: 2066\n",
      "[2021-12-24 19:19:54,895 INFO] Reading word vectors...\n",
      "[2021-12-24 19:19:55,323 INFO] Number of word vectors read: 10000...\n",
      "[2021-12-24 19:19:55,714 INFO] Number of word vectors read: 20000...\n",
      "[2021-12-24 19:19:56,101 INFO] Number of word vectors read: 30000...\n",
      "[2021-12-24 19:19:56,491 INFO] Number of word vectors read: 40000...\n",
      "[2021-12-24 19:19:56,859 INFO] Number of word vectors found: 1341\n",
      "[2021-12-24 19:19:56,859 INFO] Running: sed -i '' '1s/^/1341 300\\'$'\\n/' ../data/evaluation_tests_word_embedding/temp_embs.txt\n",
      "[2021-12-24 19:19:56,916 INFO] Running WS test...\n",
      "[2021-12-24 19:19:56,917 INFO] Calling command: ./../data/evaluation_tests_word_embedding/ws/ws ../data/evaluation_tests_word_embedding/temp_embs.txt > ../results/experiment_W2V_several_runs_WEAT_2/Word_embedding_quality_W2V/W2V_lemmatized_iter-0_dim-300_w-5_alpha-default_epochs-40_corpus-all_person_artist_lyrics_epoch-0/ws_test.txt\n",
      "[2021-12-24 19:19:57,042 INFO] Running TOEFL test...\n",
      "[2021-12-24 19:19:57,042 INFO] Calling command: ./../data/evaluation_tests_word_embedding/tfl/toefl ../data/evaluation_tests_word_embedding/temp_embs.txt > ../results/experiment_W2V_several_runs_WEAT_2/Word_embedding_quality_W2V/W2V_lemmatized_iter-0_dim-300_w-5_alpha-default_epochs-40_corpus-all_person_artist_lyrics_epoch-0/toefl_test.txt\n",
      "[2021-12-24 19:19:57,133 INFO] Running SYN-SEM test...\n",
      "[2021-12-24 19:19:57,133 INFO] Calling command: ./../data/evaluation_tests_word_embedding/syn_sem/compute-accuracy-txt ../data/evaluation_tests_word_embedding/temp_embs.txt 0 < ../data/evaluation_tests_word_embedding/syn_sem/questions-words.txt > ../results/experiment_W2V_several_runs_WEAT_2/Word_embedding_quality_W2V/W2V_lemmatized_iter-0_dim-300_w-5_alpha-default_epochs-40_corpus-all_person_artist_lyrics_epoch-0/syn-sem_test.txt\n"
     ]
    },
    {
     "name": "stdout",
     "output_type": "stream",
     "text": [
      "Epoch #5 end\n"
     ]
    },
    {
     "name": "stderr",
     "output_type": "stream",
     "text": [
      "[2021-12-24 19:34:42,388 INFO] Start computation quality word embedding tests. Results will be saved at ../results/experiment_W2V_several_runs_WEAT_2/Word_embedding_quality_W2V/\n",
      "[2021-12-24 19:34:42,398 INFO] Number of unique words for tests: 2066\n",
      "[2021-12-24 19:34:42,398 INFO] Reading word vectors...\n",
      "[2021-12-24 19:34:42,827 INFO] Number of word vectors read: 10000...\n",
      "[2021-12-24 19:34:43,264 INFO] Number of word vectors read: 20000...\n",
      "[2021-12-24 19:34:43,649 INFO] Number of word vectors read: 30000...\n",
      "[2021-12-24 19:34:44,032 INFO] Number of word vectors read: 40000...\n",
      "[2021-12-24 19:34:44,408 INFO] Number of word vectors found: 1341\n",
      "[2021-12-24 19:34:44,408 INFO] Running: sed -i '' '1s/^/1341 300\\'$'\\n/' ../data/evaluation_tests_word_embedding/temp_embs.txt\n",
      "[2021-12-24 19:34:44,444 INFO] Running WS test...\n",
      "[2021-12-24 19:34:44,445 INFO] Calling command: ./../data/evaluation_tests_word_embedding/ws/ws ../data/evaluation_tests_word_embedding/temp_embs.txt > ../results/experiment_W2V_several_runs_WEAT_2/Word_embedding_quality_W2V/W2V_lemmatized_iter-0_dim-300_w-5_alpha-default_epochs-40_corpus-all_person_artist_lyrics_epoch-5/ws_test.txt\n",
      "[2021-12-24 19:34:44,541 INFO] Running TOEFL test...\n",
      "[2021-12-24 19:34:44,541 INFO] Calling command: ./../data/evaluation_tests_word_embedding/tfl/toefl ../data/evaluation_tests_word_embedding/temp_embs.txt > ../results/experiment_W2V_several_runs_WEAT_2/Word_embedding_quality_W2V/W2V_lemmatized_iter-0_dim-300_w-5_alpha-default_epochs-40_corpus-all_person_artist_lyrics_epoch-5/toefl_test.txt\n",
      "[2021-12-24 19:34:44,633 INFO] Running SYN-SEM test...\n",
      "[2021-12-24 19:34:44,633 INFO] Calling command: ./../data/evaluation_tests_word_embedding/syn_sem/compute-accuracy-txt ../data/evaluation_tests_word_embedding/temp_embs.txt 0 < ../data/evaluation_tests_word_embedding/syn_sem/questions-words.txt > ../results/experiment_W2V_several_runs_WEAT_2/Word_embedding_quality_W2V/W2V_lemmatized_iter-0_dim-300_w-5_alpha-default_epochs-40_corpus-all_person_artist_lyrics_epoch-5/syn-sem_test.txt\n"
     ]
    },
    {
     "name": "stdout",
     "output_type": "stream",
     "text": [
      "Epoch #10 end\n"
     ]
    },
    {
     "name": "stderr",
     "output_type": "stream",
     "text": [
      "[2021-12-24 19:49:30,452 INFO] Start computation quality word embedding tests. Results will be saved at ../results/experiment_W2V_several_runs_WEAT_2/Word_embedding_quality_W2V/\n",
      "[2021-12-24 19:49:30,463 INFO] Number of unique words for tests: 2066\n",
      "[2021-12-24 19:49:30,463 INFO] Reading word vectors...\n",
      "[2021-12-24 19:49:30,894 INFO] Number of word vectors read: 10000...\n",
      "[2021-12-24 19:49:31,282 INFO] Number of word vectors read: 20000...\n",
      "[2021-12-24 19:49:31,666 INFO] Number of word vectors read: 30000...\n",
      "[2021-12-24 19:49:32,053 INFO] Number of word vectors read: 40000...\n",
      "[2021-12-24 19:49:32,421 INFO] Number of word vectors found: 1341\n",
      "[2021-12-24 19:49:32,421 INFO] Running: sed -i '' '1s/^/1341 300\\'$'\\n/' ../data/evaluation_tests_word_embedding/temp_embs.txt\n",
      "[2021-12-24 19:49:32,453 INFO] Running WS test...\n",
      "[2021-12-24 19:49:32,454 INFO] Calling command: ./../data/evaluation_tests_word_embedding/ws/ws ../data/evaluation_tests_word_embedding/temp_embs.txt > ../results/experiment_W2V_several_runs_WEAT_2/Word_embedding_quality_W2V/W2V_lemmatized_iter-0_dim-300_w-5_alpha-default_epochs-40_corpus-all_person_artist_lyrics_epoch-10/ws_test.txt\n",
      "[2021-12-24 19:49:32,545 INFO] Running TOEFL test...\n",
      "[2021-12-24 19:49:32,545 INFO] Calling command: ./../data/evaluation_tests_word_embedding/tfl/toefl ../data/evaluation_tests_word_embedding/temp_embs.txt > ../results/experiment_W2V_several_runs_WEAT_2/Word_embedding_quality_W2V/W2V_lemmatized_iter-0_dim-300_w-5_alpha-default_epochs-40_corpus-all_person_artist_lyrics_epoch-10/toefl_test.txt\n",
      "[2021-12-24 19:49:32,633 INFO] Running SYN-SEM test...\n",
      "[2021-12-24 19:49:32,633 INFO] Calling command: ./../data/evaluation_tests_word_embedding/syn_sem/compute-accuracy-txt ../data/evaluation_tests_word_embedding/temp_embs.txt 0 < ../data/evaluation_tests_word_embedding/syn_sem/questions-words.txt > ../results/experiment_W2V_several_runs_WEAT_2/Word_embedding_quality_W2V/W2V_lemmatized_iter-0_dim-300_w-5_alpha-default_epochs-40_corpus-all_person_artist_lyrics_epoch-10/syn-sem_test.txt\n"
     ]
    },
    {
     "name": "stdout",
     "output_type": "stream",
     "text": [
      "Epoch #15 end\n"
     ]
    },
    {
     "name": "stderr",
     "output_type": "stream",
     "text": [
      "[2021-12-24 20:04:20,884 INFO] Start computation quality word embedding tests. Results will be saved at ../results/experiment_W2V_several_runs_WEAT_2/Word_embedding_quality_W2V/\n",
      "[2021-12-24 20:04:20,887 INFO] Number of unique words for tests: 2066\n",
      "[2021-12-24 20:04:20,887 INFO] Reading word vectors...\n",
      "[2021-12-24 20:04:21,307 INFO] Number of word vectors read: 10000...\n",
      "[2021-12-24 20:04:21,695 INFO] Number of word vectors read: 20000...\n",
      "[2021-12-24 20:04:22,073 INFO] Number of word vectors read: 30000...\n",
      "[2021-12-24 20:04:22,456 INFO] Number of word vectors read: 40000...\n",
      "[2021-12-24 20:04:22,822 INFO] Number of word vectors found: 1341\n",
      "[2021-12-24 20:04:22,822 INFO] Running: sed -i '' '1s/^/1341 300\\'$'\\n/' ../data/evaluation_tests_word_embedding/temp_embs.txt\n",
      "[2021-12-24 20:04:22,860 INFO] Running WS test...\n",
      "[2021-12-24 20:04:22,866 INFO] Calling command: ./../data/evaluation_tests_word_embedding/ws/ws ../data/evaluation_tests_word_embedding/temp_embs.txt > ../results/experiment_W2V_several_runs_WEAT_2/Word_embedding_quality_W2V/W2V_lemmatized_iter-0_dim-300_w-5_alpha-default_epochs-40_corpus-all_person_artist_lyrics_epoch-15/ws_test.txt\n",
      "[2021-12-24 20:04:22,980 INFO] Running TOEFL test...\n",
      "[2021-12-24 20:04:22,981 INFO] Calling command: ./../data/evaluation_tests_word_embedding/tfl/toefl ../data/evaluation_tests_word_embedding/temp_embs.txt > ../results/experiment_W2V_several_runs_WEAT_2/Word_embedding_quality_W2V/W2V_lemmatized_iter-0_dim-300_w-5_alpha-default_epochs-40_corpus-all_person_artist_lyrics_epoch-15/toefl_test.txt\n",
      "[2021-12-24 20:04:23,079 INFO] Running SYN-SEM test...\n",
      "[2021-12-24 20:04:23,079 INFO] Calling command: ./../data/evaluation_tests_word_embedding/syn_sem/compute-accuracy-txt ../data/evaluation_tests_word_embedding/temp_embs.txt 0 < ../data/evaluation_tests_word_embedding/syn_sem/questions-words.txt > ../results/experiment_W2V_several_runs_WEAT_2/Word_embedding_quality_W2V/W2V_lemmatized_iter-0_dim-300_w-5_alpha-default_epochs-40_corpus-all_person_artist_lyrics_epoch-15/syn-sem_test.txt\n"
     ]
    },
    {
     "name": "stdout",
     "output_type": "stream",
     "text": [
      "Epoch #20 end\n"
     ]
    },
    {
     "name": "stderr",
     "output_type": "stream",
     "text": [
      "[2021-12-24 20:19:06,596 INFO] Start computation quality word embedding tests. Results will be saved at ../results/experiment_W2V_several_runs_WEAT_2/Word_embedding_quality_W2V/\n",
      "[2021-12-24 20:19:06,598 INFO] Number of unique words for tests: 2066\n",
      "[2021-12-24 20:19:06,598 INFO] Reading word vectors...\n",
      "[2021-12-24 20:19:07,027 INFO] Number of word vectors read: 10000...\n",
      "[2021-12-24 20:19:07,419 INFO] Number of word vectors read: 20000...\n",
      "[2021-12-24 20:19:07,800 INFO] Number of word vectors read: 30000...\n",
      "[2021-12-24 20:19:08,204 INFO] Number of word vectors read: 40000...\n",
      "[2021-12-24 20:19:08,580 INFO] Number of word vectors found: 1341\n",
      "[2021-12-24 20:19:08,580 INFO] Running: sed -i '' '1s/^/1341 300\\'$'\\n/' ../data/evaluation_tests_word_embedding/temp_embs.txt\n",
      "[2021-12-24 20:19:08,605 INFO] Running WS test...\n",
      "[2021-12-24 20:19:08,606 INFO] Calling command: ./../data/evaluation_tests_word_embedding/ws/ws ../data/evaluation_tests_word_embedding/temp_embs.txt > ../results/experiment_W2V_several_runs_WEAT_2/Word_embedding_quality_W2V/W2V_lemmatized_iter-0_dim-300_w-5_alpha-default_epochs-40_corpus-all_person_artist_lyrics_epoch-20/ws_test.txt\n",
      "[2021-12-24 20:19:08,694 INFO] Running TOEFL test...\n",
      "[2021-12-24 20:19:08,694 INFO] Calling command: ./../data/evaluation_tests_word_embedding/tfl/toefl ../data/evaluation_tests_word_embedding/temp_embs.txt > ../results/experiment_W2V_several_runs_WEAT_2/Word_embedding_quality_W2V/W2V_lemmatized_iter-0_dim-300_w-5_alpha-default_epochs-40_corpus-all_person_artist_lyrics_epoch-20/toefl_test.txt\n",
      "[2021-12-24 20:19:08,778 INFO] Running SYN-SEM test...\n",
      "[2021-12-24 20:19:08,778 INFO] Calling command: ./../data/evaluation_tests_word_embedding/syn_sem/compute-accuracy-txt ../data/evaluation_tests_word_embedding/temp_embs.txt 0 < ../data/evaluation_tests_word_embedding/syn_sem/questions-words.txt > ../results/experiment_W2V_several_runs_WEAT_2/Word_embedding_quality_W2V/W2V_lemmatized_iter-0_dim-300_w-5_alpha-default_epochs-40_corpus-all_person_artist_lyrics_epoch-20/syn-sem_test.txt\n"
     ]
    },
    {
     "name": "stdout",
     "output_type": "stream",
     "text": [
      "Epoch #25 end\n"
     ]
    },
    {
     "name": "stderr",
     "output_type": "stream",
     "text": [
      "[2021-12-24 20:33:53,138 INFO] Start computation quality word embedding tests. Results will be saved at ../results/experiment_W2V_several_runs_WEAT_2/Word_embedding_quality_W2V/\n",
      "[2021-12-24 20:33:53,149 INFO] Number of unique words for tests: 2066\n",
      "[2021-12-24 20:33:53,149 INFO] Reading word vectors...\n",
      "[2021-12-24 20:33:53,572 INFO] Number of word vectors read: 10000...\n",
      "[2021-12-24 20:33:53,963 INFO] Number of word vectors read: 20000...\n",
      "[2021-12-24 20:33:54,352 INFO] Number of word vectors read: 30000...\n",
      "[2021-12-24 20:33:54,741 INFO] Number of word vectors read: 40000...\n",
      "[2021-12-24 20:33:55,107 INFO] Number of word vectors found: 1341\n",
      "[2021-12-24 20:33:55,107 INFO] Running: sed -i '' '1s/^/1341 300\\'$'\\n/' ../data/evaluation_tests_word_embedding/temp_embs.txt\n",
      "[2021-12-24 20:33:55,168 INFO] Running WS test...\n",
      "[2021-12-24 20:33:55,174 INFO] Calling command: ./../data/evaluation_tests_word_embedding/ws/ws ../data/evaluation_tests_word_embedding/temp_embs.txt > ../results/experiment_W2V_several_runs_WEAT_2/Word_embedding_quality_W2V/W2V_lemmatized_iter-0_dim-300_w-5_alpha-default_epochs-40_corpus-all_person_artist_lyrics_epoch-25/ws_test.txt\n",
      "[2021-12-24 20:33:55,294 INFO] Running TOEFL test...\n",
      "[2021-12-24 20:33:55,295 INFO] Calling command: ./../data/evaluation_tests_word_embedding/tfl/toefl ../data/evaluation_tests_word_embedding/temp_embs.txt > ../results/experiment_W2V_several_runs_WEAT_2/Word_embedding_quality_W2V/W2V_lemmatized_iter-0_dim-300_w-5_alpha-default_epochs-40_corpus-all_person_artist_lyrics_epoch-25/toefl_test.txt\n",
      "[2021-12-24 20:33:55,387 INFO] Running SYN-SEM test...\n",
      "[2021-12-24 20:33:55,387 INFO] Calling command: ./../data/evaluation_tests_word_embedding/syn_sem/compute-accuracy-txt ../data/evaluation_tests_word_embedding/temp_embs.txt 0 < ../data/evaluation_tests_word_embedding/syn_sem/questions-words.txt > ../results/experiment_W2V_several_runs_WEAT_2/Word_embedding_quality_W2V/W2V_lemmatized_iter-0_dim-300_w-5_alpha-default_epochs-40_corpus-all_person_artist_lyrics_epoch-25/syn-sem_test.txt\n"
     ]
    },
    {
     "name": "stdout",
     "output_type": "stream",
     "text": [
      "Epoch #30 end\n"
     ]
    },
    {
     "name": "stderr",
     "output_type": "stream",
     "text": [
      "[2021-12-24 20:48:40,478 INFO] Start computation quality word embedding tests. Results will be saved at ../results/experiment_W2V_several_runs_WEAT_2/Word_embedding_quality_W2V/\n",
      "[2021-12-24 20:48:40,482 INFO] Number of unique words for tests: 2066\n",
      "[2021-12-24 20:48:40,482 INFO] Reading word vectors...\n",
      "[2021-12-24 20:48:40,891 INFO] Number of word vectors read: 10000...\n",
      "[2021-12-24 20:48:41,284 INFO] Number of word vectors read: 20000...\n",
      "[2021-12-24 20:48:41,661 INFO] Number of word vectors read: 30000...\n",
      "[2021-12-24 20:48:42,043 INFO] Number of word vectors read: 40000...\n",
      "[2021-12-24 20:48:42,412 INFO] Number of word vectors found: 1341\n",
      "[2021-12-24 20:48:42,412 INFO] Running: sed -i '' '1s/^/1341 300\\'$'\\n/' ../data/evaluation_tests_word_embedding/temp_embs.txt\n",
      "[2021-12-24 20:48:42,447 INFO] Running WS test...\n",
      "[2021-12-24 20:48:42,448 INFO] Calling command: ./../data/evaluation_tests_word_embedding/ws/ws ../data/evaluation_tests_word_embedding/temp_embs.txt > ../results/experiment_W2V_several_runs_WEAT_2/Word_embedding_quality_W2V/W2V_lemmatized_iter-0_dim-300_w-5_alpha-default_epochs-40_corpus-all_person_artist_lyrics_epoch-30/ws_test.txt\n",
      "[2021-12-24 20:48:42,550 INFO] Running TOEFL test...\n",
      "[2021-12-24 20:48:42,551 INFO] Calling command: ./../data/evaluation_tests_word_embedding/tfl/toefl ../data/evaluation_tests_word_embedding/temp_embs.txt > ../results/experiment_W2V_several_runs_WEAT_2/Word_embedding_quality_W2V/W2V_lemmatized_iter-0_dim-300_w-5_alpha-default_epochs-40_corpus-all_person_artist_lyrics_epoch-30/toefl_test.txt\n",
      "[2021-12-24 20:48:42,652 INFO] Running SYN-SEM test...\n",
      "[2021-12-24 20:48:42,652 INFO] Calling command: ./../data/evaluation_tests_word_embedding/syn_sem/compute-accuracy-txt ../data/evaluation_tests_word_embedding/temp_embs.txt 0 < ../data/evaluation_tests_word_embedding/syn_sem/questions-words.txt > ../results/experiment_W2V_several_runs_WEAT_2/Word_embedding_quality_W2V/W2V_lemmatized_iter-0_dim-300_w-5_alpha-default_epochs-40_corpus-all_person_artist_lyrics_epoch-30/syn-sem_test.txt\n"
     ]
    },
    {
     "name": "stdout",
     "output_type": "stream",
     "text": [
      "Epoch #35 end\n"
     ]
    },
    {
     "name": "stderr",
     "output_type": "stream",
     "text": [
      "[2021-12-24 21:03:27,334 INFO] Start computation quality word embedding tests. Results will be saved at ../results/experiment_W2V_several_runs_WEAT_2/Word_embedding_quality_W2V/\n",
      "[2021-12-24 21:03:27,343 INFO] Number of unique words for tests: 2066\n",
      "[2021-12-24 21:03:27,343 INFO] Reading word vectors...\n",
      "[2021-12-24 21:03:27,794 INFO] Number of word vectors read: 10000...\n",
      "[2021-12-24 21:03:28,188 INFO] Number of word vectors read: 20000...\n",
      "[2021-12-24 21:03:28,582 INFO] Number of word vectors read: 30000...\n",
      "[2021-12-24 21:03:28,981 INFO] Number of word vectors read: 40000...\n",
      "[2021-12-24 21:03:29,348 INFO] Number of word vectors found: 1341\n",
      "[2021-12-24 21:03:29,349 INFO] Running: sed -i '' '1s/^/1341 300\\'$'\\n/' ../data/evaluation_tests_word_embedding/temp_embs.txt\n",
      "[2021-12-24 21:03:29,381 INFO] Running WS test...\n",
      "[2021-12-24 21:03:29,383 INFO] Calling command: ./../data/evaluation_tests_word_embedding/ws/ws ../data/evaluation_tests_word_embedding/temp_embs.txt > ../results/experiment_W2V_several_runs_WEAT_2/Word_embedding_quality_W2V/W2V_lemmatized_iter-0_dim-300_w-5_alpha-default_epochs-40_corpus-all_person_artist_lyrics_epoch-35/ws_test.txt\n",
      "[2021-12-24 21:03:29,495 INFO] Running TOEFL test...\n",
      "[2021-12-24 21:03:29,495 INFO] Calling command: ./../data/evaluation_tests_word_embedding/tfl/toefl ../data/evaluation_tests_word_embedding/temp_embs.txt > ../results/experiment_W2V_several_runs_WEAT_2/Word_embedding_quality_W2V/W2V_lemmatized_iter-0_dim-300_w-5_alpha-default_epochs-40_corpus-all_person_artist_lyrics_epoch-35/toefl_test.txt\n",
      "[2021-12-24 21:03:29,593 INFO] Running SYN-SEM test...\n",
      "[2021-12-24 21:03:29,593 INFO] Calling command: ./../data/evaluation_tests_word_embedding/syn_sem/compute-accuracy-txt ../data/evaluation_tests_word_embedding/temp_embs.txt 0 < ../data/evaluation_tests_word_embedding/syn_sem/questions-words.txt > ../results/experiment_W2V_several_runs_WEAT_2/Word_embedding_quality_W2V/W2V_lemmatized_iter-0_dim-300_w-5_alpha-default_epochs-40_corpus-all_person_artist_lyrics_epoch-35/syn-sem_test.txt\n",
      "[2021-12-24 21:15:16,531 INFO] Start computation quality word embedding tests. Results will be saved at ../results/experiment_W2V_several_runs_WEAT_2/Word_embedding_quality_W2V/\n",
      "[2021-12-24 21:15:16,536 INFO] Number of unique words for tests: 2066\n",
      "[2021-12-24 21:15:16,536 INFO] Reading word vectors...\n",
      "[2021-12-24 21:15:16,961 INFO] Number of word vectors read: 10000...\n",
      "[2021-12-24 21:15:17,376 INFO] Number of word vectors read: 20000...\n",
      "[2021-12-24 21:15:17,793 INFO] Number of word vectors read: 30000...\n",
      "[2021-12-24 21:15:18,178 INFO] Number of word vectors read: 40000...\n",
      "[2021-12-24 21:15:18,545 INFO] Number of word vectors found: 1341\n",
      "[2021-12-24 21:15:18,545 INFO] Running: sed -i '' '1s/^/1341 300\\'$'\\n/' ../data/evaluation_tests_word_embedding/temp_embs.txt\n",
      "[2021-12-24 21:15:18,567 INFO] Running WS test...\n",
      "[2021-12-24 21:15:18,567 INFO] Calling command: ./../data/evaluation_tests_word_embedding/ws/ws ../data/evaluation_tests_word_embedding/temp_embs.txt > ../results/experiment_W2V_several_runs_WEAT_2/Word_embedding_quality_W2V/W2V_lemmatized_iter-0_dim-300_w-5_alpha-default_epochs-40_corpus-all_person_artist_lyrics_epoch-39/ws_test.txt\n",
      "[2021-12-24 21:15:18,658 INFO] Running TOEFL test...\n",
      "[2021-12-24 21:15:18,658 INFO] Calling command: ./../data/evaluation_tests_word_embedding/tfl/toefl ../data/evaluation_tests_word_embedding/temp_embs.txt > ../results/experiment_W2V_several_runs_WEAT_2/Word_embedding_quality_W2V/W2V_lemmatized_iter-0_dim-300_w-5_alpha-default_epochs-40_corpus-all_person_artist_lyrics_epoch-39/toefl_test.txt\n",
      "[2021-12-24 21:15:18,744 INFO] Running SYN-SEM test...\n",
      "[2021-12-24 21:15:18,745 INFO] Calling command: ./../data/evaluation_tests_word_embedding/syn_sem/compute-accuracy-txt ../data/evaluation_tests_word_embedding/temp_embs.txt 0 < ../data/evaluation_tests_word_embedding/syn_sem/questions-words.txt > ../results/experiment_W2V_several_runs_WEAT_2/Word_embedding_quality_W2V/W2V_lemmatized_iter-0_dim-300_w-5_alpha-default_epochs-40_corpus-all_person_artist_lyrics_epoch-39/syn-sem_test.txt\n"
     ]
    },
    {
     "name": "stdout",
     "output_type": "stream",
     "text": [
      "End training of W2V_lemmatized_iter-0_dim-300_w-5_alpha-default_epochs-40_corpus-all_person_artist_lyrics\n",
      "\n",
      "Start training corpus:  female_person_artist_lyrics\n",
      "Embedding name:  W2V_lemmatized_iter-1_dim-300_w-5_alpha-default_epochs-40_corpus-female_person_artist_lyrics\n",
      "Vocab done...\n",
      "Corpus count:  70880\n",
      "Corpus total words:  15949187\n",
      "Epoch #0 end\n"
     ]
    },
    {
     "name": "stderr",
     "output_type": "stream",
     "text": [
      "[2021-12-24 21:16:27,988 INFO] Start computation quality word embedding tests. Results will be saved at ../results/experiment_W2V_several_runs_WEAT_2/Word_embedding_quality_W2V/\n",
      "[2021-12-24 21:16:27,991 INFO] Number of unique words for tests: 2066\n",
      "[2021-12-24 21:16:27,992 INFO] Reading word vectors...\n",
      "[2021-12-24 21:16:28,396 INFO] Number of word vectors read: 10000...\n",
      "[2021-12-24 21:16:28,793 INFO] Number of word vectors read: 20000...\n",
      "[2021-12-24 21:16:28,897 INFO] Number of word vectors found: 1099\n",
      "[2021-12-24 21:16:28,897 INFO] Running: sed -i '' '1s/^/1099 300\\'$'\\n/' ../data/evaluation_tests_word_embedding/temp_embs.txt\n",
      "[2021-12-24 21:16:28,918 INFO] Running WS test...\n",
      "[2021-12-24 21:16:28,919 INFO] Calling command: ./../data/evaluation_tests_word_embedding/ws/ws ../data/evaluation_tests_word_embedding/temp_embs.txt > ../results/experiment_W2V_several_runs_WEAT_2/Word_embedding_quality_W2V/W2V_lemmatized_iter-1_dim-300_w-5_alpha-default_epochs-40_corpus-female_person_artist_lyrics_epoch-0/ws_test.txt\n",
      "[2021-12-24 21:16:29,000 INFO] Running TOEFL test...\n",
      "[2021-12-24 21:16:29,000 INFO] Calling command: ./../data/evaluation_tests_word_embedding/tfl/toefl ../data/evaluation_tests_word_embedding/temp_embs.txt > ../results/experiment_W2V_several_runs_WEAT_2/Word_embedding_quality_W2V/W2V_lemmatized_iter-1_dim-300_w-5_alpha-default_epochs-40_corpus-female_person_artist_lyrics_epoch-0/toefl_test.txt\n",
      "[2021-12-24 21:16:29,071 INFO] Running SYN-SEM test...\n",
      "[2021-12-24 21:16:29,072 INFO] Calling command: ./../data/evaluation_tests_word_embedding/syn_sem/compute-accuracy-txt ../data/evaluation_tests_word_embedding/temp_embs.txt 0 < ../data/evaluation_tests_word_embedding/syn_sem/questions-words.txt > ../results/experiment_W2V_several_runs_WEAT_2/Word_embedding_quality_W2V/W2V_lemmatized_iter-1_dim-300_w-5_alpha-default_epochs-40_corpus-female_person_artist_lyrics_epoch-0/syn-sem_test.txt\n"
     ]
    },
    {
     "name": "stdout",
     "output_type": "stream",
     "text": [
      "Epoch #5 end\n"
     ]
    },
    {
     "name": "stderr",
     "output_type": "stream",
     "text": [
      "[2021-12-24 21:20:00,474 INFO] Start computation quality word embedding tests. Results will be saved at ../results/experiment_W2V_several_runs_WEAT_2/Word_embedding_quality_W2V/\n",
      "[2021-12-24 21:20:00,475 INFO] Number of unique words for tests: 2066\n",
      "[2021-12-24 21:20:00,475 INFO] Reading word vectors...\n",
      "[2021-12-24 21:20:00,852 INFO] Number of word vectors read: 10000...\n",
      "[2021-12-24 21:20:01,242 INFO] Number of word vectors read: 20000...\n",
      "[2021-12-24 21:20:01,346 INFO] Number of word vectors found: 1099\n",
      "[2021-12-24 21:20:01,346 INFO] Running: sed -i '' '1s/^/1099 300\\'$'\\n/' ../data/evaluation_tests_word_embedding/temp_embs.txt\n",
      "[2021-12-24 21:20:01,370 INFO] Running WS test...\n",
      "[2021-12-24 21:20:01,370 INFO] Calling command: ./../data/evaluation_tests_word_embedding/ws/ws ../data/evaluation_tests_word_embedding/temp_embs.txt > ../results/experiment_W2V_several_runs_WEAT_2/Word_embedding_quality_W2V/W2V_lemmatized_iter-1_dim-300_w-5_alpha-default_epochs-40_corpus-female_person_artist_lyrics_epoch-5/ws_test.txt\n",
      "[2021-12-24 21:20:01,442 INFO] Running TOEFL test...\n",
      "[2021-12-24 21:20:01,442 INFO] Calling command: ./../data/evaluation_tests_word_embedding/tfl/toefl ../data/evaluation_tests_word_embedding/temp_embs.txt > ../results/experiment_W2V_several_runs_WEAT_2/Word_embedding_quality_W2V/W2V_lemmatized_iter-1_dim-300_w-5_alpha-default_epochs-40_corpus-female_person_artist_lyrics_epoch-5/toefl_test.txt\n",
      "[2021-12-24 21:20:01,510 INFO] Running SYN-SEM test...\n",
      "[2021-12-24 21:20:01,510 INFO] Calling command: ./../data/evaluation_tests_word_embedding/syn_sem/compute-accuracy-txt ../data/evaluation_tests_word_embedding/temp_embs.txt 0 < ../data/evaluation_tests_word_embedding/syn_sem/questions-words.txt > ../results/experiment_W2V_several_runs_WEAT_2/Word_embedding_quality_W2V/W2V_lemmatized_iter-1_dim-300_w-5_alpha-default_epochs-40_corpus-female_person_artist_lyrics_epoch-5/syn-sem_test.txt\n"
     ]
    },
    {
     "name": "stdout",
     "output_type": "stream",
     "text": [
      "Epoch #10 end\n"
     ]
    },
    {
     "name": "stderr",
     "output_type": "stream",
     "text": [
      "[2021-12-24 21:23:34,328 INFO] Start computation quality word embedding tests. Results will be saved at ../results/experiment_W2V_several_runs_WEAT_2/Word_embedding_quality_W2V/\n",
      "[2021-12-24 21:23:34,329 INFO] Number of unique words for tests: 2066\n",
      "[2021-12-24 21:23:34,329 INFO] Reading word vectors...\n",
      "[2021-12-24 21:23:34,721 INFO] Number of word vectors read: 10000...\n",
      "[2021-12-24 21:23:35,102 INFO] Number of word vectors read: 20000...\n",
      "[2021-12-24 21:23:35,204 INFO] Number of word vectors found: 1099\n",
      "[2021-12-24 21:23:35,205 INFO] Running: sed -i '' '1s/^/1099 300\\'$'\\n/' ../data/evaluation_tests_word_embedding/temp_embs.txt\n",
      "[2021-12-24 21:23:35,223 INFO] Running WS test...\n",
      "[2021-12-24 21:23:35,223 INFO] Calling command: ./../data/evaluation_tests_word_embedding/ws/ws ../data/evaluation_tests_word_embedding/temp_embs.txt > ../results/experiment_W2V_several_runs_WEAT_2/Word_embedding_quality_W2V/W2V_lemmatized_iter-1_dim-300_w-5_alpha-default_epochs-40_corpus-female_person_artist_lyrics_epoch-10/ws_test.txt\n",
      "[2021-12-24 21:23:35,297 INFO] Running TOEFL test...\n",
      "[2021-12-24 21:23:35,298 INFO] Calling command: ./../data/evaluation_tests_word_embedding/tfl/toefl ../data/evaluation_tests_word_embedding/temp_embs.txt > ../results/experiment_W2V_several_runs_WEAT_2/Word_embedding_quality_W2V/W2V_lemmatized_iter-1_dim-300_w-5_alpha-default_epochs-40_corpus-female_person_artist_lyrics_epoch-10/toefl_test.txt\n",
      "[2021-12-24 21:23:35,367 INFO] Running SYN-SEM test...\n",
      "[2021-12-24 21:23:35,367 INFO] Calling command: ./../data/evaluation_tests_word_embedding/syn_sem/compute-accuracy-txt ../data/evaluation_tests_word_embedding/temp_embs.txt 0 < ../data/evaluation_tests_word_embedding/syn_sem/questions-words.txt > ../results/experiment_W2V_several_runs_WEAT_2/Word_embedding_quality_W2V/W2V_lemmatized_iter-1_dim-300_w-5_alpha-default_epochs-40_corpus-female_person_artist_lyrics_epoch-10/syn-sem_test.txt\n"
     ]
    },
    {
     "name": "stdout",
     "output_type": "stream",
     "text": [
      "Epoch #15 end\n"
     ]
    },
    {
     "name": "stderr",
     "output_type": "stream",
     "text": [
      "[2021-12-24 21:27:09,405 INFO] Start computation quality word embedding tests. Results will be saved at ../results/experiment_W2V_several_runs_WEAT_2/Word_embedding_quality_W2V/\n",
      "[2021-12-24 21:27:09,414 INFO] Number of unique words for tests: 2066\n",
      "[2021-12-24 21:27:09,415 INFO] Reading word vectors...\n",
      "[2021-12-24 21:27:09,825 INFO] Number of word vectors read: 10000...\n",
      "[2021-12-24 21:27:10,215 INFO] Number of word vectors read: 20000...\n",
      "[2021-12-24 21:27:10,321 INFO] Number of word vectors found: 1099\n",
      "[2021-12-24 21:27:10,321 INFO] Running: sed -i '' '1s/^/1099 300\\'$'\\n/' ../data/evaluation_tests_word_embedding/temp_embs.txt\n",
      "[2021-12-24 21:27:10,346 INFO] Running WS test...\n",
      "[2021-12-24 21:27:10,347 INFO] Calling command: ./../data/evaluation_tests_word_embedding/ws/ws ../data/evaluation_tests_word_embedding/temp_embs.txt > ../results/experiment_W2V_several_runs_WEAT_2/Word_embedding_quality_W2V/W2V_lemmatized_iter-1_dim-300_w-5_alpha-default_epochs-40_corpus-female_person_artist_lyrics_epoch-15/ws_test.txt\n",
      "[2021-12-24 21:27:10,427 INFO] Running TOEFL test...\n",
      "[2021-12-24 21:27:10,428 INFO] Calling command: ./../data/evaluation_tests_word_embedding/tfl/toefl ../data/evaluation_tests_word_embedding/temp_embs.txt > ../results/experiment_W2V_several_runs_WEAT_2/Word_embedding_quality_W2V/W2V_lemmatized_iter-1_dim-300_w-5_alpha-default_epochs-40_corpus-female_person_artist_lyrics_epoch-15/toefl_test.txt\n",
      "[2021-12-24 21:27:10,497 INFO] Running SYN-SEM test...\n",
      "[2021-12-24 21:27:10,497 INFO] Calling command: ./../data/evaluation_tests_word_embedding/syn_sem/compute-accuracy-txt ../data/evaluation_tests_word_embedding/temp_embs.txt 0 < ../data/evaluation_tests_word_embedding/syn_sem/questions-words.txt > ../results/experiment_W2V_several_runs_WEAT_2/Word_embedding_quality_W2V/W2V_lemmatized_iter-1_dim-300_w-5_alpha-default_epochs-40_corpus-female_person_artist_lyrics_epoch-15/syn-sem_test.txt\n"
     ]
    },
    {
     "name": "stdout",
     "output_type": "stream",
     "text": [
      "Epoch #20 end\n"
     ]
    },
    {
     "name": "stderr",
     "output_type": "stream",
     "text": [
      "[2021-12-24 21:30:42,802 INFO] Start computation quality word embedding tests. Results will be saved at ../results/experiment_W2V_several_runs_WEAT_2/Word_embedding_quality_W2V/\n",
      "[2021-12-24 21:30:42,812 INFO] Number of unique words for tests: 2066\n",
      "[2021-12-24 21:30:42,812 INFO] Reading word vectors...\n",
      "[2021-12-24 21:30:43,231 INFO] Number of word vectors read: 10000...\n",
      "[2021-12-24 21:30:43,606 INFO] Number of word vectors read: 20000...\n",
      "[2021-12-24 21:30:43,707 INFO] Number of word vectors found: 1099\n",
      "[2021-12-24 21:30:43,707 INFO] Running: sed -i '' '1s/^/1099 300\\'$'\\n/' ../data/evaluation_tests_word_embedding/temp_embs.txt\n",
      "[2021-12-24 21:30:43,730 INFO] Running WS test...\n",
      "[2021-12-24 21:30:43,731 INFO] Calling command: ./../data/evaluation_tests_word_embedding/ws/ws ../data/evaluation_tests_word_embedding/temp_embs.txt > ../results/experiment_W2V_several_runs_WEAT_2/Word_embedding_quality_W2V/W2V_lemmatized_iter-1_dim-300_w-5_alpha-default_epochs-40_corpus-female_person_artist_lyrics_epoch-20/ws_test.txt\n",
      "[2021-12-24 21:30:43,812 INFO] Running TOEFL test...\n",
      "[2021-12-24 21:30:43,812 INFO] Calling command: ./../data/evaluation_tests_word_embedding/tfl/toefl ../data/evaluation_tests_word_embedding/temp_embs.txt > ../results/experiment_W2V_several_runs_WEAT_2/Word_embedding_quality_W2V/W2V_lemmatized_iter-1_dim-300_w-5_alpha-default_epochs-40_corpus-female_person_artist_lyrics_epoch-20/toefl_test.txt\n",
      "[2021-12-24 21:30:43,886 INFO] Running SYN-SEM test...\n",
      "[2021-12-24 21:30:43,886 INFO] Calling command: ./../data/evaluation_tests_word_embedding/syn_sem/compute-accuracy-txt ../data/evaluation_tests_word_embedding/temp_embs.txt 0 < ../data/evaluation_tests_word_embedding/syn_sem/questions-words.txt > ../results/experiment_W2V_several_runs_WEAT_2/Word_embedding_quality_W2V/W2V_lemmatized_iter-1_dim-300_w-5_alpha-default_epochs-40_corpus-female_person_artist_lyrics_epoch-20/syn-sem_test.txt\n"
     ]
    },
    {
     "name": "stdout",
     "output_type": "stream",
     "text": [
      "Epoch #25 end\n"
     ]
    },
    {
     "name": "stderr",
     "output_type": "stream",
     "text": [
      "[2021-12-24 21:34:15,385 INFO] Start computation quality word embedding tests. Results will be saved at ../results/experiment_W2V_several_runs_WEAT_2/Word_embedding_quality_W2V/\n",
      "[2021-12-24 21:34:15,390 INFO] Number of unique words for tests: 2066\n",
      "[2021-12-24 21:34:15,391 INFO] Reading word vectors...\n",
      "[2021-12-24 21:34:15,788 INFO] Number of word vectors read: 10000...\n",
      "[2021-12-24 21:34:16,185 INFO] Number of word vectors read: 20000...\n",
      "[2021-12-24 21:34:16,295 INFO] Number of word vectors found: 1099\n",
      "[2021-12-24 21:34:16,296 INFO] Running: sed -i '' '1s/^/1099 300\\'$'\\n/' ../data/evaluation_tests_word_embedding/temp_embs.txt\n",
      "[2021-12-24 21:34:16,318 INFO] Running WS test...\n",
      "[2021-12-24 21:34:16,319 INFO] Calling command: ./../data/evaluation_tests_word_embedding/ws/ws ../data/evaluation_tests_word_embedding/temp_embs.txt > ../results/experiment_W2V_several_runs_WEAT_2/Word_embedding_quality_W2V/W2V_lemmatized_iter-1_dim-300_w-5_alpha-default_epochs-40_corpus-female_person_artist_lyrics_epoch-25/ws_test.txt\n",
      "[2021-12-24 21:34:16,400 INFO] Running TOEFL test...\n",
      "[2021-12-24 21:34:16,400 INFO] Calling command: ./../data/evaluation_tests_word_embedding/tfl/toefl ../data/evaluation_tests_word_embedding/temp_embs.txt > ../results/experiment_W2V_several_runs_WEAT_2/Word_embedding_quality_W2V/W2V_lemmatized_iter-1_dim-300_w-5_alpha-default_epochs-40_corpus-female_person_artist_lyrics_epoch-25/toefl_test.txt\n",
      "[2021-12-24 21:34:16,472 INFO] Running SYN-SEM test...\n",
      "[2021-12-24 21:34:16,472 INFO] Calling command: ./../data/evaluation_tests_word_embedding/syn_sem/compute-accuracy-txt ../data/evaluation_tests_word_embedding/temp_embs.txt 0 < ../data/evaluation_tests_word_embedding/syn_sem/questions-words.txt > ../results/experiment_W2V_several_runs_WEAT_2/Word_embedding_quality_W2V/W2V_lemmatized_iter-1_dim-300_w-5_alpha-default_epochs-40_corpus-female_person_artist_lyrics_epoch-25/syn-sem_test.txt\n"
     ]
    },
    {
     "name": "stdout",
     "output_type": "stream",
     "text": [
      "Epoch #30 end\n"
     ]
    },
    {
     "name": "stderr",
     "output_type": "stream",
     "text": [
      "[2021-12-24 21:37:49,475 INFO] Start computation quality word embedding tests. Results will be saved at ../results/experiment_W2V_several_runs_WEAT_2/Word_embedding_quality_W2V/\n",
      "[2021-12-24 21:37:49,479 INFO] Number of unique words for tests: 2066\n",
      "[2021-12-24 21:37:49,479 INFO] Reading word vectors...\n",
      "[2021-12-24 21:37:49,881 INFO] Number of word vectors read: 10000...\n",
      "[2021-12-24 21:37:50,255 INFO] Number of word vectors read: 20000...\n",
      "[2021-12-24 21:37:50,368 INFO] Number of word vectors found: 1099\n",
      "[2021-12-24 21:37:50,368 INFO] Running: sed -i '' '1s/^/1099 300\\'$'\\n/' ../data/evaluation_tests_word_embedding/temp_embs.txt\n",
      "[2021-12-24 21:37:50,387 INFO] Running WS test...\n",
      "[2021-12-24 21:37:50,387 INFO] Calling command: ./../data/evaluation_tests_word_embedding/ws/ws ../data/evaluation_tests_word_embedding/temp_embs.txt > ../results/experiment_W2V_several_runs_WEAT_2/Word_embedding_quality_W2V/W2V_lemmatized_iter-1_dim-300_w-5_alpha-default_epochs-40_corpus-female_person_artist_lyrics_epoch-30/ws_test.txt\n",
      "[2021-12-24 21:37:50,463 INFO] Running TOEFL test...\n",
      "[2021-12-24 21:37:50,463 INFO] Calling command: ./../data/evaluation_tests_word_embedding/tfl/toefl ../data/evaluation_tests_word_embedding/temp_embs.txt > ../results/experiment_W2V_several_runs_WEAT_2/Word_embedding_quality_W2V/W2V_lemmatized_iter-1_dim-300_w-5_alpha-default_epochs-40_corpus-female_person_artist_lyrics_epoch-30/toefl_test.txt\n",
      "[2021-12-24 21:37:50,530 INFO] Running SYN-SEM test...\n",
      "[2021-12-24 21:37:50,531 INFO] Calling command: ./../data/evaluation_tests_word_embedding/syn_sem/compute-accuracy-txt ../data/evaluation_tests_word_embedding/temp_embs.txt 0 < ../data/evaluation_tests_word_embedding/syn_sem/questions-words.txt > ../results/experiment_W2V_several_runs_WEAT_2/Word_embedding_quality_W2V/W2V_lemmatized_iter-1_dim-300_w-5_alpha-default_epochs-40_corpus-female_person_artist_lyrics_epoch-30/syn-sem_test.txt\n"
     ]
    },
    {
     "name": "stdout",
     "output_type": "stream",
     "text": [
      "Epoch #35 end\n"
     ]
    },
    {
     "name": "stderr",
     "output_type": "stream",
     "text": [
      "[2021-12-24 21:41:22,470 INFO] Start computation quality word embedding tests. Results will be saved at ../results/experiment_W2V_several_runs_WEAT_2/Word_embedding_quality_W2V/\n",
      "[2021-12-24 21:41:22,472 INFO] Number of unique words for tests: 2066\n",
      "[2021-12-24 21:41:22,472 INFO] Reading word vectors...\n",
      "[2021-12-24 21:41:22,851 INFO] Number of word vectors read: 10000...\n",
      "[2021-12-24 21:41:23,236 INFO] Number of word vectors read: 20000...\n",
      "[2021-12-24 21:41:23,338 INFO] Number of word vectors found: 1099\n",
      "[2021-12-24 21:41:23,338 INFO] Running: sed -i '' '1s/^/1099 300\\'$'\\n/' ../data/evaluation_tests_word_embedding/temp_embs.txt\n",
      "[2021-12-24 21:41:23,357 INFO] Running WS test...\n",
      "[2021-12-24 21:41:23,357 INFO] Calling command: ./../data/evaluation_tests_word_embedding/ws/ws ../data/evaluation_tests_word_embedding/temp_embs.txt > ../results/experiment_W2V_several_runs_WEAT_2/Word_embedding_quality_W2V/W2V_lemmatized_iter-1_dim-300_w-5_alpha-default_epochs-40_corpus-female_person_artist_lyrics_epoch-35/ws_test.txt\n",
      "[2021-12-24 21:41:23,428 INFO] Running TOEFL test...\n",
      "[2021-12-24 21:41:23,428 INFO] Calling command: ./../data/evaluation_tests_word_embedding/tfl/toefl ../data/evaluation_tests_word_embedding/temp_embs.txt > ../results/experiment_W2V_several_runs_WEAT_2/Word_embedding_quality_W2V/W2V_lemmatized_iter-1_dim-300_w-5_alpha-default_epochs-40_corpus-female_person_artist_lyrics_epoch-35/toefl_test.txt\n",
      "[2021-12-24 21:41:23,495 INFO] Running SYN-SEM test...\n",
      "[2021-12-24 21:41:23,495 INFO] Calling command: ./../data/evaluation_tests_word_embedding/syn_sem/compute-accuracy-txt ../data/evaluation_tests_word_embedding/temp_embs.txt 0 < ../data/evaluation_tests_word_embedding/syn_sem/questions-words.txt > ../results/experiment_W2V_several_runs_WEAT_2/Word_embedding_quality_W2V/W2V_lemmatized_iter-1_dim-300_w-5_alpha-default_epochs-40_corpus-female_person_artist_lyrics_epoch-35/syn-sem_test.txt\n",
      "[2021-12-24 21:44:14,145 INFO] Start computation quality word embedding tests. Results will be saved at ../results/experiment_W2V_several_runs_WEAT_2/Word_embedding_quality_W2V/\n",
      "[2021-12-24 21:44:14,147 INFO] Number of unique words for tests: 2066\n",
      "[2021-12-24 21:44:14,147 INFO] Reading word vectors...\n",
      "[2021-12-24 21:44:14,556 INFO] Number of word vectors read: 10000...\n",
      "[2021-12-24 21:44:14,943 INFO] Number of word vectors read: 20000...\n",
      "[2021-12-24 21:44:15,044 INFO] Number of word vectors found: 1099\n",
      "[2021-12-24 21:44:15,044 INFO] Running: sed -i '' '1s/^/1099 300\\'$'\\n/' ../data/evaluation_tests_word_embedding/temp_embs.txt\n",
      "[2021-12-24 21:44:15,065 INFO] Running WS test...\n",
      "[2021-12-24 21:44:15,065 INFO] Calling command: ./../data/evaluation_tests_word_embedding/ws/ws ../data/evaluation_tests_word_embedding/temp_embs.txt > ../results/experiment_W2V_several_runs_WEAT_2/Word_embedding_quality_W2V/W2V_lemmatized_iter-1_dim-300_w-5_alpha-default_epochs-40_corpus-female_person_artist_lyrics_epoch-39/ws_test.txt\n",
      "[2021-12-24 21:44:15,140 INFO] Running TOEFL test...\n",
      "[2021-12-24 21:44:15,141 INFO] Calling command: ./../data/evaluation_tests_word_embedding/tfl/toefl ../data/evaluation_tests_word_embedding/temp_embs.txt > ../results/experiment_W2V_several_runs_WEAT_2/Word_embedding_quality_W2V/W2V_lemmatized_iter-1_dim-300_w-5_alpha-default_epochs-40_corpus-female_person_artist_lyrics_epoch-39/toefl_test.txt\n",
      "[2021-12-24 21:44:15,209 INFO] Running SYN-SEM test...\n",
      "[2021-12-24 21:44:15,210 INFO] Calling command: ./../data/evaluation_tests_word_embedding/syn_sem/compute-accuracy-txt ../data/evaluation_tests_word_embedding/temp_embs.txt 0 < ../data/evaluation_tests_word_embedding/syn_sem/questions-words.txt > ../results/experiment_W2V_several_runs_WEAT_2/Word_embedding_quality_W2V/W2V_lemmatized_iter-1_dim-300_w-5_alpha-default_epochs-40_corpus-female_person_artist_lyrics_epoch-39/syn-sem_test.txt\n"
     ]
    },
    {
     "name": "stdout",
     "output_type": "stream",
     "text": [
      "End training of W2V_lemmatized_iter-1_dim-300_w-5_alpha-default_epochs-40_corpus-female_person_artist_lyrics\n",
      "\n",
      "Start training corpus:  male_person_artist_lyrics\n",
      "Embedding name:  W2V_lemmatized_iter-1_dim-300_w-5_alpha-default_epochs-40_corpus-male_person_artist_lyrics\n",
      "Vocab done...\n",
      "Corpus count:  166966\n",
      "Corpus total words:  44363120\n",
      "Epoch #0 end\n"
     ]
    },
    {
     "name": "stderr",
     "output_type": "stream",
     "text": [
      "[2021-12-24 21:46:51,864 INFO] Start computation quality word embedding tests. Results will be saved at ../results/experiment_W2V_several_runs_WEAT_2/Word_embedding_quality_W2V/\n",
      "[2021-12-24 21:46:51,874 INFO] Number of unique words for tests: 2066\n",
      "[2021-12-24 21:46:51,874 INFO] Reading word vectors...\n",
      "[2021-12-24 21:46:52,310 INFO] Number of word vectors read: 10000...\n",
      "[2021-12-24 21:46:52,707 INFO] Number of word vectors read: 20000...\n",
      "[2021-12-24 21:46:53,102 INFO] Number of word vectors read: 30000...\n",
      "[2021-12-24 21:46:53,487 INFO] Number of word vectors read: 40000...\n",
      "[2021-12-24 21:46:53,732 INFO] Number of word vectors found: 1319\n",
      "[2021-12-24 21:46:53,732 INFO] Running: sed -i '' '1s/^/1319 300\\'$'\\n/' ../data/evaluation_tests_word_embedding/temp_embs.txt\n",
      "[2021-12-24 21:46:53,759 INFO] Running WS test...\n",
      "[2021-12-24 21:46:53,760 INFO] Calling command: ./../data/evaluation_tests_word_embedding/ws/ws ../data/evaluation_tests_word_embedding/temp_embs.txt > ../results/experiment_W2V_several_runs_WEAT_2/Word_embedding_quality_W2V/W2V_lemmatized_iter-1_dim-300_w-5_alpha-default_epochs-40_corpus-male_person_artist_lyrics_epoch-0/ws_test.txt\n",
      "[2021-12-24 21:46:53,857 INFO] Running TOEFL test...\n",
      "[2021-12-24 21:46:53,857 INFO] Calling command: ./../data/evaluation_tests_word_embedding/tfl/toefl ../data/evaluation_tests_word_embedding/temp_embs.txt > ../results/experiment_W2V_several_runs_WEAT_2/Word_embedding_quality_W2V/W2V_lemmatized_iter-1_dim-300_w-5_alpha-default_epochs-40_corpus-male_person_artist_lyrics_epoch-0/toefl_test.txt\n",
      "[2021-12-24 21:46:53,945 INFO] Running SYN-SEM test...\n",
      "[2021-12-24 21:46:53,945 INFO] Calling command: ./../data/evaluation_tests_word_embedding/syn_sem/compute-accuracy-txt ../data/evaluation_tests_word_embedding/temp_embs.txt 0 < ../data/evaluation_tests_word_embedding/syn_sem/questions-words.txt > ../results/experiment_W2V_several_runs_WEAT_2/Word_embedding_quality_W2V/W2V_lemmatized_iter-1_dim-300_w-5_alpha-default_epochs-40_corpus-male_person_artist_lyrics_epoch-0/syn-sem_test.txt\n"
     ]
    },
    {
     "name": "stdout",
     "output_type": "stream",
     "text": [
      "Epoch #5 end\n"
     ]
    },
    {
     "name": "stderr",
     "output_type": "stream",
     "text": [
      "[2021-12-24 21:57:54,732 INFO] Start computation quality word embedding tests. Results will be saved at ../results/experiment_W2V_several_runs_WEAT_2/Word_embedding_quality_W2V/\n",
      "[2021-12-24 21:57:54,737 INFO] Number of unique words for tests: 2066\n",
      "[2021-12-24 21:57:54,737 INFO] Reading word vectors...\n",
      "[2021-12-24 21:57:55,154 INFO] Number of word vectors read: 10000...\n",
      "[2021-12-24 21:57:55,542 INFO] Number of word vectors read: 20000...\n",
      "[2021-12-24 21:57:55,927 INFO] Number of word vectors read: 30000...\n",
      "[2021-12-24 21:57:56,323 INFO] Number of word vectors read: 40000...\n",
      "[2021-12-24 21:57:56,564 INFO] Number of word vectors found: 1319\n",
      "[2021-12-24 21:57:56,564 INFO] Running: sed -i '' '1s/^/1319 300\\'$'\\n/' ../data/evaluation_tests_word_embedding/temp_embs.txt\n",
      "[2021-12-24 21:57:56,592 INFO] Running WS test...\n",
      "[2021-12-24 21:57:56,593 INFO] Calling command: ./../data/evaluation_tests_word_embedding/ws/ws ../data/evaluation_tests_word_embedding/temp_embs.txt > ../results/experiment_W2V_several_runs_WEAT_2/Word_embedding_quality_W2V/W2V_lemmatized_iter-1_dim-300_w-5_alpha-default_epochs-40_corpus-male_person_artist_lyrics_epoch-5/ws_test.txt\n",
      "[2021-12-24 21:57:56,683 INFO] Running TOEFL test...\n",
      "[2021-12-24 21:57:56,684 INFO] Calling command: ./../data/evaluation_tests_word_embedding/tfl/toefl ../data/evaluation_tests_word_embedding/temp_embs.txt > ../results/experiment_W2V_several_runs_WEAT_2/Word_embedding_quality_W2V/W2V_lemmatized_iter-1_dim-300_w-5_alpha-default_epochs-40_corpus-male_person_artist_lyrics_epoch-5/toefl_test.txt\n",
      "[2021-12-24 21:57:56,766 INFO] Running SYN-SEM test...\n",
      "[2021-12-24 21:57:56,766 INFO] Calling command: ./../data/evaluation_tests_word_embedding/syn_sem/compute-accuracy-txt ../data/evaluation_tests_word_embedding/temp_embs.txt 0 < ../data/evaluation_tests_word_embedding/syn_sem/questions-words.txt > ../results/experiment_W2V_several_runs_WEAT_2/Word_embedding_quality_W2V/W2V_lemmatized_iter-1_dim-300_w-5_alpha-default_epochs-40_corpus-male_person_artist_lyrics_epoch-5/syn-sem_test.txt\n"
     ]
    },
    {
     "name": "stdout",
     "output_type": "stream",
     "text": [
      "Epoch #10 end\n"
     ]
    },
    {
     "name": "stderr",
     "output_type": "stream",
     "text": [
      "[2021-12-24 22:08:58,717 INFO] Start computation quality word embedding tests. Results will be saved at ../results/experiment_W2V_several_runs_WEAT_2/Word_embedding_quality_W2V/\n",
      "[2021-12-24 22:08:58,727 INFO] Number of unique words for tests: 2066\n",
      "[2021-12-24 22:08:58,727 INFO] Reading word vectors...\n",
      "[2021-12-24 22:08:59,162 INFO] Number of word vectors read: 10000...\n",
      "[2021-12-24 22:08:59,570 INFO] Number of word vectors read: 20000...\n",
      "[2021-12-24 22:08:59,965 INFO] Number of word vectors read: 30000...\n",
      "[2021-12-24 22:09:00,350 INFO] Number of word vectors read: 40000...\n",
      "[2021-12-24 22:09:00,591 INFO] Number of word vectors found: 1319\n",
      "[2021-12-24 22:09:00,591 INFO] Running: sed -i '' '1s/^/1319 300\\'$'\\n/' ../data/evaluation_tests_word_embedding/temp_embs.txt\n",
      "[2021-12-24 22:09:00,616 INFO] Running WS test...\n",
      "[2021-12-24 22:09:00,617 INFO] Calling command: ./../data/evaluation_tests_word_embedding/ws/ws ../data/evaluation_tests_word_embedding/temp_embs.txt > ../results/experiment_W2V_several_runs_WEAT_2/Word_embedding_quality_W2V/W2V_lemmatized_iter-1_dim-300_w-5_alpha-default_epochs-40_corpus-male_person_artist_lyrics_epoch-10/ws_test.txt\n",
      "[2021-12-24 22:09:00,710 INFO] Running TOEFL test...\n",
      "[2021-12-24 22:09:00,710 INFO] Calling command: ./../data/evaluation_tests_word_embedding/tfl/toefl ../data/evaluation_tests_word_embedding/temp_embs.txt > ../results/experiment_W2V_several_runs_WEAT_2/Word_embedding_quality_W2V/W2V_lemmatized_iter-1_dim-300_w-5_alpha-default_epochs-40_corpus-male_person_artist_lyrics_epoch-10/toefl_test.txt\n",
      "[2021-12-24 22:09:00,795 INFO] Running SYN-SEM test...\n",
      "[2021-12-24 22:09:00,796 INFO] Calling command: ./../data/evaluation_tests_word_embedding/syn_sem/compute-accuracy-txt ../data/evaluation_tests_word_embedding/temp_embs.txt 0 < ../data/evaluation_tests_word_embedding/syn_sem/questions-words.txt > ../results/experiment_W2V_several_runs_WEAT_2/Word_embedding_quality_W2V/W2V_lemmatized_iter-1_dim-300_w-5_alpha-default_epochs-40_corpus-male_person_artist_lyrics_epoch-10/syn-sem_test.txt\n"
     ]
    },
    {
     "name": "stdout",
     "output_type": "stream",
     "text": [
      "Epoch #15 end\n"
     ]
    },
    {
     "name": "stderr",
     "output_type": "stream",
     "text": [
      "[2021-12-24 22:20:01,270 INFO] Start computation quality word embedding tests. Results will be saved at ../results/experiment_W2V_several_runs_WEAT_2/Word_embedding_quality_W2V/\n",
      "[2021-12-24 22:20:01,271 INFO] Number of unique words for tests: 2066\n",
      "[2021-12-24 22:20:01,271 INFO] Reading word vectors...\n",
      "[2021-12-24 22:20:01,665 INFO] Number of word vectors read: 10000...\n",
      "[2021-12-24 22:20:02,046 INFO] Number of word vectors read: 20000...\n",
      "[2021-12-24 22:20:02,424 INFO] Number of word vectors read: 30000...\n",
      "[2021-12-24 22:20:02,818 INFO] Number of word vectors read: 40000...\n",
      "[2021-12-24 22:20:03,060 INFO] Number of word vectors found: 1319\n",
      "[2021-12-24 22:20:03,060 INFO] Running: sed -i '' '1s/^/1319 300\\'$'\\n/' ../data/evaluation_tests_word_embedding/temp_embs.txt\n",
      "[2021-12-24 22:20:03,080 INFO] Running WS test...\n",
      "[2021-12-24 22:20:03,082 INFO] Calling command: ./../data/evaluation_tests_word_embedding/ws/ws ../data/evaluation_tests_word_embedding/temp_embs.txt > ../results/experiment_W2V_several_runs_WEAT_2/Word_embedding_quality_W2V/W2V_lemmatized_iter-1_dim-300_w-5_alpha-default_epochs-40_corpus-male_person_artist_lyrics_epoch-15/ws_test.txt\n",
      "[2021-12-24 22:20:03,165 INFO] Running TOEFL test...\n",
      "[2021-12-24 22:20:03,165 INFO] Calling command: ./../data/evaluation_tests_word_embedding/tfl/toefl ../data/evaluation_tests_word_embedding/temp_embs.txt > ../results/experiment_W2V_several_runs_WEAT_2/Word_embedding_quality_W2V/W2V_lemmatized_iter-1_dim-300_w-5_alpha-default_epochs-40_corpus-male_person_artist_lyrics_epoch-15/toefl_test.txt\n",
      "[2021-12-24 22:20:03,244 INFO] Running SYN-SEM test...\n",
      "[2021-12-24 22:20:03,244 INFO] Calling command: ./../data/evaluation_tests_word_embedding/syn_sem/compute-accuracy-txt ../data/evaluation_tests_word_embedding/temp_embs.txt 0 < ../data/evaluation_tests_word_embedding/syn_sem/questions-words.txt > ../results/experiment_W2V_several_runs_WEAT_2/Word_embedding_quality_W2V/W2V_lemmatized_iter-1_dim-300_w-5_alpha-default_epochs-40_corpus-male_person_artist_lyrics_epoch-15/syn-sem_test.txt\n"
     ]
    },
    {
     "name": "stdout",
     "output_type": "stream",
     "text": [
      "Epoch #20 end\n"
     ]
    },
    {
     "name": "stderr",
     "output_type": "stream",
     "text": [
      "[2021-12-24 22:31:05,179 INFO] Start computation quality word embedding tests. Results will be saved at ../results/experiment_W2V_several_runs_WEAT_2/Word_embedding_quality_W2V/\n",
      "[2021-12-24 22:31:05,182 INFO] Number of unique words for tests: 2066\n",
      "[2021-12-24 22:31:05,183 INFO] Reading word vectors...\n",
      "[2021-12-24 22:31:05,604 INFO] Number of word vectors read: 10000...\n",
      "[2021-12-24 22:31:05,989 INFO] Number of word vectors read: 20000...\n",
      "[2021-12-24 22:31:06,367 INFO] Number of word vectors read: 30000...\n",
      "[2021-12-24 22:31:06,754 INFO] Number of word vectors read: 40000...\n",
      "[2021-12-24 22:31:06,994 INFO] Number of word vectors found: 1319\n",
      "[2021-12-24 22:31:06,994 INFO] Running: sed -i '' '1s/^/1319 300\\'$'\\n/' ../data/evaluation_tests_word_embedding/temp_embs.txt\n",
      "[2021-12-24 22:31:07,020 INFO] Running WS test...\n",
      "[2021-12-24 22:31:07,020 INFO] Calling command: ./../data/evaluation_tests_word_embedding/ws/ws ../data/evaluation_tests_word_embedding/temp_embs.txt > ../results/experiment_W2V_several_runs_WEAT_2/Word_embedding_quality_W2V/W2V_lemmatized_iter-1_dim-300_w-5_alpha-default_epochs-40_corpus-male_person_artist_lyrics_epoch-20/ws_test.txt\n",
      "[2021-12-24 22:31:07,115 INFO] Running TOEFL test...\n",
      "[2021-12-24 22:31:07,115 INFO] Calling command: ./../data/evaluation_tests_word_embedding/tfl/toefl ../data/evaluation_tests_word_embedding/temp_embs.txt > ../results/experiment_W2V_several_runs_WEAT_2/Word_embedding_quality_W2V/W2V_lemmatized_iter-1_dim-300_w-5_alpha-default_epochs-40_corpus-male_person_artist_lyrics_epoch-20/toefl_test.txt\n",
      "[2021-12-24 22:31:07,201 INFO] Running SYN-SEM test...\n",
      "[2021-12-24 22:31:07,202 INFO] Calling command: ./../data/evaluation_tests_word_embedding/syn_sem/compute-accuracy-txt ../data/evaluation_tests_word_embedding/temp_embs.txt 0 < ../data/evaluation_tests_word_embedding/syn_sem/questions-words.txt > ../results/experiment_W2V_several_runs_WEAT_2/Word_embedding_quality_W2V/W2V_lemmatized_iter-1_dim-300_w-5_alpha-default_epochs-40_corpus-male_person_artist_lyrics_epoch-20/syn-sem_test.txt\n"
     ]
    },
    {
     "name": "stdout",
     "output_type": "stream",
     "text": [
      "Epoch #25 end\n"
     ]
    },
    {
     "name": "stderr",
     "output_type": "stream",
     "text": [
      "[2021-12-24 22:42:07,220 INFO] Start computation quality word embedding tests. Results will be saved at ../results/experiment_W2V_several_runs_WEAT_2/Word_embedding_quality_W2V/\n",
      "[2021-12-24 22:42:07,222 INFO] Number of unique words for tests: 2066\n",
      "[2021-12-24 22:42:07,222 INFO] Reading word vectors...\n",
      "[2021-12-24 22:42:07,623 INFO] Number of word vectors read: 10000...\n",
      "[2021-12-24 22:42:08,011 INFO] Number of word vectors read: 20000...\n",
      "[2021-12-24 22:42:08,386 INFO] Number of word vectors read: 30000...\n",
      "[2021-12-24 22:42:08,776 INFO] Number of word vectors read: 40000...\n",
      "[2021-12-24 22:42:09,019 INFO] Number of word vectors found: 1319\n",
      "[2021-12-24 22:42:09,019 INFO] Running: sed -i '' '1s/^/1319 300\\'$'\\n/' ../data/evaluation_tests_word_embedding/temp_embs.txt\n",
      "[2021-12-24 22:42:09,043 INFO] Running WS test...\n",
      "[2021-12-24 22:42:09,043 INFO] Calling command: ./../data/evaluation_tests_word_embedding/ws/ws ../data/evaluation_tests_word_embedding/temp_embs.txt > ../results/experiment_W2V_several_runs_WEAT_2/Word_embedding_quality_W2V/W2V_lemmatized_iter-1_dim-300_w-5_alpha-default_epochs-40_corpus-male_person_artist_lyrics_epoch-25/ws_test.txt\n",
      "[2021-12-24 22:42:09,135 INFO] Running TOEFL test...\n",
      "[2021-12-24 22:42:09,135 INFO] Calling command: ./../data/evaluation_tests_word_embedding/tfl/toefl ../data/evaluation_tests_word_embedding/temp_embs.txt > ../results/experiment_W2V_several_runs_WEAT_2/Word_embedding_quality_W2V/W2V_lemmatized_iter-1_dim-300_w-5_alpha-default_epochs-40_corpus-male_person_artist_lyrics_epoch-25/toefl_test.txt\n",
      "[2021-12-24 22:42:09,219 INFO] Running SYN-SEM test...\n",
      "[2021-12-24 22:42:09,219 INFO] Calling command: ./../data/evaluation_tests_word_embedding/syn_sem/compute-accuracy-txt ../data/evaluation_tests_word_embedding/temp_embs.txt 0 < ../data/evaluation_tests_word_embedding/syn_sem/questions-words.txt > ../results/experiment_W2V_several_runs_WEAT_2/Word_embedding_quality_W2V/W2V_lemmatized_iter-1_dim-300_w-5_alpha-default_epochs-40_corpus-male_person_artist_lyrics_epoch-25/syn-sem_test.txt\n"
     ]
    },
    {
     "name": "stdout",
     "output_type": "stream",
     "text": [
      "Epoch #30 end\n"
     ]
    },
    {
     "name": "stderr",
     "output_type": "stream",
     "text": [
      "[2021-12-24 22:53:09,486 INFO] Start computation quality word embedding tests. Results will be saved at ../results/experiment_W2V_several_runs_WEAT_2/Word_embedding_quality_W2V/\n",
      "[2021-12-24 22:53:09,490 INFO] Number of unique words for tests: 2066\n",
      "[2021-12-24 22:53:09,491 INFO] Reading word vectors...\n",
      "[2021-12-24 22:53:10,005 INFO] Number of word vectors read: 10000...\n",
      "[2021-12-24 22:53:10,423 INFO] Number of word vectors read: 20000...\n",
      "[2021-12-24 22:53:10,813 INFO] Number of word vectors read: 30000...\n",
      "[2021-12-24 22:53:11,211 INFO] Number of word vectors read: 40000...\n",
      "[2021-12-24 22:53:11,468 INFO] Number of word vectors found: 1319\n",
      "[2021-12-24 22:53:11,468 INFO] Running: sed -i '' '1s/^/1319 300\\'$'\\n/' ../data/evaluation_tests_word_embedding/temp_embs.txt\n",
      "[2021-12-24 22:53:11,497 INFO] Running WS test...\n",
      "[2021-12-24 22:53:11,498 INFO] Calling command: ./../data/evaluation_tests_word_embedding/ws/ws ../data/evaluation_tests_word_embedding/temp_embs.txt > ../results/experiment_W2V_several_runs_WEAT_2/Word_embedding_quality_W2V/W2V_lemmatized_iter-1_dim-300_w-5_alpha-default_epochs-40_corpus-male_person_artist_lyrics_epoch-30/ws_test.txt\n",
      "[2021-12-24 22:53:11,595 INFO] Running TOEFL test...\n",
      "[2021-12-24 22:53:11,595 INFO] Calling command: ./../data/evaluation_tests_word_embedding/tfl/toefl ../data/evaluation_tests_word_embedding/temp_embs.txt > ../results/experiment_W2V_several_runs_WEAT_2/Word_embedding_quality_W2V/W2V_lemmatized_iter-1_dim-300_w-5_alpha-default_epochs-40_corpus-male_person_artist_lyrics_epoch-30/toefl_test.txt\n",
      "[2021-12-24 22:53:11,679 INFO] Running SYN-SEM test...\n",
      "[2021-12-24 22:53:11,679 INFO] Calling command: ./../data/evaluation_tests_word_embedding/syn_sem/compute-accuracy-txt ../data/evaluation_tests_word_embedding/temp_embs.txt 0 < ../data/evaluation_tests_word_embedding/syn_sem/questions-words.txt > ../results/experiment_W2V_several_runs_WEAT_2/Word_embedding_quality_W2V/W2V_lemmatized_iter-1_dim-300_w-5_alpha-default_epochs-40_corpus-male_person_artist_lyrics_epoch-30/syn-sem_test.txt\n"
     ]
    },
    {
     "name": "stdout",
     "output_type": "stream",
     "text": [
      "Epoch #35 end\n"
     ]
    },
    {
     "name": "stderr",
     "output_type": "stream",
     "text": [
      "[2021-12-24 23:04:10,281 INFO] Start computation quality word embedding tests. Results will be saved at ../results/experiment_W2V_several_runs_WEAT_2/Word_embedding_quality_W2V/\n",
      "[2021-12-24 23:04:10,284 INFO] Number of unique words for tests: 2066\n",
      "[2021-12-24 23:04:10,284 INFO] Reading word vectors...\n",
      "[2021-12-24 23:04:10,684 INFO] Number of word vectors read: 10000...\n",
      "[2021-12-24 23:04:11,071 INFO] Number of word vectors read: 20000...\n",
      "[2021-12-24 23:04:11,449 INFO] Number of word vectors read: 30000...\n",
      "[2021-12-24 23:04:11,835 INFO] Number of word vectors read: 40000...\n",
      "[2021-12-24 23:04:12,076 INFO] Number of word vectors found: 1319\n",
      "[2021-12-24 23:04:12,077 INFO] Running: sed -i '' '1s/^/1319 300\\'$'\\n/' ../data/evaluation_tests_word_embedding/temp_embs.txt\n",
      "[2021-12-24 23:04:12,127 INFO] Running WS test...\n",
      "[2021-12-24 23:04:12,128 INFO] Calling command: ./../data/evaluation_tests_word_embedding/ws/ws ../data/evaluation_tests_word_embedding/temp_embs.txt > ../results/experiment_W2V_several_runs_WEAT_2/Word_embedding_quality_W2V/W2V_lemmatized_iter-1_dim-300_w-5_alpha-default_epochs-40_corpus-male_person_artist_lyrics_epoch-35/ws_test.txt\n",
      "[2021-12-24 23:04:12,222 INFO] Running TOEFL test...\n",
      "[2021-12-24 23:04:12,222 INFO] Calling command: ./../data/evaluation_tests_word_embedding/tfl/toefl ../data/evaluation_tests_word_embedding/temp_embs.txt > ../results/experiment_W2V_several_runs_WEAT_2/Word_embedding_quality_W2V/W2V_lemmatized_iter-1_dim-300_w-5_alpha-default_epochs-40_corpus-male_person_artist_lyrics_epoch-35/toefl_test.txt\n",
      "[2021-12-24 23:04:12,306 INFO] Running SYN-SEM test...\n",
      "[2021-12-24 23:04:12,306 INFO] Calling command: ./../data/evaluation_tests_word_embedding/syn_sem/compute-accuracy-txt ../data/evaluation_tests_word_embedding/temp_embs.txt 0 < ../data/evaluation_tests_word_embedding/syn_sem/questions-words.txt > ../results/experiment_W2V_several_runs_WEAT_2/Word_embedding_quality_W2V/W2V_lemmatized_iter-1_dim-300_w-5_alpha-default_epochs-40_corpus-male_person_artist_lyrics_epoch-35/syn-sem_test.txt\n",
      "[2021-12-24 23:13:03,214 INFO] Start computation quality word embedding tests. Results will be saved at ../results/experiment_W2V_several_runs_WEAT_2/Word_embedding_quality_W2V/\n",
      "[2021-12-24 23:13:03,224 INFO] Number of unique words for tests: 2066\n",
      "[2021-12-24 23:13:03,225 INFO] Reading word vectors...\n",
      "[2021-12-24 23:13:03,649 INFO] Number of word vectors read: 10000...\n",
      "[2021-12-24 23:13:04,049 INFO] Number of word vectors read: 20000...\n",
      "[2021-12-24 23:13:04,475 INFO] Number of word vectors read: 30000...\n",
      "[2021-12-24 23:13:04,850 INFO] Number of word vectors read: 40000...\n",
      "[2021-12-24 23:13:05,090 INFO] Number of word vectors found: 1319\n",
      "[2021-12-24 23:13:05,090 INFO] Running: sed -i '' '1s/^/1319 300\\'$'\\n/' ../data/evaluation_tests_word_embedding/temp_embs.txt\n",
      "[2021-12-24 23:13:05,172 INFO] Running WS test...\n",
      "[2021-12-24 23:13:05,173 INFO] Calling command: ./../data/evaluation_tests_word_embedding/ws/ws ../data/evaluation_tests_word_embedding/temp_embs.txt > ../results/experiment_W2V_several_runs_WEAT_2/Word_embedding_quality_W2V/W2V_lemmatized_iter-1_dim-300_w-5_alpha-default_epochs-40_corpus-male_person_artist_lyrics_epoch-39/ws_test.txt\n",
      "[2021-12-24 23:13:05,266 INFO] Running TOEFL test...\n",
      "[2021-12-24 23:13:05,266 INFO] Calling command: ./../data/evaluation_tests_word_embedding/tfl/toefl ../data/evaluation_tests_word_embedding/temp_embs.txt > ../results/experiment_W2V_several_runs_WEAT_2/Word_embedding_quality_W2V/W2V_lemmatized_iter-1_dim-300_w-5_alpha-default_epochs-40_corpus-male_person_artist_lyrics_epoch-39/toefl_test.txt\n",
      "[2021-12-24 23:13:05,352 INFO] Running SYN-SEM test...\n",
      "[2021-12-24 23:13:05,352 INFO] Calling command: ./../data/evaluation_tests_word_embedding/syn_sem/compute-accuracy-txt ../data/evaluation_tests_word_embedding/temp_embs.txt 0 < ../data/evaluation_tests_word_embedding/syn_sem/questions-words.txt > ../results/experiment_W2V_several_runs_WEAT_2/Word_embedding_quality_W2V/W2V_lemmatized_iter-1_dim-300_w-5_alpha-default_epochs-40_corpus-male_person_artist_lyrics_epoch-39/syn-sem_test.txt\n"
     ]
    },
    {
     "name": "stdout",
     "output_type": "stream",
     "text": [
      "End training of W2V_lemmatized_iter-1_dim-300_w-5_alpha-default_epochs-40_corpus-male_person_artist_lyrics\n",
      "\n",
      "Start training corpus:  all_person_artist_lyrics\n",
      "Embedding name:  W2V_lemmatized_iter-1_dim-300_w-5_alpha-default_epochs-40_corpus-all_person_artist_lyrics\n",
      "Vocab done...\n",
      "Corpus count:  237846\n",
      "Corpus total words:  60312307\n",
      "Epoch #0 end\n"
     ]
    },
    {
     "name": "stderr",
     "output_type": "stream",
     "text": [
      "[2021-12-24 23:16:37,941 INFO] Start computation quality word embedding tests. Results will be saved at ../results/experiment_W2V_several_runs_WEAT_2/Word_embedding_quality_W2V/\n",
      "[2021-12-24 23:16:37,950 INFO] Number of unique words for tests: 2066\n",
      "[2021-12-24 23:16:37,950 INFO] Reading word vectors...\n",
      "[2021-12-24 23:16:38,383 INFO] Number of word vectors read: 10000...\n",
      "[2021-12-24 23:16:38,778 INFO] Number of word vectors read: 20000...\n",
      "[2021-12-24 23:16:39,172 INFO] Number of word vectors read: 30000...\n",
      "[2021-12-24 23:16:39,579 INFO] Number of word vectors read: 40000...\n",
      "[2021-12-24 23:16:39,979 INFO] Number of word vectors found: 1341\n",
      "[2021-12-24 23:16:39,979 INFO] Running: sed -i '' '1s/^/1341 300\\'$'\\n/' ../data/evaluation_tests_word_embedding/temp_embs.txt\n",
      "[2021-12-24 23:16:40,015 INFO] Running WS test...\n",
      "[2021-12-24 23:16:40,016 INFO] Calling command: ./../data/evaluation_tests_word_embedding/ws/ws ../data/evaluation_tests_word_embedding/temp_embs.txt > ../results/experiment_W2V_several_runs_WEAT_2/Word_embedding_quality_W2V/W2V_lemmatized_iter-1_dim-300_w-5_alpha-default_epochs-40_corpus-all_person_artist_lyrics_epoch-0/ws_test.txt\n",
      "[2021-12-24 23:16:40,114 INFO] Running TOEFL test...\n",
      "[2021-12-24 23:16:40,114 INFO] Calling command: ./../data/evaluation_tests_word_embedding/tfl/toefl ../data/evaluation_tests_word_embedding/temp_embs.txt > ../results/experiment_W2V_several_runs_WEAT_2/Word_embedding_quality_W2V/W2V_lemmatized_iter-1_dim-300_w-5_alpha-default_epochs-40_corpus-all_person_artist_lyrics_epoch-0/toefl_test.txt\n",
      "[2021-12-24 23:16:40,205 INFO] Running SYN-SEM test...\n",
      "[2021-12-24 23:16:40,205 INFO] Calling command: ./../data/evaluation_tests_word_embedding/syn_sem/compute-accuracy-txt ../data/evaluation_tests_word_embedding/temp_embs.txt 0 < ../data/evaluation_tests_word_embedding/syn_sem/questions-words.txt > ../results/experiment_W2V_several_runs_WEAT_2/Word_embedding_quality_W2V/W2V_lemmatized_iter-1_dim-300_w-5_alpha-default_epochs-40_corpus-all_person_artist_lyrics_epoch-0/syn-sem_test.txt\n"
     ]
    },
    {
     "name": "stdout",
     "output_type": "stream",
     "text": [
      "Epoch #5 end\n"
     ]
    },
    {
     "name": "stderr",
     "output_type": "stream",
     "text": [
      "[2021-12-24 23:31:24,994 INFO] Start computation quality word embedding tests. Results will be saved at ../results/experiment_W2V_several_runs_WEAT_2/Word_embedding_quality_W2V/\n",
      "[2021-12-24 23:31:24,998 INFO] Number of unique words for tests: 2066\n",
      "[2021-12-24 23:31:24,998 INFO] Reading word vectors...\n",
      "[2021-12-24 23:31:25,414 INFO] Number of word vectors read: 10000...\n",
      "[2021-12-24 23:31:25,807 INFO] Number of word vectors read: 20000...\n",
      "[2021-12-24 23:31:26,207 INFO] Number of word vectors read: 30000...\n",
      "[2021-12-24 23:31:26,582 INFO] Number of word vectors read: 40000...\n",
      "[2021-12-24 23:31:26,948 INFO] Number of word vectors found: 1341\n",
      "[2021-12-24 23:31:26,948 INFO] Running: sed -i '' '1s/^/1341 300\\'$'\\n/' ../data/evaluation_tests_word_embedding/temp_embs.txt\n",
      "[2021-12-24 23:31:26,983 INFO] Running WS test...\n",
      "[2021-12-24 23:31:26,984 INFO] Calling command: ./../data/evaluation_tests_word_embedding/ws/ws ../data/evaluation_tests_word_embedding/temp_embs.txt > ../results/experiment_W2V_several_runs_WEAT_2/Word_embedding_quality_W2V/W2V_lemmatized_iter-1_dim-300_w-5_alpha-default_epochs-40_corpus-all_person_artist_lyrics_epoch-5/ws_test.txt\n",
      "[2021-12-24 23:31:27,076 INFO] Running TOEFL test...\n",
      "[2021-12-24 23:31:27,076 INFO] Calling command: ./../data/evaluation_tests_word_embedding/tfl/toefl ../data/evaluation_tests_word_embedding/temp_embs.txt > ../results/experiment_W2V_several_runs_WEAT_2/Word_embedding_quality_W2V/W2V_lemmatized_iter-1_dim-300_w-5_alpha-default_epochs-40_corpus-all_person_artist_lyrics_epoch-5/toefl_test.txt\n",
      "[2021-12-24 23:31:27,164 INFO] Running SYN-SEM test...\n",
      "[2021-12-24 23:31:27,164 INFO] Calling command: ./../data/evaluation_tests_word_embedding/syn_sem/compute-accuracy-txt ../data/evaluation_tests_word_embedding/temp_embs.txt 0 < ../data/evaluation_tests_word_embedding/syn_sem/questions-words.txt > ../results/experiment_W2V_several_runs_WEAT_2/Word_embedding_quality_W2V/W2V_lemmatized_iter-1_dim-300_w-5_alpha-default_epochs-40_corpus-all_person_artist_lyrics_epoch-5/syn-sem_test.txt\n"
     ]
    },
    {
     "name": "stdout",
     "output_type": "stream",
     "text": [
      "Epoch #10 end\n"
     ]
    },
    {
     "name": "stderr",
     "output_type": "stream",
     "text": [
      "[2021-12-24 23:46:08,222 INFO] Start computation quality word embedding tests. Results will be saved at ../results/experiment_W2V_several_runs_WEAT_2/Word_embedding_quality_W2V/\n",
      "[2021-12-24 23:46:08,232 INFO] Number of unique words for tests: 2066\n",
      "[2021-12-24 23:46:08,232 INFO] Reading word vectors...\n",
      "[2021-12-24 23:46:08,681 INFO] Number of word vectors read: 10000...\n",
      "[2021-12-24 23:46:09,090 INFO] Number of word vectors read: 20000...\n",
      "[2021-12-24 23:46:09,537 INFO] Number of word vectors read: 30000...\n",
      "[2021-12-24 23:46:09,973 INFO] Number of word vectors read: 40000...\n",
      "[2021-12-24 23:46:10,353 INFO] Number of word vectors found: 1341\n",
      "[2021-12-24 23:46:10,353 INFO] Running: sed -i '' '1s/^/1341 300\\'$'\\n/' ../data/evaluation_tests_word_embedding/temp_embs.txt\n",
      "[2021-12-24 23:46:10,380 INFO] Running WS test...\n",
      "[2021-12-24 23:46:10,381 INFO] Calling command: ./../data/evaluation_tests_word_embedding/ws/ws ../data/evaluation_tests_word_embedding/temp_embs.txt > ../results/experiment_W2V_several_runs_WEAT_2/Word_embedding_quality_W2V/W2V_lemmatized_iter-1_dim-300_w-5_alpha-default_epochs-40_corpus-all_person_artist_lyrics_epoch-10/ws_test.txt\n",
      "[2021-12-24 23:46:10,476 INFO] Running TOEFL test...\n",
      "[2021-12-24 23:46:10,476 INFO] Calling command: ./../data/evaluation_tests_word_embedding/tfl/toefl ../data/evaluation_tests_word_embedding/temp_embs.txt > ../results/experiment_W2V_several_runs_WEAT_2/Word_embedding_quality_W2V/W2V_lemmatized_iter-1_dim-300_w-5_alpha-default_epochs-40_corpus-all_person_artist_lyrics_epoch-10/toefl_test.txt\n",
      "[2021-12-24 23:46:10,564 INFO] Running SYN-SEM test...\n",
      "[2021-12-24 23:46:10,564 INFO] Calling command: ./../data/evaluation_tests_word_embedding/syn_sem/compute-accuracy-txt ../data/evaluation_tests_word_embedding/temp_embs.txt 0 < ../data/evaluation_tests_word_embedding/syn_sem/questions-words.txt > ../results/experiment_W2V_several_runs_WEAT_2/Word_embedding_quality_W2V/W2V_lemmatized_iter-1_dim-300_w-5_alpha-default_epochs-40_corpus-all_person_artist_lyrics_epoch-10/syn-sem_test.txt\n"
     ]
    },
    {
     "name": "stdout",
     "output_type": "stream",
     "text": [
      "Epoch #15 end\n"
     ]
    },
    {
     "name": "stderr",
     "output_type": "stream",
     "text": [
      "[2021-12-25 00:00:48,187 INFO] Start computation quality word embedding tests. Results will be saved at ../results/experiment_W2V_several_runs_WEAT_2/Word_embedding_quality_W2V/\n",
      "[2021-12-25 00:00:48,197 INFO] Number of unique words for tests: 2066\n",
      "[2021-12-25 00:00:48,198 INFO] Reading word vectors...\n",
      "[2021-12-25 00:00:48,629 INFO] Number of word vectors read: 10000...\n",
      "[2021-12-25 00:00:49,020 INFO] Number of word vectors read: 20000...\n",
      "[2021-12-25 00:00:49,404 INFO] Number of word vectors read: 30000...\n",
      "[2021-12-25 00:00:49,797 INFO] Number of word vectors read: 40000...\n",
      "[2021-12-25 00:00:50,162 INFO] Number of word vectors found: 1341\n",
      "[2021-12-25 00:00:50,162 INFO] Running: sed -i '' '1s/^/1341 300\\'$'\\n/' ../data/evaluation_tests_word_embedding/temp_embs.txt\n",
      "[2021-12-25 00:00:50,196 INFO] Running WS test...\n",
      "[2021-12-25 00:00:50,202 INFO] Calling command: ./../data/evaluation_tests_word_embedding/ws/ws ../data/evaluation_tests_word_embedding/temp_embs.txt > ../results/experiment_W2V_several_runs_WEAT_2/Word_embedding_quality_W2V/W2V_lemmatized_iter-1_dim-300_w-5_alpha-default_epochs-40_corpus-all_person_artist_lyrics_epoch-15/ws_test.txt\n",
      "[2021-12-25 00:00:50,317 INFO] Running TOEFL test...\n",
      "[2021-12-25 00:00:50,317 INFO] Calling command: ./../data/evaluation_tests_word_embedding/tfl/toefl ../data/evaluation_tests_word_embedding/temp_embs.txt > ../results/experiment_W2V_several_runs_WEAT_2/Word_embedding_quality_W2V/W2V_lemmatized_iter-1_dim-300_w-5_alpha-default_epochs-40_corpus-all_person_artist_lyrics_epoch-15/toefl_test.txt\n",
      "[2021-12-25 00:00:50,408 INFO] Running SYN-SEM test...\n",
      "[2021-12-25 00:00:50,408 INFO] Calling command: ./../data/evaluation_tests_word_embedding/syn_sem/compute-accuracy-txt ../data/evaluation_tests_word_embedding/temp_embs.txt 0 < ../data/evaluation_tests_word_embedding/syn_sem/questions-words.txt > ../results/experiment_W2V_several_runs_WEAT_2/Word_embedding_quality_W2V/W2V_lemmatized_iter-1_dim-300_w-5_alpha-default_epochs-40_corpus-all_person_artist_lyrics_epoch-15/syn-sem_test.txt\n"
     ]
    },
    {
     "name": "stdout",
     "output_type": "stream",
     "text": [
      "Epoch #20 end\n"
     ]
    },
    {
     "name": "stderr",
     "output_type": "stream",
     "text": [
      "[2021-12-25 00:15:29,700 INFO] Start computation quality word embedding tests. Results will be saved at ../results/experiment_W2V_several_runs_WEAT_2/Word_embedding_quality_W2V/\n",
      "[2021-12-25 00:15:29,711 INFO] Number of unique words for tests: 2066\n",
      "[2021-12-25 00:15:29,712 INFO] Reading word vectors...\n",
      "[2021-12-25 00:15:30,132 INFO] Number of word vectors read: 10000...\n",
      "[2021-12-25 00:15:30,518 INFO] Number of word vectors read: 20000...\n",
      "[2021-12-25 00:15:30,920 INFO] Number of word vectors read: 30000...\n",
      "[2021-12-25 00:15:31,338 INFO] Number of word vectors read: 40000...\n",
      "[2021-12-25 00:15:31,706 INFO] Number of word vectors found: 1341\n",
      "[2021-12-25 00:15:31,707 INFO] Running: sed -i '' '1s/^/1341 300\\'$'\\n/' ../data/evaluation_tests_word_embedding/temp_embs.txt\n",
      "[2021-12-25 00:15:31,748 INFO] Running WS test...\n",
      "[2021-12-25 00:15:31,750 INFO] Calling command: ./../data/evaluation_tests_word_embedding/ws/ws ../data/evaluation_tests_word_embedding/temp_embs.txt > ../results/experiment_W2V_several_runs_WEAT_2/Word_embedding_quality_W2V/W2V_lemmatized_iter-1_dim-300_w-5_alpha-default_epochs-40_corpus-all_person_artist_lyrics_epoch-20/ws_test.txt\n",
      "[2021-12-25 00:15:31,847 INFO] Running TOEFL test...\n",
      "[2021-12-25 00:15:31,848 INFO] Calling command: ./../data/evaluation_tests_word_embedding/tfl/toefl ../data/evaluation_tests_word_embedding/temp_embs.txt > ../results/experiment_W2V_several_runs_WEAT_2/Word_embedding_quality_W2V/W2V_lemmatized_iter-1_dim-300_w-5_alpha-default_epochs-40_corpus-all_person_artist_lyrics_epoch-20/toefl_test.txt\n",
      "[2021-12-25 00:15:31,952 INFO] Running SYN-SEM test...\n",
      "[2021-12-25 00:15:31,952 INFO] Calling command: ./../data/evaluation_tests_word_embedding/syn_sem/compute-accuracy-txt ../data/evaluation_tests_word_embedding/temp_embs.txt 0 < ../data/evaluation_tests_word_embedding/syn_sem/questions-words.txt > ../results/experiment_W2V_several_runs_WEAT_2/Word_embedding_quality_W2V/W2V_lemmatized_iter-1_dim-300_w-5_alpha-default_epochs-40_corpus-all_person_artist_lyrics_epoch-20/syn-sem_test.txt\n"
     ]
    },
    {
     "name": "stdout",
     "output_type": "stream",
     "text": [
      "Epoch #25 end\n"
     ]
    },
    {
     "name": "stderr",
     "output_type": "stream",
     "text": [
      "[2021-12-25 00:30:12,581 INFO] Start computation quality word embedding tests. Results will be saved at ../results/experiment_W2V_several_runs_WEAT_2/Word_embedding_quality_W2V/\n",
      "[2021-12-25 00:30:12,592 INFO] Number of unique words for tests: 2066\n",
      "[2021-12-25 00:30:12,592 INFO] Reading word vectors...\n",
      "[2021-12-25 00:30:13,023 INFO] Number of word vectors read: 10000...\n",
      "[2021-12-25 00:30:13,458 INFO] Number of word vectors read: 20000...\n",
      "[2021-12-25 00:30:13,842 INFO] Number of word vectors read: 30000...\n",
      "[2021-12-25 00:30:14,228 INFO] Number of word vectors read: 40000...\n",
      "[2021-12-25 00:30:14,598 INFO] Number of word vectors found: 1341\n",
      "[2021-12-25 00:30:14,598 INFO] Running: sed -i '' '1s/^/1341 300\\'$'\\n/' ../data/evaluation_tests_word_embedding/temp_embs.txt\n",
      "[2021-12-25 00:30:14,636 INFO] Running WS test...\n",
      "[2021-12-25 00:30:14,642 INFO] Calling command: ./../data/evaluation_tests_word_embedding/ws/ws ../data/evaluation_tests_word_embedding/temp_embs.txt > ../results/experiment_W2V_several_runs_WEAT_2/Word_embedding_quality_W2V/W2V_lemmatized_iter-1_dim-300_w-5_alpha-default_epochs-40_corpus-all_person_artist_lyrics_epoch-25/ws_test.txt\n",
      "[2021-12-25 00:30:14,753 INFO] Running TOEFL test...\n",
      "[2021-12-25 00:30:14,753 INFO] Calling command: ./../data/evaluation_tests_word_embedding/tfl/toefl ../data/evaluation_tests_word_embedding/temp_embs.txt > ../results/experiment_W2V_several_runs_WEAT_2/Word_embedding_quality_W2V/W2V_lemmatized_iter-1_dim-300_w-5_alpha-default_epochs-40_corpus-all_person_artist_lyrics_epoch-25/toefl_test.txt\n",
      "[2021-12-25 00:30:14,842 INFO] Running SYN-SEM test...\n",
      "[2021-12-25 00:30:14,842 INFO] Calling command: ./../data/evaluation_tests_word_embedding/syn_sem/compute-accuracy-txt ../data/evaluation_tests_word_embedding/temp_embs.txt 0 < ../data/evaluation_tests_word_embedding/syn_sem/questions-words.txt > ../results/experiment_W2V_several_runs_WEAT_2/Word_embedding_quality_W2V/W2V_lemmatized_iter-1_dim-300_w-5_alpha-default_epochs-40_corpus-all_person_artist_lyrics_epoch-25/syn-sem_test.txt\n"
     ]
    },
    {
     "name": "stdout",
     "output_type": "stream",
     "text": [
      "Epoch #30 end\n"
     ]
    },
    {
     "name": "stderr",
     "output_type": "stream",
     "text": [
      "[2021-12-25 00:44:49,818 INFO] Start computation quality word embedding tests. Results will be saved at ../results/experiment_W2V_several_runs_WEAT_2/Word_embedding_quality_W2V/\n",
      "[2021-12-25 00:44:49,828 INFO] Number of unique words for tests: 2066\n",
      "[2021-12-25 00:44:49,828 INFO] Reading word vectors...\n",
      "[2021-12-25 00:44:50,259 INFO] Number of word vectors read: 10000...\n",
      "[2021-12-25 00:44:50,650 INFO] Number of word vectors read: 20000...\n",
      "[2021-12-25 00:44:51,036 INFO] Number of word vectors read: 30000...\n",
      "[2021-12-25 00:44:51,424 INFO] Number of word vectors read: 40000...\n",
      "[2021-12-25 00:44:51,793 INFO] Number of word vectors found: 1341\n",
      "[2021-12-25 00:44:51,793 INFO] Running: sed -i '' '1s/^/1341 300\\'$'\\n/' ../data/evaluation_tests_word_embedding/temp_embs.txt\n",
      "[2021-12-25 00:44:51,825 INFO] Running WS test...\n",
      "[2021-12-25 00:44:51,831 INFO] Calling command: ./../data/evaluation_tests_word_embedding/ws/ws ../data/evaluation_tests_word_embedding/temp_embs.txt > ../results/experiment_W2V_several_runs_WEAT_2/Word_embedding_quality_W2V/W2V_lemmatized_iter-1_dim-300_w-5_alpha-default_epochs-40_corpus-all_person_artist_lyrics_epoch-30/ws_test.txt\n",
      "[2021-12-25 00:44:51,944 INFO] Running TOEFL test...\n",
      "[2021-12-25 00:44:51,944 INFO] Calling command: ./../data/evaluation_tests_word_embedding/tfl/toefl ../data/evaluation_tests_word_embedding/temp_embs.txt > ../results/experiment_W2V_several_runs_WEAT_2/Word_embedding_quality_W2V/W2V_lemmatized_iter-1_dim-300_w-5_alpha-default_epochs-40_corpus-all_person_artist_lyrics_epoch-30/toefl_test.txt\n",
      "[2021-12-25 00:44:52,035 INFO] Running SYN-SEM test...\n",
      "[2021-12-25 00:44:52,036 INFO] Calling command: ./../data/evaluation_tests_word_embedding/syn_sem/compute-accuracy-txt ../data/evaluation_tests_word_embedding/temp_embs.txt 0 < ../data/evaluation_tests_word_embedding/syn_sem/questions-words.txt > ../results/experiment_W2V_several_runs_WEAT_2/Word_embedding_quality_W2V/W2V_lemmatized_iter-1_dim-300_w-5_alpha-default_epochs-40_corpus-all_person_artist_lyrics_epoch-30/syn-sem_test.txt\n"
     ]
    },
    {
     "name": "stdout",
     "output_type": "stream",
     "text": [
      "Epoch #35 end\n"
     ]
    },
    {
     "name": "stderr",
     "output_type": "stream",
     "text": [
      "[2021-12-25 00:59:29,641 INFO] Start computation quality word embedding tests. Results will be saved at ../results/experiment_W2V_several_runs_WEAT_2/Word_embedding_quality_W2V/\n",
      "[2021-12-25 00:59:29,664 INFO] Number of unique words for tests: 2066\n",
      "[2021-12-25 00:59:29,664 INFO] Reading word vectors...\n",
      "[2021-12-25 00:59:30,197 INFO] Number of word vectors read: 10000...\n",
      "[2021-12-25 00:59:30,610 INFO] Number of word vectors read: 20000...\n",
      "[2021-12-25 00:59:31,000 INFO] Number of word vectors read: 30000...\n",
      "[2021-12-25 00:59:31,398 INFO] Number of word vectors read: 40000...\n",
      "[2021-12-25 00:59:31,784 INFO] Number of word vectors found: 1341\n",
      "[2021-12-25 00:59:31,784 INFO] Running: sed -i '' '1s/^/1341 300\\'$'\\n/' ../data/evaluation_tests_word_embedding/temp_embs.txt\n",
      "[2021-12-25 00:59:31,822 INFO] Running WS test...\n",
      "[2021-12-25 00:59:31,823 INFO] Calling command: ./../data/evaluation_tests_word_embedding/ws/ws ../data/evaluation_tests_word_embedding/temp_embs.txt > ../results/experiment_W2V_several_runs_WEAT_2/Word_embedding_quality_W2V/W2V_lemmatized_iter-1_dim-300_w-5_alpha-default_epochs-40_corpus-all_person_artist_lyrics_epoch-35/ws_test.txt\n",
      "[2021-12-25 00:59:31,921 INFO] Running TOEFL test...\n",
      "[2021-12-25 00:59:31,921 INFO] Calling command: ./../data/evaluation_tests_word_embedding/tfl/toefl ../data/evaluation_tests_word_embedding/temp_embs.txt > ../results/experiment_W2V_several_runs_WEAT_2/Word_embedding_quality_W2V/W2V_lemmatized_iter-1_dim-300_w-5_alpha-default_epochs-40_corpus-all_person_artist_lyrics_epoch-35/toefl_test.txt\n",
      "[2021-12-25 00:59:32,021 INFO] Running SYN-SEM test...\n",
      "[2021-12-25 00:59:32,021 INFO] Calling command: ./../data/evaluation_tests_word_embedding/syn_sem/compute-accuracy-txt ../data/evaluation_tests_word_embedding/temp_embs.txt 0 < ../data/evaluation_tests_word_embedding/syn_sem/questions-words.txt > ../results/experiment_W2V_several_runs_WEAT_2/Word_embedding_quality_W2V/W2V_lemmatized_iter-1_dim-300_w-5_alpha-default_epochs-40_corpus-all_person_artist_lyrics_epoch-35/syn-sem_test.txt\n",
      "[2021-12-25 01:11:10,462 INFO] Start computation quality word embedding tests. Results will be saved at ../results/experiment_W2V_several_runs_WEAT_2/Word_embedding_quality_W2V/\n",
      "[2021-12-25 01:11:10,466 INFO] Number of unique words for tests: 2066\n",
      "[2021-12-25 01:11:10,466 INFO] Reading word vectors...\n",
      "[2021-12-25 01:11:10,896 INFO] Number of word vectors read: 10000...\n",
      "[2021-12-25 01:11:11,380 INFO] Number of word vectors read: 20000...\n",
      "[2021-12-25 01:11:11,898 INFO] Number of word vectors read: 30000...\n",
      "[2021-12-25 01:11:12,374 INFO] Number of word vectors read: 40000...\n",
      "[2021-12-25 01:11:12,801 INFO] Number of word vectors found: 1341\n",
      "[2021-12-25 01:11:12,801 INFO] Running: sed -i '' '1s/^/1341 300\\'$'\\n/' ../data/evaluation_tests_word_embedding/temp_embs.txt\n",
      "[2021-12-25 01:11:12,827 INFO] Running WS test...\n",
      "[2021-12-25 01:11:12,828 INFO] Calling command: ./../data/evaluation_tests_word_embedding/ws/ws ../data/evaluation_tests_word_embedding/temp_embs.txt > ../results/experiment_W2V_several_runs_WEAT_2/Word_embedding_quality_W2V/W2V_lemmatized_iter-1_dim-300_w-5_alpha-default_epochs-40_corpus-all_person_artist_lyrics_epoch-39/ws_test.txt\n",
      "[2021-12-25 01:11:12,925 INFO] Running TOEFL test...\n",
      "[2021-12-25 01:11:12,925 INFO] Calling command: ./../data/evaluation_tests_word_embedding/tfl/toefl ../data/evaluation_tests_word_embedding/temp_embs.txt > ../results/experiment_W2V_several_runs_WEAT_2/Word_embedding_quality_W2V/W2V_lemmatized_iter-1_dim-300_w-5_alpha-default_epochs-40_corpus-all_person_artist_lyrics_epoch-39/toefl_test.txt\n",
      "[2021-12-25 01:11:13,017 INFO] Running SYN-SEM test...\n",
      "[2021-12-25 01:11:13,017 INFO] Calling command: ./../data/evaluation_tests_word_embedding/syn_sem/compute-accuracy-txt ../data/evaluation_tests_word_embedding/temp_embs.txt 0 < ../data/evaluation_tests_word_embedding/syn_sem/questions-words.txt > ../results/experiment_W2V_several_runs_WEAT_2/Word_embedding_quality_W2V/W2V_lemmatized_iter-1_dim-300_w-5_alpha-default_epochs-40_corpus-all_person_artist_lyrics_epoch-39/syn-sem_test.txt\n"
     ]
    },
    {
     "name": "stdout",
     "output_type": "stream",
     "text": [
      "End training of W2V_lemmatized_iter-1_dim-300_w-5_alpha-default_epochs-40_corpus-all_person_artist_lyrics\n",
      "\n",
      "Start training corpus:  female_person_artist_lyrics\n",
      "Embedding name:  W2V_lemmatized_iter-2_dim-300_w-5_alpha-default_epochs-40_corpus-female_person_artist_lyrics\n",
      "Vocab done...\n",
      "Corpus count:  70880\n",
      "Corpus total words:  15949187\n",
      "Epoch #0 end\n"
     ]
    },
    {
     "name": "stderr",
     "output_type": "stream",
     "text": [
      "[2021-12-25 01:12:20,228 INFO] Start computation quality word embedding tests. Results will be saved at ../results/experiment_W2V_several_runs_WEAT_2/Word_embedding_quality_W2V/\n",
      "[2021-12-25 01:12:20,230 INFO] Number of unique words for tests: 2066\n",
      "[2021-12-25 01:12:20,230 INFO] Reading word vectors...\n",
      "[2021-12-25 01:12:20,643 INFO] Number of word vectors read: 10000...\n",
      "[2021-12-25 01:12:21,020 INFO] Number of word vectors read: 20000...\n",
      "[2021-12-25 01:12:21,135 INFO] Number of word vectors found: 1099\n",
      "[2021-12-25 01:12:21,135 INFO] Running: sed -i '' '1s/^/1099 300\\'$'\\n/' ../data/evaluation_tests_word_embedding/temp_embs.txt\n",
      "[2021-12-25 01:12:21,154 INFO] Running WS test...\n",
      "[2021-12-25 01:12:21,156 INFO] Calling command: ./../data/evaluation_tests_word_embedding/ws/ws ../data/evaluation_tests_word_embedding/temp_embs.txt > ../results/experiment_W2V_several_runs_WEAT_2/Word_embedding_quality_W2V/W2V_lemmatized_iter-2_dim-300_w-5_alpha-default_epochs-40_corpus-female_person_artist_lyrics_epoch-0/ws_test.txt\n",
      "[2021-12-25 01:12:21,234 INFO] Running TOEFL test...\n",
      "[2021-12-25 01:12:21,234 INFO] Calling command: ./../data/evaluation_tests_word_embedding/tfl/toefl ../data/evaluation_tests_word_embedding/temp_embs.txt > ../results/experiment_W2V_several_runs_WEAT_2/Word_embedding_quality_W2V/W2V_lemmatized_iter-2_dim-300_w-5_alpha-default_epochs-40_corpus-female_person_artist_lyrics_epoch-0/toefl_test.txt\n",
      "[2021-12-25 01:12:21,310 INFO] Running SYN-SEM test...\n",
      "[2021-12-25 01:12:21,310 INFO] Calling command: ./../data/evaluation_tests_word_embedding/syn_sem/compute-accuracy-txt ../data/evaluation_tests_word_embedding/temp_embs.txt 0 < ../data/evaluation_tests_word_embedding/syn_sem/questions-words.txt > ../results/experiment_W2V_several_runs_WEAT_2/Word_embedding_quality_W2V/W2V_lemmatized_iter-2_dim-300_w-5_alpha-default_epochs-40_corpus-female_person_artist_lyrics_epoch-0/syn-sem_test.txt\n"
     ]
    },
    {
     "name": "stdout",
     "output_type": "stream",
     "text": [
      "Epoch #5 end\n"
     ]
    },
    {
     "name": "stderr",
     "output_type": "stream",
     "text": [
      "[2021-12-25 01:15:52,173 INFO] Start computation quality word embedding tests. Results will be saved at ../results/experiment_W2V_several_runs_WEAT_2/Word_embedding_quality_W2V/\n",
      "[2021-12-25 01:15:52,175 INFO] Number of unique words for tests: 2066\n",
      "[2021-12-25 01:15:52,175 INFO] Reading word vectors...\n",
      "[2021-12-25 01:15:52,554 INFO] Number of word vectors read: 10000...\n",
      "[2021-12-25 01:15:52,941 INFO] Number of word vectors read: 20000...\n",
      "[2021-12-25 01:15:53,043 INFO] Number of word vectors found: 1099\n",
      "[2021-12-25 01:15:53,043 INFO] Running: sed -i '' '1s/^/1099 300\\'$'\\n/' ../data/evaluation_tests_word_embedding/temp_embs.txt\n",
      "[2021-12-25 01:15:53,065 INFO] Running WS test...\n",
      "[2021-12-25 01:15:53,066 INFO] Calling command: ./../data/evaluation_tests_word_embedding/ws/ws ../data/evaluation_tests_word_embedding/temp_embs.txt > ../results/experiment_W2V_several_runs_WEAT_2/Word_embedding_quality_W2V/W2V_lemmatized_iter-2_dim-300_w-5_alpha-default_epochs-40_corpus-female_person_artist_lyrics_epoch-5/ws_test.txt\n",
      "[2021-12-25 01:15:53,136 INFO] Running TOEFL test...\n",
      "[2021-12-25 01:15:53,136 INFO] Calling command: ./../data/evaluation_tests_word_embedding/tfl/toefl ../data/evaluation_tests_word_embedding/temp_embs.txt > ../results/experiment_W2V_several_runs_WEAT_2/Word_embedding_quality_W2V/W2V_lemmatized_iter-2_dim-300_w-5_alpha-default_epochs-40_corpus-female_person_artist_lyrics_epoch-5/toefl_test.txt\n",
      "[2021-12-25 01:15:53,204 INFO] Running SYN-SEM test...\n",
      "[2021-12-25 01:15:53,204 INFO] Calling command: ./../data/evaluation_tests_word_embedding/syn_sem/compute-accuracy-txt ../data/evaluation_tests_word_embedding/temp_embs.txt 0 < ../data/evaluation_tests_word_embedding/syn_sem/questions-words.txt > ../results/experiment_W2V_several_runs_WEAT_2/Word_embedding_quality_W2V/W2V_lemmatized_iter-2_dim-300_w-5_alpha-default_epochs-40_corpus-female_person_artist_lyrics_epoch-5/syn-sem_test.txt\n"
     ]
    },
    {
     "name": "stdout",
     "output_type": "stream",
     "text": [
      "Epoch #10 end\n"
     ]
    },
    {
     "name": "stderr",
     "output_type": "stream",
     "text": [
      "[2021-12-25 01:19:24,374 INFO] Start computation quality word embedding tests. Results will be saved at ../results/experiment_W2V_several_runs_WEAT_2/Word_embedding_quality_W2V/\n",
      "[2021-12-25 01:19:24,375 INFO] Number of unique words for tests: 2066\n",
      "[2021-12-25 01:19:24,375 INFO] Reading word vectors...\n",
      "[2021-12-25 01:19:24,766 INFO] Number of word vectors read: 10000...\n",
      "[2021-12-25 01:19:25,153 INFO] Number of word vectors read: 20000...\n",
      "[2021-12-25 01:19:25,255 INFO] Number of word vectors found: 1099\n",
      "[2021-12-25 01:19:25,256 INFO] Running: sed -i '' '1s/^/1099 300\\'$'\\n/' ../data/evaluation_tests_word_embedding/temp_embs.txt\n",
      "[2021-12-25 01:19:25,275 INFO] Running WS test...\n",
      "[2021-12-25 01:19:25,275 INFO] Calling command: ./../data/evaluation_tests_word_embedding/ws/ws ../data/evaluation_tests_word_embedding/temp_embs.txt > ../results/experiment_W2V_several_runs_WEAT_2/Word_embedding_quality_W2V/W2V_lemmatized_iter-2_dim-300_w-5_alpha-default_epochs-40_corpus-female_person_artist_lyrics_epoch-10/ws_test.txt\n",
      "[2021-12-25 01:19:25,346 INFO] Running TOEFL test...\n",
      "[2021-12-25 01:19:25,346 INFO] Calling command: ./../data/evaluation_tests_word_embedding/tfl/toefl ../data/evaluation_tests_word_embedding/temp_embs.txt > ../results/experiment_W2V_several_runs_WEAT_2/Word_embedding_quality_W2V/W2V_lemmatized_iter-2_dim-300_w-5_alpha-default_epochs-40_corpus-female_person_artist_lyrics_epoch-10/toefl_test.txt\n",
      "[2021-12-25 01:19:25,416 INFO] Running SYN-SEM test...\n",
      "[2021-12-25 01:19:25,416 INFO] Calling command: ./../data/evaluation_tests_word_embedding/syn_sem/compute-accuracy-txt ../data/evaluation_tests_word_embedding/temp_embs.txt 0 < ../data/evaluation_tests_word_embedding/syn_sem/questions-words.txt > ../results/experiment_W2V_several_runs_WEAT_2/Word_embedding_quality_W2V/W2V_lemmatized_iter-2_dim-300_w-5_alpha-default_epochs-40_corpus-female_person_artist_lyrics_epoch-10/syn-sem_test.txt\n"
     ]
    },
    {
     "name": "stdout",
     "output_type": "stream",
     "text": [
      "Epoch #15 end\n"
     ]
    },
    {
     "name": "stderr",
     "output_type": "stream",
     "text": [
      "[2021-12-25 01:22:55,932 INFO] Start computation quality word embedding tests. Results will be saved at ../results/experiment_W2V_several_runs_WEAT_2/Word_embedding_quality_W2V/\n",
      "[2021-12-25 01:22:55,933 INFO] Number of unique words for tests: 2066\n",
      "[2021-12-25 01:22:55,933 INFO] Reading word vectors...\n",
      "[2021-12-25 01:22:56,340 INFO] Number of word vectors read: 10000...\n",
      "[2021-12-25 01:22:56,765 INFO] Number of word vectors read: 20000...\n",
      "[2021-12-25 01:22:56,866 INFO] Number of word vectors found: 1099\n",
      "[2021-12-25 01:22:56,866 INFO] Running: sed -i '' '1s/^/1099 300\\'$'\\n/' ../data/evaluation_tests_word_embedding/temp_embs.txt\n",
      "[2021-12-25 01:22:56,892 INFO] Running WS test...\n",
      "[2021-12-25 01:22:56,893 INFO] Calling command: ./../data/evaluation_tests_word_embedding/ws/ws ../data/evaluation_tests_word_embedding/temp_embs.txt > ../results/experiment_W2V_several_runs_WEAT_2/Word_embedding_quality_W2V/W2V_lemmatized_iter-2_dim-300_w-5_alpha-default_epochs-40_corpus-female_person_artist_lyrics_epoch-15/ws_test.txt\n",
      "[2021-12-25 01:22:56,965 INFO] Running TOEFL test...\n",
      "[2021-12-25 01:22:56,966 INFO] Calling command: ./../data/evaluation_tests_word_embedding/tfl/toefl ../data/evaluation_tests_word_embedding/temp_embs.txt > ../results/experiment_W2V_several_runs_WEAT_2/Word_embedding_quality_W2V/W2V_lemmatized_iter-2_dim-300_w-5_alpha-default_epochs-40_corpus-female_person_artist_lyrics_epoch-15/toefl_test.txt\n",
      "[2021-12-25 01:22:57,033 INFO] Running SYN-SEM test...\n",
      "[2021-12-25 01:22:57,034 INFO] Calling command: ./../data/evaluation_tests_word_embedding/syn_sem/compute-accuracy-txt ../data/evaluation_tests_word_embedding/temp_embs.txt 0 < ../data/evaluation_tests_word_embedding/syn_sem/questions-words.txt > ../results/experiment_W2V_several_runs_WEAT_2/Word_embedding_quality_W2V/W2V_lemmatized_iter-2_dim-300_w-5_alpha-default_epochs-40_corpus-female_person_artist_lyrics_epoch-15/syn-sem_test.txt\n"
     ]
    },
    {
     "name": "stdout",
     "output_type": "stream",
     "text": [
      "Epoch #20 end\n"
     ]
    },
    {
     "name": "stderr",
     "output_type": "stream",
     "text": [
      "[2021-12-25 01:26:28,847 INFO] Start computation quality word embedding tests. Results will be saved at ../results/experiment_W2V_several_runs_WEAT_2/Word_embedding_quality_W2V/\n",
      "[2021-12-25 01:26:28,849 INFO] Number of unique words for tests: 2066\n",
      "[2021-12-25 01:26:28,849 INFO] Reading word vectors...\n",
      "[2021-12-25 01:26:29,234 INFO] Number of word vectors read: 10000...\n",
      "[2021-12-25 01:26:29,636 INFO] Number of word vectors read: 20000...\n",
      "[2021-12-25 01:26:29,744 INFO] Number of word vectors found: 1099\n",
      "[2021-12-25 01:26:29,744 INFO] Running: sed -i '' '1s/^/1099 300\\'$'\\n/' ../data/evaluation_tests_word_embedding/temp_embs.txt\n",
      "[2021-12-25 01:26:29,765 INFO] Running WS test...\n",
      "[2021-12-25 01:26:29,766 INFO] Calling command: ./../data/evaluation_tests_word_embedding/ws/ws ../data/evaluation_tests_word_embedding/temp_embs.txt > ../results/experiment_W2V_several_runs_WEAT_2/Word_embedding_quality_W2V/W2V_lemmatized_iter-2_dim-300_w-5_alpha-default_epochs-40_corpus-female_person_artist_lyrics_epoch-20/ws_test.txt\n",
      "[2021-12-25 01:26:29,842 INFO] Running TOEFL test...\n",
      "[2021-12-25 01:26:29,842 INFO] Calling command: ./../data/evaluation_tests_word_embedding/tfl/toefl ../data/evaluation_tests_word_embedding/temp_embs.txt > ../results/experiment_W2V_several_runs_WEAT_2/Word_embedding_quality_W2V/W2V_lemmatized_iter-2_dim-300_w-5_alpha-default_epochs-40_corpus-female_person_artist_lyrics_epoch-20/toefl_test.txt\n",
      "[2021-12-25 01:26:29,914 INFO] Running SYN-SEM test...\n",
      "[2021-12-25 01:26:29,915 INFO] Calling command: ./../data/evaluation_tests_word_embedding/syn_sem/compute-accuracy-txt ../data/evaluation_tests_word_embedding/temp_embs.txt 0 < ../data/evaluation_tests_word_embedding/syn_sem/questions-words.txt > ../results/experiment_W2V_several_runs_WEAT_2/Word_embedding_quality_W2V/W2V_lemmatized_iter-2_dim-300_w-5_alpha-default_epochs-40_corpus-female_person_artist_lyrics_epoch-20/syn-sem_test.txt\n"
     ]
    },
    {
     "name": "stdout",
     "output_type": "stream",
     "text": [
      "Epoch #25 end\n"
     ]
    },
    {
     "name": "stderr",
     "output_type": "stream",
     "text": [
      "[2021-12-25 01:30:03,936 INFO] Start computation quality word embedding tests. Results will be saved at ../results/experiment_W2V_several_runs_WEAT_2/Word_embedding_quality_W2V/\n",
      "[2021-12-25 01:30:03,939 INFO] Number of unique words for tests: 2066\n",
      "[2021-12-25 01:30:03,939 INFO] Reading word vectors...\n",
      "[2021-12-25 01:30:04,347 INFO] Number of word vectors read: 10000...\n",
      "[2021-12-25 01:30:04,725 INFO] Number of word vectors read: 20000...\n",
      "[2021-12-25 01:30:04,842 INFO] Number of word vectors found: 1099\n",
      "[2021-12-25 01:30:04,842 INFO] Running: sed -i '' '1s/^/1099 300\\'$'\\n/' ../data/evaluation_tests_word_embedding/temp_embs.txt\n",
      "[2021-12-25 01:30:04,877 INFO] Running WS test...\n",
      "[2021-12-25 01:30:04,878 INFO] Calling command: ./../data/evaluation_tests_word_embedding/ws/ws ../data/evaluation_tests_word_embedding/temp_embs.txt > ../results/experiment_W2V_several_runs_WEAT_2/Word_embedding_quality_W2V/W2V_lemmatized_iter-2_dim-300_w-5_alpha-default_epochs-40_corpus-female_person_artist_lyrics_epoch-25/ws_test.txt\n",
      "[2021-12-25 01:30:04,967 INFO] Running TOEFL test...\n",
      "[2021-12-25 01:30:04,967 INFO] Calling command: ./../data/evaluation_tests_word_embedding/tfl/toefl ../data/evaluation_tests_word_embedding/temp_embs.txt > ../results/experiment_W2V_several_runs_WEAT_2/Word_embedding_quality_W2V/W2V_lemmatized_iter-2_dim-300_w-5_alpha-default_epochs-40_corpus-female_person_artist_lyrics_epoch-25/toefl_test.txt\n",
      "[2021-12-25 01:30:05,040 INFO] Running SYN-SEM test...\n",
      "[2021-12-25 01:30:05,041 INFO] Calling command: ./../data/evaluation_tests_word_embedding/syn_sem/compute-accuracy-txt ../data/evaluation_tests_word_embedding/temp_embs.txt 0 < ../data/evaluation_tests_word_embedding/syn_sem/questions-words.txt > ../results/experiment_W2V_several_runs_WEAT_2/Word_embedding_quality_W2V/W2V_lemmatized_iter-2_dim-300_w-5_alpha-default_epochs-40_corpus-female_person_artist_lyrics_epoch-25/syn-sem_test.txt\n"
     ]
    },
    {
     "name": "stdout",
     "output_type": "stream",
     "text": [
      "Epoch #30 end\n"
     ]
    },
    {
     "name": "stderr",
     "output_type": "stream",
     "text": [
      "[2021-12-25 01:33:37,595 INFO] Start computation quality word embedding tests. Results will be saved at ../results/experiment_W2V_several_runs_WEAT_2/Word_embedding_quality_W2V/\n",
      "[2021-12-25 01:33:37,604 INFO] Number of unique words for tests: 2066\n",
      "[2021-12-25 01:33:37,604 INFO] Reading word vectors...\n",
      "[2021-12-25 01:33:38,008 INFO] Number of word vectors read: 10000...\n",
      "[2021-12-25 01:33:38,379 INFO] Number of word vectors read: 20000...\n",
      "[2021-12-25 01:33:38,484 INFO] Number of word vectors found: 1099\n",
      "[2021-12-25 01:33:38,484 INFO] Running: sed -i '' '1s/^/1099 300\\'$'\\n/' ../data/evaluation_tests_word_embedding/temp_embs.txt\n",
      "[2021-12-25 01:33:38,512 INFO] Running WS test...\n",
      "[2021-12-25 01:33:38,512 INFO] Calling command: ./../data/evaluation_tests_word_embedding/ws/ws ../data/evaluation_tests_word_embedding/temp_embs.txt > ../results/experiment_W2V_several_runs_WEAT_2/Word_embedding_quality_W2V/W2V_lemmatized_iter-2_dim-300_w-5_alpha-default_epochs-40_corpus-female_person_artist_lyrics_epoch-30/ws_test.txt\n",
      "[2021-12-25 01:33:38,591 INFO] Running TOEFL test...\n",
      "[2021-12-25 01:33:38,591 INFO] Calling command: ./../data/evaluation_tests_word_embedding/tfl/toefl ../data/evaluation_tests_word_embedding/temp_embs.txt > ../results/experiment_W2V_several_runs_WEAT_2/Word_embedding_quality_W2V/W2V_lemmatized_iter-2_dim-300_w-5_alpha-default_epochs-40_corpus-female_person_artist_lyrics_epoch-30/toefl_test.txt\n",
      "[2021-12-25 01:33:38,666 INFO] Running SYN-SEM test...\n",
      "[2021-12-25 01:33:38,666 INFO] Calling command: ./../data/evaluation_tests_word_embedding/syn_sem/compute-accuracy-txt ../data/evaluation_tests_word_embedding/temp_embs.txt 0 < ../data/evaluation_tests_word_embedding/syn_sem/questions-words.txt > ../results/experiment_W2V_several_runs_WEAT_2/Word_embedding_quality_W2V/W2V_lemmatized_iter-2_dim-300_w-5_alpha-default_epochs-40_corpus-female_person_artist_lyrics_epoch-30/syn-sem_test.txt\n"
     ]
    },
    {
     "name": "stdout",
     "output_type": "stream",
     "text": [
      "Epoch #35 end\n"
     ]
    },
    {
     "name": "stderr",
     "output_type": "stream",
     "text": [
      "[2021-12-25 01:37:10,777 INFO] Start computation quality word embedding tests. Results will be saved at ../results/experiment_W2V_several_runs_WEAT_2/Word_embedding_quality_W2V/\n",
      "[2021-12-25 01:37:10,780 INFO] Number of unique words for tests: 2066\n",
      "[2021-12-25 01:37:10,780 INFO] Reading word vectors...\n",
      "[2021-12-25 01:37:11,183 INFO] Number of word vectors read: 10000...\n",
      "[2021-12-25 01:37:11,566 INFO] Number of word vectors read: 20000...\n",
      "[2021-12-25 01:37:11,668 INFO] Number of word vectors found: 1099\n",
      "[2021-12-25 01:37:11,668 INFO] Running: sed -i '' '1s/^/1099 300\\'$'\\n/' ../data/evaluation_tests_word_embedding/temp_embs.txt\n",
      "[2021-12-25 01:37:11,688 INFO] Running WS test...\n",
      "[2021-12-25 01:37:11,689 INFO] Calling command: ./../data/evaluation_tests_word_embedding/ws/ws ../data/evaluation_tests_word_embedding/temp_embs.txt > ../results/experiment_W2V_several_runs_WEAT_2/Word_embedding_quality_W2V/W2V_lemmatized_iter-2_dim-300_w-5_alpha-default_epochs-40_corpus-female_person_artist_lyrics_epoch-35/ws_test.txt\n",
      "[2021-12-25 01:37:11,765 INFO] Running TOEFL test...\n",
      "[2021-12-25 01:37:11,765 INFO] Calling command: ./../data/evaluation_tests_word_embedding/tfl/toefl ../data/evaluation_tests_word_embedding/temp_embs.txt > ../results/experiment_W2V_several_runs_WEAT_2/Word_embedding_quality_W2V/W2V_lemmatized_iter-2_dim-300_w-5_alpha-default_epochs-40_corpus-female_person_artist_lyrics_epoch-35/toefl_test.txt\n",
      "[2021-12-25 01:37:11,836 INFO] Running SYN-SEM test...\n",
      "[2021-12-25 01:37:11,837 INFO] Calling command: ./../data/evaluation_tests_word_embedding/syn_sem/compute-accuracy-txt ../data/evaluation_tests_word_embedding/temp_embs.txt 0 < ../data/evaluation_tests_word_embedding/syn_sem/questions-words.txt > ../results/experiment_W2V_several_runs_WEAT_2/Word_embedding_quality_W2V/W2V_lemmatized_iter-2_dim-300_w-5_alpha-default_epochs-40_corpus-female_person_artist_lyrics_epoch-35/syn-sem_test.txt\n",
      "[2021-12-25 01:40:01,500 INFO] Start computation quality word embedding tests. Results will be saved at ../results/experiment_W2V_several_runs_WEAT_2/Word_embedding_quality_W2V/\n",
      "[2021-12-25 01:40:01,501 INFO] Number of unique words for tests: 2066\n",
      "[2021-12-25 01:40:01,501 INFO] Reading word vectors...\n",
      "[2021-12-25 01:40:01,886 INFO] Number of word vectors read: 10000...\n",
      "[2021-12-25 01:40:02,265 INFO] Number of word vectors read: 20000...\n",
      "[2021-12-25 01:40:02,371 INFO] Number of word vectors found: 1099\n",
      "[2021-12-25 01:40:02,371 INFO] Running: sed -i '' '1s/^/1099 300\\'$'\\n/' ../data/evaluation_tests_word_embedding/temp_embs.txt\n",
      "[2021-12-25 01:40:02,395 INFO] Running WS test...\n",
      "[2021-12-25 01:40:02,396 INFO] Calling command: ./../data/evaluation_tests_word_embedding/ws/ws ../data/evaluation_tests_word_embedding/temp_embs.txt > ../results/experiment_W2V_several_runs_WEAT_2/Word_embedding_quality_W2V/W2V_lemmatized_iter-2_dim-300_w-5_alpha-default_epochs-40_corpus-female_person_artist_lyrics_epoch-39/ws_test.txt\n",
      "[2021-12-25 01:40:02,472 INFO] Running TOEFL test...\n",
      "[2021-12-25 01:40:02,472 INFO] Calling command: ./../data/evaluation_tests_word_embedding/tfl/toefl ../data/evaluation_tests_word_embedding/temp_embs.txt > ../results/experiment_W2V_several_runs_WEAT_2/Word_embedding_quality_W2V/W2V_lemmatized_iter-2_dim-300_w-5_alpha-default_epochs-40_corpus-female_person_artist_lyrics_epoch-39/toefl_test.txt\n",
      "[2021-12-25 01:40:02,543 INFO] Running SYN-SEM test...\n",
      "[2021-12-25 01:40:02,543 INFO] Calling command: ./../data/evaluation_tests_word_embedding/syn_sem/compute-accuracy-txt ../data/evaluation_tests_word_embedding/temp_embs.txt 0 < ../data/evaluation_tests_word_embedding/syn_sem/questions-words.txt > ../results/experiment_W2V_several_runs_WEAT_2/Word_embedding_quality_W2V/W2V_lemmatized_iter-2_dim-300_w-5_alpha-default_epochs-40_corpus-female_person_artist_lyrics_epoch-39/syn-sem_test.txt\n"
     ]
    },
    {
     "name": "stdout",
     "output_type": "stream",
     "text": [
      "End training of W2V_lemmatized_iter-2_dim-300_w-5_alpha-default_epochs-40_corpus-female_person_artist_lyrics\n",
      "\n",
      "Start training corpus:  male_person_artist_lyrics\n",
      "Embedding name:  W2V_lemmatized_iter-2_dim-300_w-5_alpha-default_epochs-40_corpus-male_person_artist_lyrics\n",
      "Vocab done...\n",
      "Corpus count:  166966\n",
      "Corpus total words:  44363120\n",
      "Epoch #0 end\n"
     ]
    },
    {
     "name": "stderr",
     "output_type": "stream",
     "text": [
      "[2021-12-25 01:42:37,486 INFO] Start computation quality word embedding tests. Results will be saved at ../results/experiment_W2V_several_runs_WEAT_2/Word_embedding_quality_W2V/\n",
      "[2021-12-25 01:42:37,489 INFO] Number of unique words for tests: 2066\n",
      "[2021-12-25 01:42:37,489 INFO] Reading word vectors...\n",
      "[2021-12-25 01:42:37,902 INFO] Number of word vectors read: 10000...\n",
      "[2021-12-25 01:42:38,291 INFO] Number of word vectors read: 20000...\n",
      "[2021-12-25 01:42:38,681 INFO] Number of word vectors read: 30000...\n",
      "[2021-12-25 01:42:39,082 INFO] Number of word vectors read: 40000...\n",
      "[2021-12-25 01:42:39,321 INFO] Number of word vectors found: 1319\n",
      "[2021-12-25 01:42:39,321 INFO] Running: sed -i '' '1s/^/1319 300\\'$'\\n/' ../data/evaluation_tests_word_embedding/temp_embs.txt\n",
      "[2021-12-25 01:42:39,352 INFO] Running WS test...\n",
      "[2021-12-25 01:42:39,352 INFO] Calling command: ./../data/evaluation_tests_word_embedding/ws/ws ../data/evaluation_tests_word_embedding/temp_embs.txt > ../results/experiment_W2V_several_runs_WEAT_2/Word_embedding_quality_W2V/W2V_lemmatized_iter-2_dim-300_w-5_alpha-default_epochs-40_corpus-male_person_artist_lyrics_epoch-0/ws_test.txt\n",
      "[2021-12-25 01:42:39,454 INFO] Running TOEFL test...\n",
      "[2021-12-25 01:42:39,454 INFO] Calling command: ./../data/evaluation_tests_word_embedding/tfl/toefl ../data/evaluation_tests_word_embedding/temp_embs.txt > ../results/experiment_W2V_several_runs_WEAT_2/Word_embedding_quality_W2V/W2V_lemmatized_iter-2_dim-300_w-5_alpha-default_epochs-40_corpus-male_person_artist_lyrics_epoch-0/toefl_test.txt\n",
      "[2021-12-25 01:42:39,543 INFO] Running SYN-SEM test...\n",
      "[2021-12-25 01:42:39,543 INFO] Calling command: ./../data/evaluation_tests_word_embedding/syn_sem/compute-accuracy-txt ../data/evaluation_tests_word_embedding/temp_embs.txt 0 < ../data/evaluation_tests_word_embedding/syn_sem/questions-words.txt > ../results/experiment_W2V_several_runs_WEAT_2/Word_embedding_quality_W2V/W2V_lemmatized_iter-2_dim-300_w-5_alpha-default_epochs-40_corpus-male_person_artist_lyrics_epoch-0/syn-sem_test.txt\n"
     ]
    },
    {
     "name": "stdout",
     "output_type": "stream",
     "text": [
      "Epoch #5 end\n"
     ]
    },
    {
     "name": "stderr",
     "output_type": "stream",
     "text": [
      "[2021-12-25 01:53:38,002 INFO] Start computation quality word embedding tests. Results will be saved at ../results/experiment_W2V_several_runs_WEAT_2/Word_embedding_quality_W2V/\n",
      "[2021-12-25 01:53:38,006 INFO] Number of unique words for tests: 2066\n",
      "[2021-12-25 01:53:38,006 INFO] Reading word vectors...\n",
      "[2021-12-25 01:53:38,432 INFO] Number of word vectors read: 10000...\n",
      "[2021-12-25 01:53:38,819 INFO] Number of word vectors read: 20000...\n",
      "[2021-12-25 01:53:39,206 INFO] Number of word vectors read: 30000...\n",
      "[2021-12-25 01:53:39,585 INFO] Number of word vectors read: 40000...\n",
      "[2021-12-25 01:53:39,826 INFO] Number of word vectors found: 1319\n",
      "[2021-12-25 01:53:39,826 INFO] Running: sed -i '' '1s/^/1319 300\\'$'\\n/' ../data/evaluation_tests_word_embedding/temp_embs.txt\n",
      "[2021-12-25 01:53:39,882 INFO] Running WS test...\n",
      "[2021-12-25 01:53:39,883 INFO] Calling command: ./../data/evaluation_tests_word_embedding/ws/ws ../data/evaluation_tests_word_embedding/temp_embs.txt > ../results/experiment_W2V_several_runs_WEAT_2/Word_embedding_quality_W2V/W2V_lemmatized_iter-2_dim-300_w-5_alpha-default_epochs-40_corpus-male_person_artist_lyrics_epoch-5/ws_test.txt\n",
      "[2021-12-25 01:53:39,979 INFO] Running TOEFL test...\n",
      "[2021-12-25 01:53:39,980 INFO] Calling command: ./../data/evaluation_tests_word_embedding/tfl/toefl ../data/evaluation_tests_word_embedding/temp_embs.txt > ../results/experiment_W2V_several_runs_WEAT_2/Word_embedding_quality_W2V/W2V_lemmatized_iter-2_dim-300_w-5_alpha-default_epochs-40_corpus-male_person_artist_lyrics_epoch-5/toefl_test.txt\n",
      "[2021-12-25 01:53:40,065 INFO] Running SYN-SEM test...\n",
      "[2021-12-25 01:53:40,065 INFO] Calling command: ./../data/evaluation_tests_word_embedding/syn_sem/compute-accuracy-txt ../data/evaluation_tests_word_embedding/temp_embs.txt 0 < ../data/evaluation_tests_word_embedding/syn_sem/questions-words.txt > ../results/experiment_W2V_several_runs_WEAT_2/Word_embedding_quality_W2V/W2V_lemmatized_iter-2_dim-300_w-5_alpha-default_epochs-40_corpus-male_person_artist_lyrics_epoch-5/syn-sem_test.txt\n"
     ]
    },
    {
     "name": "stdout",
     "output_type": "stream",
     "text": [
      "Epoch #10 end\n"
     ]
    },
    {
     "name": "stderr",
     "output_type": "stream",
     "text": [
      "[2021-12-25 02:04:38,209 INFO] Start computation quality word embedding tests. Results will be saved at ../results/experiment_W2V_several_runs_WEAT_2/Word_embedding_quality_W2V/\n",
      "[2021-12-25 02:04:38,234 INFO] Number of unique words for tests: 2066\n",
      "[2021-12-25 02:04:38,235 INFO] Reading word vectors...\n",
      "[2021-12-25 02:04:38,667 INFO] Number of word vectors read: 10000...\n",
      "[2021-12-25 02:04:39,057 INFO] Number of word vectors read: 20000...\n",
      "[2021-12-25 02:04:39,439 INFO] Number of word vectors read: 30000...\n",
      "[2021-12-25 02:04:39,815 INFO] Number of word vectors read: 40000...\n",
      "[2021-12-25 02:04:40,057 INFO] Number of word vectors found: 1319\n",
      "[2021-12-25 02:04:40,057 INFO] Running: sed -i '' '1s/^/1319 300\\'$'\\n/' ../data/evaluation_tests_word_embedding/temp_embs.txt\n",
      "[2021-12-25 02:04:40,086 INFO] Running WS test...\n",
      "[2021-12-25 02:04:40,088 INFO] Calling command: ./../data/evaluation_tests_word_embedding/ws/ws ../data/evaluation_tests_word_embedding/temp_embs.txt > ../results/experiment_W2V_several_runs_WEAT_2/Word_embedding_quality_W2V/W2V_lemmatized_iter-2_dim-300_w-5_alpha-default_epochs-40_corpus-male_person_artist_lyrics_epoch-10/ws_test.txt\n",
      "[2021-12-25 02:04:40,181 INFO] Running TOEFL test...\n",
      "[2021-12-25 02:04:40,181 INFO] Calling command: ./../data/evaluation_tests_word_embedding/tfl/toefl ../data/evaluation_tests_word_embedding/temp_embs.txt > ../results/experiment_W2V_several_runs_WEAT_2/Word_embedding_quality_W2V/W2V_lemmatized_iter-2_dim-300_w-5_alpha-default_epochs-40_corpus-male_person_artist_lyrics_epoch-10/toefl_test.txt\n",
      "[2021-12-25 02:04:40,267 INFO] Running SYN-SEM test...\n",
      "[2021-12-25 02:04:40,267 INFO] Calling command: ./../data/evaluation_tests_word_embedding/syn_sem/compute-accuracy-txt ../data/evaluation_tests_word_embedding/temp_embs.txt 0 < ../data/evaluation_tests_word_embedding/syn_sem/questions-words.txt > ../results/experiment_W2V_several_runs_WEAT_2/Word_embedding_quality_W2V/W2V_lemmatized_iter-2_dim-300_w-5_alpha-default_epochs-40_corpus-male_person_artist_lyrics_epoch-10/syn-sem_test.txt\n"
     ]
    },
    {
     "name": "stdout",
     "output_type": "stream",
     "text": [
      "Epoch #15 end\n"
     ]
    },
    {
     "name": "stderr",
     "output_type": "stream",
     "text": [
      "[2021-12-25 02:15:37,444 INFO] Start computation quality word embedding tests. Results will be saved at ../results/experiment_W2V_several_runs_WEAT_2/Word_embedding_quality_W2V/\n",
      "[2021-12-25 02:15:37,454 INFO] Number of unique words for tests: 2066\n",
      "[2021-12-25 02:15:37,455 INFO] Reading word vectors...\n",
      "[2021-12-25 02:15:37,887 INFO] Number of word vectors read: 10000...\n",
      "[2021-12-25 02:15:38,285 INFO] Number of word vectors read: 20000...\n",
      "[2021-12-25 02:15:38,688 INFO] Number of word vectors read: 30000...\n",
      "[2021-12-25 02:15:39,065 INFO] Number of word vectors read: 40000...\n",
      "[2021-12-25 02:15:39,307 INFO] Number of word vectors found: 1319\n",
      "[2021-12-25 02:15:39,307 INFO] Running: sed -i '' '1s/^/1319 300\\'$'\\n/' ../data/evaluation_tests_word_embedding/temp_embs.txt\n",
      "[2021-12-25 02:15:39,355 INFO] Running WS test...\n",
      "[2021-12-25 02:15:39,362 INFO] Calling command: ./../data/evaluation_tests_word_embedding/ws/ws ../data/evaluation_tests_word_embedding/temp_embs.txt > ../results/experiment_W2V_several_runs_WEAT_2/Word_embedding_quality_W2V/W2V_lemmatized_iter-2_dim-300_w-5_alpha-default_epochs-40_corpus-male_person_artist_lyrics_epoch-15/ws_test.txt\n",
      "[2021-12-25 02:15:39,471 INFO] Running TOEFL test...\n",
      "[2021-12-25 02:15:39,471 INFO] Calling command: ./../data/evaluation_tests_word_embedding/tfl/toefl ../data/evaluation_tests_word_embedding/temp_embs.txt > ../results/experiment_W2V_several_runs_WEAT_2/Word_embedding_quality_W2V/W2V_lemmatized_iter-2_dim-300_w-5_alpha-default_epochs-40_corpus-male_person_artist_lyrics_epoch-15/toefl_test.txt\n",
      "[2021-12-25 02:15:39,558 INFO] Running SYN-SEM test...\n",
      "[2021-12-25 02:15:39,558 INFO] Calling command: ./../data/evaluation_tests_word_embedding/syn_sem/compute-accuracy-txt ../data/evaluation_tests_word_embedding/temp_embs.txt 0 < ../data/evaluation_tests_word_embedding/syn_sem/questions-words.txt > ../results/experiment_W2V_several_runs_WEAT_2/Word_embedding_quality_W2V/W2V_lemmatized_iter-2_dim-300_w-5_alpha-default_epochs-40_corpus-male_person_artist_lyrics_epoch-15/syn-sem_test.txt\n"
     ]
    },
    {
     "name": "stdout",
     "output_type": "stream",
     "text": [
      "Epoch #20 end\n"
     ]
    },
    {
     "name": "stderr",
     "output_type": "stream",
     "text": [
      "[2021-12-25 02:26:34,262 INFO] Start computation quality word embedding tests. Results will be saved at ../results/experiment_W2V_several_runs_WEAT_2/Word_embedding_quality_W2V/\n",
      "[2021-12-25 02:26:34,265 INFO] Number of unique words for tests: 2066\n",
      "[2021-12-25 02:26:34,265 INFO] Reading word vectors...\n",
      "[2021-12-25 02:26:34,766 INFO] Number of word vectors read: 10000...\n",
      "[2021-12-25 02:26:35,164 INFO] Number of word vectors read: 20000...\n",
      "[2021-12-25 02:26:35,573 INFO] Number of word vectors read: 30000...\n",
      "[2021-12-25 02:26:35,962 INFO] Number of word vectors read: 40000...\n",
      "[2021-12-25 02:26:36,229 INFO] Number of word vectors found: 1319\n",
      "[2021-12-25 02:26:36,229 INFO] Running: sed -i '' '1s/^/1319 300\\'$'\\n/' ../data/evaluation_tests_word_embedding/temp_embs.txt\n",
      "[2021-12-25 02:26:36,263 INFO] Running WS test...\n",
      "[2021-12-25 02:26:36,263 INFO] Calling command: ./../data/evaluation_tests_word_embedding/ws/ws ../data/evaluation_tests_word_embedding/temp_embs.txt > ../results/experiment_W2V_several_runs_WEAT_2/Word_embedding_quality_W2V/W2V_lemmatized_iter-2_dim-300_w-5_alpha-default_epochs-40_corpus-male_person_artist_lyrics_epoch-20/ws_test.txt\n",
      "[2021-12-25 02:26:36,361 INFO] Running TOEFL test...\n",
      "[2021-12-25 02:26:36,361 INFO] Calling command: ./../data/evaluation_tests_word_embedding/tfl/toefl ../data/evaluation_tests_word_embedding/temp_embs.txt > ../results/experiment_W2V_several_runs_WEAT_2/Word_embedding_quality_W2V/W2V_lemmatized_iter-2_dim-300_w-5_alpha-default_epochs-40_corpus-male_person_artist_lyrics_epoch-20/toefl_test.txt\n",
      "[2021-12-25 02:26:36,467 INFO] Running SYN-SEM test...\n",
      "[2021-12-25 02:26:36,467 INFO] Calling command: ./../data/evaluation_tests_word_embedding/syn_sem/compute-accuracy-txt ../data/evaluation_tests_word_embedding/temp_embs.txt 0 < ../data/evaluation_tests_word_embedding/syn_sem/questions-words.txt > ../results/experiment_W2V_several_runs_WEAT_2/Word_embedding_quality_W2V/W2V_lemmatized_iter-2_dim-300_w-5_alpha-default_epochs-40_corpus-male_person_artist_lyrics_epoch-20/syn-sem_test.txt\n"
     ]
    },
    {
     "name": "stdout",
     "output_type": "stream",
     "text": [
      "Epoch #25 end\n"
     ]
    },
    {
     "name": "stderr",
     "output_type": "stream",
     "text": [
      "[2021-12-25 02:37:35,750 INFO] Start computation quality word embedding tests. Results will be saved at ../results/experiment_W2V_several_runs_WEAT_2/Word_embedding_quality_W2V/\n",
      "[2021-12-25 02:37:35,759 INFO] Number of unique words for tests: 2066\n",
      "[2021-12-25 02:37:35,760 INFO] Reading word vectors...\n",
      "[2021-12-25 02:37:36,161 INFO] Number of word vectors read: 10000...\n",
      "[2021-12-25 02:37:36,532 INFO] Number of word vectors read: 20000...\n",
      "[2021-12-25 02:37:36,914 INFO] Number of word vectors read: 30000...\n",
      "[2021-12-25 02:37:37,296 INFO] Number of word vectors read: 40000...\n",
      "[2021-12-25 02:37:37,538 INFO] Number of word vectors found: 1319\n",
      "[2021-12-25 02:37:37,538 INFO] Running: sed -i '' '1s/^/1319 300\\'$'\\n/' ../data/evaluation_tests_word_embedding/temp_embs.txt\n",
      "[2021-12-25 02:37:37,567 INFO] Running WS test...\n",
      "[2021-12-25 02:37:37,568 INFO] Calling command: ./../data/evaluation_tests_word_embedding/ws/ws ../data/evaluation_tests_word_embedding/temp_embs.txt > ../results/experiment_W2V_several_runs_WEAT_2/Word_embedding_quality_W2V/W2V_lemmatized_iter-2_dim-300_w-5_alpha-default_epochs-40_corpus-male_person_artist_lyrics_epoch-25/ws_test.txt\n",
      "[2021-12-25 02:37:37,664 INFO] Running TOEFL test...\n",
      "[2021-12-25 02:37:37,665 INFO] Calling command: ./../data/evaluation_tests_word_embedding/tfl/toefl ../data/evaluation_tests_word_embedding/temp_embs.txt > ../results/experiment_W2V_several_runs_WEAT_2/Word_embedding_quality_W2V/W2V_lemmatized_iter-2_dim-300_w-5_alpha-default_epochs-40_corpus-male_person_artist_lyrics_epoch-25/toefl_test.txt\n",
      "[2021-12-25 02:37:37,749 INFO] Running SYN-SEM test...\n",
      "[2021-12-25 02:37:37,749 INFO] Calling command: ./../data/evaluation_tests_word_embedding/syn_sem/compute-accuracy-txt ../data/evaluation_tests_word_embedding/temp_embs.txt 0 < ../data/evaluation_tests_word_embedding/syn_sem/questions-words.txt > ../results/experiment_W2V_several_runs_WEAT_2/Word_embedding_quality_W2V/W2V_lemmatized_iter-2_dim-300_w-5_alpha-default_epochs-40_corpus-male_person_artist_lyrics_epoch-25/syn-sem_test.txt\n"
     ]
    },
    {
     "name": "stdout",
     "output_type": "stream",
     "text": [
      "Epoch #30 end\n"
     ]
    },
    {
     "name": "stderr",
     "output_type": "stream",
     "text": [
      "[2021-12-25 02:48:28,603 INFO] Start computation quality word embedding tests. Results will be saved at ../results/experiment_W2V_several_runs_WEAT_2/Word_embedding_quality_W2V/\n",
      "[2021-12-25 02:48:28,608 INFO] Number of unique words for tests: 2066\n",
      "[2021-12-25 02:48:28,608 INFO] Reading word vectors...\n",
      "[2021-12-25 02:48:29,015 INFO] Number of word vectors read: 10000...\n",
      "[2021-12-25 02:48:29,405 INFO] Number of word vectors read: 20000...\n",
      "[2021-12-25 02:48:29,799 INFO] Number of word vectors read: 30000...\n",
      "[2021-12-25 02:48:30,189 INFO] Number of word vectors read: 40000...\n",
      "[2021-12-25 02:48:30,431 INFO] Number of word vectors found: 1319\n",
      "[2021-12-25 02:48:30,431 INFO] Running: sed -i '' '1s/^/1319 300\\'$'\\n/' ../data/evaluation_tests_word_embedding/temp_embs.txt\n",
      "[2021-12-25 02:48:30,455 INFO] Running WS test...\n",
      "[2021-12-25 02:48:30,455 INFO] Calling command: ./../data/evaluation_tests_word_embedding/ws/ws ../data/evaluation_tests_word_embedding/temp_embs.txt > ../results/experiment_W2V_several_runs_WEAT_2/Word_embedding_quality_W2V/W2V_lemmatized_iter-2_dim-300_w-5_alpha-default_epochs-40_corpus-male_person_artist_lyrics_epoch-30/ws_test.txt\n",
      "[2021-12-25 02:48:30,544 INFO] Running TOEFL test...\n",
      "[2021-12-25 02:48:30,544 INFO] Calling command: ./../data/evaluation_tests_word_embedding/tfl/toefl ../data/evaluation_tests_word_embedding/temp_embs.txt > ../results/experiment_W2V_several_runs_WEAT_2/Word_embedding_quality_W2V/W2V_lemmatized_iter-2_dim-300_w-5_alpha-default_epochs-40_corpus-male_person_artist_lyrics_epoch-30/toefl_test.txt\n",
      "[2021-12-25 02:48:30,627 INFO] Running SYN-SEM test...\n",
      "[2021-12-25 02:48:30,627 INFO] Calling command: ./../data/evaluation_tests_word_embedding/syn_sem/compute-accuracy-txt ../data/evaluation_tests_word_embedding/temp_embs.txt 0 < ../data/evaluation_tests_word_embedding/syn_sem/questions-words.txt > ../results/experiment_W2V_several_runs_WEAT_2/Word_embedding_quality_W2V/W2V_lemmatized_iter-2_dim-300_w-5_alpha-default_epochs-40_corpus-male_person_artist_lyrics_epoch-30/syn-sem_test.txt\n"
     ]
    },
    {
     "name": "stdout",
     "output_type": "stream",
     "text": [
      "Epoch #35 end\n"
     ]
    },
    {
     "name": "stderr",
     "output_type": "stream",
     "text": [
      "[2021-12-25 02:59:25,403 INFO] Start computation quality word embedding tests. Results will be saved at ../results/experiment_W2V_several_runs_WEAT_2/Word_embedding_quality_W2V/\n",
      "[2021-12-25 02:59:25,407 INFO] Number of unique words for tests: 2066\n",
      "[2021-12-25 02:59:25,408 INFO] Reading word vectors...\n",
      "[2021-12-25 02:59:25,842 INFO] Number of word vectors read: 10000...\n",
      "[2021-12-25 02:59:26,238 INFO] Number of word vectors read: 20000...\n",
      "[2021-12-25 02:59:26,609 INFO] Number of word vectors read: 30000...\n",
      "[2021-12-25 02:59:26,990 INFO] Number of word vectors read: 40000...\n",
      "[2021-12-25 02:59:27,232 INFO] Number of word vectors found: 1319\n",
      "[2021-12-25 02:59:27,233 INFO] Running: sed -i '' '1s/^/1319 300\\'$'\\n/' ../data/evaluation_tests_word_embedding/temp_embs.txt\n",
      "[2021-12-25 02:59:27,259 INFO] Running WS test...\n",
      "[2021-12-25 02:59:27,260 INFO] Calling command: ./../data/evaluation_tests_word_embedding/ws/ws ../data/evaluation_tests_word_embedding/temp_embs.txt > ../results/experiment_W2V_several_runs_WEAT_2/Word_embedding_quality_W2V/W2V_lemmatized_iter-2_dim-300_w-5_alpha-default_epochs-40_corpus-male_person_artist_lyrics_epoch-35/ws_test.txt\n",
      "[2021-12-25 02:59:27,348 INFO] Running TOEFL test...\n",
      "[2021-12-25 02:59:27,348 INFO] Calling command: ./../data/evaluation_tests_word_embedding/tfl/toefl ../data/evaluation_tests_word_embedding/temp_embs.txt > ../results/experiment_W2V_several_runs_WEAT_2/Word_embedding_quality_W2V/W2V_lemmatized_iter-2_dim-300_w-5_alpha-default_epochs-40_corpus-male_person_artist_lyrics_epoch-35/toefl_test.txt\n",
      "[2021-12-25 02:59:27,432 INFO] Running SYN-SEM test...\n",
      "[2021-12-25 02:59:27,432 INFO] Calling command: ./../data/evaluation_tests_word_embedding/syn_sem/compute-accuracy-txt ../data/evaluation_tests_word_embedding/temp_embs.txt 0 < ../data/evaluation_tests_word_embedding/syn_sem/questions-words.txt > ../results/experiment_W2V_several_runs_WEAT_2/Word_embedding_quality_W2V/W2V_lemmatized_iter-2_dim-300_w-5_alpha-default_epochs-40_corpus-male_person_artist_lyrics_epoch-35/syn-sem_test.txt\n",
      "[2021-12-25 03:08:14,159 INFO] Start computation quality word embedding tests. Results will be saved at ../results/experiment_W2V_several_runs_WEAT_2/Word_embedding_quality_W2V/\n",
      "[2021-12-25 03:08:14,169 INFO] Number of unique words for tests: 2066\n",
      "[2021-12-25 03:08:14,169 INFO] Reading word vectors...\n",
      "[2021-12-25 03:08:14,603 INFO] Number of word vectors read: 10000...\n",
      "[2021-12-25 03:08:14,981 INFO] Number of word vectors read: 20000...\n",
      "[2021-12-25 03:08:15,360 INFO] Number of word vectors read: 30000...\n",
      "[2021-12-25 03:08:15,743 INFO] Number of word vectors read: 40000...\n",
      "[2021-12-25 03:08:16,006 INFO] Number of word vectors found: 1319\n",
      "[2021-12-25 03:08:16,006 INFO] Running: sed -i '' '1s/^/1319 300\\'$'\\n/' ../data/evaluation_tests_word_embedding/temp_embs.txt\n",
      "[2021-12-25 03:08:16,032 INFO] Running WS test...\n",
      "[2021-12-25 03:08:16,033 INFO] Calling command: ./../data/evaluation_tests_word_embedding/ws/ws ../data/evaluation_tests_word_embedding/temp_embs.txt > ../results/experiment_W2V_several_runs_WEAT_2/Word_embedding_quality_W2V/W2V_lemmatized_iter-2_dim-300_w-5_alpha-default_epochs-40_corpus-male_person_artist_lyrics_epoch-39/ws_test.txt\n",
      "[2021-12-25 03:08:16,121 INFO] Running TOEFL test...\n",
      "[2021-12-25 03:08:16,121 INFO] Calling command: ./../data/evaluation_tests_word_embedding/tfl/toefl ../data/evaluation_tests_word_embedding/temp_embs.txt > ../results/experiment_W2V_several_runs_WEAT_2/Word_embedding_quality_W2V/W2V_lemmatized_iter-2_dim-300_w-5_alpha-default_epochs-40_corpus-male_person_artist_lyrics_epoch-39/toefl_test.txt\n",
      "[2021-12-25 03:08:16,205 INFO] Running SYN-SEM test...\n",
      "[2021-12-25 03:08:16,205 INFO] Calling command: ./../data/evaluation_tests_word_embedding/syn_sem/compute-accuracy-txt ../data/evaluation_tests_word_embedding/temp_embs.txt 0 < ../data/evaluation_tests_word_embedding/syn_sem/questions-words.txt > ../results/experiment_W2V_several_runs_WEAT_2/Word_embedding_quality_W2V/W2V_lemmatized_iter-2_dim-300_w-5_alpha-default_epochs-40_corpus-male_person_artist_lyrics_epoch-39/syn-sem_test.txt\n"
     ]
    },
    {
     "name": "stdout",
     "output_type": "stream",
     "text": [
      "End training of W2V_lemmatized_iter-2_dim-300_w-5_alpha-default_epochs-40_corpus-male_person_artist_lyrics\n",
      "\n",
      "Start training corpus:  all_person_artist_lyrics\n",
      "Embedding name:  W2V_lemmatized_iter-2_dim-300_w-5_alpha-default_epochs-40_corpus-all_person_artist_lyrics\n",
      "Vocab done...\n",
      "Corpus count:  237846\n",
      "Corpus total words:  60312307\n",
      "Epoch #0 end\n"
     ]
    },
    {
     "name": "stderr",
     "output_type": "stream",
     "text": [
      "[2021-12-25 03:11:48,610 INFO] Start computation quality word embedding tests. Results will be saved at ../results/experiment_W2V_several_runs_WEAT_2/Word_embedding_quality_W2V/\n",
      "[2021-12-25 03:11:48,613 INFO] Number of unique words for tests: 2066\n",
      "[2021-12-25 03:11:48,613 INFO] Reading word vectors...\n",
      "[2021-12-25 03:11:49,045 INFO] Number of word vectors read: 10000...\n",
      "[2021-12-25 03:11:49,439 INFO] Number of word vectors read: 20000...\n",
      "[2021-12-25 03:11:49,827 INFO] Number of word vectors read: 30000...\n",
      "[2021-12-25 03:11:50,212 INFO] Number of word vectors read: 40000...\n",
      "[2021-12-25 03:11:50,581 INFO] Number of word vectors found: 1341\n",
      "[2021-12-25 03:11:50,581 INFO] Running: sed -i '' '1s/^/1341 300\\'$'\\n/' ../data/evaluation_tests_word_embedding/temp_embs.txt\n",
      "[2021-12-25 03:11:50,631 INFO] Running WS test...\n",
      "[2021-12-25 03:11:50,632 INFO] Calling command: ./../data/evaluation_tests_word_embedding/ws/ws ../data/evaluation_tests_word_embedding/temp_embs.txt > ../results/experiment_W2V_several_runs_WEAT_2/Word_embedding_quality_W2V/W2V_lemmatized_iter-2_dim-300_w-5_alpha-default_epochs-40_corpus-all_person_artist_lyrics_epoch-0/ws_test.txt\n",
      "[2021-12-25 03:11:50,729 INFO] Running TOEFL test...\n",
      "[2021-12-25 03:11:50,729 INFO] Calling command: ./../data/evaluation_tests_word_embedding/tfl/toefl ../data/evaluation_tests_word_embedding/temp_embs.txt > ../results/experiment_W2V_several_runs_WEAT_2/Word_embedding_quality_W2V/W2V_lemmatized_iter-2_dim-300_w-5_alpha-default_epochs-40_corpus-all_person_artist_lyrics_epoch-0/toefl_test.txt\n",
      "[2021-12-25 03:11:50,815 INFO] Running SYN-SEM test...\n",
      "[2021-12-25 03:11:50,815 INFO] Calling command: ./../data/evaluation_tests_word_embedding/syn_sem/compute-accuracy-txt ../data/evaluation_tests_word_embedding/temp_embs.txt 0 < ../data/evaluation_tests_word_embedding/syn_sem/questions-words.txt > ../results/experiment_W2V_several_runs_WEAT_2/Word_embedding_quality_W2V/W2V_lemmatized_iter-2_dim-300_w-5_alpha-default_epochs-40_corpus-all_person_artist_lyrics_epoch-0/syn-sem_test.txt\n"
     ]
    },
    {
     "name": "stdout",
     "output_type": "stream",
     "text": [
      "Epoch #5 end\n"
     ]
    },
    {
     "name": "stderr",
     "output_type": "stream",
     "text": [
      "[2021-12-25 03:26:23,916 INFO] Start computation quality word embedding tests. Results will be saved at ../results/experiment_W2V_several_runs_WEAT_2/Word_embedding_quality_W2V/\n",
      "[2021-12-25 03:26:23,926 INFO] Number of unique words for tests: 2066\n",
      "[2021-12-25 03:26:23,926 INFO] Reading word vectors...\n",
      "[2021-12-25 03:26:24,375 INFO] Number of word vectors read: 10000...\n",
      "[2021-12-25 03:26:24,785 INFO] Number of word vectors read: 20000...\n",
      "[2021-12-25 03:26:25,184 INFO] Number of word vectors read: 30000...\n",
      "[2021-12-25 03:26:25,587 INFO] Number of word vectors read: 40000...\n",
      "[2021-12-25 03:26:25,981 INFO] Number of word vectors found: 1341\n",
      "[2021-12-25 03:26:25,981 INFO] Running: sed -i '' '1s/^/1341 300\\'$'\\n/' ../data/evaluation_tests_word_embedding/temp_embs.txt\n",
      "[2021-12-25 03:26:26,015 INFO] Running WS test...\n",
      "[2021-12-25 03:26:26,016 INFO] Calling command: ./../data/evaluation_tests_word_embedding/ws/ws ../data/evaluation_tests_word_embedding/temp_embs.txt > ../results/experiment_W2V_several_runs_WEAT_2/Word_embedding_quality_W2V/W2V_lemmatized_iter-2_dim-300_w-5_alpha-default_epochs-40_corpus-all_person_artist_lyrics_epoch-5/ws_test.txt\n",
      "[2021-12-25 03:26:26,121 INFO] Running TOEFL test...\n",
      "[2021-12-25 03:26:26,121 INFO] Calling command: ./../data/evaluation_tests_word_embedding/tfl/toefl ../data/evaluation_tests_word_embedding/temp_embs.txt > ../results/experiment_W2V_several_runs_WEAT_2/Word_embedding_quality_W2V/W2V_lemmatized_iter-2_dim-300_w-5_alpha-default_epochs-40_corpus-all_person_artist_lyrics_epoch-5/toefl_test.txt\n",
      "[2021-12-25 03:26:26,209 INFO] Running SYN-SEM test...\n",
      "[2021-12-25 03:26:26,209 INFO] Calling command: ./../data/evaluation_tests_word_embedding/syn_sem/compute-accuracy-txt ../data/evaluation_tests_word_embedding/temp_embs.txt 0 < ../data/evaluation_tests_word_embedding/syn_sem/questions-words.txt > ../results/experiment_W2V_several_runs_WEAT_2/Word_embedding_quality_W2V/W2V_lemmatized_iter-2_dim-300_w-5_alpha-default_epochs-40_corpus-all_person_artist_lyrics_epoch-5/syn-sem_test.txt\n"
     ]
    },
    {
     "name": "stdout",
     "output_type": "stream",
     "text": [
      "Epoch #10 end\n"
     ]
    },
    {
     "name": "stderr",
     "output_type": "stream",
     "text": [
      "[2021-12-25 03:41:04,004 INFO] Start computation quality word embedding tests. Results will be saved at ../results/experiment_W2V_several_runs_WEAT_2/Word_embedding_quality_W2V/\n",
      "[2021-12-25 03:41:04,014 INFO] Number of unique words for tests: 2066\n",
      "[2021-12-25 03:41:04,014 INFO] Reading word vectors...\n",
      "[2021-12-25 03:41:04,610 INFO] Number of word vectors read: 10000...\n",
      "[2021-12-25 03:41:05,017 INFO] Number of word vectors read: 20000...\n",
      "[2021-12-25 03:41:05,404 INFO] Number of word vectors read: 30000...\n",
      "[2021-12-25 03:41:05,774 INFO] Number of word vectors read: 40000...\n",
      "[2021-12-25 03:41:06,146 INFO] Number of word vectors found: 1341\n",
      "[2021-12-25 03:41:06,146 INFO] Running: sed -i '' '1s/^/1341 300\\'$'\\n/' ../data/evaluation_tests_word_embedding/temp_embs.txt\n",
      "[2021-12-25 03:41:06,174 INFO] Running WS test...\n",
      "[2021-12-25 03:41:06,175 INFO] Calling command: ./../data/evaluation_tests_word_embedding/ws/ws ../data/evaluation_tests_word_embedding/temp_embs.txt > ../results/experiment_W2V_several_runs_WEAT_2/Word_embedding_quality_W2V/W2V_lemmatized_iter-2_dim-300_w-5_alpha-default_epochs-40_corpus-all_person_artist_lyrics_epoch-10/ws_test.txt\n",
      "[2021-12-25 03:41:06,271 INFO] Running TOEFL test...\n",
      "[2021-12-25 03:41:06,271 INFO] Calling command: ./../data/evaluation_tests_word_embedding/tfl/toefl ../data/evaluation_tests_word_embedding/temp_embs.txt > ../results/experiment_W2V_several_runs_WEAT_2/Word_embedding_quality_W2V/W2V_lemmatized_iter-2_dim-300_w-5_alpha-default_epochs-40_corpus-all_person_artist_lyrics_epoch-10/toefl_test.txt\n",
      "[2021-12-25 03:41:06,359 INFO] Running SYN-SEM test...\n",
      "[2021-12-25 03:41:06,359 INFO] Calling command: ./../data/evaluation_tests_word_embedding/syn_sem/compute-accuracy-txt ../data/evaluation_tests_word_embedding/temp_embs.txt 0 < ../data/evaluation_tests_word_embedding/syn_sem/questions-words.txt > ../results/experiment_W2V_several_runs_WEAT_2/Word_embedding_quality_W2V/W2V_lemmatized_iter-2_dim-300_w-5_alpha-default_epochs-40_corpus-all_person_artist_lyrics_epoch-10/syn-sem_test.txt\n"
     ]
    },
    {
     "name": "stdout",
     "output_type": "stream",
     "text": [
      "Epoch #15 end\n"
     ]
    },
    {
     "name": "stderr",
     "output_type": "stream",
     "text": [
      "[2021-12-25 03:55:34,562 INFO] Start computation quality word embedding tests. Results will be saved at ../results/experiment_W2V_several_runs_WEAT_2/Word_embedding_quality_W2V/\n",
      "[2021-12-25 03:55:34,573 INFO] Number of unique words for tests: 2066\n",
      "[2021-12-25 03:55:34,573 INFO] Reading word vectors...\n",
      "[2021-12-25 03:55:35,004 INFO] Number of word vectors read: 10000...\n",
      "[2021-12-25 03:55:35,395 INFO] Number of word vectors read: 20000...\n",
      "[2021-12-25 03:55:35,776 INFO] Number of word vectors read: 30000...\n",
      "[2021-12-25 03:55:36,164 INFO] Number of word vectors read: 40000...\n",
      "[2021-12-25 03:55:36,545 INFO] Number of word vectors found: 1341\n",
      "[2021-12-25 03:55:36,545 INFO] Running: sed -i '' '1s/^/1341 300\\'$'\\n/' ../data/evaluation_tests_word_embedding/temp_embs.txt\n",
      "[2021-12-25 03:55:36,575 INFO] Running WS test...\n",
      "[2021-12-25 03:55:36,576 INFO] Calling command: ./../data/evaluation_tests_word_embedding/ws/ws ../data/evaluation_tests_word_embedding/temp_embs.txt > ../results/experiment_W2V_several_runs_WEAT_2/Word_embedding_quality_W2V/W2V_lemmatized_iter-2_dim-300_w-5_alpha-default_epochs-40_corpus-all_person_artist_lyrics_epoch-15/ws_test.txt\n",
      "[2021-12-25 03:55:36,671 INFO] Running TOEFL test...\n",
      "[2021-12-25 03:55:36,671 INFO] Calling command: ./../data/evaluation_tests_word_embedding/tfl/toefl ../data/evaluation_tests_word_embedding/temp_embs.txt > ../results/experiment_W2V_several_runs_WEAT_2/Word_embedding_quality_W2V/W2V_lemmatized_iter-2_dim-300_w-5_alpha-default_epochs-40_corpus-all_person_artist_lyrics_epoch-15/toefl_test.txt\n",
      "[2021-12-25 03:55:36,760 INFO] Running SYN-SEM test...\n",
      "[2021-12-25 03:55:36,761 INFO] Calling command: ./../data/evaluation_tests_word_embedding/syn_sem/compute-accuracy-txt ../data/evaluation_tests_word_embedding/temp_embs.txt 0 < ../data/evaluation_tests_word_embedding/syn_sem/questions-words.txt > ../results/experiment_W2V_several_runs_WEAT_2/Word_embedding_quality_W2V/W2V_lemmatized_iter-2_dim-300_w-5_alpha-default_epochs-40_corpus-all_person_artist_lyrics_epoch-15/syn-sem_test.txt\n"
     ]
    },
    {
     "name": "stdout",
     "output_type": "stream",
     "text": [
      "Epoch #20 end\n"
     ]
    },
    {
     "name": "stderr",
     "output_type": "stream",
     "text": [
      "[2021-12-25 04:10:05,501 INFO] Start computation quality word embedding tests. Results will be saved at ../results/experiment_W2V_several_runs_WEAT_2/Word_embedding_quality_W2V/\n",
      "[2021-12-25 04:10:05,504 INFO] Number of unique words for tests: 2066\n",
      "[2021-12-25 04:10:05,505 INFO] Reading word vectors...\n",
      "[2021-12-25 04:10:05,950 INFO] Number of word vectors read: 10000...\n",
      "[2021-12-25 04:10:06,372 INFO] Number of word vectors read: 20000...\n",
      "[2021-12-25 04:10:06,797 INFO] Number of word vectors read: 30000...\n",
      "[2021-12-25 04:10:07,175 INFO] Number of word vectors read: 40000...\n",
      "[2021-12-25 04:10:07,568 INFO] Number of word vectors found: 1341\n",
      "[2021-12-25 04:10:07,569 INFO] Running: sed -i '' '1s/^/1341 300\\'$'\\n/' ../data/evaluation_tests_word_embedding/temp_embs.txt\n",
      "[2021-12-25 04:10:07,602 INFO] Running WS test...\n",
      "[2021-12-25 04:10:07,607 INFO] Calling command: ./../data/evaluation_tests_word_embedding/ws/ws ../data/evaluation_tests_word_embedding/temp_embs.txt > ../results/experiment_W2V_several_runs_WEAT_2/Word_embedding_quality_W2V/W2V_lemmatized_iter-2_dim-300_w-5_alpha-default_epochs-40_corpus-all_person_artist_lyrics_epoch-20/ws_test.txt\n",
      "[2021-12-25 04:10:07,736 INFO] Running TOEFL test...\n",
      "[2021-12-25 04:10:07,737 INFO] Calling command: ./../data/evaluation_tests_word_embedding/tfl/toefl ../data/evaluation_tests_word_embedding/temp_embs.txt > ../results/experiment_W2V_several_runs_WEAT_2/Word_embedding_quality_W2V/W2V_lemmatized_iter-2_dim-300_w-5_alpha-default_epochs-40_corpus-all_person_artist_lyrics_epoch-20/toefl_test.txt\n",
      "[2021-12-25 04:10:07,827 INFO] Running SYN-SEM test...\n",
      "[2021-12-25 04:10:07,827 INFO] Calling command: ./../data/evaluation_tests_word_embedding/syn_sem/compute-accuracy-txt ../data/evaluation_tests_word_embedding/temp_embs.txt 0 < ../data/evaluation_tests_word_embedding/syn_sem/questions-words.txt > ../results/experiment_W2V_several_runs_WEAT_2/Word_embedding_quality_W2V/W2V_lemmatized_iter-2_dim-300_w-5_alpha-default_epochs-40_corpus-all_person_artist_lyrics_epoch-20/syn-sem_test.txt\n"
     ]
    },
    {
     "name": "stdout",
     "output_type": "stream",
     "text": [
      "Epoch #25 end\n"
     ]
    },
    {
     "name": "stderr",
     "output_type": "stream",
     "text": [
      "[2021-12-25 04:24:40,116 INFO] Start computation quality word embedding tests. Results will be saved at ../results/experiment_W2V_several_runs_WEAT_2/Word_embedding_quality_W2V/\n",
      "[2021-12-25 04:24:40,127 INFO] Number of unique words for tests: 2066\n",
      "[2021-12-25 04:24:40,127 INFO] Reading word vectors...\n",
      "[2021-12-25 04:24:40,572 INFO] Number of word vectors read: 10000...\n",
      "[2021-12-25 04:24:40,968 INFO] Number of word vectors read: 20000...\n",
      "[2021-12-25 04:24:41,347 INFO] Number of word vectors read: 30000...\n",
      "[2021-12-25 04:24:41,727 INFO] Number of word vectors read: 40000...\n",
      "[2021-12-25 04:24:42,090 INFO] Number of word vectors found: 1341\n",
      "[2021-12-25 04:24:42,090 INFO] Running: sed -i '' '1s/^/1341 300\\'$'\\n/' ../data/evaluation_tests_word_embedding/temp_embs.txt\n",
      "[2021-12-25 04:24:42,139 INFO] Running WS test...\n",
      "[2021-12-25 04:24:42,141 INFO] Calling command: ./../data/evaluation_tests_word_embedding/ws/ws ../data/evaluation_tests_word_embedding/temp_embs.txt > ../results/experiment_W2V_several_runs_WEAT_2/Word_embedding_quality_W2V/W2V_lemmatized_iter-2_dim-300_w-5_alpha-default_epochs-40_corpus-all_person_artist_lyrics_epoch-25/ws_test.txt\n",
      "[2021-12-25 04:24:42,259 INFO] Running TOEFL test...\n",
      "[2021-12-25 04:24:42,259 INFO] Calling command: ./../data/evaluation_tests_word_embedding/tfl/toefl ../data/evaluation_tests_word_embedding/temp_embs.txt > ../results/experiment_W2V_several_runs_WEAT_2/Word_embedding_quality_W2V/W2V_lemmatized_iter-2_dim-300_w-5_alpha-default_epochs-40_corpus-all_person_artist_lyrics_epoch-25/toefl_test.txt\n",
      "[2021-12-25 04:24:42,348 INFO] Running SYN-SEM test...\n",
      "[2021-12-25 04:24:42,348 INFO] Calling command: ./../data/evaluation_tests_word_embedding/syn_sem/compute-accuracy-txt ../data/evaluation_tests_word_embedding/temp_embs.txt 0 < ../data/evaluation_tests_word_embedding/syn_sem/questions-words.txt > ../results/experiment_W2V_several_runs_WEAT_2/Word_embedding_quality_W2V/W2V_lemmatized_iter-2_dim-300_w-5_alpha-default_epochs-40_corpus-all_person_artist_lyrics_epoch-25/syn-sem_test.txt\n"
     ]
    },
    {
     "name": "stdout",
     "output_type": "stream",
     "text": [
      "Epoch #30 end\n"
     ]
    },
    {
     "name": "stderr",
     "output_type": "stream",
     "text": [
      "[2021-12-25 04:39:13,914 INFO] Start computation quality word embedding tests. Results will be saved at ../results/experiment_W2V_several_runs_WEAT_2/Word_embedding_quality_W2V/\n",
      "[2021-12-25 04:39:13,917 INFO] Number of unique words for tests: 2066\n",
      "[2021-12-25 04:39:13,918 INFO] Reading word vectors...\n",
      "[2021-12-25 04:39:14,358 INFO] Number of word vectors read: 10000...\n",
      "[2021-12-25 04:39:14,752 INFO] Number of word vectors read: 20000...\n",
      "[2021-12-25 04:39:15,140 INFO] Number of word vectors read: 30000...\n",
      "[2021-12-25 04:39:15,513 INFO] Number of word vectors read: 40000...\n",
      "[2021-12-25 04:39:15,889 INFO] Number of word vectors found: 1341\n",
      "[2021-12-25 04:39:15,889 INFO] Running: sed -i '' '1s/^/1341 300\\'$'\\n/' ../data/evaluation_tests_word_embedding/temp_embs.txt\n",
      "[2021-12-25 04:39:15,957 INFO] Running WS test...\n",
      "[2021-12-25 04:39:15,960 INFO] Calling command: ./../data/evaluation_tests_word_embedding/ws/ws ../data/evaluation_tests_word_embedding/temp_embs.txt > ../results/experiment_W2V_several_runs_WEAT_2/Word_embedding_quality_W2V/W2V_lemmatized_iter-2_dim-300_w-5_alpha-default_epochs-40_corpus-all_person_artist_lyrics_epoch-30/ws_test.txt\n",
      "[2021-12-25 04:39:16,055 INFO] Running TOEFL test...\n",
      "[2021-12-25 04:39:16,055 INFO] Calling command: ./../data/evaluation_tests_word_embedding/tfl/toefl ../data/evaluation_tests_word_embedding/temp_embs.txt > ../results/experiment_W2V_several_runs_WEAT_2/Word_embedding_quality_W2V/W2V_lemmatized_iter-2_dim-300_w-5_alpha-default_epochs-40_corpus-all_person_artist_lyrics_epoch-30/toefl_test.txt\n",
      "[2021-12-25 04:39:16,139 INFO] Running SYN-SEM test...\n",
      "[2021-12-25 04:39:16,140 INFO] Calling command: ./../data/evaluation_tests_word_embedding/syn_sem/compute-accuracy-txt ../data/evaluation_tests_word_embedding/temp_embs.txt 0 < ../data/evaluation_tests_word_embedding/syn_sem/questions-words.txt > ../results/experiment_W2V_several_runs_WEAT_2/Word_embedding_quality_W2V/W2V_lemmatized_iter-2_dim-300_w-5_alpha-default_epochs-40_corpus-all_person_artist_lyrics_epoch-30/syn-sem_test.txt\n"
     ]
    },
    {
     "name": "stdout",
     "output_type": "stream",
     "text": [
      "Epoch #35 end\n"
     ]
    },
    {
     "name": "stderr",
     "output_type": "stream",
     "text": [
      "[2021-12-25 04:53:45,168 INFO] Start computation quality word embedding tests. Results will be saved at ../results/experiment_W2V_several_runs_WEAT_2/Word_embedding_quality_W2V/\n",
      "[2021-12-25 04:53:45,178 INFO] Number of unique words for tests: 2066\n",
      "[2021-12-25 04:53:45,178 INFO] Reading word vectors...\n",
      "[2021-12-25 04:53:45,612 INFO] Number of word vectors read: 10000...\n",
      "[2021-12-25 04:53:45,989 INFO] Number of word vectors read: 20000...\n",
      "[2021-12-25 04:53:46,363 INFO] Number of word vectors read: 30000...\n",
      "[2021-12-25 04:53:46,748 INFO] Number of word vectors read: 40000...\n",
      "[2021-12-25 04:53:47,125 INFO] Number of word vectors found: 1341\n",
      "[2021-12-25 04:53:47,125 INFO] Running: sed -i '' '1s/^/1341 300\\'$'\\n/' ../data/evaluation_tests_word_embedding/temp_embs.txt\n",
      "[2021-12-25 04:53:47,150 INFO] Running WS test...\n",
      "[2021-12-25 04:53:47,151 INFO] Calling command: ./../data/evaluation_tests_word_embedding/ws/ws ../data/evaluation_tests_word_embedding/temp_embs.txt > ../results/experiment_W2V_several_runs_WEAT_2/Word_embedding_quality_W2V/W2V_lemmatized_iter-2_dim-300_w-5_alpha-default_epochs-40_corpus-all_person_artist_lyrics_epoch-35/ws_test.txt\n",
      "[2021-12-25 04:53:47,245 INFO] Running TOEFL test...\n",
      "[2021-12-25 04:53:47,245 INFO] Calling command: ./../data/evaluation_tests_word_embedding/tfl/toefl ../data/evaluation_tests_word_embedding/temp_embs.txt > ../results/experiment_W2V_several_runs_WEAT_2/Word_embedding_quality_W2V/W2V_lemmatized_iter-2_dim-300_w-5_alpha-default_epochs-40_corpus-all_person_artist_lyrics_epoch-35/toefl_test.txt\n",
      "[2021-12-25 04:53:47,334 INFO] Running SYN-SEM test...\n",
      "[2021-12-25 04:53:47,334 INFO] Calling command: ./../data/evaluation_tests_word_embedding/syn_sem/compute-accuracy-txt ../data/evaluation_tests_word_embedding/temp_embs.txt 0 < ../data/evaluation_tests_word_embedding/syn_sem/questions-words.txt > ../results/experiment_W2V_several_runs_WEAT_2/Word_embedding_quality_W2V/W2V_lemmatized_iter-2_dim-300_w-5_alpha-default_epochs-40_corpus-all_person_artist_lyrics_epoch-35/syn-sem_test.txt\n",
      "[2021-12-25 05:05:27,378 INFO] Start computation quality word embedding tests. Results will be saved at ../results/experiment_W2V_several_runs_WEAT_2/Word_embedding_quality_W2V/\n",
      "[2021-12-25 05:05:27,388 INFO] Number of unique words for tests: 2066\n",
      "[2021-12-25 05:05:27,389 INFO] Reading word vectors...\n",
      "[2021-12-25 05:05:27,795 INFO] Number of word vectors read: 10000...\n",
      "[2021-12-25 05:05:28,178 INFO] Number of word vectors read: 20000...\n",
      "[2021-12-25 05:05:28,553 INFO] Number of word vectors read: 30000...\n",
      "[2021-12-25 05:05:28,937 INFO] Number of word vectors read: 40000...\n",
      "[2021-12-25 05:05:29,311 INFO] Number of word vectors found: 1341\n",
      "[2021-12-25 05:05:29,312 INFO] Running: sed -i '' '1s/^/1341 300\\'$'\\n/' ../data/evaluation_tests_word_embedding/temp_embs.txt\n",
      "[2021-12-25 05:05:29,347 INFO] Running WS test...\n",
      "[2021-12-25 05:05:29,350 INFO] Calling command: ./../data/evaluation_tests_word_embedding/ws/ws ../data/evaluation_tests_word_embedding/temp_embs.txt > ../results/experiment_W2V_several_runs_WEAT_2/Word_embedding_quality_W2V/W2V_lemmatized_iter-2_dim-300_w-5_alpha-default_epochs-40_corpus-all_person_artist_lyrics_epoch-39/ws_test.txt\n",
      "[2021-12-25 05:05:29,455 INFO] Running TOEFL test...\n",
      "[2021-12-25 05:05:29,455 INFO] Calling command: ./../data/evaluation_tests_word_embedding/tfl/toefl ../data/evaluation_tests_word_embedding/temp_embs.txt > ../results/experiment_W2V_several_runs_WEAT_2/Word_embedding_quality_W2V/W2V_lemmatized_iter-2_dim-300_w-5_alpha-default_epochs-40_corpus-all_person_artist_lyrics_epoch-39/toefl_test.txt\n",
      "[2021-12-25 05:05:29,546 INFO] Running SYN-SEM test...\n",
      "[2021-12-25 05:05:29,547 INFO] Calling command: ./../data/evaluation_tests_word_embedding/syn_sem/compute-accuracy-txt ../data/evaluation_tests_word_embedding/temp_embs.txt 0 < ../data/evaluation_tests_word_embedding/syn_sem/questions-words.txt > ../results/experiment_W2V_several_runs_WEAT_2/Word_embedding_quality_W2V/W2V_lemmatized_iter-2_dim-300_w-5_alpha-default_epochs-40_corpus-all_person_artist_lyrics_epoch-39/syn-sem_test.txt\n"
     ]
    },
    {
     "name": "stdout",
     "output_type": "stream",
     "text": [
      "End training of W2V_lemmatized_iter-2_dim-300_w-5_alpha-default_epochs-40_corpus-all_person_artist_lyrics\n",
      "\n",
      "Start training corpus:  female_person_artist_lyrics\n",
      "Embedding name:  W2V_lemmatized_iter-3_dim-300_w-5_alpha-default_epochs-40_corpus-female_person_artist_lyrics\n",
      "Vocab done...\n",
      "Corpus count:  70880\n",
      "Corpus total words:  15949187\n",
      "Epoch #0 end\n"
     ]
    },
    {
     "name": "stderr",
     "output_type": "stream",
     "text": [
      "[2021-12-25 05:06:36,871 INFO] Start computation quality word embedding tests. Results will be saved at ../results/experiment_W2V_several_runs_WEAT_2/Word_embedding_quality_W2V/\n",
      "[2021-12-25 05:06:36,873 INFO] Number of unique words for tests: 2066\n",
      "[2021-12-25 05:06:36,874 INFO] Reading word vectors...\n",
      "[2021-12-25 05:06:37,277 INFO] Number of word vectors read: 10000...\n",
      "[2021-12-25 05:06:37,654 INFO] Number of word vectors read: 20000...\n",
      "[2021-12-25 05:06:37,768 INFO] Number of word vectors found: 1099\n",
      "[2021-12-25 05:06:37,768 INFO] Running: sed -i '' '1s/^/1099 300\\'$'\\n/' ../data/evaluation_tests_word_embedding/temp_embs.txt\n",
      "[2021-12-25 05:06:37,789 INFO] Running WS test...\n",
      "[2021-12-25 05:06:37,790 INFO] Calling command: ./../data/evaluation_tests_word_embedding/ws/ws ../data/evaluation_tests_word_embedding/temp_embs.txt > ../results/experiment_W2V_several_runs_WEAT_2/Word_embedding_quality_W2V/W2V_lemmatized_iter-3_dim-300_w-5_alpha-default_epochs-40_corpus-female_person_artist_lyrics_epoch-0/ws_test.txt\n",
      "[2021-12-25 05:06:37,869 INFO] Running TOEFL test...\n",
      "[2021-12-25 05:06:37,869 INFO] Calling command: ./../data/evaluation_tests_word_embedding/tfl/toefl ../data/evaluation_tests_word_embedding/temp_embs.txt > ../results/experiment_W2V_several_runs_WEAT_2/Word_embedding_quality_W2V/W2V_lemmatized_iter-3_dim-300_w-5_alpha-default_epochs-40_corpus-female_person_artist_lyrics_epoch-0/toefl_test.txt\n",
      "[2021-12-25 05:06:37,939 INFO] Running SYN-SEM test...\n",
      "[2021-12-25 05:06:37,939 INFO] Calling command: ./../data/evaluation_tests_word_embedding/syn_sem/compute-accuracy-txt ../data/evaluation_tests_word_embedding/temp_embs.txt 0 < ../data/evaluation_tests_word_embedding/syn_sem/questions-words.txt > ../results/experiment_W2V_several_runs_WEAT_2/Word_embedding_quality_W2V/W2V_lemmatized_iter-3_dim-300_w-5_alpha-default_epochs-40_corpus-female_person_artist_lyrics_epoch-0/syn-sem_test.txt\n"
     ]
    },
    {
     "name": "stdout",
     "output_type": "stream",
     "text": [
      "Epoch #5 end\n"
     ]
    },
    {
     "name": "stderr",
     "output_type": "stream",
     "text": [
      "[2021-12-25 05:10:06,152 INFO] Start computation quality word embedding tests. Results will be saved at ../results/experiment_W2V_several_runs_WEAT_2/Word_embedding_quality_W2V/\n",
      "[2021-12-25 05:10:06,154 INFO] Number of unique words for tests: 2066\n",
      "[2021-12-25 05:10:06,154 INFO] Reading word vectors...\n",
      "[2021-12-25 05:10:06,547 INFO] Number of word vectors read: 10000...\n",
      "[2021-12-25 05:10:06,935 INFO] Number of word vectors read: 20000...\n",
      "[2021-12-25 05:10:07,044 INFO] Number of word vectors found: 1099\n",
      "[2021-12-25 05:10:07,044 INFO] Running: sed -i '' '1s/^/1099 300\\'$'\\n/' ../data/evaluation_tests_word_embedding/temp_embs.txt\n",
      "[2021-12-25 05:10:07,062 INFO] Running WS test...\n",
      "[2021-12-25 05:10:07,063 INFO] Calling command: ./../data/evaluation_tests_word_embedding/ws/ws ../data/evaluation_tests_word_embedding/temp_embs.txt > ../results/experiment_W2V_several_runs_WEAT_2/Word_embedding_quality_W2V/W2V_lemmatized_iter-3_dim-300_w-5_alpha-default_epochs-40_corpus-female_person_artist_lyrics_epoch-5/ws_test.txt\n",
      "[2021-12-25 05:10:07,142 INFO] Running TOEFL test...\n",
      "[2021-12-25 05:10:07,142 INFO] Calling command: ./../data/evaluation_tests_word_embedding/tfl/toefl ../data/evaluation_tests_word_embedding/temp_embs.txt > ../results/experiment_W2V_several_runs_WEAT_2/Word_embedding_quality_W2V/W2V_lemmatized_iter-3_dim-300_w-5_alpha-default_epochs-40_corpus-female_person_artist_lyrics_epoch-5/toefl_test.txt\n",
      "[2021-12-25 05:10:07,210 INFO] Running SYN-SEM test...\n",
      "[2021-12-25 05:10:07,210 INFO] Calling command: ./../data/evaluation_tests_word_embedding/syn_sem/compute-accuracy-txt ../data/evaluation_tests_word_embedding/temp_embs.txt 0 < ../data/evaluation_tests_word_embedding/syn_sem/questions-words.txt > ../results/experiment_W2V_several_runs_WEAT_2/Word_embedding_quality_W2V/W2V_lemmatized_iter-3_dim-300_w-5_alpha-default_epochs-40_corpus-female_person_artist_lyrics_epoch-5/syn-sem_test.txt\n"
     ]
    },
    {
     "name": "stdout",
     "output_type": "stream",
     "text": [
      "Epoch #10 end\n"
     ]
    },
    {
     "name": "stderr",
     "output_type": "stream",
     "text": [
      "[2021-12-25 05:13:36,974 INFO] Start computation quality word embedding tests. Results will be saved at ../results/experiment_W2V_several_runs_WEAT_2/Word_embedding_quality_W2V/\n",
      "[2021-12-25 05:13:36,976 INFO] Number of unique words for tests: 2066\n",
      "[2021-12-25 05:13:36,976 INFO] Reading word vectors...\n",
      "[2021-12-25 05:13:37,354 INFO] Number of word vectors read: 10000...\n",
      "[2021-12-25 05:13:37,729 INFO] Number of word vectors read: 20000...\n",
      "[2021-12-25 05:13:37,833 INFO] Number of word vectors found: 1099\n",
      "[2021-12-25 05:13:37,833 INFO] Running: sed -i '' '1s/^/1099 300\\'$'\\n/' ../data/evaluation_tests_word_embedding/temp_embs.txt\n",
      "[2021-12-25 05:13:37,860 INFO] Running WS test...\n",
      "[2021-12-25 05:13:37,860 INFO] Calling command: ./../data/evaluation_tests_word_embedding/ws/ws ../data/evaluation_tests_word_embedding/temp_embs.txt > ../results/experiment_W2V_several_runs_WEAT_2/Word_embedding_quality_W2V/W2V_lemmatized_iter-3_dim-300_w-5_alpha-default_epochs-40_corpus-female_person_artist_lyrics_epoch-10/ws_test.txt\n",
      "[2021-12-25 05:13:37,931 INFO] Running TOEFL test...\n",
      "[2021-12-25 05:13:37,931 INFO] Calling command: ./../data/evaluation_tests_word_embedding/tfl/toefl ../data/evaluation_tests_word_embedding/temp_embs.txt > ../results/experiment_W2V_several_runs_WEAT_2/Word_embedding_quality_W2V/W2V_lemmatized_iter-3_dim-300_w-5_alpha-default_epochs-40_corpus-female_person_artist_lyrics_epoch-10/toefl_test.txt\n",
      "[2021-12-25 05:13:37,999 INFO] Running SYN-SEM test...\n",
      "[2021-12-25 05:13:37,999 INFO] Calling command: ./../data/evaluation_tests_word_embedding/syn_sem/compute-accuracy-txt ../data/evaluation_tests_word_embedding/temp_embs.txt 0 < ../data/evaluation_tests_word_embedding/syn_sem/questions-words.txt > ../results/experiment_W2V_several_runs_WEAT_2/Word_embedding_quality_W2V/W2V_lemmatized_iter-3_dim-300_w-5_alpha-default_epochs-40_corpus-female_person_artist_lyrics_epoch-10/syn-sem_test.txt\n"
     ]
    },
    {
     "name": "stdout",
     "output_type": "stream",
     "text": [
      "Epoch #15 end\n"
     ]
    },
    {
     "name": "stderr",
     "output_type": "stream",
     "text": [
      "[2021-12-25 05:17:07,727 INFO] Start computation quality word embedding tests. Results will be saved at ../results/experiment_W2V_several_runs_WEAT_2/Word_embedding_quality_W2V/\n",
      "[2021-12-25 05:17:07,729 INFO] Number of unique words for tests: 2066\n",
      "[2021-12-25 05:17:07,729 INFO] Reading word vectors...\n",
      "[2021-12-25 05:17:08,128 INFO] Number of word vectors read: 10000...\n",
      "[2021-12-25 05:17:08,515 INFO] Number of word vectors read: 20000...\n",
      "[2021-12-25 05:17:08,619 INFO] Number of word vectors found: 1099\n",
      "[2021-12-25 05:17:08,619 INFO] Running: sed -i '' '1s/^/1099 300\\'$'\\n/' ../data/evaluation_tests_word_embedding/temp_embs.txt\n",
      "[2021-12-25 05:17:08,640 INFO] Running WS test...\n",
      "[2021-12-25 05:17:08,641 INFO] Calling command: ./../data/evaluation_tests_word_embedding/ws/ws ../data/evaluation_tests_word_embedding/temp_embs.txt > ../results/experiment_W2V_several_runs_WEAT_2/Word_embedding_quality_W2V/W2V_lemmatized_iter-3_dim-300_w-5_alpha-default_epochs-40_corpus-female_person_artist_lyrics_epoch-15/ws_test.txt\n",
      "[2021-12-25 05:17:08,714 INFO] Running TOEFL test...\n",
      "[2021-12-25 05:17:08,714 INFO] Calling command: ./../data/evaluation_tests_word_embedding/tfl/toefl ../data/evaluation_tests_word_embedding/temp_embs.txt > ../results/experiment_W2V_several_runs_WEAT_2/Word_embedding_quality_W2V/W2V_lemmatized_iter-3_dim-300_w-5_alpha-default_epochs-40_corpus-female_person_artist_lyrics_epoch-15/toefl_test.txt\n",
      "[2021-12-25 05:17:08,783 INFO] Running SYN-SEM test...\n",
      "[2021-12-25 05:17:08,783 INFO] Calling command: ./../data/evaluation_tests_word_embedding/syn_sem/compute-accuracy-txt ../data/evaluation_tests_word_embedding/temp_embs.txt 0 < ../data/evaluation_tests_word_embedding/syn_sem/questions-words.txt > ../results/experiment_W2V_several_runs_WEAT_2/Word_embedding_quality_W2V/W2V_lemmatized_iter-3_dim-300_w-5_alpha-default_epochs-40_corpus-female_person_artist_lyrics_epoch-15/syn-sem_test.txt\n"
     ]
    },
    {
     "name": "stdout",
     "output_type": "stream",
     "text": [
      "Epoch #20 end\n"
     ]
    },
    {
     "name": "stderr",
     "output_type": "stream",
     "text": [
      "[2021-12-25 05:20:38,378 INFO] Start computation quality word embedding tests. Results will be saved at ../results/experiment_W2V_several_runs_WEAT_2/Word_embedding_quality_W2V/\n",
      "[2021-12-25 05:20:38,379 INFO] Number of unique words for tests: 2066\n",
      "[2021-12-25 05:20:38,379 INFO] Reading word vectors...\n",
      "[2021-12-25 05:20:38,766 INFO] Number of word vectors read: 10000...\n",
      "[2021-12-25 05:20:39,150 INFO] Number of word vectors read: 20000...\n",
      "[2021-12-25 05:20:39,256 INFO] Number of word vectors found: 1099\n",
      "[2021-12-25 05:20:39,257 INFO] Running: sed -i '' '1s/^/1099 300\\'$'\\n/' ../data/evaluation_tests_word_embedding/temp_embs.txt\n",
      "[2021-12-25 05:20:39,276 INFO] Running WS test...\n",
      "[2021-12-25 05:20:39,277 INFO] Calling command: ./../data/evaluation_tests_word_embedding/ws/ws ../data/evaluation_tests_word_embedding/temp_embs.txt > ../results/experiment_W2V_several_runs_WEAT_2/Word_embedding_quality_W2V/W2V_lemmatized_iter-3_dim-300_w-5_alpha-default_epochs-40_corpus-female_person_artist_lyrics_epoch-20/ws_test.txt\n",
      "[2021-12-25 05:20:39,350 INFO] Running TOEFL test...\n",
      "[2021-12-25 05:20:39,350 INFO] Calling command: ./../data/evaluation_tests_word_embedding/tfl/toefl ../data/evaluation_tests_word_embedding/temp_embs.txt > ../results/experiment_W2V_several_runs_WEAT_2/Word_embedding_quality_W2V/W2V_lemmatized_iter-3_dim-300_w-5_alpha-default_epochs-40_corpus-female_person_artist_lyrics_epoch-20/toefl_test.txt\n",
      "[2021-12-25 05:20:39,420 INFO] Running SYN-SEM test...\n",
      "[2021-12-25 05:20:39,420 INFO] Calling command: ./../data/evaluation_tests_word_embedding/syn_sem/compute-accuracy-txt ../data/evaluation_tests_word_embedding/temp_embs.txt 0 < ../data/evaluation_tests_word_embedding/syn_sem/questions-words.txt > ../results/experiment_W2V_several_runs_WEAT_2/Word_embedding_quality_W2V/W2V_lemmatized_iter-3_dim-300_w-5_alpha-default_epochs-40_corpus-female_person_artist_lyrics_epoch-20/syn-sem_test.txt\n"
     ]
    },
    {
     "name": "stdout",
     "output_type": "stream",
     "text": [
      "Epoch #25 end\n"
     ]
    },
    {
     "name": "stderr",
     "output_type": "stream",
     "text": [
      "[2021-12-25 05:24:09,797 INFO] Start computation quality word embedding tests. Results will be saved at ../results/experiment_W2V_several_runs_WEAT_2/Word_embedding_quality_W2V/\n",
      "[2021-12-25 05:24:09,799 INFO] Number of unique words for tests: 2066\n",
      "[2021-12-25 05:24:09,799 INFO] Reading word vectors...\n",
      "[2021-12-25 05:24:10,199 INFO] Number of word vectors read: 10000...\n",
      "[2021-12-25 05:24:10,582 INFO] Number of word vectors read: 20000...\n",
      "[2021-12-25 05:24:10,688 INFO] Number of word vectors found: 1099\n",
      "[2021-12-25 05:24:10,688 INFO] Running: sed -i '' '1s/^/1099 300\\'$'\\n/' ../data/evaluation_tests_word_embedding/temp_embs.txt\n",
      "[2021-12-25 05:24:10,711 INFO] Running WS test...\n",
      "[2021-12-25 05:24:10,712 INFO] Calling command: ./../data/evaluation_tests_word_embedding/ws/ws ../data/evaluation_tests_word_embedding/temp_embs.txt > ../results/experiment_W2V_several_runs_WEAT_2/Word_embedding_quality_W2V/W2V_lemmatized_iter-3_dim-300_w-5_alpha-default_epochs-40_corpus-female_person_artist_lyrics_epoch-25/ws_test.txt\n",
      "[2021-12-25 05:24:10,787 INFO] Running TOEFL test...\n",
      "[2021-12-25 05:24:10,787 INFO] Calling command: ./../data/evaluation_tests_word_embedding/tfl/toefl ../data/evaluation_tests_word_embedding/temp_embs.txt > ../results/experiment_W2V_several_runs_WEAT_2/Word_embedding_quality_W2V/W2V_lemmatized_iter-3_dim-300_w-5_alpha-default_epochs-40_corpus-female_person_artist_lyrics_epoch-25/toefl_test.txt\n",
      "[2021-12-25 05:24:10,858 INFO] Running SYN-SEM test...\n",
      "[2021-12-25 05:24:10,858 INFO] Calling command: ./../data/evaluation_tests_word_embedding/syn_sem/compute-accuracy-txt ../data/evaluation_tests_word_embedding/temp_embs.txt 0 < ../data/evaluation_tests_word_embedding/syn_sem/questions-words.txt > ../results/experiment_W2V_several_runs_WEAT_2/Word_embedding_quality_W2V/W2V_lemmatized_iter-3_dim-300_w-5_alpha-default_epochs-40_corpus-female_person_artist_lyrics_epoch-25/syn-sem_test.txt\n"
     ]
    },
    {
     "name": "stdout",
     "output_type": "stream",
     "text": [
      "Epoch #30 end\n"
     ]
    },
    {
     "name": "stderr",
     "output_type": "stream",
     "text": [
      "[2021-12-25 05:27:41,729 INFO] Start computation quality word embedding tests. Results will be saved at ../results/experiment_W2V_several_runs_WEAT_2/Word_embedding_quality_W2V/\n",
      "[2021-12-25 05:27:41,730 INFO] Number of unique words for tests: 2066\n",
      "[2021-12-25 05:27:41,730 INFO] Reading word vectors...\n",
      "[2021-12-25 05:27:42,117 INFO] Number of word vectors read: 10000...\n",
      "[2021-12-25 05:27:42,501 INFO] Number of word vectors read: 20000...\n",
      "[2021-12-25 05:27:42,606 INFO] Number of word vectors found: 1099\n",
      "[2021-12-25 05:27:42,606 INFO] Running: sed -i '' '1s/^/1099 300\\'$'\\n/' ../data/evaluation_tests_word_embedding/temp_embs.txt\n",
      "[2021-12-25 05:27:42,630 INFO] Running WS test...\n",
      "[2021-12-25 05:27:42,631 INFO] Calling command: ./../data/evaluation_tests_word_embedding/ws/ws ../data/evaluation_tests_word_embedding/temp_embs.txt > ../results/experiment_W2V_several_runs_WEAT_2/Word_embedding_quality_W2V/W2V_lemmatized_iter-3_dim-300_w-5_alpha-default_epochs-40_corpus-female_person_artist_lyrics_epoch-30/ws_test.txt\n",
      "[2021-12-25 05:27:42,704 INFO] Running TOEFL test...\n",
      "[2021-12-25 05:27:42,705 INFO] Calling command: ./../data/evaluation_tests_word_embedding/tfl/toefl ../data/evaluation_tests_word_embedding/temp_embs.txt > ../results/experiment_W2V_several_runs_WEAT_2/Word_embedding_quality_W2V/W2V_lemmatized_iter-3_dim-300_w-5_alpha-default_epochs-40_corpus-female_person_artist_lyrics_epoch-30/toefl_test.txt\n",
      "[2021-12-25 05:27:42,776 INFO] Running SYN-SEM test...\n",
      "[2021-12-25 05:27:42,776 INFO] Calling command: ./../data/evaluation_tests_word_embedding/syn_sem/compute-accuracy-txt ../data/evaluation_tests_word_embedding/temp_embs.txt 0 < ../data/evaluation_tests_word_embedding/syn_sem/questions-words.txt > ../results/experiment_W2V_several_runs_WEAT_2/Word_embedding_quality_W2V/W2V_lemmatized_iter-3_dim-300_w-5_alpha-default_epochs-40_corpus-female_person_artist_lyrics_epoch-30/syn-sem_test.txt\n"
     ]
    },
    {
     "name": "stdout",
     "output_type": "stream",
     "text": [
      "Epoch #35 end\n"
     ]
    },
    {
     "name": "stderr",
     "output_type": "stream",
     "text": [
      "[2021-12-25 05:31:12,178 INFO] Start computation quality word embedding tests. Results will be saved at ../results/experiment_W2V_several_runs_WEAT_2/Word_embedding_quality_W2V/\n",
      "[2021-12-25 05:31:12,181 INFO] Number of unique words for tests: 2066\n",
      "[2021-12-25 05:31:12,181 INFO] Reading word vectors...\n",
      "[2021-12-25 05:31:12,632 INFO] Number of word vectors read: 10000...\n",
      "[2021-12-25 05:31:13,026 INFO] Number of word vectors read: 20000...\n",
      "[2021-12-25 05:31:13,136 INFO] Number of word vectors found: 1099\n",
      "[2021-12-25 05:31:13,137 INFO] Running: sed -i '' '1s/^/1099 300\\'$'\\n/' ../data/evaluation_tests_word_embedding/temp_embs.txt\n",
      "[2021-12-25 05:31:13,160 INFO] Running WS test...\n",
      "[2021-12-25 05:31:13,166 INFO] Calling command: ./../data/evaluation_tests_word_embedding/ws/ws ../data/evaluation_tests_word_embedding/temp_embs.txt > ../results/experiment_W2V_several_runs_WEAT_2/Word_embedding_quality_W2V/W2V_lemmatized_iter-3_dim-300_w-5_alpha-default_epochs-40_corpus-female_person_artist_lyrics_epoch-35/ws_test.txt\n",
      "[2021-12-25 05:31:13,266 INFO] Running TOEFL test...\n",
      "[2021-12-25 05:31:13,266 INFO] Calling command: ./../data/evaluation_tests_word_embedding/tfl/toefl ../data/evaluation_tests_word_embedding/temp_embs.txt > ../results/experiment_W2V_several_runs_WEAT_2/Word_embedding_quality_W2V/W2V_lemmatized_iter-3_dim-300_w-5_alpha-default_epochs-40_corpus-female_person_artist_lyrics_epoch-35/toefl_test.txt\n",
      "[2021-12-25 05:31:13,385 INFO] Running SYN-SEM test...\n",
      "[2021-12-25 05:31:13,385 INFO] Calling command: ./../data/evaluation_tests_word_embedding/syn_sem/compute-accuracy-txt ../data/evaluation_tests_word_embedding/temp_embs.txt 0 < ../data/evaluation_tests_word_embedding/syn_sem/questions-words.txt > ../results/experiment_W2V_several_runs_WEAT_2/Word_embedding_quality_W2V/W2V_lemmatized_iter-3_dim-300_w-5_alpha-default_epochs-40_corpus-female_person_artist_lyrics_epoch-35/syn-sem_test.txt\n",
      "[2021-12-25 05:34:01,887 INFO] Start computation quality word embedding tests. Results will be saved at ../results/experiment_W2V_several_runs_WEAT_2/Word_embedding_quality_W2V/\n",
      "[2021-12-25 05:34:01,889 INFO] Number of unique words for tests: 2066\n",
      "[2021-12-25 05:34:01,889 INFO] Reading word vectors...\n",
      "[2021-12-25 05:34:02,285 INFO] Number of word vectors read: 10000...\n",
      "[2021-12-25 05:34:02,675 INFO] Number of word vectors read: 20000...\n",
      "[2021-12-25 05:34:02,777 INFO] Number of word vectors found: 1099\n",
      "[2021-12-25 05:34:02,777 INFO] Running: sed -i '' '1s/^/1099 300\\'$'\\n/' ../data/evaluation_tests_word_embedding/temp_embs.txt\n",
      "[2021-12-25 05:34:02,798 INFO] Running WS test...\n",
      "[2021-12-25 05:34:02,798 INFO] Calling command: ./../data/evaluation_tests_word_embedding/ws/ws ../data/evaluation_tests_word_embedding/temp_embs.txt > ../results/experiment_W2V_several_runs_WEAT_2/Word_embedding_quality_W2V/W2V_lemmatized_iter-3_dim-300_w-5_alpha-default_epochs-40_corpus-female_person_artist_lyrics_epoch-39/ws_test.txt\n",
      "[2021-12-25 05:34:02,870 INFO] Running TOEFL test...\n",
      "[2021-12-25 05:34:02,870 INFO] Calling command: ./../data/evaluation_tests_word_embedding/tfl/toefl ../data/evaluation_tests_word_embedding/temp_embs.txt > ../results/experiment_W2V_several_runs_WEAT_2/Word_embedding_quality_W2V/W2V_lemmatized_iter-3_dim-300_w-5_alpha-default_epochs-40_corpus-female_person_artist_lyrics_epoch-39/toefl_test.txt\n",
      "[2021-12-25 05:34:02,939 INFO] Running SYN-SEM test...\n",
      "[2021-12-25 05:34:02,939 INFO] Calling command: ./../data/evaluation_tests_word_embedding/syn_sem/compute-accuracy-txt ../data/evaluation_tests_word_embedding/temp_embs.txt 0 < ../data/evaluation_tests_word_embedding/syn_sem/questions-words.txt > ../results/experiment_W2V_several_runs_WEAT_2/Word_embedding_quality_W2V/W2V_lemmatized_iter-3_dim-300_w-5_alpha-default_epochs-40_corpus-female_person_artist_lyrics_epoch-39/syn-sem_test.txt\n"
     ]
    },
    {
     "name": "stdout",
     "output_type": "stream",
     "text": [
      "End training of W2V_lemmatized_iter-3_dim-300_w-5_alpha-default_epochs-40_corpus-female_person_artist_lyrics\n",
      "\n",
      "Start training corpus:  male_person_artist_lyrics\n",
      "Embedding name:  W2V_lemmatized_iter-3_dim-300_w-5_alpha-default_epochs-40_corpus-male_person_artist_lyrics\n",
      "Vocab done...\n",
      "Corpus count:  166966\n",
      "Corpus total words:  44363120\n",
      "Epoch #0 end\n"
     ]
    },
    {
     "name": "stderr",
     "output_type": "stream",
     "text": [
      "[2021-12-25 05:36:38,604 INFO] Start computation quality word embedding tests. Results will be saved at ../results/experiment_W2V_several_runs_WEAT_2/Word_embedding_quality_W2V/\n",
      "[2021-12-25 05:36:38,615 INFO] Number of unique words for tests: 2066\n",
      "[2021-12-25 05:36:38,616 INFO] Reading word vectors...\n",
      "[2021-12-25 05:36:39,019 INFO] Number of word vectors read: 10000...\n",
      "[2021-12-25 05:36:39,394 INFO] Number of word vectors read: 20000...\n",
      "[2021-12-25 05:36:39,767 INFO] Number of word vectors read: 30000...\n",
      "[2021-12-25 05:36:40,155 INFO] Number of word vectors read: 40000...\n",
      "[2021-12-25 05:36:40,399 INFO] Number of word vectors found: 1319\n",
      "[2021-12-25 05:36:40,399 INFO] Running: sed -i '' '1s/^/1319 300\\'$'\\n/' ../data/evaluation_tests_word_embedding/temp_embs.txt\n",
      "[2021-12-25 05:36:40,427 INFO] Running WS test...\n",
      "[2021-12-25 05:36:40,428 INFO] Calling command: ./../data/evaluation_tests_word_embedding/ws/ws ../data/evaluation_tests_word_embedding/temp_embs.txt > ../results/experiment_W2V_several_runs_WEAT_2/Word_embedding_quality_W2V/W2V_lemmatized_iter-3_dim-300_w-5_alpha-default_epochs-40_corpus-male_person_artist_lyrics_epoch-0/ws_test.txt\n",
      "[2021-12-25 05:36:40,525 INFO] Running TOEFL test...\n",
      "[2021-12-25 05:36:40,525 INFO] Calling command: ./../data/evaluation_tests_word_embedding/tfl/toefl ../data/evaluation_tests_word_embedding/temp_embs.txt > ../results/experiment_W2V_several_runs_WEAT_2/Word_embedding_quality_W2V/W2V_lemmatized_iter-3_dim-300_w-5_alpha-default_epochs-40_corpus-male_person_artist_lyrics_epoch-0/toefl_test.txt\n",
      "[2021-12-25 05:36:40,610 INFO] Running SYN-SEM test...\n",
      "[2021-12-25 05:36:40,610 INFO] Calling command: ./../data/evaluation_tests_word_embedding/syn_sem/compute-accuracy-txt ../data/evaluation_tests_word_embedding/temp_embs.txt 0 < ../data/evaluation_tests_word_embedding/syn_sem/questions-words.txt > ../results/experiment_W2V_several_runs_WEAT_2/Word_embedding_quality_W2V/W2V_lemmatized_iter-3_dim-300_w-5_alpha-default_epochs-40_corpus-male_person_artist_lyrics_epoch-0/syn-sem_test.txt\n"
     ]
    },
    {
     "name": "stdout",
     "output_type": "stream",
     "text": [
      "Epoch #5 end\n"
     ]
    },
    {
     "name": "stderr",
     "output_type": "stream",
     "text": [
      "[2021-12-25 05:47:36,151 INFO] Start computation quality word embedding tests. Results will be saved at ../results/experiment_W2V_several_runs_WEAT_2/Word_embedding_quality_W2V/\n",
      "[2021-12-25 05:47:36,153 INFO] Number of unique words for tests: 2066\n",
      "[2021-12-25 05:47:36,153 INFO] Reading word vectors...\n",
      "[2021-12-25 05:47:36,549 INFO] Number of word vectors read: 10000...\n",
      "[2021-12-25 05:47:36,920 INFO] Number of word vectors read: 20000...\n",
      "[2021-12-25 05:47:37,301 INFO] Number of word vectors read: 30000...\n",
      "[2021-12-25 05:47:37,688 INFO] Number of word vectors read: 40000...\n",
      "[2021-12-25 05:47:37,928 INFO] Number of word vectors found: 1319\n",
      "[2021-12-25 05:47:37,928 INFO] Running: sed -i '' '1s/^/1319 300\\'$'\\n/' ../data/evaluation_tests_word_embedding/temp_embs.txt\n",
      "[2021-12-25 05:47:37,953 INFO] Running WS test...\n",
      "[2021-12-25 05:47:37,954 INFO] Calling command: ./../data/evaluation_tests_word_embedding/ws/ws ../data/evaluation_tests_word_embedding/temp_embs.txt > ../results/experiment_W2V_several_runs_WEAT_2/Word_embedding_quality_W2V/W2V_lemmatized_iter-3_dim-300_w-5_alpha-default_epochs-40_corpus-male_person_artist_lyrics_epoch-5/ws_test.txt\n",
      "[2021-12-25 05:47:38,044 INFO] Running TOEFL test...\n",
      "[2021-12-25 05:47:38,044 INFO] Calling command: ./../data/evaluation_tests_word_embedding/tfl/toefl ../data/evaluation_tests_word_embedding/temp_embs.txt > ../results/experiment_W2V_several_runs_WEAT_2/Word_embedding_quality_W2V/W2V_lemmatized_iter-3_dim-300_w-5_alpha-default_epochs-40_corpus-male_person_artist_lyrics_epoch-5/toefl_test.txt\n",
      "[2021-12-25 05:47:38,126 INFO] Running SYN-SEM test...\n",
      "[2021-12-25 05:47:38,126 INFO] Calling command: ./../data/evaluation_tests_word_embedding/syn_sem/compute-accuracy-txt ../data/evaluation_tests_word_embedding/temp_embs.txt 0 < ../data/evaluation_tests_word_embedding/syn_sem/questions-words.txt > ../results/experiment_W2V_several_runs_WEAT_2/Word_embedding_quality_W2V/W2V_lemmatized_iter-3_dim-300_w-5_alpha-default_epochs-40_corpus-male_person_artist_lyrics_epoch-5/syn-sem_test.txt\n"
     ]
    },
    {
     "name": "stdout",
     "output_type": "stream",
     "text": [
      "Epoch #10 end\n"
     ]
    },
    {
     "name": "stderr",
     "output_type": "stream",
     "text": [
      "[2021-12-25 05:58:33,497 INFO] Start computation quality word embedding tests. Results will be saved at ../results/experiment_W2V_several_runs_WEAT_2/Word_embedding_quality_W2V/\n",
      "[2021-12-25 05:58:33,500 INFO] Number of unique words for tests: 2066\n",
      "[2021-12-25 05:58:33,501 INFO] Reading word vectors...\n",
      "[2021-12-25 05:58:33,899 INFO] Number of word vectors read: 10000...\n",
      "[2021-12-25 05:58:34,270 INFO] Number of word vectors read: 20000...\n",
      "[2021-12-25 05:58:34,658 INFO] Number of word vectors read: 30000...\n",
      "[2021-12-25 05:58:35,055 INFO] Number of word vectors read: 40000...\n",
      "[2021-12-25 05:58:35,296 INFO] Number of word vectors found: 1319\n",
      "[2021-12-25 05:58:35,297 INFO] Running: sed -i '' '1s/^/1319 300\\'$'\\n/' ../data/evaluation_tests_word_embedding/temp_embs.txt\n",
      "[2021-12-25 05:58:35,322 INFO] Running WS test...\n",
      "[2021-12-25 05:58:35,323 INFO] Calling command: ./../data/evaluation_tests_word_embedding/ws/ws ../data/evaluation_tests_word_embedding/temp_embs.txt > ../results/experiment_W2V_several_runs_WEAT_2/Word_embedding_quality_W2V/W2V_lemmatized_iter-3_dim-300_w-5_alpha-default_epochs-40_corpus-male_person_artist_lyrics_epoch-10/ws_test.txt\n",
      "[2021-12-25 05:58:35,412 INFO] Running TOEFL test...\n",
      "[2021-12-25 05:58:35,412 INFO] Calling command: ./../data/evaluation_tests_word_embedding/tfl/toefl ../data/evaluation_tests_word_embedding/temp_embs.txt > ../results/experiment_W2V_several_runs_WEAT_2/Word_embedding_quality_W2V/W2V_lemmatized_iter-3_dim-300_w-5_alpha-default_epochs-40_corpus-male_person_artist_lyrics_epoch-10/toefl_test.txt\n",
      "[2021-12-25 05:58:35,495 INFO] Running SYN-SEM test...\n",
      "[2021-12-25 05:58:35,495 INFO] Calling command: ./../data/evaluation_tests_word_embedding/syn_sem/compute-accuracy-txt ../data/evaluation_tests_word_embedding/temp_embs.txt 0 < ../data/evaluation_tests_word_embedding/syn_sem/questions-words.txt > ../results/experiment_W2V_several_runs_WEAT_2/Word_embedding_quality_W2V/W2V_lemmatized_iter-3_dim-300_w-5_alpha-default_epochs-40_corpus-male_person_artist_lyrics_epoch-10/syn-sem_test.txt\n"
     ]
    },
    {
     "name": "stdout",
     "output_type": "stream",
     "text": [
      "Epoch #15 end\n"
     ]
    },
    {
     "name": "stderr",
     "output_type": "stream",
     "text": [
      "[2021-12-25 06:09:29,060 INFO] Start computation quality word embedding tests. Results will be saved at ../results/experiment_W2V_several_runs_WEAT_2/Word_embedding_quality_W2V/\n",
      "[2021-12-25 06:09:29,070 INFO] Number of unique words for tests: 2066\n",
      "[2021-12-25 06:09:29,070 INFO] Reading word vectors...\n",
      "[2021-12-25 06:09:29,498 INFO] Number of word vectors read: 10000...\n",
      "[2021-12-25 06:09:29,889 INFO] Number of word vectors read: 20000...\n",
      "[2021-12-25 06:09:30,265 INFO] Number of word vectors read: 30000...\n",
      "[2021-12-25 06:09:30,639 INFO] Number of word vectors read: 40000...\n",
      "[2021-12-25 06:09:30,883 INFO] Number of word vectors found: 1319\n",
      "[2021-12-25 06:09:30,883 INFO] Running: sed -i '' '1s/^/1319 300\\'$'\\n/' ../data/evaluation_tests_word_embedding/temp_embs.txt\n",
      "[2021-12-25 06:09:30,921 INFO] Running WS test...\n",
      "[2021-12-25 06:09:30,926 INFO] Calling command: ./../data/evaluation_tests_word_embedding/ws/ws ../data/evaluation_tests_word_embedding/temp_embs.txt > ../results/experiment_W2V_several_runs_WEAT_2/Word_embedding_quality_W2V/W2V_lemmatized_iter-3_dim-300_w-5_alpha-default_epochs-40_corpus-male_person_artist_lyrics_epoch-15/ws_test.txt\n",
      "[2021-12-25 06:09:31,038 INFO] Running TOEFL test...\n",
      "[2021-12-25 06:09:31,039 INFO] Calling command: ./../data/evaluation_tests_word_embedding/tfl/toefl ../data/evaluation_tests_word_embedding/temp_embs.txt > ../results/experiment_W2V_several_runs_WEAT_2/Word_embedding_quality_W2V/W2V_lemmatized_iter-3_dim-300_w-5_alpha-default_epochs-40_corpus-male_person_artist_lyrics_epoch-15/toefl_test.txt\n",
      "[2021-12-25 06:09:31,126 INFO] Running SYN-SEM test...\n",
      "[2021-12-25 06:09:31,126 INFO] Calling command: ./../data/evaluation_tests_word_embedding/syn_sem/compute-accuracy-txt ../data/evaluation_tests_word_embedding/temp_embs.txt 0 < ../data/evaluation_tests_word_embedding/syn_sem/questions-words.txt > ../results/experiment_W2V_several_runs_WEAT_2/Word_embedding_quality_W2V/W2V_lemmatized_iter-3_dim-300_w-5_alpha-default_epochs-40_corpus-male_person_artist_lyrics_epoch-15/syn-sem_test.txt\n"
     ]
    },
    {
     "name": "stdout",
     "output_type": "stream",
     "text": [
      "Epoch #20 end\n"
     ]
    },
    {
     "name": "stderr",
     "output_type": "stream",
     "text": [
      "[2021-12-25 06:20:25,242 INFO] Start computation quality word embedding tests. Results will be saved at ../results/experiment_W2V_several_runs_WEAT_2/Word_embedding_quality_W2V/\n",
      "[2021-12-25 06:20:25,253 INFO] Number of unique words for tests: 2066\n",
      "[2021-12-25 06:20:25,253 INFO] Reading word vectors...\n",
      "[2021-12-25 06:20:25,654 INFO] Number of word vectors read: 10000...\n",
      "[2021-12-25 06:20:26,040 INFO] Number of word vectors read: 20000...\n",
      "[2021-12-25 06:20:26,418 INFO] Number of word vectors read: 30000...\n",
      "[2021-12-25 06:20:26,813 INFO] Number of word vectors read: 40000...\n",
      "[2021-12-25 06:20:27,058 INFO] Number of word vectors found: 1319\n",
      "[2021-12-25 06:20:27,059 INFO] Running: sed -i '' '1s/^/1319 300\\'$'\\n/' ../data/evaluation_tests_word_embedding/temp_embs.txt\n",
      "[2021-12-25 06:20:27,095 INFO] Running WS test...\n",
      "[2021-12-25 06:20:27,100 INFO] Calling command: ./../data/evaluation_tests_word_embedding/ws/ws ../data/evaluation_tests_word_embedding/temp_embs.txt > ../results/experiment_W2V_several_runs_WEAT_2/Word_embedding_quality_W2V/W2V_lemmatized_iter-3_dim-300_w-5_alpha-default_epochs-40_corpus-male_person_artist_lyrics_epoch-20/ws_test.txt\n",
      "[2021-12-25 06:20:27,209 INFO] Running TOEFL test...\n",
      "[2021-12-25 06:20:27,209 INFO] Calling command: ./../data/evaluation_tests_word_embedding/tfl/toefl ../data/evaluation_tests_word_embedding/temp_embs.txt > ../results/experiment_W2V_several_runs_WEAT_2/Word_embedding_quality_W2V/W2V_lemmatized_iter-3_dim-300_w-5_alpha-default_epochs-40_corpus-male_person_artist_lyrics_epoch-20/toefl_test.txt\n",
      "[2021-12-25 06:20:27,298 INFO] Running SYN-SEM test...\n",
      "[2021-12-25 06:20:27,298 INFO] Calling command: ./../data/evaluation_tests_word_embedding/syn_sem/compute-accuracy-txt ../data/evaluation_tests_word_embedding/temp_embs.txt 0 < ../data/evaluation_tests_word_embedding/syn_sem/questions-words.txt > ../results/experiment_W2V_several_runs_WEAT_2/Word_embedding_quality_W2V/W2V_lemmatized_iter-3_dim-300_w-5_alpha-default_epochs-40_corpus-male_person_artist_lyrics_epoch-20/syn-sem_test.txt\n"
     ]
    },
    {
     "name": "stdout",
     "output_type": "stream",
     "text": [
      "Epoch #25 end\n"
     ]
    },
    {
     "name": "stderr",
     "output_type": "stream",
     "text": [
      "[2021-12-25 06:31:22,208 INFO] Start computation quality word embedding tests. Results will be saved at ../results/experiment_W2V_several_runs_WEAT_2/Word_embedding_quality_W2V/\n",
      "[2021-12-25 06:31:22,218 INFO] Number of unique words for tests: 2066\n",
      "[2021-12-25 06:31:22,219 INFO] Reading word vectors...\n",
      "[2021-12-25 06:31:22,655 INFO] Number of word vectors read: 10000...\n",
      "[2021-12-25 06:31:23,050 INFO] Number of word vectors read: 20000...\n",
      "[2021-12-25 06:31:23,436 INFO] Number of word vectors read: 30000...\n",
      "[2021-12-25 06:31:23,812 INFO] Number of word vectors read: 40000...\n",
      "[2021-12-25 06:31:24,064 INFO] Number of word vectors found: 1319\n",
      "[2021-12-25 06:31:24,065 INFO] Running: sed -i '' '1s/^/1319 300\\'$'\\n/' ../data/evaluation_tests_word_embedding/temp_embs.txt\n",
      "[2021-12-25 06:31:24,092 INFO] Running WS test...\n",
      "[2021-12-25 06:31:24,097 INFO] Calling command: ./../data/evaluation_tests_word_embedding/ws/ws ../data/evaluation_tests_word_embedding/temp_embs.txt > ../results/experiment_W2V_several_runs_WEAT_2/Word_embedding_quality_W2V/W2V_lemmatized_iter-3_dim-300_w-5_alpha-default_epochs-40_corpus-male_person_artist_lyrics_epoch-25/ws_test.txt\n",
      "[2021-12-25 06:31:24,202 INFO] Running TOEFL test...\n",
      "[2021-12-25 06:31:24,202 INFO] Calling command: ./../data/evaluation_tests_word_embedding/tfl/toefl ../data/evaluation_tests_word_embedding/temp_embs.txt > ../results/experiment_W2V_several_runs_WEAT_2/Word_embedding_quality_W2V/W2V_lemmatized_iter-3_dim-300_w-5_alpha-default_epochs-40_corpus-male_person_artist_lyrics_epoch-25/toefl_test.txt\n",
      "[2021-12-25 06:31:24,291 INFO] Running SYN-SEM test...\n",
      "[2021-12-25 06:31:24,291 INFO] Calling command: ./../data/evaluation_tests_word_embedding/syn_sem/compute-accuracy-txt ../data/evaluation_tests_word_embedding/temp_embs.txt 0 < ../data/evaluation_tests_word_embedding/syn_sem/questions-words.txt > ../results/experiment_W2V_several_runs_WEAT_2/Word_embedding_quality_W2V/W2V_lemmatized_iter-3_dim-300_w-5_alpha-default_epochs-40_corpus-male_person_artist_lyrics_epoch-25/syn-sem_test.txt\n"
     ]
    },
    {
     "name": "stdout",
     "output_type": "stream",
     "text": [
      "Epoch #30 end\n"
     ]
    },
    {
     "name": "stderr",
     "output_type": "stream",
     "text": [
      "[2021-12-25 06:42:20,636 INFO] Start computation quality word embedding tests. Results will be saved at ../results/experiment_W2V_several_runs_WEAT_2/Word_embedding_quality_W2V/\n",
      "[2021-12-25 06:42:20,641 INFO] Number of unique words for tests: 2066\n",
      "[2021-12-25 06:42:20,641 INFO] Reading word vectors...\n",
      "[2021-12-25 06:42:21,064 INFO] Number of word vectors read: 10000...\n",
      "[2021-12-25 06:42:21,450 INFO] Number of word vectors read: 20000...\n",
      "[2021-12-25 06:42:21,853 INFO] Number of word vectors read: 30000...\n",
      "[2021-12-25 06:42:22,241 INFO] Number of word vectors read: 40000...\n",
      "[2021-12-25 06:42:22,487 INFO] Number of word vectors found: 1319\n",
      "[2021-12-25 06:42:22,487 INFO] Running: sed -i '' '1s/^/1319 300\\'$'\\n/' ../data/evaluation_tests_word_embedding/temp_embs.txt\n",
      "[2021-12-25 06:42:22,516 INFO] Running WS test...\n",
      "[2021-12-25 06:42:22,517 INFO] Calling command: ./../data/evaluation_tests_word_embedding/ws/ws ../data/evaluation_tests_word_embedding/temp_embs.txt > ../results/experiment_W2V_several_runs_WEAT_2/Word_embedding_quality_W2V/W2V_lemmatized_iter-3_dim-300_w-5_alpha-default_epochs-40_corpus-male_person_artist_lyrics_epoch-30/ws_test.txt\n",
      "[2021-12-25 06:42:22,607 INFO] Running TOEFL test...\n",
      "[2021-12-25 06:42:22,607 INFO] Calling command: ./../data/evaluation_tests_word_embedding/tfl/toefl ../data/evaluation_tests_word_embedding/temp_embs.txt > ../results/experiment_W2V_several_runs_WEAT_2/Word_embedding_quality_W2V/W2V_lemmatized_iter-3_dim-300_w-5_alpha-default_epochs-40_corpus-male_person_artist_lyrics_epoch-30/toefl_test.txt\n",
      "[2021-12-25 06:42:22,689 INFO] Running SYN-SEM test...\n",
      "[2021-12-25 06:42:22,689 INFO] Calling command: ./../data/evaluation_tests_word_embedding/syn_sem/compute-accuracy-txt ../data/evaluation_tests_word_embedding/temp_embs.txt 0 < ../data/evaluation_tests_word_embedding/syn_sem/questions-words.txt > ../results/experiment_W2V_several_runs_WEAT_2/Word_embedding_quality_W2V/W2V_lemmatized_iter-3_dim-300_w-5_alpha-default_epochs-40_corpus-male_person_artist_lyrics_epoch-30/syn-sem_test.txt\n"
     ]
    },
    {
     "name": "stdout",
     "output_type": "stream",
     "text": [
      "Epoch #35 end\n"
     ]
    },
    {
     "name": "stderr",
     "output_type": "stream",
     "text": [
      "[2021-12-25 06:53:18,105 INFO] Start computation quality word embedding tests. Results will be saved at ../results/experiment_W2V_several_runs_WEAT_2/Word_embedding_quality_W2V/\n",
      "[2021-12-25 06:53:18,107 INFO] Number of unique words for tests: 2066\n",
      "[2021-12-25 06:53:18,107 INFO] Reading word vectors...\n",
      "[2021-12-25 06:53:18,581 INFO] Number of word vectors read: 10000...\n",
      "[2021-12-25 06:53:19,006 INFO] Number of word vectors read: 20000...\n",
      "[2021-12-25 06:53:19,478 INFO] Number of word vectors read: 30000...\n",
      "[2021-12-25 06:53:19,886 INFO] Number of word vectors read: 40000...\n",
      "[2021-12-25 06:53:20,137 INFO] Number of word vectors found: 1319\n",
      "[2021-12-25 06:53:20,137 INFO] Running: sed -i '' '1s/^/1319 300\\'$'\\n/' ../data/evaluation_tests_word_embedding/temp_embs.txt\n",
      "[2021-12-25 06:53:20,165 INFO] Running WS test...\n",
      "[2021-12-25 06:53:20,166 INFO] Calling command: ./../data/evaluation_tests_word_embedding/ws/ws ../data/evaluation_tests_word_embedding/temp_embs.txt > ../results/experiment_W2V_several_runs_WEAT_2/Word_embedding_quality_W2V/W2V_lemmatized_iter-3_dim-300_w-5_alpha-default_epochs-40_corpus-male_person_artist_lyrics_epoch-35/ws_test.txt\n",
      "[2021-12-25 06:53:20,257 INFO] Running TOEFL test...\n",
      "[2021-12-25 06:53:20,257 INFO] Calling command: ./../data/evaluation_tests_word_embedding/tfl/toefl ../data/evaluation_tests_word_embedding/temp_embs.txt > ../results/experiment_W2V_several_runs_WEAT_2/Word_embedding_quality_W2V/W2V_lemmatized_iter-3_dim-300_w-5_alpha-default_epochs-40_corpus-male_person_artist_lyrics_epoch-35/toefl_test.txt\n",
      "[2021-12-25 06:53:20,340 INFO] Running SYN-SEM test...\n",
      "[2021-12-25 06:53:20,341 INFO] Calling command: ./../data/evaluation_tests_word_embedding/syn_sem/compute-accuracy-txt ../data/evaluation_tests_word_embedding/temp_embs.txt 0 < ../data/evaluation_tests_word_embedding/syn_sem/questions-words.txt > ../results/experiment_W2V_several_runs_WEAT_2/Word_embedding_quality_W2V/W2V_lemmatized_iter-3_dim-300_w-5_alpha-default_epochs-40_corpus-male_person_artist_lyrics_epoch-35/syn-sem_test.txt\n",
      "[2021-12-25 07:02:10,017 INFO] Start computation quality word embedding tests. Results will be saved at ../results/experiment_W2V_several_runs_WEAT_2/Word_embedding_quality_W2V/\n",
      "[2021-12-25 07:02:10,026 INFO] Number of unique words for tests: 2066\n",
      "[2021-12-25 07:02:10,026 INFO] Reading word vectors...\n",
      "[2021-12-25 07:02:10,461 INFO] Number of word vectors read: 10000...\n",
      "[2021-12-25 07:02:10,858 INFO] Number of word vectors read: 20000...\n",
      "[2021-12-25 07:02:11,232 INFO] Number of word vectors read: 30000...\n",
      "[2021-12-25 07:02:11,626 INFO] Number of word vectors read: 40000...\n",
      "[2021-12-25 07:02:11,867 INFO] Number of word vectors found: 1319\n",
      "[2021-12-25 07:02:11,868 INFO] Running: sed -i '' '1s/^/1319 300\\'$'\\n/' ../data/evaluation_tests_word_embedding/temp_embs.txt\n",
      "[2021-12-25 07:02:11,901 INFO] Running WS test...\n",
      "[2021-12-25 07:02:11,907 INFO] Calling command: ./../data/evaluation_tests_word_embedding/ws/ws ../data/evaluation_tests_word_embedding/temp_embs.txt > ../results/experiment_W2V_several_runs_WEAT_2/Word_embedding_quality_W2V/W2V_lemmatized_iter-3_dim-300_w-5_alpha-default_epochs-40_corpus-male_person_artist_lyrics_epoch-39/ws_test.txt\n",
      "[2021-12-25 07:02:12,019 INFO] Running TOEFL test...\n",
      "[2021-12-25 07:02:12,019 INFO] Calling command: ./../data/evaluation_tests_word_embedding/tfl/toefl ../data/evaluation_tests_word_embedding/temp_embs.txt > ../results/experiment_W2V_several_runs_WEAT_2/Word_embedding_quality_W2V/W2V_lemmatized_iter-3_dim-300_w-5_alpha-default_epochs-40_corpus-male_person_artist_lyrics_epoch-39/toefl_test.txt\n",
      "[2021-12-25 07:02:12,106 INFO] Running SYN-SEM test...\n",
      "[2021-12-25 07:02:12,107 INFO] Calling command: ./../data/evaluation_tests_word_embedding/syn_sem/compute-accuracy-txt ../data/evaluation_tests_word_embedding/temp_embs.txt 0 < ../data/evaluation_tests_word_embedding/syn_sem/questions-words.txt > ../results/experiment_W2V_several_runs_WEAT_2/Word_embedding_quality_W2V/W2V_lemmatized_iter-3_dim-300_w-5_alpha-default_epochs-40_corpus-male_person_artist_lyrics_epoch-39/syn-sem_test.txt\n"
     ]
    },
    {
     "name": "stdout",
     "output_type": "stream",
     "text": [
      "End training of W2V_lemmatized_iter-3_dim-300_w-5_alpha-default_epochs-40_corpus-male_person_artist_lyrics\n",
      "\n",
      "Start training corpus:  all_person_artist_lyrics\n",
      "Embedding name:  W2V_lemmatized_iter-3_dim-300_w-5_alpha-default_epochs-40_corpus-all_person_artist_lyrics\n",
      "Vocab done...\n",
      "Corpus count:  237846\n",
      "Corpus total words:  60312307\n",
      "Epoch #0 end\n"
     ]
    },
    {
     "name": "stderr",
     "output_type": "stream",
     "text": [
      "[2021-12-25 07:05:43,156 INFO] Start computation quality word embedding tests. Results will be saved at ../results/experiment_W2V_several_runs_WEAT_2/Word_embedding_quality_W2V/\n",
      "[2021-12-25 07:05:43,165 INFO] Number of unique words for tests: 2066\n",
      "[2021-12-25 07:05:43,166 INFO] Reading word vectors...\n",
      "[2021-12-25 07:05:43,807 INFO] Number of word vectors read: 10000...\n",
      "[2021-12-25 07:05:44,214 INFO] Number of word vectors read: 20000...\n",
      "[2021-12-25 07:05:44,611 INFO] Number of word vectors read: 30000...\n",
      "[2021-12-25 07:05:44,989 INFO] Number of word vectors read: 40000...\n",
      "[2021-12-25 07:05:45,364 INFO] Number of word vectors found: 1341\n",
      "[2021-12-25 07:05:45,365 INFO] Running: sed -i '' '1s/^/1341 300\\'$'\\n/' ../data/evaluation_tests_word_embedding/temp_embs.txt\n",
      "[2021-12-25 07:05:45,403 INFO] Running WS test...\n",
      "[2021-12-25 07:05:45,415 INFO] Calling command: ./../data/evaluation_tests_word_embedding/ws/ws ../data/evaluation_tests_word_embedding/temp_embs.txt > ../results/experiment_W2V_several_runs_WEAT_2/Word_embedding_quality_W2V/W2V_lemmatized_iter-3_dim-300_w-5_alpha-default_epochs-40_corpus-all_person_artist_lyrics_epoch-0/ws_test.txt\n",
      "[2021-12-25 07:05:45,532 INFO] Running TOEFL test...\n",
      "[2021-12-25 07:05:45,533 INFO] Calling command: ./../data/evaluation_tests_word_embedding/tfl/toefl ../data/evaluation_tests_word_embedding/temp_embs.txt > ../results/experiment_W2V_several_runs_WEAT_2/Word_embedding_quality_W2V/W2V_lemmatized_iter-3_dim-300_w-5_alpha-default_epochs-40_corpus-all_person_artist_lyrics_epoch-0/toefl_test.txt\n",
      "[2021-12-25 07:05:45,625 INFO] Running SYN-SEM test...\n",
      "[2021-12-25 07:05:45,625 INFO] Calling command: ./../data/evaluation_tests_word_embedding/syn_sem/compute-accuracy-txt ../data/evaluation_tests_word_embedding/temp_embs.txt 0 < ../data/evaluation_tests_word_embedding/syn_sem/questions-words.txt > ../results/experiment_W2V_several_runs_WEAT_2/Word_embedding_quality_W2V/W2V_lemmatized_iter-3_dim-300_w-5_alpha-default_epochs-40_corpus-all_person_artist_lyrics_epoch-0/syn-sem_test.txt\n"
     ]
    },
    {
     "name": "stdout",
     "output_type": "stream",
     "text": [
      "Epoch #5 end\n"
     ]
    },
    {
     "name": "stderr",
     "output_type": "stream",
     "text": [
      "[2021-12-25 07:20:16,782 INFO] Start computation quality word embedding tests. Results will be saved at ../results/experiment_W2V_several_runs_WEAT_2/Word_embedding_quality_W2V/\n",
      "[2021-12-25 07:20:16,792 INFO] Number of unique words for tests: 2066\n",
      "[2021-12-25 07:20:16,792 INFO] Reading word vectors...\n",
      "[2021-12-25 07:20:17,222 INFO] Number of word vectors read: 10000...\n",
      "[2021-12-25 07:20:17,618 INFO] Number of word vectors read: 20000...\n",
      "[2021-12-25 07:20:18,013 INFO] Number of word vectors read: 30000...\n",
      "[2021-12-25 07:20:18,389 INFO] Number of word vectors read: 40000...\n",
      "[2021-12-25 07:20:18,765 INFO] Number of word vectors found: 1341\n",
      "[2021-12-25 07:20:18,765 INFO] Running: sed -i '' '1s/^/1341 300\\'$'\\n/' ../data/evaluation_tests_word_embedding/temp_embs.txt\n",
      "[2021-12-25 07:20:18,816 INFO] Running WS test...\n",
      "[2021-12-25 07:20:18,816 INFO] Calling command: ./../data/evaluation_tests_word_embedding/ws/ws ../data/evaluation_tests_word_embedding/temp_embs.txt > ../results/experiment_W2V_several_runs_WEAT_2/Word_embedding_quality_W2V/W2V_lemmatized_iter-3_dim-300_w-5_alpha-default_epochs-40_corpus-all_person_artist_lyrics_epoch-5/ws_test.txt\n",
      "[2021-12-25 07:20:18,915 INFO] Running TOEFL test...\n",
      "[2021-12-25 07:20:18,916 INFO] Calling command: ./../data/evaluation_tests_word_embedding/tfl/toefl ../data/evaluation_tests_word_embedding/temp_embs.txt > ../results/experiment_W2V_several_runs_WEAT_2/Word_embedding_quality_W2V/W2V_lemmatized_iter-3_dim-300_w-5_alpha-default_epochs-40_corpus-all_person_artist_lyrics_epoch-5/toefl_test.txt\n",
      "[2021-12-25 07:20:19,009 INFO] Running SYN-SEM test...\n",
      "[2021-12-25 07:20:19,010 INFO] Calling command: ./../data/evaluation_tests_word_embedding/syn_sem/compute-accuracy-txt ../data/evaluation_tests_word_embedding/temp_embs.txt 0 < ../data/evaluation_tests_word_embedding/syn_sem/questions-words.txt > ../results/experiment_W2V_several_runs_WEAT_2/Word_embedding_quality_W2V/W2V_lemmatized_iter-3_dim-300_w-5_alpha-default_epochs-40_corpus-all_person_artist_lyrics_epoch-5/syn-sem_test.txt\n"
     ]
    },
    {
     "name": "stdout",
     "output_type": "stream",
     "text": [
      "Epoch #10 end\n"
     ]
    },
    {
     "name": "stderr",
     "output_type": "stream",
     "text": [
      "[2021-12-25 07:34:52,074 INFO] Start computation quality word embedding tests. Results will be saved at ../results/experiment_W2V_several_runs_WEAT_2/Word_embedding_quality_W2V/\n",
      "[2021-12-25 07:34:52,083 INFO] Number of unique words for tests: 2066\n",
      "[2021-12-25 07:34:52,084 INFO] Reading word vectors...\n",
      "[2021-12-25 07:34:52,545 INFO] Number of word vectors read: 10000...\n",
      "[2021-12-25 07:34:52,948 INFO] Number of word vectors read: 20000...\n",
      "[2021-12-25 07:34:53,338 INFO] Number of word vectors read: 30000...\n",
      "[2021-12-25 07:34:53,722 INFO] Number of word vectors read: 40000...\n",
      "[2021-12-25 07:34:54,093 INFO] Number of word vectors found: 1341\n",
      "[2021-12-25 07:34:54,093 INFO] Running: sed -i '' '1s/^/1341 300\\'$'\\n/' ../data/evaluation_tests_word_embedding/temp_embs.txt\n",
      "[2021-12-25 07:34:54,118 INFO] Running WS test...\n",
      "[2021-12-25 07:34:54,119 INFO] Calling command: ./../data/evaluation_tests_word_embedding/ws/ws ../data/evaluation_tests_word_embedding/temp_embs.txt > ../results/experiment_W2V_several_runs_WEAT_2/Word_embedding_quality_W2V/W2V_lemmatized_iter-3_dim-300_w-5_alpha-default_epochs-40_corpus-all_person_artist_lyrics_epoch-10/ws_test.txt\n",
      "[2021-12-25 07:34:54,210 INFO] Running TOEFL test...\n",
      "[2021-12-25 07:34:54,210 INFO] Calling command: ./../data/evaluation_tests_word_embedding/tfl/toefl ../data/evaluation_tests_word_embedding/temp_embs.txt > ../results/experiment_W2V_several_runs_WEAT_2/Word_embedding_quality_W2V/W2V_lemmatized_iter-3_dim-300_w-5_alpha-default_epochs-40_corpus-all_person_artist_lyrics_epoch-10/toefl_test.txt\n",
      "[2021-12-25 07:34:54,299 INFO] Running SYN-SEM test...\n",
      "[2021-12-25 07:34:54,299 INFO] Calling command: ./../data/evaluation_tests_word_embedding/syn_sem/compute-accuracy-txt ../data/evaluation_tests_word_embedding/temp_embs.txt 0 < ../data/evaluation_tests_word_embedding/syn_sem/questions-words.txt > ../results/experiment_W2V_several_runs_WEAT_2/Word_embedding_quality_W2V/W2V_lemmatized_iter-3_dim-300_w-5_alpha-default_epochs-40_corpus-all_person_artist_lyrics_epoch-10/syn-sem_test.txt\n"
     ]
    },
    {
     "name": "stdout",
     "output_type": "stream",
     "text": [
      "Epoch #15 end\n"
     ]
    },
    {
     "name": "stderr",
     "output_type": "stream",
     "text": [
      "[2021-12-25 07:49:23,960 INFO] Start computation quality word embedding tests. Results will be saved at ../results/experiment_W2V_several_runs_WEAT_2/Word_embedding_quality_W2V/\n",
      "[2021-12-25 07:49:23,963 INFO] Number of unique words for tests: 2066\n",
      "[2021-12-25 07:49:23,963 INFO] Reading word vectors...\n",
      "[2021-12-25 07:49:24,378 INFO] Number of word vectors read: 10000...\n",
      "[2021-12-25 07:49:24,774 INFO] Number of word vectors read: 20000...\n",
      "[2021-12-25 07:49:25,156 INFO] Number of word vectors read: 30000...\n",
      "[2021-12-25 07:49:25,536 INFO] Number of word vectors read: 40000...\n",
      "[2021-12-25 07:49:25,902 INFO] Number of word vectors found: 1341\n",
      "[2021-12-25 07:49:25,903 INFO] Running: sed -i '' '1s/^/1341 300\\'$'\\n/' ../data/evaluation_tests_word_embedding/temp_embs.txt\n",
      "[2021-12-25 07:49:25,958 INFO] Running WS test...\n",
      "[2021-12-25 07:49:25,963 INFO] Calling command: ./../data/evaluation_tests_word_embedding/ws/ws ../data/evaluation_tests_word_embedding/temp_embs.txt > ../results/experiment_W2V_several_runs_WEAT_2/Word_embedding_quality_W2V/W2V_lemmatized_iter-3_dim-300_w-5_alpha-default_epochs-40_corpus-all_person_artist_lyrics_epoch-15/ws_test.txt\n",
      "[2021-12-25 07:49:26,068 INFO] Running TOEFL test...\n",
      "[2021-12-25 07:49:26,068 INFO] Calling command: ./../data/evaluation_tests_word_embedding/tfl/toefl ../data/evaluation_tests_word_embedding/temp_embs.txt > ../results/experiment_W2V_several_runs_WEAT_2/Word_embedding_quality_W2V/W2V_lemmatized_iter-3_dim-300_w-5_alpha-default_epochs-40_corpus-all_person_artist_lyrics_epoch-15/toefl_test.txt\n",
      "[2021-12-25 07:49:26,161 INFO] Running SYN-SEM test...\n",
      "[2021-12-25 07:49:26,161 INFO] Calling command: ./../data/evaluation_tests_word_embedding/syn_sem/compute-accuracy-txt ../data/evaluation_tests_word_embedding/temp_embs.txt 0 < ../data/evaluation_tests_word_embedding/syn_sem/questions-words.txt > ../results/experiment_W2V_several_runs_WEAT_2/Word_embedding_quality_W2V/W2V_lemmatized_iter-3_dim-300_w-5_alpha-default_epochs-40_corpus-all_person_artist_lyrics_epoch-15/syn-sem_test.txt\n"
     ]
    },
    {
     "name": "stdout",
     "output_type": "stream",
     "text": [
      "Epoch #20 end\n"
     ]
    },
    {
     "name": "stderr",
     "output_type": "stream",
     "text": [
      "[2021-12-25 08:03:53,864 INFO] Start computation quality word embedding tests. Results will be saved at ../results/experiment_W2V_several_runs_WEAT_2/Word_embedding_quality_W2V/\n",
      "[2021-12-25 08:03:53,868 INFO] Number of unique words for tests: 2066\n",
      "[2021-12-25 08:03:53,868 INFO] Reading word vectors...\n",
      "[2021-12-25 08:03:54,291 INFO] Number of word vectors read: 10000...\n",
      "[2021-12-25 08:03:54,692 INFO] Number of word vectors read: 20000...\n",
      "[2021-12-25 08:03:55,073 INFO] Number of word vectors read: 30000...\n",
      "[2021-12-25 08:03:55,447 INFO] Number of word vectors read: 40000...\n",
      "[2021-12-25 08:03:55,827 INFO] Number of word vectors found: 1341\n",
      "[2021-12-25 08:03:55,827 INFO] Running: sed -i '' '1s/^/1341 300\\'$'\\n/' ../data/evaluation_tests_word_embedding/temp_embs.txt\n",
      "[2021-12-25 08:03:55,851 INFO] Running WS test...\n",
      "[2021-12-25 08:03:55,856 INFO] Calling command: ./../data/evaluation_tests_word_embedding/ws/ws ../data/evaluation_tests_word_embedding/temp_embs.txt > ../results/experiment_W2V_several_runs_WEAT_2/Word_embedding_quality_W2V/W2V_lemmatized_iter-3_dim-300_w-5_alpha-default_epochs-40_corpus-all_person_artist_lyrics_epoch-20/ws_test.txt\n",
      "[2021-12-25 08:03:55,971 INFO] Running TOEFL test...\n",
      "[2021-12-25 08:03:55,971 INFO] Calling command: ./../data/evaluation_tests_word_embedding/tfl/toefl ../data/evaluation_tests_word_embedding/temp_embs.txt > ../results/experiment_W2V_several_runs_WEAT_2/Word_embedding_quality_W2V/W2V_lemmatized_iter-3_dim-300_w-5_alpha-default_epochs-40_corpus-all_person_artist_lyrics_epoch-20/toefl_test.txt\n",
      "[2021-12-25 08:03:56,062 INFO] Running SYN-SEM test...\n",
      "[2021-12-25 08:03:56,062 INFO] Calling command: ./../data/evaluation_tests_word_embedding/syn_sem/compute-accuracy-txt ../data/evaluation_tests_word_embedding/temp_embs.txt 0 < ../data/evaluation_tests_word_embedding/syn_sem/questions-words.txt > ../results/experiment_W2V_several_runs_WEAT_2/Word_embedding_quality_W2V/W2V_lemmatized_iter-3_dim-300_w-5_alpha-default_epochs-40_corpus-all_person_artist_lyrics_epoch-20/syn-sem_test.txt\n"
     ]
    },
    {
     "name": "stdout",
     "output_type": "stream",
     "text": [
      "Epoch #25 end\n"
     ]
    },
    {
     "name": "stderr",
     "output_type": "stream",
     "text": [
      "[2021-12-25 08:18:24,292 INFO] Start computation quality word embedding tests. Results will be saved at ../results/experiment_W2V_several_runs_WEAT_2/Word_embedding_quality_W2V/\n",
      "[2021-12-25 08:18:24,303 INFO] Number of unique words for tests: 2066\n",
      "[2021-12-25 08:18:24,303 INFO] Reading word vectors...\n",
      "[2021-12-25 08:18:24,802 INFO] Number of word vectors read: 10000...\n",
      "[2021-12-25 08:18:25,188 INFO] Number of word vectors read: 20000...\n",
      "[2021-12-25 08:18:25,571 INFO] Number of word vectors read: 30000...\n",
      "[2021-12-25 08:18:25,966 INFO] Number of word vectors read: 40000...\n",
      "[2021-12-25 08:18:26,331 INFO] Number of word vectors found: 1341\n",
      "[2021-12-25 08:18:26,332 INFO] Running: sed -i '' '1s/^/1341 300\\'$'\\n/' ../data/evaluation_tests_word_embedding/temp_embs.txt\n",
      "[2021-12-25 08:18:26,361 INFO] Running WS test...\n",
      "[2021-12-25 08:18:26,365 INFO] Calling command: ./../data/evaluation_tests_word_embedding/ws/ws ../data/evaluation_tests_word_embedding/temp_embs.txt > ../results/experiment_W2V_several_runs_WEAT_2/Word_embedding_quality_W2V/W2V_lemmatized_iter-3_dim-300_w-5_alpha-default_epochs-40_corpus-all_person_artist_lyrics_epoch-25/ws_test.txt\n",
      "[2021-12-25 08:18:26,478 INFO] Running TOEFL test...\n",
      "[2021-12-25 08:18:26,478 INFO] Calling command: ./../data/evaluation_tests_word_embedding/tfl/toefl ../data/evaluation_tests_word_embedding/temp_embs.txt > ../results/experiment_W2V_several_runs_WEAT_2/Word_embedding_quality_W2V/W2V_lemmatized_iter-3_dim-300_w-5_alpha-default_epochs-40_corpus-all_person_artist_lyrics_epoch-25/toefl_test.txt\n",
      "[2021-12-25 08:18:26,568 INFO] Running SYN-SEM test...\n",
      "[2021-12-25 08:18:26,568 INFO] Calling command: ./../data/evaluation_tests_word_embedding/syn_sem/compute-accuracy-txt ../data/evaluation_tests_word_embedding/temp_embs.txt 0 < ../data/evaluation_tests_word_embedding/syn_sem/questions-words.txt > ../results/experiment_W2V_several_runs_WEAT_2/Word_embedding_quality_W2V/W2V_lemmatized_iter-3_dim-300_w-5_alpha-default_epochs-40_corpus-all_person_artist_lyrics_epoch-25/syn-sem_test.txt\n"
     ]
    },
    {
     "name": "stdout",
     "output_type": "stream",
     "text": [
      "Epoch #30 end\n"
     ]
    },
    {
     "name": "stderr",
     "output_type": "stream",
     "text": [
      "[2021-12-25 08:32:57,496 INFO] Start computation quality word embedding tests. Results will be saved at ../results/experiment_W2V_several_runs_WEAT_2/Word_embedding_quality_W2V/\n",
      "[2021-12-25 08:32:57,506 INFO] Number of unique words for tests: 2066\n",
      "[2021-12-25 08:32:57,506 INFO] Reading word vectors...\n",
      "[2021-12-25 08:32:57,937 INFO] Number of word vectors read: 10000...\n",
      "[2021-12-25 08:32:58,321 INFO] Number of word vectors read: 20000...\n",
      "[2021-12-25 08:32:58,704 INFO] Number of word vectors read: 30000...\n",
      "[2021-12-25 08:32:59,099 INFO] Number of word vectors read: 40000...\n",
      "[2021-12-25 08:32:59,462 INFO] Number of word vectors found: 1341\n",
      "[2021-12-25 08:32:59,462 INFO] Running: sed -i '' '1s/^/1341 300\\'$'\\n/' ../data/evaluation_tests_word_embedding/temp_embs.txt\n",
      "[2021-12-25 08:32:59,496 INFO] Running WS test...\n",
      "[2021-12-25 08:32:59,501 INFO] Calling command: ./../data/evaluation_tests_word_embedding/ws/ws ../data/evaluation_tests_word_embedding/temp_embs.txt > ../results/experiment_W2V_several_runs_WEAT_2/Word_embedding_quality_W2V/W2V_lemmatized_iter-3_dim-300_w-5_alpha-default_epochs-40_corpus-all_person_artist_lyrics_epoch-30/ws_test.txt\n",
      "[2021-12-25 08:32:59,606 INFO] Running TOEFL test...\n",
      "[2021-12-25 08:32:59,606 INFO] Calling command: ./../data/evaluation_tests_word_embedding/tfl/toefl ../data/evaluation_tests_word_embedding/temp_embs.txt > ../results/experiment_W2V_several_runs_WEAT_2/Word_embedding_quality_W2V/W2V_lemmatized_iter-3_dim-300_w-5_alpha-default_epochs-40_corpus-all_person_artist_lyrics_epoch-30/toefl_test.txt\n",
      "[2021-12-25 08:32:59,697 INFO] Running SYN-SEM test...\n",
      "[2021-12-25 08:32:59,698 INFO] Calling command: ./../data/evaluation_tests_word_embedding/syn_sem/compute-accuracy-txt ../data/evaluation_tests_word_embedding/temp_embs.txt 0 < ../data/evaluation_tests_word_embedding/syn_sem/questions-words.txt > ../results/experiment_W2V_several_runs_WEAT_2/Word_embedding_quality_W2V/W2V_lemmatized_iter-3_dim-300_w-5_alpha-default_epochs-40_corpus-all_person_artist_lyrics_epoch-30/syn-sem_test.txt\n"
     ]
    },
    {
     "name": "stdout",
     "output_type": "stream",
     "text": [
      "Epoch #35 end\n"
     ]
    },
    {
     "name": "stderr",
     "output_type": "stream",
     "text": [
      "[2021-12-25 08:47:29,611 INFO] Start computation quality word embedding tests. Results will be saved at ../results/experiment_W2V_several_runs_WEAT_2/Word_embedding_quality_W2V/\n",
      "[2021-12-25 08:47:29,621 INFO] Number of unique words for tests: 2066\n",
      "[2021-12-25 08:47:29,621 INFO] Reading word vectors...\n",
      "[2021-12-25 08:47:30,051 INFO] Number of word vectors read: 10000...\n",
      "[2021-12-25 08:47:30,439 INFO] Number of word vectors read: 20000...\n",
      "[2021-12-25 08:47:30,819 INFO] Number of word vectors read: 30000...\n",
      "[2021-12-25 08:47:31,195 INFO] Number of word vectors read: 40000...\n",
      "[2021-12-25 08:47:31,560 INFO] Number of word vectors found: 1341\n",
      "[2021-12-25 08:47:31,560 INFO] Running: sed -i '' '1s/^/1341 300\\'$'\\n/' ../data/evaluation_tests_word_embedding/temp_embs.txt\n",
      "[2021-12-25 08:47:31,605 INFO] Running WS test...\n",
      "[2021-12-25 08:47:31,606 INFO] Calling command: ./../data/evaluation_tests_word_embedding/ws/ws ../data/evaluation_tests_word_embedding/temp_embs.txt > ../results/experiment_W2V_several_runs_WEAT_2/Word_embedding_quality_W2V/W2V_lemmatized_iter-3_dim-300_w-5_alpha-default_epochs-40_corpus-all_person_artist_lyrics_epoch-35/ws_test.txt\n",
      "[2021-12-25 08:47:31,696 INFO] Running TOEFL test...\n",
      "[2021-12-25 08:47:31,696 INFO] Calling command: ./../data/evaluation_tests_word_embedding/tfl/toefl ../data/evaluation_tests_word_embedding/temp_embs.txt > ../results/experiment_W2V_several_runs_WEAT_2/Word_embedding_quality_W2V/W2V_lemmatized_iter-3_dim-300_w-5_alpha-default_epochs-40_corpus-all_person_artist_lyrics_epoch-35/toefl_test.txt\n",
      "[2021-12-25 08:47:31,781 INFO] Running SYN-SEM test...\n",
      "[2021-12-25 08:47:31,781 INFO] Calling command: ./../data/evaluation_tests_word_embedding/syn_sem/compute-accuracy-txt ../data/evaluation_tests_word_embedding/temp_embs.txt 0 < ../data/evaluation_tests_word_embedding/syn_sem/questions-words.txt > ../results/experiment_W2V_several_runs_WEAT_2/Word_embedding_quality_W2V/W2V_lemmatized_iter-3_dim-300_w-5_alpha-default_epochs-40_corpus-all_person_artist_lyrics_epoch-35/syn-sem_test.txt\n",
      "[2021-12-25 08:59:08,813 INFO] Start computation quality word embedding tests. Results will be saved at ../results/experiment_W2V_several_runs_WEAT_2/Word_embedding_quality_W2V/\n",
      "[2021-12-25 08:59:08,816 INFO] Number of unique words for tests: 2066\n",
      "[2021-12-25 08:59:08,816 INFO] Reading word vectors...\n",
      "[2021-12-25 08:59:09,249 INFO] Number of word vectors read: 10000...\n",
      "[2021-12-25 08:59:09,640 INFO] Number of word vectors read: 20000...\n",
      "[2021-12-25 08:59:10,035 INFO] Number of word vectors read: 30000...\n",
      "[2021-12-25 08:59:10,420 INFO] Number of word vectors read: 40000...\n",
      "[2021-12-25 08:59:10,786 INFO] Number of word vectors found: 1341\n",
      "[2021-12-25 08:59:10,786 INFO] Running: sed -i '' '1s/^/1341 300\\'$'\\n/' ../data/evaluation_tests_word_embedding/temp_embs.txt\n",
      "[2021-12-25 08:59:10,813 INFO] Running WS test...\n",
      "[2021-12-25 08:59:10,814 INFO] Calling command: ./../data/evaluation_tests_word_embedding/ws/ws ../data/evaluation_tests_word_embedding/temp_embs.txt > ../results/experiment_W2V_several_runs_WEAT_2/Word_embedding_quality_W2V/W2V_lemmatized_iter-3_dim-300_w-5_alpha-default_epochs-40_corpus-all_person_artist_lyrics_epoch-39/ws_test.txt\n",
      "[2021-12-25 08:59:10,908 INFO] Running TOEFL test...\n",
      "[2021-12-25 08:59:10,908 INFO] Calling command: ./../data/evaluation_tests_word_embedding/tfl/toefl ../data/evaluation_tests_word_embedding/temp_embs.txt > ../results/experiment_W2V_several_runs_WEAT_2/Word_embedding_quality_W2V/W2V_lemmatized_iter-3_dim-300_w-5_alpha-default_epochs-40_corpus-all_person_artist_lyrics_epoch-39/toefl_test.txt\n",
      "[2021-12-25 08:59:10,994 INFO] Running SYN-SEM test...\n",
      "[2021-12-25 08:59:10,994 INFO] Calling command: ./../data/evaluation_tests_word_embedding/syn_sem/compute-accuracy-txt ../data/evaluation_tests_word_embedding/temp_embs.txt 0 < ../data/evaluation_tests_word_embedding/syn_sem/questions-words.txt > ../results/experiment_W2V_several_runs_WEAT_2/Word_embedding_quality_W2V/W2V_lemmatized_iter-3_dim-300_w-5_alpha-default_epochs-40_corpus-all_person_artist_lyrics_epoch-39/syn-sem_test.txt\n"
     ]
    },
    {
     "name": "stdout",
     "output_type": "stream",
     "text": [
      "End training of W2V_lemmatized_iter-3_dim-300_w-5_alpha-default_epochs-40_corpus-all_person_artist_lyrics\n",
      "\n",
      "Start training corpus:  female_person_artist_lyrics\n",
      "Embedding name:  W2V_lemmatized_iter-4_dim-300_w-5_alpha-default_epochs-40_corpus-female_person_artist_lyrics\n",
      "Vocab done...\n",
      "Corpus count:  70880\n",
      "Corpus total words:  15949187\n",
      "Epoch #0 end\n"
     ]
    },
    {
     "name": "stderr",
     "output_type": "stream",
     "text": [
      "[2021-12-25 09:00:18,220 INFO] Start computation quality word embedding tests. Results will be saved at ../results/experiment_W2V_several_runs_WEAT_2/Word_embedding_quality_W2V/\n",
      "[2021-12-25 09:00:18,224 INFO] Number of unique words for tests: 2066\n",
      "[2021-12-25 09:00:18,224 INFO] Reading word vectors...\n",
      "[2021-12-25 09:00:18,630 INFO] Number of word vectors read: 10000...\n",
      "[2021-12-25 09:00:19,007 INFO] Number of word vectors read: 20000...\n",
      "[2021-12-25 09:00:19,110 INFO] Number of word vectors found: 1099\n",
      "[2021-12-25 09:00:19,110 INFO] Running: sed -i '' '1s/^/1099 300\\'$'\\n/' ../data/evaluation_tests_word_embedding/temp_embs.txt\n",
      "[2021-12-25 09:00:19,129 INFO] Running WS test...\n",
      "[2021-12-25 09:00:19,130 INFO] Calling command: ./../data/evaluation_tests_word_embedding/ws/ws ../data/evaluation_tests_word_embedding/temp_embs.txt > ../results/experiment_W2V_several_runs_WEAT_2/Word_embedding_quality_W2V/W2V_lemmatized_iter-4_dim-300_w-5_alpha-default_epochs-40_corpus-female_person_artist_lyrics_epoch-0/ws_test.txt\n",
      "[2021-12-25 09:00:19,207 INFO] Running TOEFL test...\n",
      "[2021-12-25 09:00:19,207 INFO] Calling command: ./../data/evaluation_tests_word_embedding/tfl/toefl ../data/evaluation_tests_word_embedding/temp_embs.txt > ../results/experiment_W2V_several_runs_WEAT_2/Word_embedding_quality_W2V/W2V_lemmatized_iter-4_dim-300_w-5_alpha-default_epochs-40_corpus-female_person_artist_lyrics_epoch-0/toefl_test.txt\n",
      "[2021-12-25 09:00:19,280 INFO] Running SYN-SEM test...\n",
      "[2021-12-25 09:00:19,280 INFO] Calling command: ./../data/evaluation_tests_word_embedding/syn_sem/compute-accuracy-txt ../data/evaluation_tests_word_embedding/temp_embs.txt 0 < ../data/evaluation_tests_word_embedding/syn_sem/questions-words.txt > ../results/experiment_W2V_several_runs_WEAT_2/Word_embedding_quality_W2V/W2V_lemmatized_iter-4_dim-300_w-5_alpha-default_epochs-40_corpus-female_person_artist_lyrics_epoch-0/syn-sem_test.txt\n"
     ]
    },
    {
     "name": "stdout",
     "output_type": "stream",
     "text": [
      "Epoch #5 end\n"
     ]
    },
    {
     "name": "stderr",
     "output_type": "stream",
     "text": [
      "[2021-12-25 09:03:48,592 INFO] Start computation quality word embedding tests. Results will be saved at ../results/experiment_W2V_several_runs_WEAT_2/Word_embedding_quality_W2V/\n",
      "[2021-12-25 09:03:48,594 INFO] Number of unique words for tests: 2066\n",
      "[2021-12-25 09:03:48,594 INFO] Reading word vectors...\n",
      "[2021-12-25 09:03:48,989 INFO] Number of word vectors read: 10000...\n",
      "[2021-12-25 09:03:49,379 INFO] Number of word vectors read: 20000...\n",
      "[2021-12-25 09:03:49,483 INFO] Number of word vectors found: 1099\n",
      "[2021-12-25 09:03:49,483 INFO] Running: sed -i '' '1s/^/1099 300\\'$'\\n/' ../data/evaluation_tests_word_embedding/temp_embs.txt\n",
      "[2021-12-25 09:03:49,505 INFO] Running WS test...\n",
      "[2021-12-25 09:03:49,505 INFO] Calling command: ./../data/evaluation_tests_word_embedding/ws/ws ../data/evaluation_tests_word_embedding/temp_embs.txt > ../results/experiment_W2V_several_runs_WEAT_2/Word_embedding_quality_W2V/W2V_lemmatized_iter-4_dim-300_w-5_alpha-default_epochs-40_corpus-female_person_artist_lyrics_epoch-5/ws_test.txt\n",
      "[2021-12-25 09:03:49,580 INFO] Running TOEFL test...\n",
      "[2021-12-25 09:03:49,581 INFO] Calling command: ./../data/evaluation_tests_word_embedding/tfl/toefl ../data/evaluation_tests_word_embedding/temp_embs.txt > ../results/experiment_W2V_several_runs_WEAT_2/Word_embedding_quality_W2V/W2V_lemmatized_iter-4_dim-300_w-5_alpha-default_epochs-40_corpus-female_person_artist_lyrics_epoch-5/toefl_test.txt\n",
      "[2021-12-25 09:03:49,650 INFO] Running SYN-SEM test...\n",
      "[2021-12-25 09:03:49,650 INFO] Calling command: ./../data/evaluation_tests_word_embedding/syn_sem/compute-accuracy-txt ../data/evaluation_tests_word_embedding/temp_embs.txt 0 < ../data/evaluation_tests_word_embedding/syn_sem/questions-words.txt > ../results/experiment_W2V_several_runs_WEAT_2/Word_embedding_quality_W2V/W2V_lemmatized_iter-4_dim-300_w-5_alpha-default_epochs-40_corpus-female_person_artist_lyrics_epoch-5/syn-sem_test.txt\n"
     ]
    },
    {
     "name": "stdout",
     "output_type": "stream",
     "text": [
      "Epoch #10 end\n"
     ]
    },
    {
     "name": "stderr",
     "output_type": "stream",
     "text": [
      "[2021-12-25 09:07:19,330 INFO] Start computation quality word embedding tests. Results will be saved at ../results/experiment_W2V_several_runs_WEAT_2/Word_embedding_quality_W2V/\n",
      "[2021-12-25 09:07:19,332 INFO] Number of unique words for tests: 2066\n",
      "[2021-12-25 09:07:19,332 INFO] Reading word vectors...\n",
      "[2021-12-25 09:07:19,711 INFO] Number of word vectors read: 10000...\n",
      "[2021-12-25 09:07:20,094 INFO] Number of word vectors read: 20000...\n",
      "[2021-12-25 09:07:20,200 INFO] Number of word vectors found: 1099\n",
      "[2021-12-25 09:07:20,200 INFO] Running: sed -i '' '1s/^/1099 300\\'$'\\n/' ../data/evaluation_tests_word_embedding/temp_embs.txt\n",
      "[2021-12-25 09:07:20,224 INFO] Running WS test...\n",
      "[2021-12-25 09:07:20,225 INFO] Calling command: ./../data/evaluation_tests_word_embedding/ws/ws ../data/evaluation_tests_word_embedding/temp_embs.txt > ../results/experiment_W2V_several_runs_WEAT_2/Word_embedding_quality_W2V/W2V_lemmatized_iter-4_dim-300_w-5_alpha-default_epochs-40_corpus-female_person_artist_lyrics_epoch-10/ws_test.txt\n",
      "[2021-12-25 09:07:20,297 INFO] Running TOEFL test...\n",
      "[2021-12-25 09:07:20,297 INFO] Calling command: ./../data/evaluation_tests_word_embedding/tfl/toefl ../data/evaluation_tests_word_embedding/temp_embs.txt > ../results/experiment_W2V_several_runs_WEAT_2/Word_embedding_quality_W2V/W2V_lemmatized_iter-4_dim-300_w-5_alpha-default_epochs-40_corpus-female_person_artist_lyrics_epoch-10/toefl_test.txt\n",
      "[2021-12-25 09:07:20,367 INFO] Running SYN-SEM test...\n",
      "[2021-12-25 09:07:20,367 INFO] Calling command: ./../data/evaluation_tests_word_embedding/syn_sem/compute-accuracy-txt ../data/evaluation_tests_word_embedding/temp_embs.txt 0 < ../data/evaluation_tests_word_embedding/syn_sem/questions-words.txt > ../results/experiment_W2V_several_runs_WEAT_2/Word_embedding_quality_W2V/W2V_lemmatized_iter-4_dim-300_w-5_alpha-default_epochs-40_corpus-female_person_artist_lyrics_epoch-10/syn-sem_test.txt\n"
     ]
    },
    {
     "name": "stdout",
     "output_type": "stream",
     "text": [
      "Epoch #15 end\n"
     ]
    },
    {
     "name": "stderr",
     "output_type": "stream",
     "text": [
      "[2021-12-25 09:10:49,316 INFO] Start computation quality word embedding tests. Results will be saved at ../results/experiment_W2V_several_runs_WEAT_2/Word_embedding_quality_W2V/\n",
      "[2021-12-25 09:10:49,318 INFO] Number of unique words for tests: 2066\n",
      "[2021-12-25 09:10:49,318 INFO] Reading word vectors...\n",
      "[2021-12-25 09:10:49,696 INFO] Number of word vectors read: 10000...\n",
      "[2021-12-25 09:10:50,070 INFO] Number of word vectors read: 20000...\n",
      "[2021-12-25 09:10:50,174 INFO] Number of word vectors found: 1099\n",
      "[2021-12-25 09:10:50,174 INFO] Running: sed -i '' '1s/^/1099 300\\'$'\\n/' ../data/evaluation_tests_word_embedding/temp_embs.txt\n",
      "[2021-12-25 09:10:50,194 INFO] Running WS test...\n",
      "[2021-12-25 09:10:50,195 INFO] Calling command: ./../data/evaluation_tests_word_embedding/ws/ws ../data/evaluation_tests_word_embedding/temp_embs.txt > ../results/experiment_W2V_several_runs_WEAT_2/Word_embedding_quality_W2V/W2V_lemmatized_iter-4_dim-300_w-5_alpha-default_epochs-40_corpus-female_person_artist_lyrics_epoch-15/ws_test.txt\n",
      "[2021-12-25 09:10:50,268 INFO] Running TOEFL test...\n",
      "[2021-12-25 09:10:50,269 INFO] Calling command: ./../data/evaluation_tests_word_embedding/tfl/toefl ../data/evaluation_tests_word_embedding/temp_embs.txt > ../results/experiment_W2V_several_runs_WEAT_2/Word_embedding_quality_W2V/W2V_lemmatized_iter-4_dim-300_w-5_alpha-default_epochs-40_corpus-female_person_artist_lyrics_epoch-15/toefl_test.txt\n",
      "[2021-12-25 09:10:50,338 INFO] Running SYN-SEM test...\n",
      "[2021-12-25 09:10:50,338 INFO] Calling command: ./../data/evaluation_tests_word_embedding/syn_sem/compute-accuracy-txt ../data/evaluation_tests_word_embedding/temp_embs.txt 0 < ../data/evaluation_tests_word_embedding/syn_sem/questions-words.txt > ../results/experiment_W2V_several_runs_WEAT_2/Word_embedding_quality_W2V/W2V_lemmatized_iter-4_dim-300_w-5_alpha-default_epochs-40_corpus-female_person_artist_lyrics_epoch-15/syn-sem_test.txt\n"
     ]
    },
    {
     "name": "stdout",
     "output_type": "stream",
     "text": [
      "Epoch #20 end\n"
     ]
    },
    {
     "name": "stderr",
     "output_type": "stream",
     "text": [
      "[2021-12-25 09:14:20,427 INFO] Start computation quality word embedding tests. Results will be saved at ../results/experiment_W2V_several_runs_WEAT_2/Word_embedding_quality_W2V/\n",
      "[2021-12-25 09:14:20,428 INFO] Number of unique words for tests: 2066\n",
      "[2021-12-25 09:14:20,429 INFO] Reading word vectors...\n",
      "[2021-12-25 09:14:20,814 INFO] Number of word vectors read: 10000...\n",
      "[2021-12-25 09:14:21,190 INFO] Number of word vectors read: 20000...\n",
      "[2021-12-25 09:14:21,291 INFO] Number of word vectors found: 1099\n",
      "[2021-12-25 09:14:21,292 INFO] Running: sed -i '' '1s/^/1099 300\\'$'\\n/' ../data/evaluation_tests_word_embedding/temp_embs.txt\n",
      "[2021-12-25 09:14:21,311 INFO] Running WS test...\n",
      "[2021-12-25 09:14:21,311 INFO] Calling command: ./../data/evaluation_tests_word_embedding/ws/ws ../data/evaluation_tests_word_embedding/temp_embs.txt > ../results/experiment_W2V_several_runs_WEAT_2/Word_embedding_quality_W2V/W2V_lemmatized_iter-4_dim-300_w-5_alpha-default_epochs-40_corpus-female_person_artist_lyrics_epoch-20/ws_test.txt\n",
      "[2021-12-25 09:14:21,381 INFO] Running TOEFL test...\n",
      "[2021-12-25 09:14:21,381 INFO] Calling command: ./../data/evaluation_tests_word_embedding/tfl/toefl ../data/evaluation_tests_word_embedding/temp_embs.txt > ../results/experiment_W2V_several_runs_WEAT_2/Word_embedding_quality_W2V/W2V_lemmatized_iter-4_dim-300_w-5_alpha-default_epochs-40_corpus-female_person_artist_lyrics_epoch-20/toefl_test.txt\n",
      "[2021-12-25 09:14:21,448 INFO] Running SYN-SEM test...\n",
      "[2021-12-25 09:14:21,448 INFO] Calling command: ./../data/evaluation_tests_word_embedding/syn_sem/compute-accuracy-txt ../data/evaluation_tests_word_embedding/temp_embs.txt 0 < ../data/evaluation_tests_word_embedding/syn_sem/questions-words.txt > ../results/experiment_W2V_several_runs_WEAT_2/Word_embedding_quality_W2V/W2V_lemmatized_iter-4_dim-300_w-5_alpha-default_epochs-40_corpus-female_person_artist_lyrics_epoch-20/syn-sem_test.txt\n"
     ]
    },
    {
     "name": "stdout",
     "output_type": "stream",
     "text": [
      "Epoch #25 end\n"
     ]
    },
    {
     "name": "stderr",
     "output_type": "stream",
     "text": [
      "[2021-12-25 09:17:50,565 INFO] Start computation quality word embedding tests. Results will be saved at ../results/experiment_W2V_several_runs_WEAT_2/Word_embedding_quality_W2V/\n",
      "[2021-12-25 09:17:50,567 INFO] Number of unique words for tests: 2066\n",
      "[2021-12-25 09:17:50,567 INFO] Reading word vectors...\n",
      "[2021-12-25 09:17:50,968 INFO] Number of word vectors read: 10000...\n",
      "[2021-12-25 09:17:51,355 INFO] Number of word vectors read: 20000...\n",
      "[2021-12-25 09:17:51,459 INFO] Number of word vectors found: 1099\n",
      "[2021-12-25 09:17:51,459 INFO] Running: sed -i '' '1s/^/1099 300\\'$'\\n/' ../data/evaluation_tests_word_embedding/temp_embs.txt\n",
      "[2021-12-25 09:17:51,485 INFO] Running WS test...\n",
      "[2021-12-25 09:17:51,485 INFO] Calling command: ./../data/evaluation_tests_word_embedding/ws/ws ../data/evaluation_tests_word_embedding/temp_embs.txt > ../results/experiment_W2V_several_runs_WEAT_2/Word_embedding_quality_W2V/W2V_lemmatized_iter-4_dim-300_w-5_alpha-default_epochs-40_corpus-female_person_artist_lyrics_epoch-25/ws_test.txt\n",
      "[2021-12-25 09:17:51,561 INFO] Running TOEFL test...\n",
      "[2021-12-25 09:17:51,561 INFO] Calling command: ./../data/evaluation_tests_word_embedding/tfl/toefl ../data/evaluation_tests_word_embedding/temp_embs.txt > ../results/experiment_W2V_several_runs_WEAT_2/Word_embedding_quality_W2V/W2V_lemmatized_iter-4_dim-300_w-5_alpha-default_epochs-40_corpus-female_person_artist_lyrics_epoch-25/toefl_test.txt\n",
      "[2021-12-25 09:17:51,635 INFO] Running SYN-SEM test...\n",
      "[2021-12-25 09:17:51,635 INFO] Calling command: ./../data/evaluation_tests_word_embedding/syn_sem/compute-accuracy-txt ../data/evaluation_tests_word_embedding/temp_embs.txt 0 < ../data/evaluation_tests_word_embedding/syn_sem/questions-words.txt > ../results/experiment_W2V_several_runs_WEAT_2/Word_embedding_quality_W2V/W2V_lemmatized_iter-4_dim-300_w-5_alpha-default_epochs-40_corpus-female_person_artist_lyrics_epoch-25/syn-sem_test.txt\n"
     ]
    },
    {
     "name": "stdout",
     "output_type": "stream",
     "text": [
      "Epoch #30 end\n"
     ]
    },
    {
     "name": "stderr",
     "output_type": "stream",
     "text": [
      "[2021-12-25 09:21:21,546 INFO] Start computation quality word embedding tests. Results will be saved at ../results/experiment_W2V_several_runs_WEAT_2/Word_embedding_quality_W2V/\n",
      "[2021-12-25 09:21:21,549 INFO] Number of unique words for tests: 2066\n",
      "[2021-12-25 09:21:21,549 INFO] Reading word vectors...\n",
      "[2021-12-25 09:21:21,954 INFO] Number of word vectors read: 10000...\n",
      "[2021-12-25 09:21:22,334 INFO] Number of word vectors read: 20000...\n",
      "[2021-12-25 09:21:22,442 INFO] Number of word vectors found: 1099\n",
      "[2021-12-25 09:21:22,443 INFO] Running: sed -i '' '1s/^/1099 300\\'$'\\n/' ../data/evaluation_tests_word_embedding/temp_embs.txt\n",
      "[2021-12-25 09:21:22,464 INFO] Running WS test...\n",
      "[2021-12-25 09:21:22,464 INFO] Calling command: ./../data/evaluation_tests_word_embedding/ws/ws ../data/evaluation_tests_word_embedding/temp_embs.txt > ../results/experiment_W2V_several_runs_WEAT_2/Word_embedding_quality_W2V/W2V_lemmatized_iter-4_dim-300_w-5_alpha-default_epochs-40_corpus-female_person_artist_lyrics_epoch-30/ws_test.txt\n",
      "[2021-12-25 09:21:22,537 INFO] Running TOEFL test...\n",
      "[2021-12-25 09:21:22,537 INFO] Calling command: ./../data/evaluation_tests_word_embedding/tfl/toefl ../data/evaluation_tests_word_embedding/temp_embs.txt > ../results/experiment_W2V_several_runs_WEAT_2/Word_embedding_quality_W2V/W2V_lemmatized_iter-4_dim-300_w-5_alpha-default_epochs-40_corpus-female_person_artist_lyrics_epoch-30/toefl_test.txt\n",
      "[2021-12-25 09:21:22,607 INFO] Running SYN-SEM test...\n",
      "[2021-12-25 09:21:22,607 INFO] Calling command: ./../data/evaluation_tests_word_embedding/syn_sem/compute-accuracy-txt ../data/evaluation_tests_word_embedding/temp_embs.txt 0 < ../data/evaluation_tests_word_embedding/syn_sem/questions-words.txt > ../results/experiment_W2V_several_runs_WEAT_2/Word_embedding_quality_W2V/W2V_lemmatized_iter-4_dim-300_w-5_alpha-default_epochs-40_corpus-female_person_artist_lyrics_epoch-30/syn-sem_test.txt\n"
     ]
    },
    {
     "name": "stdout",
     "output_type": "stream",
     "text": [
      "Epoch #35 end\n"
     ]
    },
    {
     "name": "stderr",
     "output_type": "stream",
     "text": [
      "[2021-12-25 09:24:52,255 INFO] Start computation quality word embedding tests. Results will be saved at ../results/experiment_W2V_several_runs_WEAT_2/Word_embedding_quality_W2V/\n",
      "[2021-12-25 09:24:52,256 INFO] Number of unique words for tests: 2066\n",
      "[2021-12-25 09:24:52,256 INFO] Reading word vectors...\n",
      "[2021-12-25 09:24:52,637 INFO] Number of word vectors read: 10000...\n",
      "[2021-12-25 09:24:53,012 INFO] Number of word vectors read: 20000...\n",
      "[2021-12-25 09:24:53,115 INFO] Number of word vectors found: 1099\n",
      "[2021-12-25 09:24:53,115 INFO] Running: sed -i '' '1s/^/1099 300\\'$'\\n/' ../data/evaluation_tests_word_embedding/temp_embs.txt\n",
      "[2021-12-25 09:24:53,133 INFO] Running WS test...\n",
      "[2021-12-25 09:24:53,134 INFO] Calling command: ./../data/evaluation_tests_word_embedding/ws/ws ../data/evaluation_tests_word_embedding/temp_embs.txt > ../results/experiment_W2V_several_runs_WEAT_2/Word_embedding_quality_W2V/W2V_lemmatized_iter-4_dim-300_w-5_alpha-default_epochs-40_corpus-female_person_artist_lyrics_epoch-35/ws_test.txt\n",
      "[2021-12-25 09:24:53,209 INFO] Running TOEFL test...\n",
      "[2021-12-25 09:24:53,209 INFO] Calling command: ./../data/evaluation_tests_word_embedding/tfl/toefl ../data/evaluation_tests_word_embedding/temp_embs.txt > ../results/experiment_W2V_several_runs_WEAT_2/Word_embedding_quality_W2V/W2V_lemmatized_iter-4_dim-300_w-5_alpha-default_epochs-40_corpus-female_person_artist_lyrics_epoch-35/toefl_test.txt\n",
      "[2021-12-25 09:24:53,276 INFO] Running SYN-SEM test...\n",
      "[2021-12-25 09:24:53,277 INFO] Calling command: ./../data/evaluation_tests_word_embedding/syn_sem/compute-accuracy-txt ../data/evaluation_tests_word_embedding/temp_embs.txt 0 < ../data/evaluation_tests_word_embedding/syn_sem/questions-words.txt > ../results/experiment_W2V_several_runs_WEAT_2/Word_embedding_quality_W2V/W2V_lemmatized_iter-4_dim-300_w-5_alpha-default_epochs-40_corpus-female_person_artist_lyrics_epoch-35/syn-sem_test.txt\n",
      "[2021-12-25 09:27:45,559 INFO] Start computation quality word embedding tests. Results will be saved at ../results/experiment_W2V_several_runs_WEAT_2/Word_embedding_quality_W2V/\n",
      "[2021-12-25 09:27:45,561 INFO] Number of unique words for tests: 2066\n",
      "[2021-12-25 09:27:45,562 INFO] Reading word vectors...\n",
      "[2021-12-25 09:27:45,986 INFO] Number of word vectors read: 10000...\n",
      "[2021-12-25 09:27:46,364 INFO] Number of word vectors read: 20000...\n",
      "[2021-12-25 09:27:46,468 INFO] Number of word vectors found: 1099\n",
      "[2021-12-25 09:27:46,468 INFO] Running: sed -i '' '1s/^/1099 300\\'$'\\n/' ../data/evaluation_tests_word_embedding/temp_embs.txt\n",
      "[2021-12-25 09:27:46,490 INFO] Running WS test...\n",
      "[2021-12-25 09:27:46,491 INFO] Calling command: ./../data/evaluation_tests_word_embedding/ws/ws ../data/evaluation_tests_word_embedding/temp_embs.txt > ../results/experiment_W2V_several_runs_WEAT_2/Word_embedding_quality_W2V/W2V_lemmatized_iter-4_dim-300_w-5_alpha-default_epochs-40_corpus-female_person_artist_lyrics_epoch-39/ws_test.txt\n",
      "[2021-12-25 09:27:46,570 INFO] Running TOEFL test...\n",
      "[2021-12-25 09:27:46,571 INFO] Calling command: ./../data/evaluation_tests_word_embedding/tfl/toefl ../data/evaluation_tests_word_embedding/temp_embs.txt > ../results/experiment_W2V_several_runs_WEAT_2/Word_embedding_quality_W2V/W2V_lemmatized_iter-4_dim-300_w-5_alpha-default_epochs-40_corpus-female_person_artist_lyrics_epoch-39/toefl_test.txt\n",
      "[2021-12-25 09:27:46,646 INFO] Running SYN-SEM test...\n",
      "[2021-12-25 09:27:46,646 INFO] Calling command: ./../data/evaluation_tests_word_embedding/syn_sem/compute-accuracy-txt ../data/evaluation_tests_word_embedding/temp_embs.txt 0 < ../data/evaluation_tests_word_embedding/syn_sem/questions-words.txt > ../results/experiment_W2V_several_runs_WEAT_2/Word_embedding_quality_W2V/W2V_lemmatized_iter-4_dim-300_w-5_alpha-default_epochs-40_corpus-female_person_artist_lyrics_epoch-39/syn-sem_test.txt\n"
     ]
    },
    {
     "name": "stdout",
     "output_type": "stream",
     "text": [
      "End training of W2V_lemmatized_iter-4_dim-300_w-5_alpha-default_epochs-40_corpus-female_person_artist_lyrics\n",
      "\n",
      "Start training corpus:  male_person_artist_lyrics\n",
      "Embedding name:  W2V_lemmatized_iter-4_dim-300_w-5_alpha-default_epochs-40_corpus-male_person_artist_lyrics\n",
      "Vocab done...\n",
      "Corpus count:  166966\n",
      "Corpus total words:  44363120\n",
      "Epoch #0 end\n"
     ]
    },
    {
     "name": "stderr",
     "output_type": "stream",
     "text": [
      "[2021-12-25 09:30:21,293 INFO] Start computation quality word embedding tests. Results will be saved at ../results/experiment_W2V_several_runs_WEAT_2/Word_embedding_quality_W2V/\n",
      "[2021-12-25 09:30:21,303 INFO] Number of unique words for tests: 2066\n",
      "[2021-12-25 09:30:21,303 INFO] Reading word vectors...\n",
      "[2021-12-25 09:30:21,739 INFO] Number of word vectors read: 10000...\n",
      "[2021-12-25 09:30:22,135 INFO] Number of word vectors read: 20000...\n",
      "[2021-12-25 09:30:22,526 INFO] Number of word vectors read: 30000...\n",
      "[2021-12-25 09:30:22,941 INFO] Number of word vectors read: 40000...\n",
      "[2021-12-25 09:30:23,185 INFO] Number of word vectors found: 1319\n",
      "[2021-12-25 09:30:23,185 INFO] Running: sed -i '' '1s/^/1319 300\\'$'\\n/' ../data/evaluation_tests_word_embedding/temp_embs.txt\n",
      "[2021-12-25 09:30:23,210 INFO] Running WS test...\n",
      "[2021-12-25 09:30:23,211 INFO] Calling command: ./../data/evaluation_tests_word_embedding/ws/ws ../data/evaluation_tests_word_embedding/temp_embs.txt > ../results/experiment_W2V_several_runs_WEAT_2/Word_embedding_quality_W2V/W2V_lemmatized_iter-4_dim-300_w-5_alpha-default_epochs-40_corpus-male_person_artist_lyrics_epoch-0/ws_test.txt\n",
      "[2021-12-25 09:30:23,303 INFO] Running TOEFL test...\n",
      "[2021-12-25 09:30:23,303 INFO] Calling command: ./../data/evaluation_tests_word_embedding/tfl/toefl ../data/evaluation_tests_word_embedding/temp_embs.txt > ../results/experiment_W2V_several_runs_WEAT_2/Word_embedding_quality_W2V/W2V_lemmatized_iter-4_dim-300_w-5_alpha-default_epochs-40_corpus-male_person_artist_lyrics_epoch-0/toefl_test.txt\n",
      "[2021-12-25 09:30:23,389 INFO] Running SYN-SEM test...\n",
      "[2021-12-25 09:30:23,389 INFO] Calling command: ./../data/evaluation_tests_word_embedding/syn_sem/compute-accuracy-txt ../data/evaluation_tests_word_embedding/temp_embs.txt 0 < ../data/evaluation_tests_word_embedding/syn_sem/questions-words.txt > ../results/experiment_W2V_several_runs_WEAT_2/Word_embedding_quality_W2V/W2V_lemmatized_iter-4_dim-300_w-5_alpha-default_epochs-40_corpus-male_person_artist_lyrics_epoch-0/syn-sem_test.txt\n"
     ]
    },
    {
     "name": "stdout",
     "output_type": "stream",
     "text": [
      "Epoch #5 end\n"
     ]
    },
    {
     "name": "stderr",
     "output_type": "stream",
     "text": [
      "[2021-12-25 09:41:18,450 INFO] Start computation quality word embedding tests. Results will be saved at ../results/experiment_W2V_several_runs_WEAT_2/Word_embedding_quality_W2V/\n",
      "[2021-12-25 09:41:18,455 INFO] Number of unique words for tests: 2066\n",
      "[2021-12-25 09:41:18,455 INFO] Reading word vectors...\n",
      "[2021-12-25 09:41:18,848 INFO] Number of word vectors read: 10000...\n",
      "[2021-12-25 09:41:19,235 INFO] Number of word vectors read: 20000...\n",
      "[2021-12-25 09:41:19,607 INFO] Number of word vectors read: 30000...\n",
      "[2021-12-25 09:41:20,003 INFO] Number of word vectors read: 40000...\n",
      "[2021-12-25 09:41:20,245 INFO] Number of word vectors found: 1319\n",
      "[2021-12-25 09:41:20,245 INFO] Running: sed -i '' '1s/^/1319 300\\'$'\\n/' ../data/evaluation_tests_word_embedding/temp_embs.txt\n",
      "[2021-12-25 09:41:20,287 INFO] Running WS test...\n",
      "[2021-12-25 09:41:20,288 INFO] Calling command: ./../data/evaluation_tests_word_embedding/ws/ws ../data/evaluation_tests_word_embedding/temp_embs.txt > ../results/experiment_W2V_several_runs_WEAT_2/Word_embedding_quality_W2V/W2V_lemmatized_iter-4_dim-300_w-5_alpha-default_epochs-40_corpus-male_person_artist_lyrics_epoch-5/ws_test.txt\n",
      "[2021-12-25 09:41:20,376 INFO] Running TOEFL test...\n",
      "[2021-12-25 09:41:20,376 INFO] Calling command: ./../data/evaluation_tests_word_embedding/tfl/toefl ../data/evaluation_tests_word_embedding/temp_embs.txt > ../results/experiment_W2V_several_runs_WEAT_2/Word_embedding_quality_W2V/W2V_lemmatized_iter-4_dim-300_w-5_alpha-default_epochs-40_corpus-male_person_artist_lyrics_epoch-5/toefl_test.txt\n",
      "[2021-12-25 09:41:20,460 INFO] Running SYN-SEM test...\n",
      "[2021-12-25 09:41:20,460 INFO] Calling command: ./../data/evaluation_tests_word_embedding/syn_sem/compute-accuracy-txt ../data/evaluation_tests_word_embedding/temp_embs.txt 0 < ../data/evaluation_tests_word_embedding/syn_sem/questions-words.txt > ../results/experiment_W2V_several_runs_WEAT_2/Word_embedding_quality_W2V/W2V_lemmatized_iter-4_dim-300_w-5_alpha-default_epochs-40_corpus-male_person_artist_lyrics_epoch-5/syn-sem_test.txt\n"
     ]
    },
    {
     "name": "stdout",
     "output_type": "stream",
     "text": [
      "Epoch #10 end\n"
     ]
    },
    {
     "name": "stderr",
     "output_type": "stream",
     "text": [
      "[2021-12-25 09:52:16,338 INFO] Start computation quality word embedding tests. Results will be saved at ../results/experiment_W2V_several_runs_WEAT_2/Word_embedding_quality_W2V/\n",
      "[2021-12-25 09:52:16,339 INFO] Number of unique words for tests: 2066\n",
      "[2021-12-25 09:52:16,340 INFO] Reading word vectors...\n",
      "[2021-12-25 09:52:16,728 INFO] Number of word vectors read: 10000...\n",
      "[2021-12-25 09:52:17,104 INFO] Number of word vectors read: 20000...\n",
      "[2021-12-25 09:52:17,483 INFO] Number of word vectors read: 30000...\n",
      "[2021-12-25 09:52:17,881 INFO] Number of word vectors read: 40000...\n",
      "[2021-12-25 09:52:18,123 INFO] Number of word vectors found: 1319\n",
      "[2021-12-25 09:52:18,123 INFO] Running: sed -i '' '1s/^/1319 300\\'$'\\n/' ../data/evaluation_tests_word_embedding/temp_embs.txt\n",
      "[2021-12-25 09:52:18,170 INFO] Running WS test...\n",
      "[2021-12-25 09:52:18,171 INFO] Calling command: ./../data/evaluation_tests_word_embedding/ws/ws ../data/evaluation_tests_word_embedding/temp_embs.txt > ../results/experiment_W2V_several_runs_WEAT_2/Word_embedding_quality_W2V/W2V_lemmatized_iter-4_dim-300_w-5_alpha-default_epochs-40_corpus-male_person_artist_lyrics_epoch-10/ws_test.txt\n",
      "[2021-12-25 09:52:18,257 INFO] Running TOEFL test...\n",
      "[2021-12-25 09:52:18,257 INFO] Calling command: ./../data/evaluation_tests_word_embedding/tfl/toefl ../data/evaluation_tests_word_embedding/temp_embs.txt > ../results/experiment_W2V_several_runs_WEAT_2/Word_embedding_quality_W2V/W2V_lemmatized_iter-4_dim-300_w-5_alpha-default_epochs-40_corpus-male_person_artist_lyrics_epoch-10/toefl_test.txt\n",
      "[2021-12-25 09:52:18,337 INFO] Running SYN-SEM test...\n",
      "[2021-12-25 09:52:18,338 INFO] Calling command: ./../data/evaluation_tests_word_embedding/syn_sem/compute-accuracy-txt ../data/evaluation_tests_word_embedding/temp_embs.txt 0 < ../data/evaluation_tests_word_embedding/syn_sem/questions-words.txt > ../results/experiment_W2V_several_runs_WEAT_2/Word_embedding_quality_W2V/W2V_lemmatized_iter-4_dim-300_w-5_alpha-default_epochs-40_corpus-male_person_artist_lyrics_epoch-10/syn-sem_test.txt\n"
     ]
    },
    {
     "name": "stdout",
     "output_type": "stream",
     "text": [
      "Epoch #15 end\n"
     ]
    },
    {
     "name": "stderr",
     "output_type": "stream",
     "text": [
      "[2021-12-25 10:03:08,983 INFO] Start computation quality word embedding tests. Results will be saved at ../results/experiment_W2V_several_runs_WEAT_2/Word_embedding_quality_W2V/\n",
      "[2021-12-25 10:03:08,984 INFO] Number of unique words for tests: 2066\n",
      "[2021-12-25 10:03:08,985 INFO] Reading word vectors...\n",
      "[2021-12-25 10:03:09,379 INFO] Number of word vectors read: 10000...\n",
      "[2021-12-25 10:03:09,751 INFO] Number of word vectors read: 20000...\n",
      "[2021-12-25 10:03:10,134 INFO] Number of word vectors read: 30000...\n",
      "[2021-12-25 10:03:10,509 INFO] Number of word vectors read: 40000...\n",
      "[2021-12-25 10:03:10,748 INFO] Number of word vectors found: 1319\n",
      "[2021-12-25 10:03:10,748 INFO] Running: sed -i '' '1s/^/1319 300\\'$'\\n/' ../data/evaluation_tests_word_embedding/temp_embs.txt\n",
      "[2021-12-25 10:03:10,770 INFO] Running WS test...\n",
      "[2021-12-25 10:03:10,771 INFO] Calling command: ./../data/evaluation_tests_word_embedding/ws/ws ../data/evaluation_tests_word_embedding/temp_embs.txt > ../results/experiment_W2V_several_runs_WEAT_2/Word_embedding_quality_W2V/W2V_lemmatized_iter-4_dim-300_w-5_alpha-default_epochs-40_corpus-male_person_artist_lyrics_epoch-15/ws_test.txt\n",
      "[2021-12-25 10:03:10,855 INFO] Running TOEFL test...\n",
      "[2021-12-25 10:03:10,855 INFO] Calling command: ./../data/evaluation_tests_word_embedding/tfl/toefl ../data/evaluation_tests_word_embedding/temp_embs.txt > ../results/experiment_W2V_several_runs_WEAT_2/Word_embedding_quality_W2V/W2V_lemmatized_iter-4_dim-300_w-5_alpha-default_epochs-40_corpus-male_person_artist_lyrics_epoch-15/toefl_test.txt\n",
      "[2021-12-25 10:03:10,935 INFO] Running SYN-SEM test...\n",
      "[2021-12-25 10:03:10,935 INFO] Calling command: ./../data/evaluation_tests_word_embedding/syn_sem/compute-accuracy-txt ../data/evaluation_tests_word_embedding/temp_embs.txt 0 < ../data/evaluation_tests_word_embedding/syn_sem/questions-words.txt > ../results/experiment_W2V_several_runs_WEAT_2/Word_embedding_quality_W2V/W2V_lemmatized_iter-4_dim-300_w-5_alpha-default_epochs-40_corpus-male_person_artist_lyrics_epoch-15/syn-sem_test.txt\n"
     ]
    },
    {
     "name": "stdout",
     "output_type": "stream",
     "text": [
      "Epoch #20 end\n"
     ]
    },
    {
     "name": "stderr",
     "output_type": "stream",
     "text": [
      "[2021-12-25 10:14:04,283 INFO] Start computation quality word embedding tests. Results will be saved at ../results/experiment_W2V_several_runs_WEAT_2/Word_embedding_quality_W2V/\n",
      "[2021-12-25 10:14:04,285 INFO] Number of unique words for tests: 2066\n",
      "[2021-12-25 10:14:04,285 INFO] Reading word vectors...\n",
      "[2021-12-25 10:14:04,681 INFO] Number of word vectors read: 10000...\n",
      "[2021-12-25 10:14:05,063 INFO] Number of word vectors read: 20000...\n",
      "[2021-12-25 10:14:05,438 INFO] Number of word vectors read: 30000...\n",
      "[2021-12-25 10:14:05,823 INFO] Number of word vectors read: 40000...\n",
      "[2021-12-25 10:14:06,065 INFO] Number of word vectors found: 1319\n",
      "[2021-12-25 10:14:06,065 INFO] Running: sed -i '' '1s/^/1319 300\\'$'\\n/' ../data/evaluation_tests_word_embedding/temp_embs.txt\n",
      "[2021-12-25 10:14:06,098 INFO] Running WS test...\n",
      "[2021-12-25 10:14:06,114 INFO] Calling command: ./../data/evaluation_tests_word_embedding/ws/ws ../data/evaluation_tests_word_embedding/temp_embs.txt > ../results/experiment_W2V_several_runs_WEAT_2/Word_embedding_quality_W2V/W2V_lemmatized_iter-4_dim-300_w-5_alpha-default_epochs-40_corpus-male_person_artist_lyrics_epoch-20/ws_test.txt\n",
      "[2021-12-25 10:14:06,216 INFO] Running TOEFL test...\n",
      "[2021-12-25 10:14:06,216 INFO] Calling command: ./../data/evaluation_tests_word_embedding/tfl/toefl ../data/evaluation_tests_word_embedding/temp_embs.txt > ../results/experiment_W2V_several_runs_WEAT_2/Word_embedding_quality_W2V/W2V_lemmatized_iter-4_dim-300_w-5_alpha-default_epochs-40_corpus-male_person_artist_lyrics_epoch-20/toefl_test.txt\n",
      "[2021-12-25 10:14:06,302 INFO] Running SYN-SEM test...\n",
      "[2021-12-25 10:14:06,303 INFO] Calling command: ./../data/evaluation_tests_word_embedding/syn_sem/compute-accuracy-txt ../data/evaluation_tests_word_embedding/temp_embs.txt 0 < ../data/evaluation_tests_word_embedding/syn_sem/questions-words.txt > ../results/experiment_W2V_several_runs_WEAT_2/Word_embedding_quality_W2V/W2V_lemmatized_iter-4_dim-300_w-5_alpha-default_epochs-40_corpus-male_person_artist_lyrics_epoch-20/syn-sem_test.txt\n"
     ]
    },
    {
     "name": "stdout",
     "output_type": "stream",
     "text": [
      "Epoch #25 end\n"
     ]
    },
    {
     "name": "stderr",
     "output_type": "stream",
     "text": [
      "[2021-12-25 10:25:00,468 INFO] Start computation quality word embedding tests. Results will be saved at ../results/experiment_W2V_several_runs_WEAT_2/Word_embedding_quality_W2V/\n",
      "[2021-12-25 10:25:00,471 INFO] Number of unique words for tests: 2066\n",
      "[2021-12-25 10:25:00,472 INFO] Reading word vectors...\n",
      "[2021-12-25 10:25:00,882 INFO] Number of word vectors read: 10000...\n",
      "[2021-12-25 10:25:01,266 INFO] Number of word vectors read: 20000...\n",
      "[2021-12-25 10:25:01,644 INFO] Number of word vectors read: 30000...\n",
      "[2021-12-25 10:25:02,037 INFO] Number of word vectors read: 40000...\n",
      "[2021-12-25 10:25:02,283 INFO] Number of word vectors found: 1319\n",
      "[2021-12-25 10:25:02,283 INFO] Running: sed -i '' '1s/^/1319 300\\'$'\\n/' ../data/evaluation_tests_word_embedding/temp_embs.txt\n",
      "[2021-12-25 10:25:02,323 INFO] Running WS test...\n",
      "[2021-12-25 10:25:02,326 INFO] Calling command: ./../data/evaluation_tests_word_embedding/ws/ws ../data/evaluation_tests_word_embedding/temp_embs.txt > ../results/experiment_W2V_several_runs_WEAT_2/Word_embedding_quality_W2V/W2V_lemmatized_iter-4_dim-300_w-5_alpha-default_epochs-40_corpus-male_person_artist_lyrics_epoch-25/ws_test.txt\n",
      "[2021-12-25 10:25:02,441 INFO] Running TOEFL test...\n",
      "[2021-12-25 10:25:02,441 INFO] Calling command: ./../data/evaluation_tests_word_embedding/tfl/toefl ../data/evaluation_tests_word_embedding/temp_embs.txt > ../results/experiment_W2V_several_runs_WEAT_2/Word_embedding_quality_W2V/W2V_lemmatized_iter-4_dim-300_w-5_alpha-default_epochs-40_corpus-male_person_artist_lyrics_epoch-25/toefl_test.txt\n",
      "[2021-12-25 10:25:02,525 INFO] Running SYN-SEM test...\n",
      "[2021-12-25 10:25:02,525 INFO] Calling command: ./../data/evaluation_tests_word_embedding/syn_sem/compute-accuracy-txt ../data/evaluation_tests_word_embedding/temp_embs.txt 0 < ../data/evaluation_tests_word_embedding/syn_sem/questions-words.txt > ../results/experiment_W2V_several_runs_WEAT_2/Word_embedding_quality_W2V/W2V_lemmatized_iter-4_dim-300_w-5_alpha-default_epochs-40_corpus-male_person_artist_lyrics_epoch-25/syn-sem_test.txt\n"
     ]
    },
    {
     "name": "stdout",
     "output_type": "stream",
     "text": [
      "Epoch #30 end\n"
     ]
    },
    {
     "name": "stderr",
     "output_type": "stream",
     "text": [
      "[2021-12-25 10:35:49,535 INFO] Start computation quality word embedding tests. Results will be saved at ../results/experiment_W2V_several_runs_WEAT_2/Word_embedding_quality_W2V/\n",
      "[2021-12-25 10:35:49,538 INFO] Number of unique words for tests: 2066\n",
      "[2021-12-25 10:35:49,538 INFO] Reading word vectors...\n",
      "[2021-12-25 10:35:49,946 INFO] Number of word vectors read: 10000...\n",
      "[2021-12-25 10:35:50,338 INFO] Number of word vectors read: 20000...\n",
      "[2021-12-25 10:35:50,751 INFO] Number of word vectors read: 30000...\n",
      "[2021-12-25 10:35:51,176 INFO] Number of word vectors read: 40000...\n",
      "[2021-12-25 10:35:51,440 INFO] Number of word vectors found: 1319\n",
      "[2021-12-25 10:35:51,440 INFO] Running: sed -i '' '1s/^/1319 300\\'$'\\n/' ../data/evaluation_tests_word_embedding/temp_embs.txt\n",
      "[2021-12-25 10:35:51,469 INFO] Running WS test...\n",
      "[2021-12-25 10:35:51,470 INFO] Calling command: ./../data/evaluation_tests_word_embedding/ws/ws ../data/evaluation_tests_word_embedding/temp_embs.txt > ../results/experiment_W2V_several_runs_WEAT_2/Word_embedding_quality_W2V/W2V_lemmatized_iter-4_dim-300_w-5_alpha-default_epochs-40_corpus-male_person_artist_lyrics_epoch-30/ws_test.txt\n",
      "[2021-12-25 10:35:51,564 INFO] Running TOEFL test...\n",
      "[2021-12-25 10:35:51,564 INFO] Calling command: ./../data/evaluation_tests_word_embedding/tfl/toefl ../data/evaluation_tests_word_embedding/temp_embs.txt > ../results/experiment_W2V_several_runs_WEAT_2/Word_embedding_quality_W2V/W2V_lemmatized_iter-4_dim-300_w-5_alpha-default_epochs-40_corpus-male_person_artist_lyrics_epoch-30/toefl_test.txt\n",
      "[2021-12-25 10:35:51,650 INFO] Running SYN-SEM test...\n",
      "[2021-12-25 10:35:51,650 INFO] Calling command: ./../data/evaluation_tests_word_embedding/syn_sem/compute-accuracy-txt ../data/evaluation_tests_word_embedding/temp_embs.txt 0 < ../data/evaluation_tests_word_embedding/syn_sem/questions-words.txt > ../results/experiment_W2V_several_runs_WEAT_2/Word_embedding_quality_W2V/W2V_lemmatized_iter-4_dim-300_w-5_alpha-default_epochs-40_corpus-male_person_artist_lyrics_epoch-30/syn-sem_test.txt\n"
     ]
    },
    {
     "name": "stdout",
     "output_type": "stream",
     "text": [
      "Epoch #35 end\n"
     ]
    },
    {
     "name": "stderr",
     "output_type": "stream",
     "text": [
      "[2021-12-25 10:46:46,661 INFO] Start computation quality word embedding tests. Results will be saved at ../results/experiment_W2V_several_runs_WEAT_2/Word_embedding_quality_W2V/\n",
      "[2021-12-25 10:46:46,663 INFO] Number of unique words for tests: 2066\n",
      "[2021-12-25 10:46:46,664 INFO] Reading word vectors...\n",
      "[2021-12-25 10:46:47,078 INFO] Number of word vectors read: 10000...\n",
      "[2021-12-25 10:46:47,465 INFO] Number of word vectors read: 20000...\n",
      "[2021-12-25 10:46:47,845 INFO] Number of word vectors read: 30000...\n",
      "[2021-12-25 10:46:48,228 INFO] Number of word vectors read: 40000...\n",
      "[2021-12-25 10:46:48,475 INFO] Number of word vectors found: 1319\n",
      "[2021-12-25 10:46:48,475 INFO] Running: sed -i '' '1s/^/1319 300\\'$'\\n/' ../data/evaluation_tests_word_embedding/temp_embs.txt\n",
      "[2021-12-25 10:46:48,499 INFO] Running WS test...\n",
      "[2021-12-25 10:46:48,500 INFO] Calling command: ./../data/evaluation_tests_word_embedding/ws/ws ../data/evaluation_tests_word_embedding/temp_embs.txt > ../results/experiment_W2V_several_runs_WEAT_2/Word_embedding_quality_W2V/W2V_lemmatized_iter-4_dim-300_w-5_alpha-default_epochs-40_corpus-male_person_artist_lyrics_epoch-35/ws_test.txt\n",
      "[2021-12-25 10:46:48,589 INFO] Running TOEFL test...\n",
      "[2021-12-25 10:46:48,590 INFO] Calling command: ./../data/evaluation_tests_word_embedding/tfl/toefl ../data/evaluation_tests_word_embedding/temp_embs.txt > ../results/experiment_W2V_several_runs_WEAT_2/Word_embedding_quality_W2V/W2V_lemmatized_iter-4_dim-300_w-5_alpha-default_epochs-40_corpus-male_person_artist_lyrics_epoch-35/toefl_test.txt\n",
      "[2021-12-25 10:46:48,675 INFO] Running SYN-SEM test...\n",
      "[2021-12-25 10:46:48,675 INFO] Calling command: ./../data/evaluation_tests_word_embedding/syn_sem/compute-accuracy-txt ../data/evaluation_tests_word_embedding/temp_embs.txt 0 < ../data/evaluation_tests_word_embedding/syn_sem/questions-words.txt > ../results/experiment_W2V_several_runs_WEAT_2/Word_embedding_quality_W2V/W2V_lemmatized_iter-4_dim-300_w-5_alpha-default_epochs-40_corpus-male_person_artist_lyrics_epoch-35/syn-sem_test.txt\n",
      "[2021-12-25 10:55:33,772 INFO] Start computation quality word embedding tests. Results will be saved at ../results/experiment_W2V_several_runs_WEAT_2/Word_embedding_quality_W2V/\n",
      "[2021-12-25 10:55:33,782 INFO] Number of unique words for tests: 2066\n",
      "[2021-12-25 10:55:33,782 INFO] Reading word vectors...\n",
      "[2021-12-25 10:55:34,228 INFO] Number of word vectors read: 10000...\n",
      "[2021-12-25 10:55:34,646 INFO] Number of word vectors read: 20000...\n",
      "[2021-12-25 10:55:35,036 INFO] Number of word vectors read: 30000...\n",
      "[2021-12-25 10:55:35,429 INFO] Number of word vectors read: 40000...\n",
      "[2021-12-25 10:55:35,683 INFO] Number of word vectors found: 1319\n",
      "[2021-12-25 10:55:35,683 INFO] Running: sed -i '' '1s/^/1319 300\\'$'\\n/' ../data/evaluation_tests_word_embedding/temp_embs.txt\n",
      "[2021-12-25 10:55:35,738 INFO] Running WS test...\n",
      "[2021-12-25 10:55:35,748 INFO] Calling command: ./../data/evaluation_tests_word_embedding/ws/ws ../data/evaluation_tests_word_embedding/temp_embs.txt > ../results/experiment_W2V_several_runs_WEAT_2/Word_embedding_quality_W2V/W2V_lemmatized_iter-4_dim-300_w-5_alpha-default_epochs-40_corpus-male_person_artist_lyrics_epoch-39/ws_test.txt\n",
      "[2021-12-25 10:55:35,867 INFO] Running TOEFL test...\n",
      "[2021-12-25 10:55:35,867 INFO] Calling command: ./../data/evaluation_tests_word_embedding/tfl/toefl ../data/evaluation_tests_word_embedding/temp_embs.txt > ../results/experiment_W2V_several_runs_WEAT_2/Word_embedding_quality_W2V/W2V_lemmatized_iter-4_dim-300_w-5_alpha-default_epochs-40_corpus-male_person_artist_lyrics_epoch-39/toefl_test.txt\n",
      "[2021-12-25 10:55:35,958 INFO] Running SYN-SEM test...\n",
      "[2021-12-25 10:55:35,958 INFO] Calling command: ./../data/evaluation_tests_word_embedding/syn_sem/compute-accuracy-txt ../data/evaluation_tests_word_embedding/temp_embs.txt 0 < ../data/evaluation_tests_word_embedding/syn_sem/questions-words.txt > ../results/experiment_W2V_several_runs_WEAT_2/Word_embedding_quality_W2V/W2V_lemmatized_iter-4_dim-300_w-5_alpha-default_epochs-40_corpus-male_person_artist_lyrics_epoch-39/syn-sem_test.txt\n"
     ]
    },
    {
     "name": "stdout",
     "output_type": "stream",
     "text": [
      "End training of W2V_lemmatized_iter-4_dim-300_w-5_alpha-default_epochs-40_corpus-male_person_artist_lyrics\n",
      "\n",
      "Start training corpus:  all_person_artist_lyrics\n",
      "Embedding name:  W2V_lemmatized_iter-4_dim-300_w-5_alpha-default_epochs-40_corpus-all_person_artist_lyrics\n",
      "Vocab done...\n",
      "Corpus count:  237846\n",
      "Corpus total words:  60312307\n",
      "Epoch #0 end\n"
     ]
    },
    {
     "name": "stderr",
     "output_type": "stream",
     "text": [
      "[2021-12-25 10:59:07,409 INFO] Start computation quality word embedding tests. Results will be saved at ../results/experiment_W2V_several_runs_WEAT_2/Word_embedding_quality_W2V/\n",
      "[2021-12-25 10:59:07,411 INFO] Number of unique words for tests: 2066\n",
      "[2021-12-25 10:59:07,411 INFO] Reading word vectors...\n",
      "[2021-12-25 10:59:07,832 INFO] Number of word vectors read: 10000...\n",
      "[2021-12-25 10:59:08,225 INFO] Number of word vectors read: 20000...\n",
      "[2021-12-25 10:59:08,626 INFO] Number of word vectors read: 30000...\n",
      "[2021-12-25 10:59:09,003 INFO] Number of word vectors read: 40000...\n",
      "[2021-12-25 10:59:09,379 INFO] Number of word vectors found: 1341\n",
      "[2021-12-25 10:59:09,380 INFO] Running: sed -i '' '1s/^/1341 300\\'$'\\n/' ../data/evaluation_tests_word_embedding/temp_embs.txt\n",
      "[2021-12-25 10:59:09,411 INFO] Running WS test...\n",
      "[2021-12-25 10:59:09,412 INFO] Calling command: ./../data/evaluation_tests_word_embedding/ws/ws ../data/evaluation_tests_word_embedding/temp_embs.txt > ../results/experiment_W2V_several_runs_WEAT_2/Word_embedding_quality_W2V/W2V_lemmatized_iter-4_dim-300_w-5_alpha-default_epochs-40_corpus-all_person_artist_lyrics_epoch-0/ws_test.txt\n",
      "[2021-12-25 10:59:09,506 INFO] Running TOEFL test...\n",
      "[2021-12-25 10:59:09,506 INFO] Calling command: ./../data/evaluation_tests_word_embedding/tfl/toefl ../data/evaluation_tests_word_embedding/temp_embs.txt > ../results/experiment_W2V_several_runs_WEAT_2/Word_embedding_quality_W2V/W2V_lemmatized_iter-4_dim-300_w-5_alpha-default_epochs-40_corpus-all_person_artist_lyrics_epoch-0/toefl_test.txt\n",
      "[2021-12-25 10:59:09,595 INFO] Running SYN-SEM test...\n",
      "[2021-12-25 10:59:09,596 INFO] Calling command: ./../data/evaluation_tests_word_embedding/syn_sem/compute-accuracy-txt ../data/evaluation_tests_word_embedding/temp_embs.txt 0 < ../data/evaluation_tests_word_embedding/syn_sem/questions-words.txt > ../results/experiment_W2V_several_runs_WEAT_2/Word_embedding_quality_W2V/W2V_lemmatized_iter-4_dim-300_w-5_alpha-default_epochs-40_corpus-all_person_artist_lyrics_epoch-0/syn-sem_test.txt\n"
     ]
    },
    {
     "name": "stdout",
     "output_type": "stream",
     "text": [
      "Epoch #5 end\n"
     ]
    },
    {
     "name": "stderr",
     "output_type": "stream",
     "text": [
      "[2021-12-25 11:13:40,290 INFO] Start computation quality word embedding tests. Results will be saved at ../results/experiment_W2V_several_runs_WEAT_2/Word_embedding_quality_W2V/\n",
      "[2021-12-25 11:13:40,301 INFO] Number of unique words for tests: 2066\n",
      "[2021-12-25 11:13:40,301 INFO] Reading word vectors...\n",
      "[2021-12-25 11:13:40,726 INFO] Number of word vectors read: 10000...\n",
      "[2021-12-25 11:13:41,119 INFO] Number of word vectors read: 20000...\n",
      "[2021-12-25 11:13:41,500 INFO] Number of word vectors read: 30000...\n",
      "[2021-12-25 11:13:41,888 INFO] Number of word vectors read: 40000...\n",
      "[2021-12-25 11:13:42,257 INFO] Number of word vectors found: 1341\n",
      "[2021-12-25 11:13:42,257 INFO] Running: sed -i '' '1s/^/1341 300\\'$'\\n/' ../data/evaluation_tests_word_embedding/temp_embs.txt\n",
      "[2021-12-25 11:13:42,308 INFO] Running WS test...\n",
      "[2021-12-25 11:13:42,310 INFO] Calling command: ./../data/evaluation_tests_word_embedding/ws/ws ../data/evaluation_tests_word_embedding/temp_embs.txt > ../results/experiment_W2V_several_runs_WEAT_2/Word_embedding_quality_W2V/W2V_lemmatized_iter-4_dim-300_w-5_alpha-default_epochs-40_corpus-all_person_artist_lyrics_epoch-5/ws_test.txt\n",
      "[2021-12-25 11:13:42,407 INFO] Running TOEFL test...\n",
      "[2021-12-25 11:13:42,407 INFO] Calling command: ./../data/evaluation_tests_word_embedding/tfl/toefl ../data/evaluation_tests_word_embedding/temp_embs.txt > ../results/experiment_W2V_several_runs_WEAT_2/Word_embedding_quality_W2V/W2V_lemmatized_iter-4_dim-300_w-5_alpha-default_epochs-40_corpus-all_person_artist_lyrics_epoch-5/toefl_test.txt\n",
      "[2021-12-25 11:13:42,508 INFO] Running SYN-SEM test...\n",
      "[2021-12-25 11:13:42,509 INFO] Calling command: ./../data/evaluation_tests_word_embedding/syn_sem/compute-accuracy-txt ../data/evaluation_tests_word_embedding/temp_embs.txt 0 < ../data/evaluation_tests_word_embedding/syn_sem/questions-words.txt > ../results/experiment_W2V_several_runs_WEAT_2/Word_embedding_quality_W2V/W2V_lemmatized_iter-4_dim-300_w-5_alpha-default_epochs-40_corpus-all_person_artist_lyrics_epoch-5/syn-sem_test.txt\n"
     ]
    },
    {
     "name": "stdout",
     "output_type": "stream",
     "text": [
      "Epoch #10 end\n"
     ]
    },
    {
     "name": "stderr",
     "output_type": "stream",
     "text": [
      "[2021-12-25 11:28:16,878 INFO] Start computation quality word embedding tests. Results will be saved at ../results/experiment_W2V_several_runs_WEAT_2/Word_embedding_quality_W2V/\n",
      "[2021-12-25 11:28:16,888 INFO] Number of unique words for tests: 2066\n",
      "[2021-12-25 11:28:16,888 INFO] Reading word vectors...\n",
      "[2021-12-25 11:28:17,322 INFO] Number of word vectors read: 10000...\n",
      "[2021-12-25 11:28:17,717 INFO] Number of word vectors read: 20000...\n",
      "[2021-12-25 11:28:18,117 INFO] Number of word vectors read: 30000...\n",
      "[2021-12-25 11:28:18,493 INFO] Number of word vectors read: 40000...\n",
      "[2021-12-25 11:28:18,859 INFO] Number of word vectors found: 1341\n",
      "[2021-12-25 11:28:18,859 INFO] Running: sed -i '' '1s/^/1341 300\\'$'\\n/' ../data/evaluation_tests_word_embedding/temp_embs.txt\n",
      "[2021-12-25 11:28:18,889 INFO] Running WS test...\n",
      "[2021-12-25 11:28:18,890 INFO] Calling command: ./../data/evaluation_tests_word_embedding/ws/ws ../data/evaluation_tests_word_embedding/temp_embs.txt > ../results/experiment_W2V_several_runs_WEAT_2/Word_embedding_quality_W2V/W2V_lemmatized_iter-4_dim-300_w-5_alpha-default_epochs-40_corpus-all_person_artist_lyrics_epoch-10/ws_test.txt\n",
      "[2021-12-25 11:28:18,983 INFO] Running TOEFL test...\n",
      "[2021-12-25 11:28:18,984 INFO] Calling command: ./../data/evaluation_tests_word_embedding/tfl/toefl ../data/evaluation_tests_word_embedding/temp_embs.txt > ../results/experiment_W2V_several_runs_WEAT_2/Word_embedding_quality_W2V/W2V_lemmatized_iter-4_dim-300_w-5_alpha-default_epochs-40_corpus-all_person_artist_lyrics_epoch-10/toefl_test.txt\n",
      "[2021-12-25 11:28:19,070 INFO] Running SYN-SEM test...\n",
      "[2021-12-25 11:28:19,071 INFO] Calling command: ./../data/evaluation_tests_word_embedding/syn_sem/compute-accuracy-txt ../data/evaluation_tests_word_embedding/temp_embs.txt 0 < ../data/evaluation_tests_word_embedding/syn_sem/questions-words.txt > ../results/experiment_W2V_several_runs_WEAT_2/Word_embedding_quality_W2V/W2V_lemmatized_iter-4_dim-300_w-5_alpha-default_epochs-40_corpus-all_person_artist_lyrics_epoch-10/syn-sem_test.txt\n"
     ]
    },
    {
     "name": "stdout",
     "output_type": "stream",
     "text": [
      "Epoch #15 end\n"
     ]
    },
    {
     "name": "stderr",
     "output_type": "stream",
     "text": [
      "[2021-12-25 11:42:49,140 INFO] Start computation quality word embedding tests. Results will be saved at ../results/experiment_W2V_several_runs_WEAT_2/Word_embedding_quality_W2V/\n",
      "[2021-12-25 11:42:49,150 INFO] Number of unique words for tests: 2066\n",
      "[2021-12-25 11:42:49,151 INFO] Reading word vectors...\n",
      "[2021-12-25 11:42:49,580 INFO] Number of word vectors read: 10000...\n",
      "[2021-12-25 11:42:49,973 INFO] Number of word vectors read: 20000...\n",
      "[2021-12-25 11:42:50,366 INFO] Number of word vectors read: 30000...\n",
      "[2021-12-25 11:42:50,756 INFO] Number of word vectors read: 40000...\n",
      "[2021-12-25 11:42:51,125 INFO] Number of word vectors found: 1341\n",
      "[2021-12-25 11:42:51,125 INFO] Running: sed -i '' '1s/^/1341 300\\'$'\\n/' ../data/evaluation_tests_word_embedding/temp_embs.txt\n",
      "[2021-12-25 11:42:51,153 INFO] Running WS test...\n",
      "[2021-12-25 11:42:51,154 INFO] Calling command: ./../data/evaluation_tests_word_embedding/ws/ws ../data/evaluation_tests_word_embedding/temp_embs.txt > ../results/experiment_W2V_several_runs_WEAT_2/Word_embedding_quality_W2V/W2V_lemmatized_iter-4_dim-300_w-5_alpha-default_epochs-40_corpus-all_person_artist_lyrics_epoch-15/ws_test.txt\n",
      "[2021-12-25 11:42:51,245 INFO] Running TOEFL test...\n",
      "[2021-12-25 11:42:51,245 INFO] Calling command: ./../data/evaluation_tests_word_embedding/tfl/toefl ../data/evaluation_tests_word_embedding/temp_embs.txt > ../results/experiment_W2V_several_runs_WEAT_2/Word_embedding_quality_W2V/W2V_lemmatized_iter-4_dim-300_w-5_alpha-default_epochs-40_corpus-all_person_artist_lyrics_epoch-15/toefl_test.txt\n",
      "[2021-12-25 11:42:51,330 INFO] Running SYN-SEM test...\n",
      "[2021-12-25 11:42:51,331 INFO] Calling command: ./../data/evaluation_tests_word_embedding/syn_sem/compute-accuracy-txt ../data/evaluation_tests_word_embedding/temp_embs.txt 0 < ../data/evaluation_tests_word_embedding/syn_sem/questions-words.txt > ../results/experiment_W2V_several_runs_WEAT_2/Word_embedding_quality_W2V/W2V_lemmatized_iter-4_dim-300_w-5_alpha-default_epochs-40_corpus-all_person_artist_lyrics_epoch-15/syn-sem_test.txt\n"
     ]
    },
    {
     "name": "stdout",
     "output_type": "stream",
     "text": [
      "Epoch #20 end\n"
     ]
    },
    {
     "name": "stderr",
     "output_type": "stream",
     "text": [
      "[2021-12-25 11:57:17,657 INFO] Start computation quality word embedding tests. Results will be saved at ../results/experiment_W2V_several_runs_WEAT_2/Word_embedding_quality_W2V/\n",
      "[2021-12-25 11:57:17,661 INFO] Number of unique words for tests: 2066\n",
      "[2021-12-25 11:57:17,661 INFO] Reading word vectors...\n",
      "[2021-12-25 11:57:18,065 INFO] Number of word vectors read: 10000...\n",
      "[2021-12-25 11:57:18,436 INFO] Number of word vectors read: 20000...\n",
      "[2021-12-25 11:57:18,825 INFO] Number of word vectors read: 30000...\n",
      "[2021-12-25 11:57:19,208 INFO] Number of word vectors read: 40000...\n",
      "[2021-12-25 11:57:19,571 INFO] Number of word vectors found: 1341\n",
      "[2021-12-25 11:57:19,571 INFO] Running: sed -i '' '1s/^/1341 300\\'$'\\n/' ../data/evaluation_tests_word_embedding/temp_embs.txt\n",
      "[2021-12-25 11:57:19,632 INFO] Running WS test...\n",
      "[2021-12-25 11:57:19,633 INFO] Calling command: ./../data/evaluation_tests_word_embedding/ws/ws ../data/evaluation_tests_word_embedding/temp_embs.txt > ../results/experiment_W2V_several_runs_WEAT_2/Word_embedding_quality_W2V/W2V_lemmatized_iter-4_dim-300_w-5_alpha-default_epochs-40_corpus-all_person_artist_lyrics_epoch-20/ws_test.txt\n",
      "[2021-12-25 11:57:19,731 INFO] Running TOEFL test...\n",
      "[2021-12-25 11:57:19,731 INFO] Calling command: ./../data/evaluation_tests_word_embedding/tfl/toefl ../data/evaluation_tests_word_embedding/temp_embs.txt > ../results/experiment_W2V_several_runs_WEAT_2/Word_embedding_quality_W2V/W2V_lemmatized_iter-4_dim-300_w-5_alpha-default_epochs-40_corpus-all_person_artist_lyrics_epoch-20/toefl_test.txt\n",
      "[2021-12-25 11:57:19,817 INFO] Running SYN-SEM test...\n",
      "[2021-12-25 11:57:19,817 INFO] Calling command: ./../data/evaluation_tests_word_embedding/syn_sem/compute-accuracy-txt ../data/evaluation_tests_word_embedding/temp_embs.txt 0 < ../data/evaluation_tests_word_embedding/syn_sem/questions-words.txt > ../results/experiment_W2V_several_runs_WEAT_2/Word_embedding_quality_W2V/W2V_lemmatized_iter-4_dim-300_w-5_alpha-default_epochs-40_corpus-all_person_artist_lyrics_epoch-20/syn-sem_test.txt\n"
     ]
    },
    {
     "name": "stdout",
     "output_type": "stream",
     "text": [
      "Epoch #25 end\n"
     ]
    },
    {
     "name": "stderr",
     "output_type": "stream",
     "text": [
      "[2021-12-25 12:11:43,855 INFO] Start computation quality word embedding tests. Results will be saved at ../results/experiment_W2V_several_runs_WEAT_2/Word_embedding_quality_W2V/\n",
      "[2021-12-25 12:11:43,864 INFO] Number of unique words for tests: 2066\n",
      "[2021-12-25 12:11:43,865 INFO] Reading word vectors...\n",
      "[2021-12-25 12:11:44,275 INFO] Number of word vectors read: 10000...\n",
      "[2021-12-25 12:11:44,671 INFO] Number of word vectors read: 20000...\n",
      "[2021-12-25 12:11:45,044 INFO] Number of word vectors read: 30000...\n",
      "[2021-12-25 12:11:45,417 INFO] Number of word vectors read: 40000...\n",
      "[2021-12-25 12:11:45,778 INFO] Number of word vectors found: 1341\n",
      "[2021-12-25 12:11:45,778 INFO] Running: sed -i '' '1s/^/1341 300\\'$'\\n/' ../data/evaluation_tests_word_embedding/temp_embs.txt\n",
      "[2021-12-25 12:11:45,806 INFO] Running WS test...\n",
      "[2021-12-25 12:11:45,807 INFO] Calling command: ./../data/evaluation_tests_word_embedding/ws/ws ../data/evaluation_tests_word_embedding/temp_embs.txt > ../results/experiment_W2V_several_runs_WEAT_2/Word_embedding_quality_W2V/W2V_lemmatized_iter-4_dim-300_w-5_alpha-default_epochs-40_corpus-all_person_artist_lyrics_epoch-25/ws_test.txt\n",
      "[2021-12-25 12:11:45,895 INFO] Running TOEFL test...\n",
      "[2021-12-25 12:11:45,895 INFO] Calling command: ./../data/evaluation_tests_word_embedding/tfl/toefl ../data/evaluation_tests_word_embedding/temp_embs.txt > ../results/experiment_W2V_several_runs_WEAT_2/Word_embedding_quality_W2V/W2V_lemmatized_iter-4_dim-300_w-5_alpha-default_epochs-40_corpus-all_person_artist_lyrics_epoch-25/toefl_test.txt\n",
      "[2021-12-25 12:11:45,981 INFO] Running SYN-SEM test...\n",
      "[2021-12-25 12:11:45,981 INFO] Calling command: ./../data/evaluation_tests_word_embedding/syn_sem/compute-accuracy-txt ../data/evaluation_tests_word_embedding/temp_embs.txt 0 < ../data/evaluation_tests_word_embedding/syn_sem/questions-words.txt > ../results/experiment_W2V_several_runs_WEAT_2/Word_embedding_quality_W2V/W2V_lemmatized_iter-4_dim-300_w-5_alpha-default_epochs-40_corpus-all_person_artist_lyrics_epoch-25/syn-sem_test.txt\n"
     ]
    },
    {
     "name": "stdout",
     "output_type": "stream",
     "text": [
      "Epoch #30 end\n"
     ]
    },
    {
     "name": "stderr",
     "output_type": "stream",
     "text": [
      "[2021-12-25 12:28:10,118 INFO] Start computation quality word embedding tests. Results will be saved at ../results/experiment_W2V_several_runs_WEAT_2/Word_embedding_quality_W2V/\n",
      "[2021-12-25 12:28:10,120 INFO] Number of unique words for tests: 2066\n",
      "[2021-12-25 12:28:10,120 INFO] Reading word vectors...\n",
      "[2021-12-25 12:28:10,721 INFO] Number of word vectors read: 10000...\n",
      "[2021-12-25 12:28:11,310 INFO] Number of word vectors read: 20000...\n",
      "[2021-12-25 12:28:11,873 INFO] Number of word vectors read: 30000...\n",
      "[2021-12-25 12:28:12,437 INFO] Number of word vectors read: 40000...\n",
      "[2021-12-25 12:28:13,056 INFO] Number of word vectors found: 1341\n",
      "[2021-12-25 12:28:13,057 INFO] Running: sed -i '' '1s/^/1341 300\\'$'\\n/' ../data/evaluation_tests_word_embedding/temp_embs.txt\n",
      "[2021-12-25 12:28:13,091 INFO] Running WS test...\n",
      "[2021-12-25 12:28:13,093 INFO] Calling command: ./../data/evaluation_tests_word_embedding/ws/ws ../data/evaluation_tests_word_embedding/temp_embs.txt > ../results/experiment_W2V_several_runs_WEAT_2/Word_embedding_quality_W2V/W2V_lemmatized_iter-4_dim-300_w-5_alpha-default_epochs-40_corpus-all_person_artist_lyrics_epoch-30/ws_test.txt\n",
      "[2021-12-25 12:28:13,235 INFO] Running TOEFL test...\n",
      "[2021-12-25 12:28:13,235 INFO] Calling command: ./../data/evaluation_tests_word_embedding/tfl/toefl ../data/evaluation_tests_word_embedding/temp_embs.txt > ../results/experiment_W2V_several_runs_WEAT_2/Word_embedding_quality_W2V/W2V_lemmatized_iter-4_dim-300_w-5_alpha-default_epochs-40_corpus-all_person_artist_lyrics_epoch-30/toefl_test.txt\n",
      "[2021-12-25 12:28:13,346 INFO] Running SYN-SEM test...\n",
      "[2021-12-25 12:28:13,347 INFO] Calling command: ./../data/evaluation_tests_word_embedding/syn_sem/compute-accuracy-txt ../data/evaluation_tests_word_embedding/temp_embs.txt 0 < ../data/evaluation_tests_word_embedding/syn_sem/questions-words.txt > ../results/experiment_W2V_several_runs_WEAT_2/Word_embedding_quality_W2V/W2V_lemmatized_iter-4_dim-300_w-5_alpha-default_epochs-40_corpus-all_person_artist_lyrics_epoch-30/syn-sem_test.txt\n"
     ]
    },
    {
     "name": "stdout",
     "output_type": "stream",
     "text": [
      "Epoch #35 end\n"
     ]
    },
    {
     "name": "stderr",
     "output_type": "stream",
     "text": [
      "[2021-12-25 12:43:50,033 INFO] Start computation quality word embedding tests. Results will be saved at ../results/experiment_W2V_several_runs_WEAT_2/Word_embedding_quality_W2V/\n",
      "[2021-12-25 12:43:50,035 INFO] Number of unique words for tests: 2066\n",
      "[2021-12-25 12:43:50,036 INFO] Reading word vectors...\n",
      "[2021-12-25 12:43:50,444 INFO] Number of word vectors read: 10000...\n",
      "[2021-12-25 12:43:51,131 INFO] Number of word vectors read: 20000...\n",
      "[2021-12-25 12:43:52,674 INFO] Number of word vectors read: 30000...\n",
      "[2021-12-25 12:43:53,586 INFO] Number of word vectors read: 40000...\n",
      "[2021-12-25 12:43:53,996 INFO] Number of word vectors found: 1341\n",
      "[2021-12-25 12:43:53,996 INFO] Running: sed -i '' '1s/^/1341 300\\'$'\\n/' ../data/evaluation_tests_word_embedding/temp_embs.txt\n",
      "[2021-12-25 12:43:54,028 INFO] Running WS test...\n",
      "[2021-12-25 12:43:54,029 INFO] Calling command: ./../data/evaluation_tests_word_embedding/ws/ws ../data/evaluation_tests_word_embedding/temp_embs.txt > ../results/experiment_W2V_several_runs_WEAT_2/Word_embedding_quality_W2V/W2V_lemmatized_iter-4_dim-300_w-5_alpha-default_epochs-40_corpus-all_person_artist_lyrics_epoch-35/ws_test.txt\n",
      "[2021-12-25 12:43:54,130 INFO] Running TOEFL test...\n",
      "[2021-12-25 12:43:54,130 INFO] Calling command: ./../data/evaluation_tests_word_embedding/tfl/toefl ../data/evaluation_tests_word_embedding/temp_embs.txt > ../results/experiment_W2V_several_runs_WEAT_2/Word_embedding_quality_W2V/W2V_lemmatized_iter-4_dim-300_w-5_alpha-default_epochs-40_corpus-all_person_artist_lyrics_epoch-35/toefl_test.txt\n",
      "[2021-12-25 12:43:54,219 INFO] Running SYN-SEM test...\n",
      "[2021-12-25 12:43:54,219 INFO] Calling command: ./../data/evaluation_tests_word_embedding/syn_sem/compute-accuracy-txt ../data/evaluation_tests_word_embedding/temp_embs.txt 0 < ../data/evaluation_tests_word_embedding/syn_sem/questions-words.txt > ../results/experiment_W2V_several_runs_WEAT_2/Word_embedding_quality_W2V/W2V_lemmatized_iter-4_dim-300_w-5_alpha-default_epochs-40_corpus-all_person_artist_lyrics_epoch-35/syn-sem_test.txt\n",
      "[2021-12-25 12:57:13,936 INFO] Start computation quality word embedding tests. Results will be saved at ../results/experiment_W2V_several_runs_WEAT_2/Word_embedding_quality_W2V/\n",
      "[2021-12-25 12:57:13,939 INFO] Number of unique words for tests: 2066\n",
      "[2021-12-25 12:57:13,939 INFO] Reading word vectors...\n",
      "[2021-12-25 12:57:14,319 INFO] Number of word vectors read: 10000...\n",
      "[2021-12-25 12:57:14,700 INFO] Number of word vectors read: 20000...\n",
      "[2021-12-25 12:57:15,077 INFO] Number of word vectors read: 30000...\n",
      "[2021-12-25 12:57:15,455 INFO] Number of word vectors read: 40000...\n",
      "[2021-12-25 12:57:15,829 INFO] Number of word vectors found: 1341\n",
      "[2021-12-25 12:57:15,830 INFO] Running: sed -i '' '1s/^/1341 300\\'$'\\n/' ../data/evaluation_tests_word_embedding/temp_embs.txt\n",
      "[2021-12-25 12:57:15,859 INFO] Running WS test...\n",
      "[2021-12-25 12:57:15,860 INFO] Calling command: ./../data/evaluation_tests_word_embedding/ws/ws ../data/evaluation_tests_word_embedding/temp_embs.txt > ../results/experiment_W2V_several_runs_WEAT_2/Word_embedding_quality_W2V/W2V_lemmatized_iter-4_dim-300_w-5_alpha-default_epochs-40_corpus-all_person_artist_lyrics_epoch-39/ws_test.txt\n",
      "[2021-12-25 12:57:15,954 INFO] Running TOEFL test...\n",
      "[2021-12-25 12:57:15,954 INFO] Calling command: ./../data/evaluation_tests_word_embedding/tfl/toefl ../data/evaluation_tests_word_embedding/temp_embs.txt > ../results/experiment_W2V_several_runs_WEAT_2/Word_embedding_quality_W2V/W2V_lemmatized_iter-4_dim-300_w-5_alpha-default_epochs-40_corpus-all_person_artist_lyrics_epoch-39/toefl_test.txt\n",
      "[2021-12-25 12:57:16,042 INFO] Running SYN-SEM test...\n",
      "[2021-12-25 12:57:16,042 INFO] Calling command: ./../data/evaluation_tests_word_embedding/syn_sem/compute-accuracy-txt ../data/evaluation_tests_word_embedding/temp_embs.txt 0 < ../data/evaluation_tests_word_embedding/syn_sem/questions-words.txt > ../results/experiment_W2V_several_runs_WEAT_2/Word_embedding_quality_W2V/W2V_lemmatized_iter-4_dim-300_w-5_alpha-default_epochs-40_corpus-all_person_artist_lyrics_epoch-39/syn-sem_test.txt\n"
     ]
    },
    {
     "name": "stdout",
     "output_type": "stream",
     "text": [
      "End training of W2V_lemmatized_iter-4_dim-300_w-5_alpha-default_epochs-40_corpus-all_person_artist_lyrics\n",
      "\n"
     ]
    }
   ],
   "source": [
    "dim = 300\n",
    "w = 5\n",
    "n_epochs = 40\n",
    "\n",
    "n_iterations = 5\n",
    "\n",
    "# keep all corpus files\n",
    "corpus_files = glob.glob('../data/corpora_lemmatized/*')\n",
    "print(\"Corpus files: \", corpus_files)\n",
    "print()\n",
    "\n",
    "for n in range(n_iterations):\n",
    "    for corpus_file in corpus_files:\n",
    "\n",
    "        corpus_name = corpus_file.split(\"/\")[-1].rstrip(\".cor\")\n",
    "        corpus_type = corpus_file.split(\"/\")[-2]\n",
    "\n",
    "        embedding_name = f'W2V_lemmatized_iter-{n}_dim-{dim}_w-{w}_alpha-default_epochs-{n_epochs}_corpus-{corpus_name}' \n",
    "\n",
    "        print(\"Start training corpus: \", corpus_name)\n",
    "        print(\"Embedding name: \", embedding_name)\n",
    "\n",
    "        callback = MyCallback(embedding_name=embedding_name)\n",
    "        model = Word2Vec(vector_size=dim, \n",
    "                         window=w, \n",
    "                         sg=1,\n",
    "                         hs=0,\n",
    "                         negative=5,  # default\n",
    "                         ns_exponent=0.75, # default\n",
    "                         #alpha=0.1, # Use only if making multiple calls to train(), when you want to manage the alpha learning-rate yourself (not recommended).\n",
    "                         #min_alpha=0.0001, # default, linear decay of lr\n",
    "                         min_count=5,\n",
    "                         max_vocab_size=100000, \n",
    "                         workers=3,\n",
    "                         )\n",
    "\n",
    "\n",
    "        model.build_vocab(corpus_file=corpus_file)\n",
    "        print('Vocab done...')\n",
    "        print('Corpus count: ', model.corpus_count)\n",
    "        print('Corpus total words: ', model.corpus_total_words)\n",
    "\n",
    "        model.train(corpus_file=corpus_file,  \n",
    "                    callbacks=[callback], \n",
    "                    total_examples=model.corpus_count,\n",
    "                    total_words=model.corpus_total_words,\n",
    "                    epochs=n_epochs\n",
    "                    )\n",
    "        # save the model\n",
    "        model.wv.save_word2vec_format(\"../results/experiment_W2V_several_runs_WEAT_2/Word_vectors/\"+embedding_name+'.txt', \n",
    "                                      write_header=False)\n",
    "\n",
    "\n",
    "        print(f'End training of {embedding_name}')\n",
    "        print()\n",
    "\n"
   ]
  },
  {
   "cell_type": "code",
   "execution_count": null,
   "id": "539e6967",
   "metadata": {},
   "outputs": [],
   "source": []
  }
 ],
 "metadata": {
  "kernelspec": {
   "display_name": "env_lyrics",
   "language": "python",
   "name": "env_lyrics"
  },
  "language_info": {
   "codemirror_mode": {
    "name": "ipython",
    "version": 3
   },
   "file_extension": ".py",
   "mimetype": "text/x-python",
   "name": "python",
   "nbconvert_exporter": "python",
   "pygments_lexer": "ipython3",
   "version": "3.9.7"
  }
 },
 "nbformat": 4,
 "nbformat_minor": 5
}
