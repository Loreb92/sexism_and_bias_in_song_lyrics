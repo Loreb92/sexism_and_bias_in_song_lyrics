{
 "cells": [
  {
   "cell_type": "markdown",
   "metadata": {
    "id": "Vw2ncuqrdZYZ"
   },
   "source": [
    "This notebook shows some basic statistics of the WASABI English songs."
   ]
  },
  {
   "cell_type": "code",
   "execution_count": null,
   "metadata": {
    "colab": {
     "base_uri": "https://localhost:8080/"
    },
    "executionInfo": {
     "elapsed": 24556,
     "status": "ok",
     "timestamp": 1636705488467,
     "user": {
      "displayName": "Lorenzo Betti",
      "photoUrl": "https://lh3.googleusercontent.com/a/default-user=s64",
      "userId": "04278478979303365527"
     },
     "user_tz": -60
    },
    "id": "Ehctu8QC9Z1T",
    "outputId": "44b42a26-f44e-4522-efd7-44d4be93a0df"
   },
   "outputs": [
    {
     "name": "stdout",
     "output_type": "stream",
     "text": [
      "Mounted at /content/drive\n"
     ]
    }
   ],
   "source": [
    "# mount GDrive\n",
    "from google.colab import drive\n",
    "#drive.mount('/content/drive')\n",
    "drive._mount('/content/drive')"
   ]
  },
  {
   "cell_type": "code",
   "execution_count": null,
   "metadata": {
    "id": "AoUewEo29i7A"
   },
   "outputs": [],
   "source": [
    "# loads the outputs of the previous notebook\n",
    "!cp -r \"drive/MyDrive/Artistic_Content_Creation/WASABI_gender_experiments/WASABI_gender_experiments_definitive/data/data_lyrics_group_decades\" .\n",
    "!cp -r \"drive/MyDrive/Artistic_Content_Creation/WASABI_gender_experiments/WASABI_gender_experiments_definitive/data/data_lyrics_person_decades\" .\n",
    "!cp -r \"drive/MyDrive/Artistic_Content_Creation/WASABI_gender_experiments/WASABI_gender_experiments_definitive/data/data_lyrics_others_decades\" .\n",
    "\n",
    "!cp \"drive/MyDrive/Artistic_Content_Creation/WASABI_gender_experiments/WASABI_gender_experiments_definitive/data/artists_info.json.gz\" ."
   ]
  },
  {
   "cell_type": "code",
   "execution_count": null,
   "metadata": {
    "colab": {
     "base_uri": "https://localhost:8080/"
    },
    "executionInfo": {
     "elapsed": 693,
     "status": "ok",
     "timestamp": 1636705525893,
     "user": {
      "displayName": "Lorenzo Betti",
      "photoUrl": "https://lh3.googleusercontent.com/a/default-user=s64",
      "userId": "04278478979303365527"
     },
     "user_tz": -60
    },
    "id": "R5QCW8y990lO",
    "outputId": "177d2086-29cd-4081-acd4-48b93238a94d"
   },
   "outputs": [
    {
     "name": "stdout",
     "output_type": "stream",
     "text": [
      "Populating the interactive namespace from numpy and matplotlib\n"
     ]
    }
   ],
   "source": [
    "%pylab inline\n",
    "import pandas as pd\n",
    "import seaborn as sns\n",
    "import glob\n",
    "import re\n",
    "from collections import defaultdict"
   ]
  },
  {
   "cell_type": "markdown",
   "metadata": {
    "id": "Wh-CVrZCBioV"
   },
   "source": [
    "### Plot number of songs across year"
   ]
  },
  {
   "cell_type": "code",
   "execution_count": null,
   "metadata": {
    "id": "qM4XPApe97Vc"
   },
   "outputs": [],
   "source": [
    "def update_defaultdict(def_dict, dictionary):\n",
    "\n",
    "    for key, val in dictionary.items():\n",
    "        def_dict[key] += val\n",
    "\n",
    "    return def_dict"
   ]
  },
  {
   "cell_type": "code",
   "execution_count": null,
   "metadata": {
    "colab": {
     "base_uri": "https://localhost:8080/",
     "height": 204
    },
    "executionInfo": {
     "elapsed": 170102,
     "status": "ok",
     "timestamp": 1636705893059,
     "user": {
      "displayName": "Lorenzo Betti",
      "photoUrl": "https://lh3.googleusercontent.com/a/default-user=s64",
      "userId": "04278478979303365527"
     },
     "user_tz": -60
    },
    "id": "JkZHVm9q-Gwt",
    "outputId": "00efe9e7-fa5c-4e96-9ca3-1e280534c512"
   },
   "outputs": [
    {
     "data": {
      "text/html": [
       "<div>\n",
       "<style scoped>\n",
       "    .dataframe tbody tr th:only-of-type {\n",
       "        vertical-align: middle;\n",
       "    }\n",
       "\n",
       "    .dataframe tbody tr th {\n",
       "        vertical-align: top;\n",
       "    }\n",
       "\n",
       "    .dataframe thead th {\n",
       "        text-align: right;\n",
       "    }\n",
       "</style>\n",
       "<table border=\"1\" class=\"dataframe\">\n",
       "  <thead>\n",
       "    <tr style=\"text-align: right;\">\n",
       "      <th></th>\n",
       "      <th>person</th>\n",
       "      <th>group</th>\n",
       "      <th>others</th>\n",
       "    </tr>\n",
       "  </thead>\n",
       "  <tbody>\n",
       "    <tr>\n",
       "      <th>1959</th>\n",
       "      <td>1366.0</td>\n",
       "      <td>187.0</td>\n",
       "      <td>35.0</td>\n",
       "    </tr>\n",
       "    <tr>\n",
       "      <th>1957</th>\n",
       "      <td>1004.0</td>\n",
       "      <td>82.0</td>\n",
       "      <td>30.0</td>\n",
       "    </tr>\n",
       "    <tr>\n",
       "      <th>1958</th>\n",
       "      <td>987.0</td>\n",
       "      <td>129.0</td>\n",
       "      <td>8.0</td>\n",
       "    </tr>\n",
       "    <tr>\n",
       "      <th>1956</th>\n",
       "      <td>934.0</td>\n",
       "      <td>58.0</td>\n",
       "      <td>19.0</td>\n",
       "    </tr>\n",
       "    <tr>\n",
       "      <th>1955</th>\n",
       "      <td>278.0</td>\n",
       "      <td>32.0</td>\n",
       "      <td>0.0</td>\n",
       "    </tr>\n",
       "  </tbody>\n",
       "</table>\n",
       "</div>"
      ],
      "text/plain": [
       "      person  group  others\n",
       "1959  1366.0  187.0    35.0\n",
       "1957  1004.0   82.0    30.0\n",
       "1958   987.0  129.0     8.0\n",
       "1956   934.0   58.0    19.0\n",
       "1955   278.0   32.0     0.0"
      ]
     },
     "execution_count": 9,
     "metadata": {},
     "output_type": "execute_result"
    }
   ],
   "source": [
    "# get number of songs across time\n",
    "\n",
    "data_folders = ['data_lyrics_person_decades/', 'data_lyrics_group_decades/', 'data_lyrics_others_decades/']\n",
    "\n",
    "n_songs_person_year = defaultdict(int)\n",
    "n_songs_group_year = defaultdict(int)\n",
    "n_songs_others_year = defaultdict(int)\n",
    "\n",
    "song_lyrics = []\n",
    "\n",
    "for data_folder in data_folders:\n",
    "    type_ = data_folder.split('_')[-2]\n",
    "    for file in glob.glob(data_folder+'*_[!.]*.json.gz'): # skip songs with no dates\n",
    "\n",
    "        data_chunk = pd.read_json(file, orient='records', lines=True, chunksize=5000 )\n",
    "        for chunk in data_chunk:        \n",
    "\n",
    "            chunk = chunk[['song_id', 'song_id', 'language_detect', 'lyrics', 'n_words', 'n_lines', \n",
    "                            'song_pubdate_combined', 'song_year_combined', 'song_decade_combined', 'other_artist_info']]\n",
    "            song_lyrics.append(chunk)\n",
    "\n",
    "            rows_count_year = chunk.song_year_combined.value_counts().to_dict()\n",
    "            if type_=='person':\n",
    "                update_defaultdict(n_songs_person_year, rows_count_year)\n",
    "            elif type_=='group':\n",
    "                update_defaultdict(n_songs_group_year, rows_count_year)\n",
    "            else:\n",
    "                update_defaultdict(n_songs_others_year, rows_count_year)\n",
    "\n",
    "n_songs_year = pd.DataFrame([n_songs_person_year, n_songs_group_year, n_songs_others_year]).T\n",
    "n_songs_year.columns = ['person', 'group', 'others']\n",
    "n_songs_year = n_songs_year.fillna(0)\n",
    "\n",
    "song_lyrics = pd.concat(song_lyrics)\n",
    "\n",
    "n_songs_year.head()"
   ]
  },
  {
   "cell_type": "code",
   "execution_count": null,
   "metadata": {
    "colab": {
     "base_uri": "https://localhost:8080/",
     "height": 632
    },
    "executionInfo": {
     "elapsed": 1199,
     "status": "ok",
     "timestamp": 1636706093589,
     "user": {
      "displayName": "Lorenzo Betti",
      "photoUrl": "https://lh3.googleusercontent.com/a/default-user=s64",
      "userId": "04278478979303365527"
     },
     "user_tz": -60
    },
    "id": "wTMPQYxwR0iA",
    "outputId": "7e644799-a505-45c5-ac26-174d12bc8371"
   },
   "outputs": [
    {
     "data": {
      "text/html": [
       "<div>\n",
       "<style scoped>\n",
       "    .dataframe tbody tr th:only-of-type {\n",
       "        vertical-align: middle;\n",
       "    }\n",
       "\n",
       "    .dataframe tbody tr th {\n",
       "        vertical-align: top;\n",
       "    }\n",
       "\n",
       "    .dataframe thead th {\n",
       "        text-align: right;\n",
       "    }\n",
       "</style>\n",
       "<table border=\"1\" class=\"dataframe\">\n",
       "  <thead>\n",
       "    <tr style=\"text-align: right;\">\n",
       "      <th></th>\n",
       "      <th>song_id</th>\n",
       "      <th>song_id</th>\n",
       "      <th>language_detect</th>\n",
       "      <th>lyrics</th>\n",
       "      <th>n_words</th>\n",
       "      <th>n_lines</th>\n",
       "      <th>song_pubdate_combined</th>\n",
       "      <th>song_year_combined</th>\n",
       "      <th>song_decade_combined</th>\n",
       "      <th>other_artist_info</th>\n",
       "      <th>artist_gender</th>\n",
       "      <th>artist_type</th>\n",
       "    </tr>\n",
       "  </thead>\n",
       "  <tbody>\n",
       "    <tr>\n",
       "      <th>0</th>\n",
       "      <td>5714dec325ac0d8aee381908</td>\n",
       "      <td>5714dec325ac0d8aee381908</td>\n",
       "      <td>english</td>\n",
       "      <td>When I was a bachelor I lived all alone\\nI wor...</td>\n",
       "      <td>181.0</td>\n",
       "      <td>24.0</td>\n",
       "      <td>1956-01-01</td>\n",
       "      <td>1956</td>\n",
       "      <td>1950</td>\n",
       "      <td>{'n_albums': 2, 'n_songs': 51, 'languages': {'...</td>\n",
       "      <td>Male</td>\n",
       "      <td>Person</td>\n",
       "    </tr>\n",
       "    <tr>\n",
       "      <th>1</th>\n",
       "      <td>5714dec425ac0d8aee38b073</td>\n",
       "      <td>5714dec425ac0d8aee38b073</td>\n",
       "      <td>english</td>\n",
       "      <td>Well, I'm walking down this track\\nI've got te...</td>\n",
       "      <td>201.0</td>\n",
       "      <td>31.0</td>\n",
       "      <td></td>\n",
       "      <td>1958</td>\n",
       "      <td>1950</td>\n",
       "      <td>{'n_albums': 1, 'n_songs': 2, 'languages': {'e...</td>\n",
       "      <td>Male</td>\n",
       "      <td>Person</td>\n",
       "    </tr>\n",
       "    <tr>\n",
       "      <th>2</th>\n",
       "      <td>5714dec425ac0d8aee38b32a</td>\n",
       "      <td>5714dec425ac0d8aee38b32a</td>\n",
       "      <td>english</td>\n",
       "      <td>I know an old lady who swallowed a fly,\\nI don...</td>\n",
       "      <td>412.0</td>\n",
       "      <td>55.0</td>\n",
       "      <td>1956-01-01</td>\n",
       "      <td>1956</td>\n",
       "      <td>1950</td>\n",
       "      <td>{'n_albums': 1, 'n_songs': 1, 'languages': {'e...</td>\n",
       "      <td>Male</td>\n",
       "      <td>Person</td>\n",
       "    </tr>\n",
       "    <tr>\n",
       "      <th>3</th>\n",
       "      <td>5714dec425ac0d8aee38ba06</td>\n",
       "      <td>5714dec425ac0d8aee38ba06</td>\n",
       "      <td>english</td>\n",
       "      <td>Got me runnin', got me hidin'\\nGot me run, hid...</td>\n",
       "      <td>102.0</td>\n",
       "      <td>18.0</td>\n",
       "      <td>1958-01-01</td>\n",
       "      <td>1958</td>\n",
       "      <td>1950</td>\n",
       "      <td>{'n_albums': 17, 'n_songs': 187, 'languages': ...</td>\n",
       "      <td>Male</td>\n",
       "      <td>Person</td>\n",
       "    </tr>\n",
       "    <tr>\n",
       "      <th>4</th>\n",
       "      <td>5714dec425ac0d8aee38ba07</td>\n",
       "      <td>5714dec425ac0d8aee38ba07</td>\n",
       "      <td>english</td>\n",
       "      <td>Mustang Sally, guess you better slow your must...</td>\n",
       "      <td>166.0</td>\n",
       "      <td>20.0</td>\n",
       "      <td>1958-01-01</td>\n",
       "      <td>1958</td>\n",
       "      <td>1950</td>\n",
       "      <td>{'n_albums': 17, 'n_songs': 187, 'languages': ...</td>\n",
       "      <td>Male</td>\n",
       "      <td>Person</td>\n",
       "    </tr>\n",
       "  </tbody>\n",
       "</table>\n",
       "</div>"
      ],
      "text/plain": [
       "                    song_id                   song_id  ... artist_gender artist_type\n",
       "0  5714dec325ac0d8aee381908  5714dec325ac0d8aee381908  ...          Male      Person\n",
       "1  5714dec425ac0d8aee38b073  5714dec425ac0d8aee38b073  ...          Male      Person\n",
       "2  5714dec425ac0d8aee38b32a  5714dec425ac0d8aee38b32a  ...          Male      Person\n",
       "3  5714dec425ac0d8aee38ba06  5714dec425ac0d8aee38ba06  ...          Male      Person\n",
       "4  5714dec425ac0d8aee38ba07  5714dec425ac0d8aee38ba07  ...          Male      Person\n",
       "\n",
       "[5 rows x 12 columns]"
      ]
     },
     "execution_count": 19,
     "metadata": {},
     "output_type": "execute_result"
    }
   ],
   "source": [
    "song_lyrics.loc[:, 'artist_gender'] = song_lyrics.other_artist_info.apply(lambda art_info: art_info['gender'])\n",
    "song_lyrics.loc[:, 'artist_type'] = song_lyrics.other_artist_info.apply(lambda art_info: art_info['type'])\n",
    "song_lyrics.head()"
   ]
  },
  {
   "cell_type": "code",
   "execution_count": null,
   "metadata": {
    "colab": {
     "base_uri": "https://localhost:8080/"
    },
    "executionInfo": {
     "elapsed": 254,
     "status": "ok",
     "timestamp": 1636705933824,
     "user": {
      "displayName": "Lorenzo Betti",
      "photoUrl": "https://lh3.googleusercontent.com/a/default-user=s64",
      "userId": "04278478979303365527"
     },
     "user_tz": -60
    },
    "id": "Y9QRvI_WGNBj",
    "outputId": "e79edac4-b3fd-4504-e0fd-8eec5290f13e"
   },
   "outputs": [
    {
     "data": {
      "text/plain": [
       "person    444369.0\n",
       "group     617269.0\n",
       "others     62739.0\n",
       "dtype: float64"
      ]
     },
     "execution_count": 10,
     "metadata": {},
     "output_type": "execute_result"
    }
   ],
   "source": [
    "# total number of songs\n",
    "n_songs_year.sum()"
   ]
  },
  {
   "cell_type": "code",
   "execution_count": null,
   "metadata": {
    "colab": {
     "base_uri": "https://localhost:8080/",
     "height": 320
    },
    "executionInfo": {
     "elapsed": 1407,
     "status": "ok",
     "timestamp": 1636705936798,
     "user": {
      "displayName": "Lorenzo Betti",
      "photoUrl": "https://lh3.googleusercontent.com/a/default-user=s64",
      "userId": "04278478979303365527"
     },
     "user_tz": -60
    },
    "id": "X9xjqVd4Bpd9",
    "outputId": "ef554121-1d7c-498b-867d-f62bebb3cb96"
   },
   "outputs": [
    {
     "data": {
      "image/png": "[encoded data removed]",
      "text/plain": [
       "<Figure size 864x360 with 1 Axes>"
      ]
     },
     "metadata": {
      "needs_background": "light"
     },
     "output_type": "display_data"
    }
   ],
   "source": [
    "# number of songs across time\n",
    "# before the ~50s there is nothing\n",
    "plt.figure(figsize=(12,5))\n",
    "\n",
    "plt.bar(n_songs_year.index, n_songs_year.person, label='person')\n",
    "plt.bar(n_songs_year.index, n_songs_year.group, label='group', bottom=n_songs_year.person)\n",
    "plt.bar(n_songs_year.index, n_songs_year.others, label='others', bottom=n_songs_year.person+n_songs_year.group)\n",
    "\n",
    "plt.ylabel(\"N. songs\")\n",
    "plt.legend()\n",
    "plt.grid()"
   ]
  },
  {
   "cell_type": "code",
   "execution_count": null,
   "metadata": {
    "colab": {
     "base_uri": "https://localhost:8080/",
     "height": 320
    },
    "executionInfo": {
     "elapsed": 1474,
     "status": "ok",
     "timestamp": 1636707468583,
     "user": {
      "displayName": "Lorenzo Betti",
      "photoUrl": "https://lh3.googleusercontent.com/a/default-user=s64",
      "userId": "04278478979303365527"
     },
     "user_tz": -60
    },
    "id": "hRJ2pNj6RJ1p",
    "outputId": "c4588991-05f2-4a8a-9758-7a6df5aa8a1c"
   },
   "outputs": [
    {
     "data": {
      "image/png": "[encoded data removed]",
      "text/plain": [
       "<Figure size 864x360 with 1 Axes>"
      ]
     },
     "metadata": {
      "needs_background": "light"
     },
     "output_type": "display_data"
    }
   ],
   "source": [
    "# single artitsts: gender across time\n",
    "\n",
    "n_songs_gender = song_lyrics[song_lyrics['artist_type']=='Person'].groupby('song_year_combined').apply(lambda rows: \n",
    "                                                        pd.Series(rows.artist_gender.value_counts().reindex(song_lyrics.artist_gender.unique(), fill_value=0).to_dict(), \n",
    "                                                                                                name='count'))#.reset_index()\n",
    "n_songs_gender = n_songs_gender.rename(columns={'level_1':'gender'})\n",
    "\n",
    "plt.figure(figsize=(12,5))\n",
    "\n",
    "plt.bar(n_songs_gender.index, n_songs_gender.Male, label='Male')\n",
    "plt.bar(n_songs_gender.index, n_songs_gender.Female, label='Female', bottom=n_songs_gender.Male)\n",
    "plt.bar(n_songs_gender.index, n_songs_gender[''], label='Unknown', bottom=n_songs_gender.Male+n_songs_gender.Female)\n",
    "plt.bar(n_songs_gender.index, n_songs_gender['Other'], label='Other', bottom=n_songs_gender.Male+n_songs_gender.Female+n_songs_gender[''])\n",
    "\n",
    "plt.ylabel(\"N. songs\")\n",
    "plt.legend()\n",
    "plt.grid()"
   ]
  },
  {
   "cell_type": "markdown",
   "metadata": {
    "id": "uAOesCGHGqzx"
   },
   "source": [
    "### Plot number of artists"
   ]
  },
  {
   "cell_type": "code",
   "execution_count": null,
   "metadata": {
    "colab": {
     "base_uri": "https://localhost:8080/",
     "height": 434
    },
    "executionInfo": {
     "elapsed": 8091,
     "status": "ok",
     "timestamp": 1636707879241,
     "user": {
      "displayName": "Lorenzo Betti",
      "photoUrl": "https://lh3.googleusercontent.com/a/default-user=s64",
      "userId": "04278478979303365527"
     },
     "user_tz": -60
    },
    "id": "n6gaD76OFd49",
    "outputId": "2cff7bff-3f0d-49ca-90c1-be724689383d"
   },
   "outputs": [
    {
     "name": "stdout",
     "output_type": "stream",
     "text": [
      "Total number of artists:  77492\n",
      "Total number of artists with >0 songs in english:  65008\n"
     ]
    },
    {
     "data": {
      "text/html": [
       "<div>\n",
       "<style scoped>\n",
       "    .dataframe tbody tr th:only-of-type {\n",
       "        vertical-align: middle;\n",
       "    }\n",
       "\n",
       "    .dataframe tbody tr th {\n",
       "        vertical-align: top;\n",
       "    }\n",
       "\n",
       "    .dataframe thead th {\n",
       "        text-align: right;\n",
       "    }\n",
       "</style>\n",
       "<table border=\"1\" class=\"dataframe\">\n",
       "  <thead>\n",
       "    <tr style=\"text-align: right;\">\n",
       "      <th></th>\n",
       "      <th>urlITunes</th>\n",
       "      <th>nameVariations_fold</th>\n",
       "      <th>n_albums</th>\n",
       "      <th>languages</th>\n",
       "      <th>urlWikia</th>\n",
       "      <th>n_unknown</th>\n",
       "      <th>subject</th>\n",
       "      <th>n_songs</th>\n",
       "      <th>labels</th>\n",
       "      <th>urlMySpace</th>\n",
       "      <th>deezerFans</th>\n",
       "      <th>urlFacebook</th>\n",
       "      <th>members</th>\n",
       "      <th>urlPureVolume</th>\n",
       "      <th>urls</th>\n",
       "      <th>urlRateYourMusic</th>\n",
       "      <th>type</th>\n",
       "      <th>nameVariations</th>\n",
       "      <th>gender</th>\n",
       "      <th>artist_name</th>\n",
       "      <th>recordLabel</th>\n",
       "      <th>urlTwitter</th>\n",
       "      <th>urlDeezer</th>\n",
       "      <th>locationInfo</th>\n",
       "      <th>disambiguation</th>\n",
       "      <th>urlWikipedia</th>\n",
       "      <th>urlSpotify</th>\n",
       "      <th>genres</th>\n",
       "      <th>urlYouTube</th>\n",
       "      <th>urlOfficialWebsite</th>\n",
       "      <th>urlDiscogs</th>\n",
       "      <th>location</th>\n",
       "      <th>dbp_abstract</th>\n",
       "      <th>id_artist_deezer</th>\n",
       "      <th>abstract</th>\n",
       "      <th>name_accent_fold</th>\n",
       "      <th>lifeSpan</th>\n",
       "      <th>id_artist_musicbrainz</th>\n",
       "      <th>urlAmazon</th>\n",
       "      <th>dbp_genre</th>\n",
       "      <th>n_members</th>\n",
       "      <th>artist_id</th>\n",
       "      <th>id_artist_discogs</th>\n",
       "      <th>n_male</th>\n",
       "      <th>n_female</th>\n",
       "      <th>urlWikidata</th>\n",
       "      <th>urlSoundCloud</th>\n",
       "      <th>urlAllmusic</th>\n",
       "      <th>urlMusicBrainz</th>\n",
       "      <th>urlBBC</th>\n",
       "      <th>urlInstagram</th>\n",
       "      <th>urlLastFm</th>\n",
       "      <th>urlSecondHandSongs</th>\n",
       "      <th>urlGooglePlus</th>\n",
       "    </tr>\n",
       "  </thead>\n",
       "  <tbody>\n",
       "    <tr>\n",
       "      <th>0</th>\n",
       "      <td>https://itunes.apple.com/us/artist/id635168856</td>\n",
       "      <td>['A']</td>\n",
       "      <td>6</td>\n",
       "      <td>{'english': 98, 'unknown': 3, 'spanish': 1}</td>\n",
       "      <td>A</td>\n",
       "      <td>0.0</td>\n",
       "      <td>[Musical groups established in 1995, English a...</td>\n",
       "      <td>102</td>\n",
       "      <td>[]</td>\n",
       "      <td></td>\n",
       "      <td>6519.0</td>\n",
       "      <td></td>\n",
       "      <td>[{'id_member_musicbrainz': '3ec05e94-bf6e-439f...</td>\n",
       "      <td></td>\n",
       "      <td>[http://www.myspace.com/officialA]</td>\n",
       "      <td>http://rateyourmusic.com/artist/a</td>\n",
       "      <td>Group</td>\n",
       "      <td>['A']</td>\n",
       "      <td></td>\n",
       "      <td>A</td>\n",
       "      <td>[Warner Bros. Records]</td>\n",
       "      <td></td>\n",
       "      <td>http://www.deezer.com/artist/3412</td>\n",
       "      <td>[England, West Yorkshire, Leeds]</td>\n",
       "      <td>British band</td>\n",
       "      <td>http://en.wikipedia.org/wiki/A_(band)</td>\n",
       "      <td></td>\n",
       "      <td>[]</td>\n",
       "      <td></td>\n",
       "      <td>http://www.a-communication.com/</td>\n",
       "      <td>http://www.discogs.com/artist/72848</td>\n",
       "      <td>{'id_city_musicbrainz': '6e2d2d30-dbc9-4d27-99...</td>\n",
       "      <td>A (later changed to A + R) are a British alter...</td>\n",
       "      <td>3412.0</td>\n",
       "      <td>Alternative rock band formed in Leeds, England...</td>\n",
       "      <td>A</td>\n",
       "      <td>{'ended': False, 'begin': '1995', 'end': ''}</td>\n",
       "      <td>55c6eb6e-8388-497c-acaf-dbff584d0c3a</td>\n",
       "      <td>http://www.amazon.com/asdf/e/B000APPUE6?tag=wi...</td>\n",
       "      <td>[Alternative rock, Pop punk, Hard rock]</td>\n",
       "      <td>6.0</td>\n",
       "      <td>56d7e91b6b60c09814f93e4a</td>\n",
       "      <td>72848</td>\n",
       "      <td>6.0</td>\n",
       "      <td>0.0</td>\n",
       "      <td>https://www.wikidata.org/wiki/Q300307</td>\n",
       "      <td></td>\n",
       "      <td>http://www.allmusic.com/artist/mn0000474971</td>\n",
       "      <td>http://musicbrainz.org/artist/55c6eb6e-8388-49...</td>\n",
       "      <td>NaN</td>\n",
       "      <td>NaN</td>\n",
       "      <td>NaN</td>\n",
       "      <td>NaN</td>\n",
       "      <td>NaN</td>\n",
       "    </tr>\n",
       "    <tr>\n",
       "      <th>1</th>\n",
       "      <td>https://itunes.apple.com/us/artist/id4328888</td>\n",
       "      <td>[]</td>\n",
       "      <td>7</td>\n",
       "      <td>{'english': 24, 'hausa': 4, 'unknown': 3, 'tur...</td>\n",
       "      <td>A_(%E3%82%A8%E3%83%BC%E3%82%B9)_(ACE)</td>\n",
       "      <td>1.0</td>\n",
       "      <td>NaN</td>\n",
       "      <td>34</td>\n",
       "      <td>[]</td>\n",
       "      <td></td>\n",
       "      <td>NaN</td>\n",
       "      <td></td>\n",
       "      <td>[{'id_member_musicbrainz': '82bd3da4-7085-40b8...</td>\n",
       "      <td></td>\n",
       "      <td>NaN</td>\n",
       "      <td></td>\n",
       "      <td>Group</td>\n",
       "      <td>NaN</td>\n",
       "      <td></td>\n",
       "      <td>A (エース) (ACE)</td>\n",
       "      <td>NaN</td>\n",
       "      <td></td>\n",
       "      <td>NaN</td>\n",
       "      <td>[Japan]</td>\n",
       "      <td>Japanese Band</td>\n",
       "      <td></td>\n",
       "      <td></td>\n",
       "      <td>[J-Rock, Visual Kei]</td>\n",
       "      <td></td>\n",
       "      <td>http://a-rock.jp/index.php</td>\n",
       "      <td></td>\n",
       "      <td>{'id_city_musicbrainz': '', 'country': 'Japan'...</td>\n",
       "      <td>NaN</td>\n",
       "      <td>NaN</td>\n",
       "      <td>NaN</td>\n",
       "      <td>A</td>\n",
       "      <td>{'ended': False, 'begin': '2010-04-18', 'end':...</td>\n",
       "      <td>51257cf7-1672-4580-ae5c-93eefe3684fb</td>\n",
       "      <td></td>\n",
       "      <td>NaN</td>\n",
       "      <td>1.0</td>\n",
       "      <td>56d7e91c6b60c09814f93e4c</td>\n",
       "      <td>NaN</td>\n",
       "      <td>0.0</td>\n",
       "      <td>0.0</td>\n",
       "      <td>NaN</td>\n",
       "      <td></td>\n",
       "      <td></td>\n",
       "      <td>http://musicbrainz.org/artist/51257cf7-1672-45...</td>\n",
       "      <td>NaN</td>\n",
       "      <td>NaN</td>\n",
       "      <td>NaN</td>\n",
       "      <td>NaN</td>\n",
       "      <td>NaN</td>\n",
       "    </tr>\n",
       "    <tr>\n",
       "      <th>2</th>\n",
       "      <td>https://itunes.apple.com/us/artist/id130037087</td>\n",
       "      <td>[a balladeer, A BALLADEER AND FRIENDS, a balla...</td>\n",
       "      <td>4</td>\n",
       "      <td>{'english': 29}</td>\n",
       "      <td>A_Balladeer</td>\n",
       "      <td>1.0</td>\n",
       "      <td>NaN</td>\n",
       "      <td>29</td>\n",
       "      <td>[]</td>\n",
       "      <td>https://myspace.com/aballadeer</td>\n",
       "      <td>423.0</td>\n",
       "      <td>https://www.facebook.com/aballadeer</td>\n",
       "      <td>[{'id_member_musicbrainz': '2931cbb9-56a0-4a96...</td>\n",
       "      <td></td>\n",
       "      <td>[http://www.aballadeer.com/]</td>\n",
       "      <td></td>\n",
       "      <td>Group</td>\n",
       "      <td>[a balladeer, A BALLADEER AND FRIENDS, a balla...</td>\n",
       "      <td></td>\n",
       "      <td>A Balladeer</td>\n",
       "      <td>NaN</td>\n",
       "      <td>https://twitter.com/aballadeerhere</td>\n",
       "      <td>http://www.deezer.com/artist/242156</td>\n",
       "      <td>[]</td>\n",
       "      <td></td>\n",
       "      <td>https://en.wikipedia.org/wiki/A_Balladeer</td>\n",
       "      <td>https://play.spotify.com/artist/5MUNbMtqB3EOKx...</td>\n",
       "      <td>[]</td>\n",
       "      <td></td>\n",
       "      <td>http://www.aballadeer.com/</td>\n",
       "      <td>http://www.discogs.com/artist/472300</td>\n",
       "      <td>{'id_city_musicbrainz': '', 'country': 'Nether...</td>\n",
       "      <td>NaN</td>\n",
       "      <td>242156.0</td>\n",
       "      <td>A Balladeer (stylised as 'a balladeer') is Dut...</td>\n",
       "      <td>A Balladeer</td>\n",
       "      <td>{'ended': False, 'begin': '', 'end': ''}</td>\n",
       "      <td>8cb0ebc9-db95-4748-81df-8e1e24e70541</td>\n",
       "      <td>http://www.amazon.com/asdf/e/B003BF7QWG?tag=wi...</td>\n",
       "      <td>NaN</td>\n",
       "      <td>1.0</td>\n",
       "      <td>56d7e91d6b60c09814f93e4e</td>\n",
       "      <td>472300</td>\n",
       "      <td>0.0</td>\n",
       "      <td>0.0</td>\n",
       "      <td>https://www.wikidata.org/wiki/Q4655340</td>\n",
       "      <td></td>\n",
       "      <td>http://www.allmusic.com/artist/mn0001591642</td>\n",
       "      <td>http://musicbrainz.org/artist/8cb0ebc9-db95-47...</td>\n",
       "      <td>NaN</td>\n",
       "      <td>NaN</td>\n",
       "      <td>NaN</td>\n",
       "      <td>NaN</td>\n",
       "      <td>NaN</td>\n",
       "    </tr>\n",
       "  </tbody>\n",
       "</table>\n",
       "</div>"
      ],
      "text/plain": [
       "                                        urlITunes  ... urlGooglePlus\n",
       "0  https://itunes.apple.com/us/artist/id635168856  ...           NaN\n",
       "1    https://itunes.apple.com/us/artist/id4328888  ...           NaN\n",
       "2  https://itunes.apple.com/us/artist/id130037087  ...           NaN\n",
       "\n",
       "[3 rows x 54 columns]"
      ]
     },
     "execution_count": 68,
     "metadata": {},
     "output_type": "execute_result"
    }
   ],
   "source": [
    "# load artists info\n",
    "# keep artists with >1 eng song\n",
    "artists_info = pd.read_json(\"artists_info.json.gz\", orient='records', lines=True)\n",
    "print(\"Total number of artists: \", artists_info.shape[0])\n",
    "artists_info = artists_info[artists_info.languages.apply(lambda langs: langs['english']>0 if 'english' in langs.keys() else False)]\n",
    "print(\"Total number of artists with >0 songs in english: \", artists_info.shape[0])\n",
    "artists_info.head(3)"
   ]
  },
  {
   "cell_type": "code",
   "execution_count": null,
   "metadata": {
    "colab": {
     "base_uri": "https://localhost:8080/",
     "height": 449
    },
    "executionInfo": {
     "elapsed": 936,
     "status": "ok",
     "timestamp": 1636708232640,
     "user": {
      "displayName": "Lorenzo Betti",
      "photoUrl": "https://lh3.googleusercontent.com/a/default-user=s64",
      "userId": "04278478979303365527"
     },
     "user_tz": -60
    },
    "id": "Kabbl_vUaAd7",
    "outputId": "80bce04b-adf6-4298-9c68-67080c3eca05"
   },
   "outputs": [
    {
     "name": "stdout",
     "output_type": "stream",
     "text": [
      "count    65008.000000\n",
      "mean        20.213635\n",
      "std         50.796851\n",
      "min          1.000000\n",
      "25%          2.000000\n",
      "50%          6.000000\n",
      "75%         18.000000\n",
      "max       1988.000000\n",
      "Name: languages, dtype: float64\n"
     ]
    },
    {
     "data": {
      "text/plain": [
       "Text(0.5, 0, 'N songs')"
      ]
     },
     "execution_count": 89,
     "metadata": {},
     "output_type": "execute_result"
    },
    {
     "data": {
      "image/png": "[encoded data removed]",
      "text/plain": [
       "<Figure size 432x288 with 1 Axes>"
      ]
     },
     "metadata": {
      "needs_background": "light"
     },
     "output_type": "display_data"
    }
   ],
   "source": [
    "# distribution of n english songs per artist\n",
    "print(artists_info.languages.apply(lambda langs: langs['english']).describe())\n",
    "artists_info.languages.apply(lambda langs: langs['english']).plot(kind='hist', bins=100)\n",
    "plt.yscale('log')\n",
    "plt.xlabel('N songs')"
   ]
  },
  {
   "cell_type": "code",
   "execution_count": null,
   "metadata": {
    "colab": {
     "base_uri": "https://localhost:8080/",
     "height": 296
    },
    "executionInfo": {
     "elapsed": 1489,
     "status": "ok",
     "timestamp": 1636708365852,
     "user": {
      "displayName": "Lorenzo Betti",
      "photoUrl": "https://lh3.googleusercontent.com/a/default-user=s64",
      "userId": "04278478979303365527"
     },
     "user_tz": -60
    },
    "id": "Dp4OZ-bqaAgi",
    "outputId": "e95ee68e-519f-4d06-ea55-d9cc7af78fa1"
   },
   "outputs": [
    {
     "data": {
      "text/plain": [
       "<matplotlib.legend.Legend at 0x7fc674be1710>"
      ]
     },
     "execution_count": 92,
     "metadata": {},
     "output_type": "execute_result"
    },
    {
     "data": {
      "image/png": "[encoded data removed]",
      "text/plain": [
       "<Figure size 432x288 with 1 Axes>"
      ]
     },
     "metadata": {
      "needs_background": "light"
     },
     "output_type": "display_data"
    }
   ],
   "source": [
    "# distribution of n english songs per artist (person and group)\n",
    "artists_info[artists_info['type']=='Person'].languages.apply(lambda langs: langs['english']).plot(kind='hist', bins=100, label='Person')\n",
    "artists_info[artists_info['type']=='Group'].languages.apply(lambda langs: langs['english']).plot(kind='hist', bins=100, label='Group')\n",
    "plt.yscale('log')\n",
    "plt.xlabel('N songs')\n",
    "plt.legend()"
   ]
  },
  {
   "cell_type": "code",
   "execution_count": null,
   "metadata": {
    "colab": {
     "base_uri": "https://localhost:8080/",
     "height": 458
    },
    "executionInfo": {
     "elapsed": 310,
     "status": "ok",
     "timestamp": 1636708404056,
     "user": {
      "displayName": "Lorenzo Betti",
      "photoUrl": "https://lh3.googleusercontent.com/a/default-user=s64",
      "userId": "04278478979303365527"
     },
     "user_tz": -60
    },
    "id": "H_3BCQf5G2Dg",
    "outputId": "c808d0a5-20b5-4556-da53-ed4499d0b489"
   },
   "outputs": [
    {
     "name": "stdout",
     "output_type": "stream",
     "text": [
      "Group        26178\n",
      "Person       20113\n",
      "             18617\n",
      "Choir           37\n",
      "Orchestra       27\n",
      "Character       19\n",
      "Other           17\n",
      "Name: type, dtype: int64\n"
     ]
    },
    {
     "data": {
      "text/plain": [
       "Text(0, 0.5, 'Count')"
      ]
     },
     "execution_count": 94,
     "metadata": {},
     "output_type": "execute_result"
    },
    {
     "data": {
      "image/png": "[encoded data removed]",
      "text/plain": [
       "<Figure size 432x288 with 1 Axes>"
      ]
     },
     "metadata": {
      "needs_background": "light"
     },
     "output_type": "display_data"
    }
   ],
   "source": [
    "# get number of Persons, Groups, ecc..\n",
    "# We have seen above that artists with no gender made few songs\n",
    "print(artists_info['type'].value_counts())\n",
    "artists_info['type'].value_counts().plot(kind='bar')\n",
    "plt.grid()\n",
    "plt.ylabel('Count')"
   ]
  },
  {
   "cell_type": "code",
   "execution_count": null,
   "metadata": {
    "colab": {
     "base_uri": "https://localhost:8080/",
     "height": 393
    },
    "executionInfo": {
     "elapsed": 793,
     "status": "ok",
     "timestamp": 1636708434021,
     "user": {
      "displayName": "Lorenzo Betti",
      "photoUrl": "https://lh3.googleusercontent.com/a/default-user=s64",
      "userId": "04278478979303365527"
     },
     "user_tz": -60
    },
    "id": "xEvLLQo7HUz7",
    "outputId": "6cee2e00-7566-487f-e2a7-cb12dd254a44"
   },
   "outputs": [
    {
     "name": "stdout",
     "output_type": "stream",
     "text": [
      "Male      11731\n",
      "Female     4915\n",
      "           3459\n",
      "Other         8\n",
      "Name: gender, dtype: int64\n"
     ]
    },
    {
     "data": {
      "text/plain": [
       "Text(0, 0.5, 'Count')"
      ]
     },
     "execution_count": 95,
     "metadata": {},
     "output_type": "execute_result"
    },
    {
     "data": {
      "image/png": "[encoded data removed]",
      "text/plain": [
       "<Figure size 432x288 with 1 Axes>"
      ]
     },
     "metadata": {
      "needs_background": "light"
     },
     "output_type": "display_data"
    }
   ],
   "source": [
    "# for Person, get distrib of gender\n",
    "# We have seen above that no Male and Female made few songs\n",
    "print(artists_info[artists_info['type']=='Person'].gender.value_counts())\n",
    "artists_info[artists_info['type']=='Person'].gender.value_counts().plot(kind='bar')\n",
    "plt.grid()\n",
    "plt.ylabel('Count')"
   ]
  },
  {
   "cell_type": "code",
   "execution_count": null,
   "metadata": {
    "colab": {
     "base_uri": "https://localhost:8080/",
     "height": 452
    },
    "executionInfo": {
     "elapsed": 661,
     "status": "ok",
     "timestamp": 1636708676375,
     "user": {
      "displayName": "Lorenzo Betti",
      "photoUrl": "https://lh3.googleusercontent.com/a/default-user=s64",
      "userId": "04278478979303365527"
     },
     "user_tz": -60
    },
    "id": "EF4iH5_hmHhT",
    "outputId": "e8177a0d-7357-4d61-95df-9115e4e7aa0c"
   },
   "outputs": [
    {
     "name": "stdout",
     "output_type": "stream",
     "text": [
      "Frac of groups with missing member info:  0.4744441897776759\n",
      "count    13758.000000\n",
      "mean         4.097034\n",
      "std          4.518009\n",
      "min          1.000000\n",
      "25%          2.000000\n",
      "50%          3.000000\n",
      "75%          5.000000\n",
      "max        146.000000\n",
      "Name: n_members, dtype: float64\n"
     ]
    },
    {
     "data": {
      "text/plain": [
       "<matplotlib.axes._subplots.AxesSubplot at 0x7fc6747915d0>"
      ]
     },
     "execution_count": 102,
     "metadata": {},
     "output_type": "execute_result"
    },
    {
     "data": {
      "image/png": "[encoded data removed]",
      "text/plain": [
       "<Figure size 432x288 with 1 Axes>"
      ]
     },
     "metadata": {
      "needs_background": "light"
     },
     "output_type": "display_data"
    }
   ],
   "source": [
    "# distribution of number of members for groups\n",
    "print('Frac of groups with missing member info: ', artists_info[artists_info['type']=='Group'].n_members.isna().value_counts(1)[True])\n",
    "print(artists_info[artists_info['type']=='Group'].n_members.describe())\n",
    "artists_info[artists_info['type']=='Group'].n_members.plot(kind='hist', bins=100)"
   ]
  },
  {
   "cell_type": "code",
   "execution_count": null,
   "metadata": {
    "colab": {
     "base_uri": "https://localhost:8080/"
    },
    "executionInfo": {
     "elapsed": 1351,
     "status": "ok",
     "timestamp": 1636709828347,
     "user": {
      "displayName": "Lorenzo Betti",
      "photoUrl": "https://lh3.googleusercontent.com/a/default-user=s64",
      "userId": "04278478979303365527"
     },
     "user_tz": -60
    },
    "id": "xREIyzwGZfVE",
    "outputId": "77186a40-2e93-4e91-bd3c-f3965c972195"
   },
   "outputs": [
    {
     "name": "stdout",
     "output_type": "stream",
     "text": [
      "N bands:  26178\n",
      "N bands with info on members:  13758\n",
      "N bands more than 1 member:  10578\n",
      "\n",
      "See how the bands with members info are composed of:\n",
      "N bands with all male members:  5401\n",
      "N bands with all female members:  581\n",
      "N bands with mix gender (no unk):  1126\n",
      "N bands with mix gender (with unk):  0\n",
      "N bands at least one unknown gender among members:  6650\n",
      "\n",
      "Bands with mix gender: are there more male or females?\n",
      "N mix bands with more or equal female members than males:  489\n"
     ]
    }
   ],
   "source": [
    "\n",
    "artists_groups = artists_info[artists_info['type']=='Group']\n",
    "print('N bands: ', artists_groups.shape[0])\n",
    "print('N bands with info on members: ', artists_info[artists_info['type']=='Group'].n_members.isna().value_counts()[False])\n",
    "print('N bands more than 1 member: ', (artists_groups.dropna(subset=['n_members']).n_members>1).sum())\n",
    "print()\n",
    "\n",
    "n_band_all_male = (artists_groups.n_male.dropna() == artists_groups.n_members.dropna()).sum()\n",
    "n_band_all_female = (artists_groups.n_female.dropna() == artists_groups.n_members.dropna()).sum()\n",
    "n_band_mix_no_unk = artists_groups[['n_male', 'n_female', 'n_members', 'n_unknown']].dropna().apply(lambda row: \n",
    "                                                                                row.n_male+row.n_female==row.n_members\n",
    "                                                                                if row.n_male*row.n_female!=0 and row.n_unknown==0 else False,\n",
    "                                                                                axis=1).sum()\n",
    "n_band_mix_with_unk = artists_groups[['n_male', 'n_female', 'n_members', 'n_unknown']].dropna().apply(lambda row: \n",
    "                                                                                row.n_male+row.n_female==row.n_members\n",
    "                                                                                if row.n_male*row.n_female!=0 and row.n_unknown!=0 else False,\n",
    "                                                                                axis=1).sum()\n",
    "n_band_with_unk = ((artists_groups.n_unknown.dropna()>0).sum() )\n",
    "print('See how the bands with members info are composed of:')\n",
    "print('N bands with all male members: ', n_band_all_male)\n",
    "print('N bands with all female members: ', n_band_all_female)\n",
    "print('N bands with mix gender (no unk): ', n_band_mix_no_unk)\n",
    "print('N bands with mix gender (with unk): ', n_band_mix_with_unk)\n",
    "print('N bands at least one unknown gender among members: ', n_band_with_unk)\n",
    "print()\n",
    "\n",
    "print('Bands with mix gender: are there more male or females?')\n",
    "n_band_mix_with_more_eq_female = artists_groups[['n_male', 'n_female', 'n_members', 'n_unknown']].dropna().apply(lambda row: \n",
    "                                                                                row.n_female>=row.n_male\n",
    "                                                                                if row.n_male*row.n_female!=0 and row.n_unknown==0 else False,\n",
    "                                                                                axis=1).sum()\n",
    "print('N mix bands with more or equal female members than males: ', n_band_mix_with_more_eq_female)"
   ]
  },
  {
   "cell_type": "code",
   "execution_count": null,
   "metadata": {
    "colab": {
     "base_uri": "https://localhost:8080/"
    },
    "executionInfo": {
     "elapsed": 3,
     "status": "ok",
     "timestamp": 1636709629692,
     "user": {
      "displayName": "Lorenzo Betti",
      "photoUrl": "https://lh3.googleusercontent.com/a/default-user=s64",
      "userId": "04278478979303365527"
     },
     "user_tz": -60
    },
    "id": "RoLwTZGleY6m",
    "outputId": "0c624404-dd75-49ee-a76a-d13ea02e92bb"
   },
   "outputs": [
    {
     "data": {
      "text/plain": [
       "True"
      ]
     },
     "execution_count": 139,
     "metadata": {},
     "output_type": "execute_result"
    }
   ],
   "source": [
    "# sum(['n_male', 'n_female', 'n_unknown']) = n_members\n",
    "all(artists_groups[['n_male', 'n_female', 'n_unknown']].dropna().sum(axis=1) == artists_groups.n_members.dropna())"
   ]
  },
  {
   "cell_type": "code",
   "execution_count": null,
   "metadata": {
    "id": "3tPOE11ugsQv"
   },
   "outputs": [],
   "source": []
  }
 ],
 "metadata": {
  "colab": {
   "authorship_tag": "ABX9TyMP3/m9MLaCjVnGGgnuuRef",
   "collapsed_sections": [],
   "name": "1.1_def_basic_statistics_WASABI_english.ipynb",
   "provenance": []
  },
  "kernelspec": {
   "display_name": "Python 3 (ipykernel)",
   "language": "python",
   "name": "python3"
  },
  "language_info": {
   "codemirror_mode": {
    "name": "ipython",
    "version": 3
   },
   "file_extension": ".py",
   "mimetype": "text/x-python",
   "name": "python",
   "nbconvert_exporter": "python",
   "pygments_lexer": "ipython3",
   "version": "3.9.7"
  }
 },
 "nbformat": 4,
 "nbformat_minor": 1
}
