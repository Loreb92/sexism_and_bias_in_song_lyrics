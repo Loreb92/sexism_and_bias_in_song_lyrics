{
 "cells": [
  {
   "cell_type": "markdown",
   "metadata": {
    "id": "ygcIquhHY3UY"
   },
   "source": [
    "This notebook reads the WASABI database and extracts information for all the artists present in the database and all the songs in English. These two informations will be saved in two different ways.\n",
    "\n",
    "For artists, we collect all the lyrics id, pubDate, language of the lyrics the artist published. In addition, for groups, we determine the gender of all the members without adding an aggregate \"gender\" for the group.\n",
    "\n",
    "For songs, we determine few basic information (i.e., number of words and number of lines), and the publication date of the song by combining different date information (e.g., album publication date).\n",
    "\n",
    "The produced file is saved such that each row is a json file containing the information we are interested in.\n",
    "\n",
    "Note: this notebook was run in Google Colab, so the environment won't work here."
   ]
  },
  {
   "cell_type": "code",
   "execution_count": null,
   "metadata": {
    "colab": {
     "base_uri": "https://localhost:8080/"
    },
    "executionInfo": {
     "elapsed": 5507,
     "status": "ok",
     "timestamp": 1636710927330,
     "user": {
      "displayName": "Lorenzo Betti",
      "photoUrl": "https://lh3.googleusercontent.com/a/default-user=s64",
      "userId": "04278478979303365527"
     },
     "user_tz": -60
    },
    "id": "KDQ0UxcPaFfo",
    "outputId": "e3bf06cd-40d8-42c9-fd43-acb2915684c1"
   },
   "outputs": [
    {
     "name": "stdout",
     "output_type": "stream",
     "text": [
      "Collecting html2text\n",
      "  Downloading html2text-2020.1.16-py3-none-any.whl (32 kB)\n",
      "Installing collected packages: html2text\n",
      "Successfully installed html2text-2020.1.16\n"
     ]
    }
   ],
   "source": [
    "# this is useful to extract the text from html\n",
    "!pip install html2text"
   ]
  },
  {
   "cell_type": "markdown",
   "metadata": {
    "id": "YltUjxa9cG4h"
   },
   "source": [
    "The following 2 cells are used to read the WASABI database from our Google Drive accounts."
   ]
  },
  {
   "cell_type": "code",
   "execution_count": null,
   "metadata": {
    "id": "Y7IXDBn9YxGG"
   },
   "outputs": [],
   "source": [
    "# This cell is to download the file through the link shared by XXXX\n",
    "\n",
    "'''\n",
    "# Install the PyDrive wrapper & import libraries.\n",
    "from pydrive.auth import GoogleAuth\n",
    "from pydrive.drive import GoogleDrive\n",
    "from google.colab import auth\n",
    "from oauth2client.client import GoogleCredentials\n",
    "\n",
    "# Authenticate and create the PyDrive client.\n",
    "auth.authenticate_user()\n",
    "gauth = GoogleAuth()\n",
    "gauth.credentials = GoogleCredentials.get_application_default()\n",
    "drive = GoogleDrive(gauth)\n",
    "\n",
    "file_id = 'XXXXXX'\n",
    "downloaded = drive.CreateFile({'id':file_id})\n",
    "downloaded.FetchMetadata(fetch_all=True)\n",
    "downloaded.GetContentFile(downloaded.metadata['title'])\n",
    "'''"
   ]
  },
  {
   "cell_type": "code",
   "execution_count": null,
   "metadata": {
    "colab": {
     "base_uri": "https://localhost:8080/"
    },
    "executionInfo": {
     "elapsed": 24314,
     "status": "ok",
     "timestamp": 1636710996892,
     "user": {
      "displayName": "Lorenzo Betti",
      "photoUrl": "https://lh3.googleusercontent.com/a/default-user=s64",
      "userId": "04278478979303365527"
     },
     "user_tz": -60
    },
    "id": "HVTjTsJdZ0wY",
    "outputId": "ea403292-630e-4dd5-ec07-f508c4d5144d"
   },
   "outputs": [
    {
     "name": "stdout",
     "output_type": "stream",
     "text": [
      "Mounted at /content/drive\n"
     ]
    }
   ],
   "source": [
    "# mount GDrive\n",
    "from google.colab import drive\n",
    "#drive.mount('/content/drive')\n",
    "drive._mount('/content/drive')"
   ]
  },
  {
   "cell_type": "code",
   "execution_count": null,
   "metadata": {
    "id": "ln_cXPSRaIRO"
   },
   "outputs": [],
   "source": [
    "# unpack the folder\n",
    "# no need to run it. To download the dataset, please follow the instructions reported in the README of the root page of the repository\n",
    "!tar -xzf 2MillionSongsDB.tar.gz"
   ]
  },
  {
   "cell_type": "code",
   "execution_count": null,
   "metadata": {
    "id": "NQMG5ltwbSoE"
   },
   "outputs": [],
   "source": [
    "import html2text\n",
    "import json\n",
    "import glob\n",
    "import os\n",
    "from collections import Counter, defaultdict\n",
    "from itertools import groupby\n",
    "from datetime import datetime\n",
    "import pandas as pd\n",
    "\n",
    "import html2text"
   ]
  },
  {
   "cell_type": "code",
   "execution_count": null,
   "metadata": {
    "id": "PdevINEOBJ8w"
   },
   "outputs": [],
   "source": [
    "# create folders to store info\n",
    "!mkdir data_lyrics_group_decades\n",
    "!mkdir data_lyrics_person_decades\n",
    "!mkdir data_lyrics_others_decades"
   ]
  },
  {
   "cell_type": "code",
   "execution_count": null,
   "metadata": {
    "id": "q_gGr1LgiDLE"
   },
   "outputs": [],
   "source": [
    "song_fields_to_keep = ['_id', 'abstract', 'aligned_id', 'availableCountries', 'award', \n",
    "                         'begin', 'bpm', 'deezer_mapping', 'disambiguation', 'end', 'explicitLyrics', 'explicit_content_lyrics', 'format', \n",
    "                         'gain', 'genre', 'id_album', 'id_song_deezer', 'id_song_musicbrainz', 'isClassic', 'isrc', \n",
    "                         'language', 'language_detect', 'length', 'lyrics', 'producer', \n",
    "                         'publicationDate', 'rank', 'recordLabel', 'recorded', 'releaseDate', 'runtime', 'subject', 'summary', 'title', \n",
    "                         'title_accent_fold', 'urlAllmusic', 'urlAmazon', 'urlDeezer', 'urlGoEar', 'urlHypeMachine', 'urlITunes', 'urlLastFm', 'urlMusicBrainz', \n",
    "                         'urlPandora', 'urlSong', 'urlSpotify', 'urlWikipedia', 'urlYouTube', 'urlYouTubeExist', 'writer']\n",
    "\n",
    "# 'title' -> 'song_title'\n",
    "# '_id' -> 'song_id'\n",
    "\n",
    "artist_field_to_keep = ['_id', 'abstract', 'dbp_abstract', 'dbp_genre', 'deezerFans', 'disambiguation', \n",
    "                        'gender', 'genres', 'id_artist_deezer', 'id_artist_discogs', 'id_artist_musicbrainz', 'labels', 'lifeSpan', 'location', \n",
    "                        'locationInfo', 'members', 'name', 'nameVariations', 'nameVariations_fold', 'name_accent_fold', 'recordLabel', 'subject', \n",
    "                        'type', 'urlAllmusic', 'urlAmazon', 'urlBBC', 'urlDeezer', 'urlDiscogs', 'urlFacebook', 'urlGooglePlus', 'urlITunes', 'urlInstagram', \n",
    "                        'urlLastFm', 'urlMusicBrainz', 'urlMySpace', 'urlOfficialWebsite', 'urlPureVolume', 'urlRateYourMusic', 'urlSecondHandSongs', \n",
    "                        'urlSoundCloud', 'urlSpotify', 'urlTwitter', 'urlWikia', 'urlWikidata', 'urlWikipedia', 'urlYouTube', 'urls']\n",
    "\n",
    "# 'name' -> 'artist_name'\n",
    "# '_id' -> 'artist_id'"
   ]
  },
  {
   "cell_type": "code",
   "execution_count": null,
   "metadata": {
    "id": "3CdA5uX-bSr0"
   },
   "outputs": [],
   "source": [
    "def is_date(date):\n",
    "    '''\n",
    "    format yyyy-mm-dd or yyyy-mm or yyyy\n",
    "    '''\n",
    "\n",
    "    date_split = date.split('-')\n",
    "    return all([spl.isnumeric() for spl in date_split])\n",
    "\n",
    "def get_validated_date(date):\n",
    "\n",
    "    date_split = date.split('-')\n",
    "    is_numeric = all([spl.isnumeric() for spl in date_split])\n",
    "\n",
    "    if len(date_split)==1:\n",
    "        pass\n",
    "    elif len(date_split)==2:\n",
    "        year, month = date_split\n",
    "        date = f\"{year}-{month}\" if int(month) <= 12 and int(month)>=1 else year\n",
    "    elif len(date_split)==3:\n",
    "        year, month, day = date_split\n",
    "        is_month_valid = int(month) <= 12 and int(month)>=1\n",
    "        is_date_valid = int(day) <= 31 and int(day)>=1\n",
    "\n",
    "        if is_month_valid and not is_date_valid:\n",
    "            date = f\"{year}-{month}\"\n",
    "        elif not is_month_valid and not is_date_valid:\n",
    "            date = year\n",
    "        else:\n",
    "            pass\n",
    "\n",
    "    else:\n",
    "        pass\n",
    "\n",
    "    return date\n",
    "\n",
    "def clean_lyric(text):\n",
    "    if text[:5]=='<span':\n",
    "        text_cleaned = ''\n",
    "    else:\n",
    "        text_cleaned = html2text.html2text(text).replace('  \\n','\\n')\n",
    "    return text_cleaned\n",
    "\n",
    "\n",
    "def gender_of_members(members):\n",
    "    ''' Return statistics of the gender of members\n",
    "    '''\n",
    "\n",
    "    # it may happen that some member has not the 'gender' key\n",
    "    members_with_info = [member for member in members if 'gender' in member.keys()]\n",
    "\n",
    "    if members_with_info==[]:\n",
    "        n_members, n_male, n_female, n_unknown = None, None, None, None\n",
    "\n",
    "    else:\n",
    "        n_members = len(members)\n",
    "        members_genders = [member['gender'] for member in members_with_info]\n",
    "\n",
    "        count_genders = Counter(members_genders)\n",
    "        n_male = count_genders['Male']\n",
    "        n_female = count_genders['Female']\n",
    "        n_unknown = len(members_genders) - n_male - n_female\n",
    "        # consider members with no 'gender' field as unknown\n",
    "        n_unknown += len(members) - len(members_with_info)\n",
    "\n",
    "    return {'n_members':n_members,\n",
    "            'n_male':n_male,\n",
    "            'n_female':n_female,\n",
    "            'n_unknown':n_unknown}\n",
    "\n",
    "def get_song_year(album_dateRelease, album_pubDate, song_pubDate):\n",
    "    '''\n",
    "    Input format respectively:\n",
    "    yyyy-mm-dd, yyyy, yyyy-mm-dd\n",
    "    '''\n",
    "\n",
    "    # extract candidate year\n",
    "    album_dateRelease_year = int(album_dateRelease.split('-')[0]) if album_dateRelease.split('-')[0].isnumeric() else ''\n",
    "    album_pubDate_year = int(album_pubDate) if album_pubDate.isnumeric() else ''\n",
    "    song_pubDate_year = int(song_pubDate.split('-')[0]) if song_pubDate.split('-')[0].isnumeric() else ''\n",
    "    \n",
    "    candidate_years = [album_dateRelease_year, album_pubDate_year, song_pubDate_year]\n",
    "    candidate_years = [d for d in candidate_years if d!='' and (d>1900 and d<2020)]\n",
    "    year = min(candidate_years) if len(candidate_years)>0 else ''\n",
    "\n",
    "    # get candidate days of publication\n",
    "    candidate_pubdates = [d for d in [album_dateRelease, song_pubDate] if d!='' and d.split(\"-\")[0]==str(year) and is_date(d)]\n",
    "\n",
    "    for n in range(len(candidate_pubdates)):\n",
    "\n",
    "        candidate_pubdates[n] = get_validated_date(candidate_pubdates[n])\n",
    "        n_ = len(candidate_pubdates[n].split(\"-\"))\n",
    "        if n_==1:\n",
    "            # if only year, we are not interested in this info\n",
    "            candidate_pubdates[n] = datetime.strptime(candidate_pubdates[n], '%Y')\n",
    "        elif n_==2:\n",
    "            candidate_pubdates[n] = datetime.strptime(candidate_pubdates[n], '%Y-%m')\n",
    "        elif n_==3:\n",
    "            candidate_pubdates[n] = datetime.strptime(candidate_pubdates[n], '%Y-%m-%d')\n",
    "        else:\n",
    "            pass\n",
    "\n",
    "    candidate_pubdate = min(candidate_pubdates).strftime('%Y-%m-%d') if len(candidate_pubdates)>0 else ''\n",
    "\n",
    "    # return candidate pubdate, year of publication and decade\n",
    "    decade = year // 10 * 10 if year!='' else ''\n",
    "\n",
    "    return candidate_pubdate, year, decade\n",
    "\n",
    "\n",
    "def get_simple_stats_of_song_lyrics(song_lyrics):\n",
    "\n",
    "    song_lyrics_clean = song_lyrics.replace(\"\\n\", \" \")\n",
    "    n_words = len(song_lyrics_clean.split())\n",
    "    n_lines = sum([1 for l in song_lyrics.split('\\n') if l.strip()!=''])\n",
    "\n",
    "    return n_words, n_lines\n",
    "\n",
    "\n",
    "def get_song_info(song):\n",
    "    '''\n",
    "    Here only songs in English in input\n",
    "    '''\n",
    "\n",
    "    # rename id and title\n",
    "    song_id = song['_id']\n",
    "    del song['_id']\n",
    "    song['song_id'] = song_id\n",
    "\n",
    "    song_title = song['title']\n",
    "    del song['title']\n",
    "    song['song_title'] = song_title\n",
    "    \n",
    "    # keep fields of interest\n",
    "    song = {key:song[key] for key in set(song.keys()) if key in song_fields_to_keep or key in ['song_id', 'song_title']}\n",
    "\n",
    "    lyrics = song['lyrics']\n",
    "    lyrics = clean_lyric(lyrics).strip()\n",
    "    lyrics = lyrics if lyrics!='' else None\n",
    "    song['lyrics'] = lyrics\n",
    "        \n",
    "    if lyrics!=None:\n",
    "        n_words, n_lines = get_simple_stats_of_song_lyrics(lyrics)\n",
    "    else:\n",
    "        n_words, n_lines = None, None\n",
    "\n",
    "    # add simple stats\n",
    "    song['n_words'] = n_words\n",
    "    song['n_lines'] = n_lines\n",
    "\n",
    "    # get songwriters (if any)\n",
    "    songwriters = song['writer'] if 'writer' in song.keys() else []\n",
    "    song['writer'] = songwriters\n",
    "\n",
    "    return song\n",
    "\n",
    "        \n",
    "def info_about_song_production(albums):\n",
    "    ''' \n",
    "    \n",
    "    '''\n",
    "\n",
    "    n_albums = 0\n",
    "    n_songs = 0\n",
    "    songs = []\n",
    "    languages = defaultdict(int)\n",
    "\n",
    "    # loop across albums to get songs info\n",
    "    for album in albums:\n",
    "        n_albums += 1\n",
    "        album_id = album['_id']\n",
    "        album_pubdate = album['publicationDate']\n",
    "        album_dateRelease = album['dateRelease'] if 'dateRelease' in album.keys() else ''\n",
    "        album_genre = album['genre']\n",
    "        for song in album['songs']:\n",
    "            n_songs += 1\n",
    "            \n",
    "            lang = song['language_detect']\n",
    "            lang = lang if lang!='' else 'unknown'\n",
    "            languages[lang] += 1\n",
    "\n",
    "            if lang not in ['english']:\n",
    "                continue\n",
    "\n",
    "            song_new = get_song_info(song)\n",
    "            song_new['album_pubdate'] = album_pubdate\n",
    "            song_new['album_genre'] = album_genre\n",
    "            song_new['album_dateRelease'] = album_dateRelease\n",
    "            song_pubDate = song_new['publicationDate']\n",
    "\n",
    "            # get publication year and decade\n",
    "            candidate_pubdate, year, decade = get_song_year(album_dateRelease, album_pubdate, song_pubDate)\n",
    "            song_new['song_pubdate_combined'] = candidate_pubdate\n",
    "            song_new['song_year_combined'] = year\n",
    "            song_new['song_decade_combined'] = decade\n",
    "\n",
    "            songs.append(song_new)\n",
    "\n",
    "    return n_albums, n_songs, languages, songs\n",
    "\n",
    "def write_json_rows(fold, rows):\n",
    "\n",
    "    rows.sort(key=lambda item: item['song_decade_combined'] if type(item['song_decade_combined']) is int else 0)\n",
    "    for decade, group in groupby(rows, key=lambda item: item['song_decade_combined']):\n",
    "\n",
    "        file_name = fold+f'lyrics_{decade}.json'\n",
    "        with open(file_name, 'a') as ww:\n",
    "            for row in group:\n",
    "                ww.write(json.dumps(row)+\"\\n\")\n",
    "\n",
    "def write_json_row(file, row):\n",
    "\n",
    "    with open(file, 'a') as ww:\n",
    "        ww.write(json.dumps(row)+\"\\n\")"
   ]
  },
  {
   "cell_type": "code",
   "execution_count": null,
   "metadata": {
    "colab": {
     "base_uri": "https://localhost:8080/"
    },
    "executionInfo": {
     "elapsed": 3628991,
     "status": "ok",
     "timestamp": 1636714841562,
     "user": {
      "displayName": "Lorenzo Betti",
      "photoUrl": "https://lh3.googleusercontent.com/a/default-user=s64",
      "userId": "04278478979303365527"
     },
     "user_tz": -60
    },
    "id": "V88PHAGJbkqF",
    "outputId": "5e7b327c-8ac0-448f-bf87-00a42e560d03"
   },
   "outputs": [
    {
     "name": "stdout",
     "output_type": "stream",
     "text": [
      "Done 20 files of 388..\n",
      "Done 40 files of 388..\n",
      "Done 60 files of 388..\n",
      "Done 80 files of 388..\n",
      "Done 100 files of 388..\n",
      "Done 120 files of 388..\n",
      "Done 140 files of 388..\n",
      "Done 160 files of 388..\n",
      "Done 180 files of 388..\n",
      "Done 200 files of 388..\n",
      "Done 220 files of 388..\n",
      "Done 240 files of 388..\n",
      "Done 260 files of 388..\n",
      "Done 280 files of 388..\n",
      "Done 300 files of 388..\n",
      "Done 320 files of 388..\n",
      "Done 340 files of 388..\n",
      "Done 360 files of 388..\n",
      "Done 380 files of 388..\n"
     ]
    }
   ],
   "source": [
    "# please, point to the directory containing the dataset\n",
    "\n",
    "# collect all the author objects\n",
    "path = '/content/2MillionSongsDB/'\n",
    "files = os.listdir(path)\n",
    "files = [f for f in files if '.' not in f]    # remove strange folders--\n",
    "files = sorted(files, key=lambda i: int(i))   # sort the folders\n",
    "n_files = len(files)\n",
    "\n",
    "#album_keys = set()\n",
    "#song_keys = set()\n",
    "\n",
    "for n_file, file in enumerate(files, 1):\n",
    "    f=open(os.path.join(path,str(file)),'r')\n",
    "    json_datas = json.load(f)      \n",
    "    f.close()               # it contains 200 artists\n",
    "\n",
    "    if n_file%20 == 0:\n",
    "        print(f'Done {n_file} files of {n_files}..')\n",
    "\n",
    "    for artist in json_datas:\n",
    "        \n",
    "        n_albums, n_songs, languages, songs = info_about_song_production(artist['albums'])\n",
    "\n",
    "        #album_keys.update(set([k for album in artist['albums'] for k in album.keys()]))\n",
    "        #song_keys.update(set([k for album in artist['albums'] for song in album['songs'] for k in album.keys()]))\n",
    "             \n",
    "        # rename id and title\n",
    "        artist_id = artist['_id']\n",
    "        del artist['_id']\n",
    "        artist['artist_id'] = artist_id\n",
    "\n",
    "        artist_name = artist['name']\n",
    "        del artist['name']\n",
    "        artist['artist_name'] = artist_name\n",
    "\n",
    "        # get gender of members\n",
    "        genders = gender_of_members(artist['members'])\n",
    "\n",
    "        # add other fields\n",
    "        artist['n_albums'] = n_albums\n",
    "        artist['n_songs'] = n_songs\n",
    "        artist['languages'] = dict(languages)\n",
    "        artist = {**artist, **genders}\n",
    "\n",
    "        other_artist_info = {\n",
    "            'n_albums':artist['n_albums'],\n",
    "            'n_songs':artist['n_songs'],\n",
    "            'languages':artist['languages'],\n",
    "            'gender':artist['gender'],\n",
    "            'type':artist['type'],\n",
    "            **genders\n",
    "        }\n",
    "        for n in range(len(songs)):\n",
    "            songs[n]['other_artist_info'] = other_artist_info\n",
    "            songs[n]['artist_id'] = artist_id\n",
    "            songs[n]['artist_name'] = artist_name\n",
    "\n",
    "\n",
    "        # keep fields of interest\n",
    "        artist = {key:artist[key] for key in set(artist.keys()) \n",
    "                        if key in artist_field_to_keep or key in ['artist_id', 'artist_name', 'n_members', 'n_male', 'n_female', 'n_unknown', 'n_albums', 'n_songs', 'languages']}\n",
    "\n",
    "        \n",
    "        # now save artist row and song rows\n",
    "        artist_file = \"artists_info.json\"\n",
    "        write_json_row(artist_file, artist)\n",
    "\n",
    "        if artist['type']=='Group':\n",
    "            song_fold = f\"data_lyrics_group_decades/\"\n",
    "            write_json_rows(song_fold, songs)\n",
    "        elif artist['type']=='Person':\n",
    "            song_fold = f\"data_lyrics_person_decades/\"\n",
    "            write_json_rows(song_fold, songs)\n",
    "        else:\n",
    "            song_fold = f\"data_lyrics_others_decades/\"\n",
    "            write_json_rows(song_fold, songs)\n",
    "        \n",
    " "
   ]
  },
  {
   "cell_type": "code",
   "execution_count": null,
   "metadata": {
    "id": "3ANwQOy0CZ-y"
   },
   "outputs": [],
   "source": [
    "# gzip all\n",
    "!gzip data_lyrics_group_decades/*.json\n",
    "!gzip data_lyrics_others_decades/*.json\n",
    "!gzip data_lyrics_person_decades/*.json\n",
    "\n",
    "!gzip artists_info.json"
   ]
  },
  {
   "cell_type": "code",
   "execution_count": null,
   "metadata": {
    "id": "9UajmiGnLOI0"
   },
   "outputs": [],
   "source": [
    "# mode to Drive\n",
    "!cp -r data_lyrics_group_decades \"drive/MyDrive/Artistic_Content_Creation/WASABI_gender_experiments/WASABI_gender_experiments_definitive/data\"\n",
    "!cp -r data_lyrics_person_decades \"drive/MyDrive/Artistic_Content_Creation/WASABI_gender_experiments/WASABI_gender_experiments_definitive/data\"\n",
    "!cp -r data_lyrics_others_decades \"drive/MyDrive/Artistic_Content_Creation/WASABI_gender_experiments/WASABI_gender_experiments_definitive/data\"\n",
    "\n",
    "!cp artists_info.json.gz \"drive/MyDrive/Artistic_Content_Creation/WASABI_gender_experiments/WASABI_gender_experiments_definitive/data\""
   ]
  },
  {
   "cell_type": "code",
   "execution_count": null,
   "metadata": {
    "id": "YJS3cB66AuUp"
   },
   "outputs": [],
   "source": []
  },
  {
   "cell_type": "code",
   "execution_count": null,
   "metadata": {
    "id": "QNnQTdY71b4v"
   },
   "outputs": [],
   "source": []
  },
  {
   "cell_type": "code",
   "execution_count": null,
   "metadata": {
    "id": "GQqANAH-1b7G"
   },
   "outputs": [],
   "source": []
  },
  {
   "cell_type": "code",
   "execution_count": null,
   "metadata": {
    "id": "ki8diTyu1clt"
   },
   "outputs": [],
   "source": []
  }
 ],
 "metadata": {
  "colab": {
   "authorship_tag": "ABX9TyODgyqN33fFZ3ZbwBfAMGoh",
   "collapsed_sections": [],
   "name": "1.0_def_WASABI_get_artists_and_eng_songs_data.ipynb",
   "provenance": []
  },
  "kernelspec": {
   "display_name": "Python 3 (ipykernel)",
   "language": "python",
   "name": "python3"
  },
  "language_info": {
   "codemirror_mode": {
    "name": "ipython",
    "version": 3
   },
   "file_extension": ".py",
   "mimetype": "text/x-python",
   "name": "python",
   "nbconvert_exporter": "python",
   "pygments_lexer": "ipython3",
   "version": "3.9.7"
  }
 },
 "nbformat": 4,
 "nbformat_minor": 1
}
